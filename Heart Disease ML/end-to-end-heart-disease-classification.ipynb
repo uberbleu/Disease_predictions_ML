{
 "cells": [
  {
   "cell_type": "markdown",
   "metadata": {},
   "source": [
    "# Predicting heart disease using machine learning\n",
    "\n",
    "This notebook looks into using various Python-based machine learning and data science libraries in an attempt to build a machine learning model capable of predicting whether or not someone has heart disease based on their medical attributes.\n",
    "\n",
    "We're going to take the following approach:\n",
    "1. Problem definition\n",
    "2. Data\n",
    "3. Evaluation\n",
    "4. Features\n",
    "5. Modelling\n",
    "6. Experimentation\n",
    "\n",
    "## 1. Problem Definition\n",
    "\n",
    "In a statement,\n",
    "> Given clinical parameters about a patient, can we predict whether or not they have heart disease?\n",
    "\n",
    "## 2. Data\n",
    "\n",
    "The original data came from Cleaveland data from the UCI Machine Learning Repository.\n",
    "https://archive.ics.uci.edu/ml/datasets/heart+Disease\n",
    "There is also a version of it available on kaggle. https://www.kaggle.com/ronitf/heart-disease-uci\n",
    "\n",
    "## 3. Evaluation\n",
    "\n",
    "> If we can reach 95% accuracy at predicting whether or not a patient has heart disease during the proof of concept, we'll pursue the project.\n",
    "\n",
    "## 4. Features\n",
    "\n",
    "This is where you'll get different information about each of the features in the data.\n",
    "\n",
    "**Create data dictionary**\n",
    "\n",
    "* age\n",
    "* sex\n",
    "* chest pain type (4 values)\n",
    "* resting blood pressure\n",
    "* serum cholestoral in mg/dl\n",
    "* fasting blood sugar > 120 mg/dl\n",
    "* resting electrocardiographic results (values 0,1,2)\n",
    "* maximum heart rate achieved\n",
    "* exercise induced angina\n",
    "* oldpeak = ST depression induced by exercise relative to rest\n",
    "* the slope of the peak exercise ST segment\n",
    "* number of major vessels (0-3) colored by flourosopy\n",
    "* thal: 3 = normal; 6 = fixed defect; 7 = reversable defect"
   ]
  },
  {
   "cell_type": "markdown",
   "metadata": {},
   "source": [
    "## Preparing the tools\n",
    "\n",
    "We're going to use pandas, matplotlib and NumPy for data analysis and manipulation."
   ]
  },
  {
   "cell_type": "code",
   "execution_count": 1,
   "metadata": {},
   "outputs": [],
   "source": [
    "# Import all the tools we need\n",
    "\n",
    "# Regular EDA (exploratory data analysis) and plotting libraries\n",
    "import numpy as np\n",
    "import pandas as pd\n",
    "import matplotlib.pyplot as plt\n",
    "import seaborn as sns\n",
    "\n",
    "# we want our plots to appear inside the notebook\n",
    "%matplotlib inline \n",
    "\n",
    "# Models from Scikit-Learn\n",
    "from sklearn.linear_model import LogisticRegression\n",
    "from sklearn.neighbors import KNeighborsClassifier\n",
    "from sklearn.ensemble import RandomForestClassifier\n",
    "\n",
    "# Model Evaluations\n",
    "from sklearn.model_selection import train_test_split, cross_val_score\n",
    "from sklearn.model_selection import RandomizedSearchCV, GridSearchCV\n",
    "from sklearn.metrics import confusion_matrix, classification_report\n",
    "from sklearn.metrics import precision_score, recall_score, f1_score\n",
    "from sklearn.metrics import plot_roc_curve"
   ]
  },
  {
   "cell_type": "markdown",
   "metadata": {},
   "source": [
    "## Load data"
   ]
  },
  {
   "cell_type": "code",
   "execution_count": 2,
   "metadata": {},
   "outputs": [
    {
     "data": {
      "text/plain": [
       "(303, 14)"
      ]
     },
     "execution_count": 2,
     "metadata": {},
     "output_type": "execute_result"
    }
   ],
   "source": [
    "df = pd.read_csv('/users/husza/datascienceudemy/ZTMMLC/heart-disease.csv')\n",
    "df.shape # (rows, columns)"
   ]
  },
  {
   "cell_type": "markdown",
   "metadata": {},
   "source": [
    "## Data Exploration (exploratory data analysis or EDA)\n",
    "\n",
    "The goal is to find more about the data and become a subject matter expert on the dataset you're working with.\n",
    "\n",
    "1. What question(s) are you trying to solve?\n",
    "2. What kind of data do we hve and how do we treat different types?\n",
    "3. What's missing from the data and how do you deal with it?\n",
    "4. Where are the outliers and why should you care about them?\n",
    "5. How can you add, change or remove features to get more out of your data?"
   ]
  },
  {
   "cell_type": "code",
   "execution_count": 3,
   "metadata": {},
   "outputs": [
    {
     "data": {
      "text/html": [
       "<div>\n",
       "<style scoped>\n",
       "    .dataframe tbody tr th:only-of-type {\n",
       "        vertical-align: middle;\n",
       "    }\n",
       "\n",
       "    .dataframe tbody tr th {\n",
       "        vertical-align: top;\n",
       "    }\n",
       "\n",
       "    .dataframe thead th {\n",
       "        text-align: right;\n",
       "    }\n",
       "</style>\n",
       "<table border=\"1\" class=\"dataframe\">\n",
       "  <thead>\n",
       "    <tr style=\"text-align: right;\">\n",
       "      <th></th>\n",
       "      <th>age</th>\n",
       "      <th>sex</th>\n",
       "      <th>cp</th>\n",
       "      <th>trestbps</th>\n",
       "      <th>chol</th>\n",
       "      <th>fbs</th>\n",
       "      <th>restecg</th>\n",
       "      <th>thalach</th>\n",
       "      <th>exang</th>\n",
       "      <th>oldpeak</th>\n",
       "      <th>slope</th>\n",
       "      <th>ca</th>\n",
       "      <th>thal</th>\n",
       "      <th>target</th>\n",
       "    </tr>\n",
       "  </thead>\n",
       "  <tbody>\n",
       "    <tr>\n",
       "      <th>0</th>\n",
       "      <td>63</td>\n",
       "      <td>1</td>\n",
       "      <td>3</td>\n",
       "      <td>145</td>\n",
       "      <td>233</td>\n",
       "      <td>1</td>\n",
       "      <td>0</td>\n",
       "      <td>150</td>\n",
       "      <td>0</td>\n",
       "      <td>2.3</td>\n",
       "      <td>0</td>\n",
       "      <td>0</td>\n",
       "      <td>1</td>\n",
       "      <td>1</td>\n",
       "    </tr>\n",
       "    <tr>\n",
       "      <th>1</th>\n",
       "      <td>37</td>\n",
       "      <td>1</td>\n",
       "      <td>2</td>\n",
       "      <td>130</td>\n",
       "      <td>250</td>\n",
       "      <td>0</td>\n",
       "      <td>1</td>\n",
       "      <td>187</td>\n",
       "      <td>0</td>\n",
       "      <td>3.5</td>\n",
       "      <td>0</td>\n",
       "      <td>0</td>\n",
       "      <td>2</td>\n",
       "      <td>1</td>\n",
       "    </tr>\n",
       "    <tr>\n",
       "      <th>2</th>\n",
       "      <td>41</td>\n",
       "      <td>0</td>\n",
       "      <td>1</td>\n",
       "      <td>130</td>\n",
       "      <td>204</td>\n",
       "      <td>0</td>\n",
       "      <td>0</td>\n",
       "      <td>172</td>\n",
       "      <td>0</td>\n",
       "      <td>1.4</td>\n",
       "      <td>2</td>\n",
       "      <td>0</td>\n",
       "      <td>2</td>\n",
       "      <td>1</td>\n",
       "    </tr>\n",
       "    <tr>\n",
       "      <th>3</th>\n",
       "      <td>56</td>\n",
       "      <td>1</td>\n",
       "      <td>1</td>\n",
       "      <td>120</td>\n",
       "      <td>236</td>\n",
       "      <td>0</td>\n",
       "      <td>1</td>\n",
       "      <td>178</td>\n",
       "      <td>0</td>\n",
       "      <td>0.8</td>\n",
       "      <td>2</td>\n",
       "      <td>0</td>\n",
       "      <td>2</td>\n",
       "      <td>1</td>\n",
       "    </tr>\n",
       "    <tr>\n",
       "      <th>4</th>\n",
       "      <td>57</td>\n",
       "      <td>0</td>\n",
       "      <td>0</td>\n",
       "      <td>120</td>\n",
       "      <td>354</td>\n",
       "      <td>0</td>\n",
       "      <td>1</td>\n",
       "      <td>163</td>\n",
       "      <td>1</td>\n",
       "      <td>0.6</td>\n",
       "      <td>2</td>\n",
       "      <td>0</td>\n",
       "      <td>2</td>\n",
       "      <td>1</td>\n",
       "    </tr>\n",
       "  </tbody>\n",
       "</table>\n",
       "</div>"
      ],
      "text/plain": [
       "   age  sex  cp  trestbps  chol  fbs  restecg  thalach  exang  oldpeak  slope  \\\n",
       "0   63    1   3       145   233    1        0      150      0      2.3      0   \n",
       "1   37    1   2       130   250    0        1      187      0      3.5      0   \n",
       "2   41    0   1       130   204    0        0      172      0      1.4      2   \n",
       "3   56    1   1       120   236    0        1      178      0      0.8      2   \n",
       "4   57    0   0       120   354    0        1      163      1      0.6      2   \n",
       "\n",
       "   ca  thal  target  \n",
       "0   0     1       1  \n",
       "1   0     2       1  \n",
       "2   0     2       1  \n",
       "3   0     2       1  \n",
       "4   0     2       1  "
      ]
     },
     "execution_count": 3,
     "metadata": {},
     "output_type": "execute_result"
    }
   ],
   "source": [
    "df.head()"
   ]
  },
  {
   "cell_type": "code",
   "execution_count": 4,
   "metadata": {},
   "outputs": [
    {
     "data": {
      "text/html": [
       "<div>\n",
       "<style scoped>\n",
       "    .dataframe tbody tr th:only-of-type {\n",
       "        vertical-align: middle;\n",
       "    }\n",
       "\n",
       "    .dataframe tbody tr th {\n",
       "        vertical-align: top;\n",
       "    }\n",
       "\n",
       "    .dataframe thead th {\n",
       "        text-align: right;\n",
       "    }\n",
       "</style>\n",
       "<table border=\"1\" class=\"dataframe\">\n",
       "  <thead>\n",
       "    <tr style=\"text-align: right;\">\n",
       "      <th></th>\n",
       "      <th>age</th>\n",
       "      <th>sex</th>\n",
       "      <th>cp</th>\n",
       "      <th>trestbps</th>\n",
       "      <th>chol</th>\n",
       "      <th>fbs</th>\n",
       "      <th>restecg</th>\n",
       "      <th>thalach</th>\n",
       "      <th>exang</th>\n",
       "      <th>oldpeak</th>\n",
       "      <th>slope</th>\n",
       "      <th>ca</th>\n",
       "      <th>thal</th>\n",
       "      <th>target</th>\n",
       "    </tr>\n",
       "  </thead>\n",
       "  <tbody>\n",
       "    <tr>\n",
       "      <th>298</th>\n",
       "      <td>57</td>\n",
       "      <td>0</td>\n",
       "      <td>0</td>\n",
       "      <td>140</td>\n",
       "      <td>241</td>\n",
       "      <td>0</td>\n",
       "      <td>1</td>\n",
       "      <td>123</td>\n",
       "      <td>1</td>\n",
       "      <td>0.2</td>\n",
       "      <td>1</td>\n",
       "      <td>0</td>\n",
       "      <td>3</td>\n",
       "      <td>0</td>\n",
       "    </tr>\n",
       "    <tr>\n",
       "      <th>299</th>\n",
       "      <td>45</td>\n",
       "      <td>1</td>\n",
       "      <td>3</td>\n",
       "      <td>110</td>\n",
       "      <td>264</td>\n",
       "      <td>0</td>\n",
       "      <td>1</td>\n",
       "      <td>132</td>\n",
       "      <td>0</td>\n",
       "      <td>1.2</td>\n",
       "      <td>1</td>\n",
       "      <td>0</td>\n",
       "      <td>3</td>\n",
       "      <td>0</td>\n",
       "    </tr>\n",
       "    <tr>\n",
       "      <th>300</th>\n",
       "      <td>68</td>\n",
       "      <td>1</td>\n",
       "      <td>0</td>\n",
       "      <td>144</td>\n",
       "      <td>193</td>\n",
       "      <td>1</td>\n",
       "      <td>1</td>\n",
       "      <td>141</td>\n",
       "      <td>0</td>\n",
       "      <td>3.4</td>\n",
       "      <td>1</td>\n",
       "      <td>2</td>\n",
       "      <td>3</td>\n",
       "      <td>0</td>\n",
       "    </tr>\n",
       "    <tr>\n",
       "      <th>301</th>\n",
       "      <td>57</td>\n",
       "      <td>1</td>\n",
       "      <td>0</td>\n",
       "      <td>130</td>\n",
       "      <td>131</td>\n",
       "      <td>0</td>\n",
       "      <td>1</td>\n",
       "      <td>115</td>\n",
       "      <td>1</td>\n",
       "      <td>1.2</td>\n",
       "      <td>1</td>\n",
       "      <td>1</td>\n",
       "      <td>3</td>\n",
       "      <td>0</td>\n",
       "    </tr>\n",
       "    <tr>\n",
       "      <th>302</th>\n",
       "      <td>57</td>\n",
       "      <td>0</td>\n",
       "      <td>1</td>\n",
       "      <td>130</td>\n",
       "      <td>236</td>\n",
       "      <td>0</td>\n",
       "      <td>0</td>\n",
       "      <td>174</td>\n",
       "      <td>0</td>\n",
       "      <td>0.0</td>\n",
       "      <td>1</td>\n",
       "      <td>1</td>\n",
       "      <td>2</td>\n",
       "      <td>0</td>\n",
       "    </tr>\n",
       "  </tbody>\n",
       "</table>\n",
       "</div>"
      ],
      "text/plain": [
       "     age  sex  cp  trestbps  chol  fbs  restecg  thalach  exang  oldpeak  \\\n",
       "298   57    0   0       140   241    0        1      123      1      0.2   \n",
       "299   45    1   3       110   264    0        1      132      0      1.2   \n",
       "300   68    1   0       144   193    1        1      141      0      3.4   \n",
       "301   57    1   0       130   131    0        1      115      1      1.2   \n",
       "302   57    0   1       130   236    0        0      174      0      0.0   \n",
       "\n",
       "     slope  ca  thal  target  \n",
       "298      1   0     3       0  \n",
       "299      1   0     3       0  \n",
       "300      1   2     3       0  \n",
       "301      1   1     3       0  \n",
       "302      1   1     2       0  "
      ]
     },
     "execution_count": 4,
     "metadata": {},
     "output_type": "execute_result"
    }
   ],
   "source": [
    "df.tail()"
   ]
  },
  {
   "cell_type": "code",
   "execution_count": 5,
   "metadata": {},
   "outputs": [
    {
     "data": {
      "text/plain": [
       "1    165\n",
       "0    138\n",
       "Name: target, dtype: int64"
      ]
     },
     "execution_count": 5,
     "metadata": {},
     "output_type": "execute_result"
    }
   ],
   "source": [
    "# Let's find out how many of each class there is\n",
    "df['target'].value_counts()"
   ]
  },
  {
   "cell_type": "code",
   "execution_count": 6,
   "metadata": {},
   "outputs": [
    {
     "data": {
      "image/png": "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\n",
      "text/plain": [
       "<Figure size 432x288 with 1 Axes>"
      ]
     },
     "metadata": {
      "needs_background": "light"
     },
     "output_type": "display_data"
    }
   ],
   "source": [
    "df['target'].value_counts().plot(kind='bar', color=['salmon', 'lightblue']);"
   ]
  },
  {
   "cell_type": "code",
   "execution_count": 7,
   "metadata": {},
   "outputs": [
    {
     "name": "stdout",
     "output_type": "stream",
     "text": [
      "<class 'pandas.core.frame.DataFrame'>\n",
      "RangeIndex: 303 entries, 0 to 302\n",
      "Data columns (total 14 columns):\n",
      " #   Column    Non-Null Count  Dtype  \n",
      "---  ------    --------------  -----  \n",
      " 0   age       303 non-null    int64  \n",
      " 1   sex       303 non-null    int64  \n",
      " 2   cp        303 non-null    int64  \n",
      " 3   trestbps  303 non-null    int64  \n",
      " 4   chol      303 non-null    int64  \n",
      " 5   fbs       303 non-null    int64  \n",
      " 6   restecg   303 non-null    int64  \n",
      " 7   thalach   303 non-null    int64  \n",
      " 8   exang     303 non-null    int64  \n",
      " 9   oldpeak   303 non-null    float64\n",
      " 10  slope     303 non-null    int64  \n",
      " 11  ca        303 non-null    int64  \n",
      " 12  thal      303 non-null    int64  \n",
      " 13  target    303 non-null    int64  \n",
      "dtypes: float64(1), int64(13)\n",
      "memory usage: 33.3 KB\n"
     ]
    }
   ],
   "source": [
    "df.info()"
   ]
  },
  {
   "cell_type": "code",
   "execution_count": 8,
   "metadata": {},
   "outputs": [
    {
     "data": {
      "text/plain": [
       "age         0\n",
       "sex         0\n",
       "cp          0\n",
       "trestbps    0\n",
       "chol        0\n",
       "fbs         0\n",
       "restecg     0\n",
       "thalach     0\n",
       "exang       0\n",
       "oldpeak     0\n",
       "slope       0\n",
       "ca          0\n",
       "thal        0\n",
       "target      0\n",
       "dtype: int64"
      ]
     },
     "execution_count": 8,
     "metadata": {},
     "output_type": "execute_result"
    }
   ],
   "source": [
    "# Are there any missing values?\n",
    "df.isna().sum()"
   ]
  },
  {
   "cell_type": "code",
   "execution_count": 9,
   "metadata": {},
   "outputs": [
    {
     "data": {
      "text/html": [
       "<div>\n",
       "<style scoped>\n",
       "    .dataframe tbody tr th:only-of-type {\n",
       "        vertical-align: middle;\n",
       "    }\n",
       "\n",
       "    .dataframe tbody tr th {\n",
       "        vertical-align: top;\n",
       "    }\n",
       "\n",
       "    .dataframe thead th {\n",
       "        text-align: right;\n",
       "    }\n",
       "</style>\n",
       "<table border=\"1\" class=\"dataframe\">\n",
       "  <thead>\n",
       "    <tr style=\"text-align: right;\">\n",
       "      <th></th>\n",
       "      <th>count</th>\n",
       "      <th>mean</th>\n",
       "      <th>std</th>\n",
       "      <th>min</th>\n",
       "      <th>25%</th>\n",
       "      <th>50%</th>\n",
       "      <th>75%</th>\n",
       "      <th>max</th>\n",
       "    </tr>\n",
       "  </thead>\n",
       "  <tbody>\n",
       "    <tr>\n",
       "      <th>age</th>\n",
       "      <td>303.0</td>\n",
       "      <td>54.366337</td>\n",
       "      <td>9.082101</td>\n",
       "      <td>29.0</td>\n",
       "      <td>47.5</td>\n",
       "      <td>55.0</td>\n",
       "      <td>61.0</td>\n",
       "      <td>77.0</td>\n",
       "    </tr>\n",
       "    <tr>\n",
       "      <th>sex</th>\n",
       "      <td>303.0</td>\n",
       "      <td>0.683168</td>\n",
       "      <td>0.466011</td>\n",
       "      <td>0.0</td>\n",
       "      <td>0.0</td>\n",
       "      <td>1.0</td>\n",
       "      <td>1.0</td>\n",
       "      <td>1.0</td>\n",
       "    </tr>\n",
       "    <tr>\n",
       "      <th>cp</th>\n",
       "      <td>303.0</td>\n",
       "      <td>0.966997</td>\n",
       "      <td>1.032052</td>\n",
       "      <td>0.0</td>\n",
       "      <td>0.0</td>\n",
       "      <td>1.0</td>\n",
       "      <td>2.0</td>\n",
       "      <td>3.0</td>\n",
       "    </tr>\n",
       "    <tr>\n",
       "      <th>trestbps</th>\n",
       "      <td>303.0</td>\n",
       "      <td>131.623762</td>\n",
       "      <td>17.538143</td>\n",
       "      <td>94.0</td>\n",
       "      <td>120.0</td>\n",
       "      <td>130.0</td>\n",
       "      <td>140.0</td>\n",
       "      <td>200.0</td>\n",
       "    </tr>\n",
       "    <tr>\n",
       "      <th>chol</th>\n",
       "      <td>303.0</td>\n",
       "      <td>246.264026</td>\n",
       "      <td>51.830751</td>\n",
       "      <td>126.0</td>\n",
       "      <td>211.0</td>\n",
       "      <td>240.0</td>\n",
       "      <td>274.5</td>\n",
       "      <td>564.0</td>\n",
       "    </tr>\n",
       "    <tr>\n",
       "      <th>fbs</th>\n",
       "      <td>303.0</td>\n",
       "      <td>0.148515</td>\n",
       "      <td>0.356198</td>\n",
       "      <td>0.0</td>\n",
       "      <td>0.0</td>\n",
       "      <td>0.0</td>\n",
       "      <td>0.0</td>\n",
       "      <td>1.0</td>\n",
       "    </tr>\n",
       "    <tr>\n",
       "      <th>restecg</th>\n",
       "      <td>303.0</td>\n",
       "      <td>0.528053</td>\n",
       "      <td>0.525860</td>\n",
       "      <td>0.0</td>\n",
       "      <td>0.0</td>\n",
       "      <td>1.0</td>\n",
       "      <td>1.0</td>\n",
       "      <td>2.0</td>\n",
       "    </tr>\n",
       "    <tr>\n",
       "      <th>thalach</th>\n",
       "      <td>303.0</td>\n",
       "      <td>149.646865</td>\n",
       "      <td>22.905161</td>\n",
       "      <td>71.0</td>\n",
       "      <td>133.5</td>\n",
       "      <td>153.0</td>\n",
       "      <td>166.0</td>\n",
       "      <td>202.0</td>\n",
       "    </tr>\n",
       "    <tr>\n",
       "      <th>exang</th>\n",
       "      <td>303.0</td>\n",
       "      <td>0.326733</td>\n",
       "      <td>0.469794</td>\n",
       "      <td>0.0</td>\n",
       "      <td>0.0</td>\n",
       "      <td>0.0</td>\n",
       "      <td>1.0</td>\n",
       "      <td>1.0</td>\n",
       "    </tr>\n",
       "    <tr>\n",
       "      <th>oldpeak</th>\n",
       "      <td>303.0</td>\n",
       "      <td>1.039604</td>\n",
       "      <td>1.161075</td>\n",
       "      <td>0.0</td>\n",
       "      <td>0.0</td>\n",
       "      <td>0.8</td>\n",
       "      <td>1.6</td>\n",
       "      <td>6.2</td>\n",
       "    </tr>\n",
       "    <tr>\n",
       "      <th>slope</th>\n",
       "      <td>303.0</td>\n",
       "      <td>1.399340</td>\n",
       "      <td>0.616226</td>\n",
       "      <td>0.0</td>\n",
       "      <td>1.0</td>\n",
       "      <td>1.0</td>\n",
       "      <td>2.0</td>\n",
       "      <td>2.0</td>\n",
       "    </tr>\n",
       "    <tr>\n",
       "      <th>ca</th>\n",
       "      <td>303.0</td>\n",
       "      <td>0.729373</td>\n",
       "      <td>1.022606</td>\n",
       "      <td>0.0</td>\n",
       "      <td>0.0</td>\n",
       "      <td>0.0</td>\n",
       "      <td>1.0</td>\n",
       "      <td>4.0</td>\n",
       "    </tr>\n",
       "    <tr>\n",
       "      <th>thal</th>\n",
       "      <td>303.0</td>\n",
       "      <td>2.313531</td>\n",
       "      <td>0.612277</td>\n",
       "      <td>0.0</td>\n",
       "      <td>2.0</td>\n",
       "      <td>2.0</td>\n",
       "      <td>3.0</td>\n",
       "      <td>3.0</td>\n",
       "    </tr>\n",
       "    <tr>\n",
       "      <th>target</th>\n",
       "      <td>303.0</td>\n",
       "      <td>0.544554</td>\n",
       "      <td>0.498835</td>\n",
       "      <td>0.0</td>\n",
       "      <td>0.0</td>\n",
       "      <td>1.0</td>\n",
       "      <td>1.0</td>\n",
       "      <td>1.0</td>\n",
       "    </tr>\n",
       "  </tbody>\n",
       "</table>\n",
       "</div>"
      ],
      "text/plain": [
       "          count        mean        std    min    25%    50%    75%    max\n",
       "age       303.0   54.366337   9.082101   29.0   47.5   55.0   61.0   77.0\n",
       "sex       303.0    0.683168   0.466011    0.0    0.0    1.0    1.0    1.0\n",
       "cp        303.0    0.966997   1.032052    0.0    0.0    1.0    2.0    3.0\n",
       "trestbps  303.0  131.623762  17.538143   94.0  120.0  130.0  140.0  200.0\n",
       "chol      303.0  246.264026  51.830751  126.0  211.0  240.0  274.5  564.0\n",
       "fbs       303.0    0.148515   0.356198    0.0    0.0    0.0    0.0    1.0\n",
       "restecg   303.0    0.528053   0.525860    0.0    0.0    1.0    1.0    2.0\n",
       "thalach   303.0  149.646865  22.905161   71.0  133.5  153.0  166.0  202.0\n",
       "exang     303.0    0.326733   0.469794    0.0    0.0    0.0    1.0    1.0\n",
       "oldpeak   303.0    1.039604   1.161075    0.0    0.0    0.8    1.6    6.2\n",
       "slope     303.0    1.399340   0.616226    0.0    1.0    1.0    2.0    2.0\n",
       "ca        303.0    0.729373   1.022606    0.0    0.0    0.0    1.0    4.0\n",
       "thal      303.0    2.313531   0.612277    0.0    2.0    2.0    3.0    3.0\n",
       "target    303.0    0.544554   0.498835    0.0    0.0    1.0    1.0    1.0"
      ]
     },
     "execution_count": 9,
     "metadata": {},
     "output_type": "execute_result"
    }
   ],
   "source": [
    "df.describe().T"
   ]
  },
  {
   "cell_type": "markdown",
   "metadata": {},
   "source": [
    "### Heart Disease Frequency according to Sex"
   ]
  },
  {
   "cell_type": "code",
   "execution_count": 10,
   "metadata": {},
   "outputs": [
    {
     "data": {
      "text/plain": [
       "1    207\n",
       "0     96\n",
       "Name: sex, dtype: int64"
      ]
     },
     "execution_count": 10,
     "metadata": {},
     "output_type": "execute_result"
    }
   ],
   "source": [
    "df.sex.value_counts() # 1 male, 0 female"
   ]
  },
  {
   "cell_type": "code",
   "execution_count": 11,
   "metadata": {},
   "outputs": [
    {
     "data": {
      "text/html": [
       "<div>\n",
       "<style scoped>\n",
       "    .dataframe tbody tr th:only-of-type {\n",
       "        vertical-align: middle;\n",
       "    }\n",
       "\n",
       "    .dataframe tbody tr th {\n",
       "        vertical-align: top;\n",
       "    }\n",
       "\n",
       "    .dataframe thead th {\n",
       "        text-align: right;\n",
       "    }\n",
       "</style>\n",
       "<table border=\"1\" class=\"dataframe\">\n",
       "  <thead>\n",
       "    <tr style=\"text-align: right;\">\n",
       "      <th>sex</th>\n",
       "      <th>0</th>\n",
       "      <th>1</th>\n",
       "    </tr>\n",
       "    <tr>\n",
       "      <th>target</th>\n",
       "      <th></th>\n",
       "      <th></th>\n",
       "    </tr>\n",
       "  </thead>\n",
       "  <tbody>\n",
       "    <tr>\n",
       "      <th>0</th>\n",
       "      <td>24</td>\n",
       "      <td>114</td>\n",
       "    </tr>\n",
       "    <tr>\n",
       "      <th>1</th>\n",
       "      <td>72</td>\n",
       "      <td>93</td>\n",
       "    </tr>\n",
       "  </tbody>\n",
       "</table>\n",
       "</div>"
      ],
      "text/plain": [
       "sex      0    1\n",
       "target         \n",
       "0       24  114\n",
       "1       72   93"
      ]
     },
     "execution_count": 11,
     "metadata": {},
     "output_type": "execute_result"
    }
   ],
   "source": [
    "# Compare target column with sex column\n",
    "pd.crosstab(df.target, df.sex)"
   ]
  },
  {
   "cell_type": "code",
   "execution_count": 12,
   "metadata": {},
   "outputs": [
    {
     "data": {
      "image/png": "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\n",
      "text/plain": [
       "<Figure size 720x432 with 1 Axes>"
      ]
     },
     "metadata": {
      "needs_background": "light"
     },
     "output_type": "display_data"
    }
   ],
   "source": [
    "# Create a plot of crosstab\n",
    "pd.crosstab(df.target, df.sex).plot(kind='bar',\n",
    "                                   figsize=(10, 6),\n",
    "                                   color=['salmon', 'lightblue']);\n",
    "\n",
    "plt.title(\"Heart Disease Frequency for Sex\")\n",
    "plt.xlabel('0 = No Disease, 1 = Disease')\n",
    "plt.ylabel('Amount')\n",
    "plt.legend(['Female', 'Male']);\n",
    "plt.xticks(rotation=0);"
   ]
  },
  {
   "cell_type": "code",
   "execution_count": 13,
   "metadata": {},
   "outputs": [
    {
     "data": {
      "text/html": [
       "<div>\n",
       "<style scoped>\n",
       "    .dataframe tbody tr th:only-of-type {\n",
       "        vertical-align: middle;\n",
       "    }\n",
       "\n",
       "    .dataframe tbody tr th {\n",
       "        vertical-align: top;\n",
       "    }\n",
       "\n",
       "    .dataframe thead th {\n",
       "        text-align: right;\n",
       "    }\n",
       "</style>\n",
       "<table border=\"1\" class=\"dataframe\">\n",
       "  <thead>\n",
       "    <tr style=\"text-align: right;\">\n",
       "      <th></th>\n",
       "      <th>age</th>\n",
       "      <th>sex</th>\n",
       "      <th>cp</th>\n",
       "      <th>trestbps</th>\n",
       "      <th>chol</th>\n",
       "      <th>fbs</th>\n",
       "      <th>restecg</th>\n",
       "      <th>thalach</th>\n",
       "      <th>exang</th>\n",
       "      <th>oldpeak</th>\n",
       "      <th>slope</th>\n",
       "      <th>ca</th>\n",
       "      <th>thal</th>\n",
       "      <th>target</th>\n",
       "    </tr>\n",
       "  </thead>\n",
       "  <tbody>\n",
       "    <tr>\n",
       "      <th>0</th>\n",
       "      <td>63</td>\n",
       "      <td>1</td>\n",
       "      <td>3</td>\n",
       "      <td>145</td>\n",
       "      <td>233</td>\n",
       "      <td>1</td>\n",
       "      <td>0</td>\n",
       "      <td>150</td>\n",
       "      <td>0</td>\n",
       "      <td>2.3</td>\n",
       "      <td>0</td>\n",
       "      <td>0</td>\n",
       "      <td>1</td>\n",
       "      <td>1</td>\n",
       "    </tr>\n",
       "    <tr>\n",
       "      <th>1</th>\n",
       "      <td>37</td>\n",
       "      <td>1</td>\n",
       "      <td>2</td>\n",
       "      <td>130</td>\n",
       "      <td>250</td>\n",
       "      <td>0</td>\n",
       "      <td>1</td>\n",
       "      <td>187</td>\n",
       "      <td>0</td>\n",
       "      <td>3.5</td>\n",
       "      <td>0</td>\n",
       "      <td>0</td>\n",
       "      <td>2</td>\n",
       "      <td>1</td>\n",
       "    </tr>\n",
       "    <tr>\n",
       "      <th>2</th>\n",
       "      <td>41</td>\n",
       "      <td>0</td>\n",
       "      <td>1</td>\n",
       "      <td>130</td>\n",
       "      <td>204</td>\n",
       "      <td>0</td>\n",
       "      <td>0</td>\n",
       "      <td>172</td>\n",
       "      <td>0</td>\n",
       "      <td>1.4</td>\n",
       "      <td>2</td>\n",
       "      <td>0</td>\n",
       "      <td>2</td>\n",
       "      <td>1</td>\n",
       "    </tr>\n",
       "    <tr>\n",
       "      <th>3</th>\n",
       "      <td>56</td>\n",
       "      <td>1</td>\n",
       "      <td>1</td>\n",
       "      <td>120</td>\n",
       "      <td>236</td>\n",
       "      <td>0</td>\n",
       "      <td>1</td>\n",
       "      <td>178</td>\n",
       "      <td>0</td>\n",
       "      <td>0.8</td>\n",
       "      <td>2</td>\n",
       "      <td>0</td>\n",
       "      <td>2</td>\n",
       "      <td>1</td>\n",
       "    </tr>\n",
       "    <tr>\n",
       "      <th>4</th>\n",
       "      <td>57</td>\n",
       "      <td>0</td>\n",
       "      <td>0</td>\n",
       "      <td>120</td>\n",
       "      <td>354</td>\n",
       "      <td>0</td>\n",
       "      <td>1</td>\n",
       "      <td>163</td>\n",
       "      <td>1</td>\n",
       "      <td>0.6</td>\n",
       "      <td>2</td>\n",
       "      <td>0</td>\n",
       "      <td>2</td>\n",
       "      <td>1</td>\n",
       "    </tr>\n",
       "  </tbody>\n",
       "</table>\n",
       "</div>"
      ],
      "text/plain": [
       "   age  sex  cp  trestbps  chol  fbs  restecg  thalach  exang  oldpeak  slope  \\\n",
       "0   63    1   3       145   233    1        0      150      0      2.3      0   \n",
       "1   37    1   2       130   250    0        1      187      0      3.5      0   \n",
       "2   41    0   1       130   204    0        0      172      0      1.4      2   \n",
       "3   56    1   1       120   236    0        1      178      0      0.8      2   \n",
       "4   57    0   0       120   354    0        1      163      1      0.6      2   \n",
       "\n",
       "   ca  thal  target  \n",
       "0   0     1       1  \n",
       "1   0     2       1  \n",
       "2   0     2       1  \n",
       "3   0     2       1  \n",
       "4   0     2       1  "
      ]
     },
     "execution_count": 13,
     "metadata": {},
     "output_type": "execute_result"
    }
   ],
   "source": [
    "df.head()"
   ]
  },
  {
   "cell_type": "code",
   "execution_count": 14,
   "metadata": {},
   "outputs": [
    {
     "data": {
      "image/png": "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\n",
      "text/plain": [
       "<Figure size 720x360 with 1 Axes>"
      ]
     },
     "metadata": {
      "needs_background": "light"
     },
     "output_type": "display_data"
    }
   ],
   "source": [
    "pd.crosstab(df.age, df.target).plot(kind='bar',\n",
    "                                   figsize=(10, 5\n",
    "                                           ),\n",
    "                                   color=['lightblue', 'salmon'])\n",
    "\n",
    "plt.title(\"Heart Disease Prevalence over Age\")\n",
    "plt.xlabel(\"Age\")\n",
    "plt.ylabel('Number of people')\n",
    "plt.legend(['Negative', 'Positive']);\n",
    "plt.xticks(rotation=0);"
   ]
  },
  {
   "cell_type": "code",
   "execution_count": 15,
   "metadata": {},
   "outputs": [
    {
     "data": {
      "text/plain": [
       "162    11\n",
       "160     9\n",
       "163     9\n",
       "173     8\n",
       "152     8\n",
       "       ..\n",
       "129     1\n",
       "128     1\n",
       "127     1\n",
       "124     1\n",
       "71      1\n",
       "Name: thalach, Length: 91, dtype: int64"
      ]
     },
     "execution_count": 15,
     "metadata": {},
     "output_type": "execute_result"
    }
   ],
   "source": [
    "df['thalach'].value_counts()"
   ]
  },
  {
   "cell_type": "markdown",
   "metadata": {},
   "source": [
    "#### Age vs. Max Heart Rate for Heart Disease"
   ]
  },
  {
   "cell_type": "code",
   "execution_count": 16,
   "metadata": {},
   "outputs": [
    {
     "data": {
      "image/png": "iVBORw0KGgoAAAANSUhEUgAAAmQAAAGDCAYAAACFuAwbAAAABHNCSVQICAgIfAhkiAAAAAlwSFlzAAALEgAACxIB0t1+/AAAADh0RVh0U29mdHdhcmUAbWF0cGxvdGxpYiB2ZXJzaW9uMy4xLjMsIGh0dHA6Ly9tYXRwbG90bGliLm9yZy+AADFEAAAgAElEQVR4nOzdeZxcVZ3//9enF0kHQhsIBEjTBhXIAllME1mGRaPGyKJflBlGR8DRwR0XHBVnvioOzPidcRQZ/H755asIKsOiwohfhwHBARxZYmJIIAsTEGjCEghLk5gOdrrP7497q1PdXdV9bnedOnWr3s/HI490n6q+99Ste7tPfc7nfo455xARERGReJpid0BERESk0WlAJiIiIhKZBmQiIiIikWlAJiIiIhKZBmQiIiIikWlAJiIiIhKZBmQiFWZmnWa23cyaY/dlLGa2zsxOGufPHmdmm9LX+q4Kd220/R5vZg9Va39F+z3czFab2TYzO6/a+w/FzE4ys82x+yHS6DQgk5plZo+Z2VuGtZ1jZv8VcJ/OzF4/yuPnmFl/OgjZbmaPmtn3zeywwnOcc93Oub2cc/2h+lkpzrm5zrk7xvnjXwMuS1/rv1WwW0MMf0+cc792zh0ean+j+Dxwh3NuinPu0nJPMrMrzWyXmR1Uxb4Fkx7/LWbWUtTWYmbPmlnFC1mWGyCa2R1m9qFK7y/d9pi/V9L970yv+61mdoOZHZhhH6P+bhHRgEyE5A9Mhqff45zbC2gH3gL0AqvM7IggnatdrwHWxe5EFY35es1sT+DdQA/wvmp0qkpeApYVff8O4MVIfamojNf+J9Jr//XAXsA3wvRKGpEGZJJrZnaQmf3UzJ5Lo1XnFT222MzuMbOXzOxpM7vMzF5V9Lgzs4+b2SZgk5ndlT60Jv0U/Gej7ds51++ce8Q59zHgTuCr6XZnpttuSb8/x8x+n051PWpmg3+ozewvzWyDmb1oZreY2WuKHvu2mT1hZi+b2SozO37Ya1uZPrbFzL5Z9NjRZnZ3+rrXjDYlWRyFNLOvmtn1ZvaDtK/rzKyrzM89ArwW+Hl6rPYYHtFMt/ejYcfkbDPrTiMMf1P03GYz+5KZPZLue5WZHVzqPRkeQTGz2Wn04qW0z6cVPXalmX3HzH6Rbvc+M3vdKMfjtHQbL6XbnJ22/wp4E3BZ2o/Dymzi3SSDl68BZw/bdpuZXZW+1xvM7PPDXkfZc7lEP0+2ZPr05fQc+WrRY2Md67b0uLxoZuuBo8rtp8gPgbOKvj8L+MGwPn0gfV3b0vP9w0WPfcHM7i26Jj6aHudJHvsuycxOMbP70/fqbjObV/TYF4vOpfVm9j+KHjvHzH5jZt8ysxeA64DLgWPS9/alsfbtnHsJ+DdgQdF2y/6+KXUej/UapAE55/RP/2ryH/AY8JZhbecA/5V+3QSsAr4MvIpkgPB7YGn6+CLgaKAFmAlsAD5dtC0H/BLYB2granv9KH0a3P+w9r8EtqRfz0y30wLsCbwMHJ4+diAwN/36XcDDwOz0uX8L3F20zb8A9k0fOx94BpiUPnYP8P70672Ao9OvZwDPk0QwmoC3pt/vN9YxJhlQ7kx/thn4B+Be3/enxPdfBX407Jj8X6ANmA+8AsxOH/9r4AHgcMDSx/ct9Z4AJwGb069b02P4pfQceDOwreh4Xwm8ACxOj+PVwLVlXs9hwB/SY9ZKMkX5MPCq9PE7gA+Ncc7eDvwjMB3YBbyh6LGvkwzcpwIdwNqi1zHquVxiPycBR6Y/Nw/YArzL81h/Hfg1yXl/MPBgoR9l9uWAI9J9vDr9tyVtc0XPOxl4Xfr+nQjsKLz+tJ93pefEoSTRtYWjvLYR/Sk+/sAbgGeBN5Kcq2eTnH97pI+fARyU7vfP0vf1wKJreBfwyfScaKPMdT3K/vcFbgN+VvS4z++b4vN41Negf433L3oH9E//yv1LfzltJ4k4FP7tYPeA7I1A97CfuQD4fpntfRq4seh7B7x52HPGOyB7O9CXfj2ToQOyl0giJ23DfuZm4INF3zelr+81Zfb9IjA//fou4EJg2rDnfAH44bC2W4CzRznGxQOy24oemwP0jvH+ZB2QdRQ9vgI4M/36IeCdZfYz2oDseJKBalPR49cAX02/vhL4btFj7wA2ltnP/wSuH/Z+PAmclH5/B6MMyIBOYABYUHTcv130+JABFvChoteR6Vwuse9LgG95HuvfA28veuxcxh6QvR74LvBh4CMkg73XUzQgK/Fz/wZ8quj7mSSD4w3ABaP83EnpcXxp2L9d7B4Q/R/g74b93EPAiWW2eX/h/CK5hocf63PwG5DtIJmOduk2O0d5fqnfN8XncabXoH/1/09TllLr3uWce3XhH/CxosdeAxyUhvtfSqcavkQSncDMDjOz/2dmz5jZy8DfA9OGbf+JCvVzBskfmyGcc38g+YT+EeDpdOpsVlH/v13U9xdIogsz0v6fn04B9aSPtxf1/4MkEZ2NZvZbMzulaJtnDDsmf0ISmfPxTNHXO4BJli3HJuv290q/Phh4ZBzbOwh4wjk3UNT2OOkxHGOfpbb1eOGbdJtPDNvWaN4PbHDO3Z9+fzXwXjNrLe5r0fOLvx71XB7OzN5oZv+ZTm/2kJxfw8/tcq97eD8ex88PSKYqR0xXpn1alk5LvpD2/x3FfXLOPQb8J8nA7Dtj7Oup4us+vfaLk+5fA5w/7HgdnL42zOysoqnAl0iiecXHZ7zX/XnOuXaSqGQh0km6T5/fN8VGfQ3SeDQgkzx7Anh02C/uKc65d6SP/x9gI3Coc25vkj9wNmwbrkJ9+R8k00AjOOducc69lWRQtJEkulDo/4eH9b/NOXe3JfliXwD+FJia/kHqKfTfObfJOffnwP7A/wJ+YklC+RMkEbLibe7pnPt6hV7naP4ATC76/oAMP/sEyXRXVk8BB5tZ8e+yTpLI1ni29ZrCN2ZmJH8gfbd1FvDa9A/yM8A3Sf4gF5Lhn6boD3i67YKxzuXh/hW4CTg4HSBczshzu5ynh+270/Pnfk1yDk9n6OAIM9sD+ClJkvv09Hz99+I+mdk7gGNIpnX/yXOf5TwBXDzseE12zl1jSR7m/wU+QTLt/WqSadni4zP8us/0e8A59wBwEfCd9DwBv983Xq8hS1+kfmhAJnm2Ang5TRhusyQx/AgzKyQpTyHJ39qeRqU+6rHNLST5O2NK93eImf0LyTTLhSWeM92SRPE9SfJ4tgOFchiXAxeY2dz0ue1mdkZR33cBzwEtZvZlYO+i7f6Fme2XRnEKScj9wI+AU81sadq/SZYkwRcPBEK5HzjTzFotuRngPRl+9rvA35nZoZaYZ2b7po+N9p7cRzIQ/Hy635OAU4Frx9H/64GTzWxJGtU6n+Q9u3usHzSzY0gGlItJEr0XkERl/pXdyf3Xk7zfU81sBsmAoWCsc3m4KcALzrmdZrYYeG/G11noRwdJLtWYnHOO5Nieln5d7FXAHiTn6y4zWwa8rfCgmU0DvkcyTXs2yTlabrDp4/8CH0kjhWZme1pyo8MUkjQBl/YFM/sAyXsxmi1AhxXd9OPhKpIPRIWbSMb6fTP8PB7tNUgD0oBMcssldb5OJfnj9yiwleQPe3v6lM+R/KHaRvLL7zqPzX4VuCqdQvjTMs85xsy2k/zyvYNkoHRU+ql5uCaSP+xPkUxJnkg67eqcu5EkunVtOsXxILujKbeQ5Jj9N8mU0k6GTrO8HViX9uPbJPlBO51zTwDvJPl0/lz6M39Nda71/0kyKHmRZHD6rxl+9pskA4VbSY7r90iSrWGU98Q590eSP4jLSN7//w2c5ZzbmLXzzrmHSG6k+Jd0W6cCp6b7GMvZJAneDzjnnin8I3lvTjGzfUjuvNxMcq7eBvyEZMDncy4P9zHga2a2jeRGgOszvNQLSc6pR0mO9w99f9A5t845N6L0h3NuG3Be2o8XSa67m4qespzk+Py7c+55kin37xYNujNxzq0E/gq4LN3fwyR5YDjn1gP/THLjyxaSmx9+M8Ymf0VS0uQZM9vq2Yc/ApeSnPcw9u+br1J0Ho/2GqQx2cgPOiIiEpqZfZRkIH1i7L6ISHyKkImIVIGZHWjJclNNZnY4SeT0xtj9EpHaUMm7p0REpLxXAf8fcAhJ3t+1JFOsIiKashQRERGJTVOWIiIiIpFpQCYiIiISWa5zyKZNm+ZmzpwZuxsiIiIiY1q1atVW59x+pR7L9YBs5syZrFy5MnY3RERERMZkZmWXKtOUpYiIiEhkGpCJiIiIRKYBmYiIiEhkuc4hExERET99fX1s3ryZnTt3xu5K3Zs0aRIdHR20trZ6/4wGZCIiIg1g8+bNTJkyhZkzZ2JmsbtTt5xzPP/882zevJlDDjnE++c0ZSkiItIAdu7cyb777qvBWGBmxr777ps5EqkBmYiISIPQYKw6xnOcNSATERGRqmhubmbBggXMnTuX+fPn881vfpOBgQEAVq5cyXnnnRe5h/Eoh0xERESqoq2tjfvvvx+AZ599lve+97309PRw4YUX0tXVRVdXV+QexqMI2Sj6H1hF3yUX0Xfh+fRdchH9D6yK3SUREZGqCP03cP/992f58uVcdtllOOe44447OOWUUwC48847WbBgAQsWLGDhwoVs27YNgH/6p3/iqKOOYt68eXzlK18Z3Na73vUuFi1axNy5c1m+fHnS//5+zjnnHI444giOPPJIvvWtbwHwyCOP8Pa3v51FixZx/PHHs3Hjxoq+rvFShKyM/gdWMfDzH0NfX9LQ82LyPdB85KKIPRMREQmrWn8DX/va1zIwMMCzzz47pP0b3/gG3/nOdzjuuOPYvn07kyZN4tZbb2XTpk2sWLEC5xynnXYad911FyeccAJXXHEF++yzD729vRx11FG8+93v5rHHHuPJJ5/kwQcfBOCll14C4Nxzz+Xyyy/n0EMP5b777uNjH/sYv/rVryr2msZLA7IyBm6/efeJWNDXx8DtN2tAJiIida2afwOdcyPajjvuOD772c/yvve9j9NPP52Ojg5uvfVWbr31VhYuXAjA9u3b2bRpEyeccAKXXnopN954IwBPPPEEmzZt4vDDD+f3v/89n/zkJzn55JN529vexvbt27n77rs544wzBvf1yiuvVPT1jJcGZOX0vJitXUREpF5U6W/g73//e5qbm9l///3ZsGHDYPsXv/hFTj75ZP793/+do48+mttuuw3nHBdccAEf/vCHh2zjjjvu4LbbbuOee+5h8uTJnHTSSezcuZOpU6eyZs0abrnlFr7zne9w/fXXc8kll/DqV796MI+tliiHrJz2qdnaRURE6kUV/gY+99xzfOQjH+ETn/jEiDIRjzzyCEceeSRf+MIX6OrqYuPGjSxdupQrrriC7du3A/Dkk0/y7LPP0tPTw9SpU5k8eTIbN27k3nvvBWDr1q0MDAzw7ne/m7/7u7/jd7/7HXvvvTeHHHIIP/5xMv3qnGPNmjUVe00TESxCZmYHAz8ADgAGgOXOuW+b2T7AdcBM4DHgT51zL6Y/cwHwQaAfOM85d0uo/o2lacmyofPnAK2tNC1ZFqtLIiIiVRHqb2Bvby8LFiygr6+PlpYW3v/+9/PZz352xPMuueQS/vM//5Pm5mbmzJnDsmXL2GOPPdiwYQPHHHMMAHvttRc/+tGPePvb387ll1/OvHnzOPzwwzn66KOBZMD2gQ98YLCsxj/8wz8AcPXVV/PRj36Uiy66iL6+Ps4880zmz58/oddVCVZq7rYiGzY7EDjQOfc7M5sCrALeBZwDvOCc+7qZfRGY6pz7gpnNAa4BFgMHAbcBhznn+svto6ury61cuTJI/yFNarz95iRE2z6VpiXLlD8mIiK5tGHDBmbPnu39fP0NnJhSx9vMVjnnStb2CBYhc849DTydfr3NzDYAM4B3AielT7sKuAP4Qtp+rXPuFeBRM3uYZHB2T6g+jqX5yEU6+UREpCHpb2B1VSWHzMxmAguB+4Dp6WCtMGjbP33aDOCJoh/bnLYN39a5ZrbSzFY+99xzIbstIiIiUhXBB2RmthfwU+DTzrmXR3tqibYR86nOueXOuS7nXNd+++1XqW6KiIiIRBN0QGZmrSSDsaudczekzVvS/LJCnlmhGtxm4OCiH+8AngrZPxEREZFaEGxAZsk9rN8DNjjnvln00E3A2enXZwM/K2o/08z2MLNDgEOBFaH6JyIiIlIrQhaGPQ54P/CAmRUqsH0J+DpwvZl9EOgGzgBwzq0zs+uB9cAu4OOj3WEpIiIiUi+CRcicc//lnDPn3Dzn3IL037875553zi1xzh2a/v9C0c9c7Jx7nXPucOfczaH6JiIiItVnZpx//vmD33/jG9/gq1/9qvfPX3nlley3334sXLiQQw89lKVLl3L33XcPPv7lL3+Z2267rZJdrhpV6hcREZGq2GOPPbjhhhvYunXruLfxZ3/2Z6xevZpNmzbxxS9+kdNPP31w2aWvfe1rvOUtb6lUd6tKAzIREREZobtnBzc/soUbHnqamx/ZQnfPjglvs6WlhXPPPZdvfetbIx57/PHHWbJkCfPmzWPJkiV0d3ePub03velNnHvuuSxfvhyAc845h5/85CdAsh7mnDlzmDdvHp/73OeAZLmmd7/73Rx11FEcddRR/OY3vwFgxYoVHHvssSxcuJBjjz2Whx56CIB169axePFiFixYwLx589i0aRMAP/rRjwbbP/zhD9PfP/EMKw3IREQyCPFHSqTWdPfsYPWWHnp3JcsO9e4aYPWWnoqc7x//+Me5+uqr6enpGdL+iU98grPOOou1a9fyvve9j/POO89re294wxvYuHHjkLYXXniBG2+8kXXr1rF27Vr+9m//FoBPfepTfOYzn+G3v/0tP/3pT/nQhz4EwKxZs7jrrrtYvXo1X/va1/jSl74EwOWXX86nPvUp7r//flauXElHRwcbNmzguuuu4ze/+Q33338/zc3NXH311RM9LEGT+kVE6krhj1R/WiGx8EcKoLN9csSeiVTWuq3bBs/zgn6XtE/0XN97770566yzuPTSS2lraxtsv+eee7jhhqRC1vvf/34+//nPe22v1BKQe++9N5MmTeJDH/oQJ598MqeccgoAt912G+vXrx983ssvv8y2bdvo6enh7LPPZtOmTZgZfekanscccwwXX3wxmzdv5vTTT+fQQw/l9ttvZ9WqVRx11FFAsj7n/vvvP6IPWWlAJjJOWuet8YT8IyVSSwqRMd/2rD796U/zhje8gQ984ANln5NUzxrb6tWrR6wZ2dLSwooVK7j99tu59tprueyyy/jVr37FwMAA99xzz5CBIMAnP/lJ3vSmN3HjjTfy2GOPcdJJJwHw3ve+lze+8Y384he/YOnSpXz3u9/FOcfZZ589uFh5pWjKUmQc+h9YxcDPf5wMxgB6XmTg5z+m/4FVcTsmQYX+IyVSK9paSg8PyrVntc8++/Cnf/qnfO973xtsO/bYY7n22msBuPrqq/mTP/mTMbdz5513snz5cv7qr/5qSPv27dvp6enhHe94B5dccgn3359U33rb297GZZddNvi8QntPTw8zZiSrNV555ZWDj//+97/nta99Leeddx6nnXYaa9euZcmSJfzkJz/h2WeTuvYvvPACjz/++DiOwlAakImMw8DtN0Ma0h7U15e0S90K/UdKpFbMnTaF5mEBqmZL2ivl/PPPH3K35aWXXsr3v/995s2bxw9/+EO+/e1vl/y56667jgULFnDYYYfx93//9/z0pz8dESHbtm0bp5xyCvPmzePEE08cvIng0ksvZeXKlcybN485c+Zw+eWXA/D5z3+eCy64gOOOO25Igv51113HEUccwYIFC9i4cSNnnXUWc+bM4aKLLuJtb3sb8+bN461vfStPP/30hI+HlZp7zYuuri63cuXK2N2QBtR34fllH2v9yj9XsSdSTcNzyCD5I7VwerumLKXmbdiwYcTAZTTdPTtYt3UbvbsGaGtpYu60KTrPMyh1vM1slXOuq9TzlUMmMh7tU3dPVw5vl7pV+GOkP1LSCDrbJ+vcriINyBqIktArp2nJsiSHrHjasrWVpiXL4nVKqkJ/pEQkBA3IGsRgEnphAJEmoQMalI1D4ZhpgCsiIpWgAVmDGC0JXYOI8Wk+cpGOnYjkinPOu5yEjN948vN1a1CjKJXvNFq7iIjUlUmTJvH888+Pa7Ag/pxzPP/880yaNCnTzylC1iiUhC4NSHmTIrt1dHSwefNmnnvuudhdqXuTJk2io6Mj089oQNYglIQujUZ5kyJDtba2csghh8TuhpShKcsG0XzkIppOPWN3RKx9Kk2nnqE/TFK3VLxXRPJEEbIGoiR0aSjKmxSRHFGETETqU7n8SOVNikgNUoRMpIYoCb1ylDcpInmiAZlIjVASemWpeK+I5IkGZFI1iv6MTsV7K095kyKSFxqQSVUo+uNBSegiIg1LAzKpCkV/POSoeG/saGfs/YuIVJruspTqUPRnTE1LlkFr69DGGkxCH4x2Ft67NNrZ/8Cqhti/iEgIGpBJdagEwZjyUrw3dsHV2PsXEQlBU5ZSFSpB4CdLEnq0abvY0c7Y+xcRCUADMqkKlSCorKg3ScTOdYu9fxGRADQgk6pRCYLKiXmTROxoZ5b9K/lfRPJCAzKRPIo4bRc72um7f5VaEZE80YBMJI8iT9vFjnb67F+lVkQkT3SXpUgO5aVERlRK/heRHFGETEqKmXvT3bODdVu30btrgLaWJuZOm0Jn++Sq9TMPeUexpw1zQcn/3vJwzovUOw3IZISYuTfdPTtYvaWHfpd837trgNVbegBGDMpC9DNPeUexpw1rXeybD/IiT+e8SD3TlKWMELPw5rqt2wYHYwX9LmkfLkQ/VXS0fuSl0G5sOudFaoMiZDJSxNyb3l0D/u0Z+uk9DRrotWtKKA5FET0o106kJgSLkJnZFWb2rJk9WNS2wMzuNbP7zWylmS0ueuwCM3vYzB4ys6Wh+iUeIi5z1NZS+pQs2e7Zz8I0aGFQV5gG7e7ZMe5tZqG1F6WmaVkzkZoQcsrySuDtw9r+EbjQObcA+HL6PWY2BzgTmJv+zP82s+aAfZNRxLyDb+60KTTb0LZmS9qH8+1nlmnQEK89y5RQ/wOr6LvkIvouPJ++Sy6q2UFbXvopY9MduyK1IdiUpXPuLjObObwZ2Dv9uh14Kv36ncC1zrlXgEfN7GFgMXBPqP5JeTHv4CtMI/pML/r2M8s0aJDX7jkllJfk6rz0U/zojl2R2lDtHLJPA7eY2TdIonPHpu0zgHuLnrc5bZNIYubedLZPLlvmYjzaWppKDr7KTY9WnGf5hVooZOqT61YL/ZTKykuunXIxpZ5V+y7LjwKfcc4dDHwG+F7abiWe60q0YWbnpvlnK5977rlA3ZQ88M3NyjINGiLfy3tKKHJytfdrVxK4RKBcTKl31Y6QnQ18Kv36x8B30683AwcXPa+D3dOZQzjnlgPLAbq6ukoO2qQx+EZqOtsnM7D5MTb0tdA7aS/adm5ndusuOtsPHPc2Afp+8RNYdR+4AbAmWPRGWk9+z4htek8JWVOyreGsOp+bvF97jgqu5iWikpd+xqTIrNS7ag/IngJOBO4A3gxsSttvAv7VzL4JHAQcCqyoct8kbzLkZs34+Y+ZMaxAaP9AiZpUntvs+8VPYGVRiqMbgJX30AdlB2Vj/tEoNRgbrb3SPF97Xgqu5iXXLS/9jE6RWalzIcteXEOSlH+4mW02sw8CfwX8s5mtAf4eOBfAObcOuB5YD/wH8HHnXH+ovkmd8LxdP1PhS98SAKvuK/28cu0+Ypcf8Nx/Xgqu5qXgaV76GV3s60MksJB3Wf55mYdK/tZ2zl0MXByqP1J/vCM1GT5Ze28zQDSrackyulevYeMRx9I7eW/adrzMrAfvpnPh/HFvM+v+fSNfuUgCz0tEJS/9jCwvkVmR8VKlfskt79ysDDlPMfO9nuyczdrWA+hPt9G7ZztrFy+l+cCpdI57q/7qrvxBXnLd8tLPyOru/BQZRgMyyTWfSE3WT9Ze0Z9FbxyaQ1bcPk7rtm4bHIwV9FsT67Zuq2gZkNHkIvLlKS8Rlbz0sxbU0/kpMpwGZFL3Qnyybj35PfSB112WvjKt4yljyktEJS/9FJGwzLn8Vo7o6upyK1eujN0NkYq4+ZEtZQvYLnvd9BHtMUslqEyDiEh2ZrbKOddV6rFqF4YVkTJm73ye5l1D77Zr3tXH7J3Pj3huzCKZKtApIlJ5mrJsIFmiGoqAVN+MX96Aa5/OxvnH777Lcs2vmdGzBebOGfLcmEUyVaAzrsfWrR9R5HjmsPND/HX37PBaO1ckNA3IGkSW4pMqVBlJz4t09LxIR/dGr+dmaq8klWmI5rF161nDXvS3JUtx9bZNYc2uPli3XoOyceju2cHqLT30p5k7vbsGWL2lB0CDMqk6TVk2iCzFJ1WoMpIshS9jFslUgc5oNvS10N8ydF3U/pZWNvTps/V4rNu6bXAwVtDvknaRatNV3CiyRDUiR0B814iMrdLTuk1LljHws+ugv2iRiubmkuUPYpZKqIUyDSGmmfIwTd87aS/vdk3FjU13Nkst0YCsUWQpPhmxUGXWNSJjCTatO/yu5zJ3QccslRC7TEOIaaa8TNO39W6jd/LeJduLaSrOT1tLU9k7m0WqTQOyBpElqhE1AjLaGpFVGpD5ROhCJLYP3H4zDAz74zAwUHabvkUyQ0R+YhboHG2aafhgw/e15+VGhVnr72XtgjcNmbZs3tXHrPX3wsLDB9uyHKM8qfS5PHfalCEDV4BmS9prqZ/SGDQgaxBZohpRIyAB1ojMwjtCF2JaN8A28xL5ycJ3minTa8/JjQodD6+FP/5xxJ24w28E6e3rB7MRP9/b1z+iLS9CnMuFwWklp3br8ZqT6tCArIFkiWpEi4AEWCMyE98IXcZpXa9PzAGmimsh8lPpaIHvNFOm156X9STbp9LRvXHknbjD+tm2czu9bSOjPG07t09o9zEjP6HO5c72yRWNGtbCNSf5pIlyqS3l1oKcwBqRmXhG6JqWLIPWoXe7lZvW9S2kmmWb3iJHfkIUkZ07bQrNw4I/JaeZMrz2IMc+ACQmw9UAACAASURBVN9+7v/EppL5iPs/sWnc+45eEDgnUczc9FNqjiJkUjU+n65DrBGZiWeELsu0ru8n5uYjFzHQ/ejQ1z6/a2LFeyNHfkJEC7ynmTK89izvZ8wokW8/nz340JFTlmZJ+zgN3H4zmw983cjp0mpFfnIUxcxFP6XmaEAmVZElr6L15PdULYF/hEVvHJpDVtw+jPe0rucn5v4HVsGalbsHhG4A1qykv/OQcRfvjV6iIlC0wGeaKetr93k/ayE/yKefWcpj+NrcPp21i5cO3lDQu2c7axcvhRW3cMi4t+ov+rnsKS/9lNqjKUupirwUm209+T3QdczuiJg1QdcxE4vQeRZSDVG8t/nIRTSdesbufbVPpenUM6qXyxKxiGyI156X87ittTlTu4+NC08sWZR248ITx73NLKKfy57y0k+pPYqQSXXkKK+i0hE670/MgYr3xixRETtaMND9KLyc1N/i5R4Guh+d2LEIdB7noZxD1qhbiMK0T3bOZt2pHUO3OaEthhHzmpP80oBMqqOB8yq885PaJkPvjpEbaCvxRywnxzNmCZUgRYYDHPe8lHNoa20ufXdriahbiMK0KnYr9U4DMqmK2JGSLEIs3VTpT8yxj2eW6Ee0aMGq+9jcOWtkEvoEigyHOO5Zb3zwjaZVupxDlqhbiMK09VrsVqRAAzKpitjL7fiKunRTqehYmfaYxzMvkYrNBx9WOgkdxp2EHuS4Z5gGjXlTQZaoW4g1IrXupNQ7DcikanKRVxFz6aaM02GxjmdeIhUb559QOgl9/glVuSvQW4b3PXbRUd+oW4g1IrXupNQ7nckixSIu3ZSX4qR5iVT0Ti6dwF6u3UeI4qiZ3vec3BzjXbw38jZFaokiZCLFIi7dlJdp3VqIVPjkUWVJQvcVIt8r0/uek5s5QtxUEGKbIrVEAzKRYhkKw4aQh2ndAybvwaMv95ZsrwbfPKoQpR9C5Xv5vu+xb+bIotI3FYTapkit0JSlSJEghWHrzDM7XsnUXmm+xVk72yezcHr7YOSuraWJhdPbJ/YHPUOh2xBFZFV0VKR+KUImMkyIpZtirn9YadFzyDJEqSodUWlasoyBn10H/f27G5ubq5rv5RtNe2zdejb0tdA7aS/adm5ndusuZs6dM6F9N7IQhW5FiilCJhJYiETwmMrlilUthyzickwAODf69wUR+/nYuvWsYS9626aAGb1tU1jDXjy2bn3wfdejQqmXwoeOQqmX7p4ypWpExkEDMpHA8rL+oa/Yd7vFvBt14PabYWBYJHBgoOR7Gaqf3T07uPmRLdzw0NPc/MiWkoOCDX0tJUt+bOgrPSnS/8Aq+i65iL4Lz6fvkoty+2EhlNFKvYhUiqYsRULLSakCX7Hvdot6N2rGNUShsv30LcqbZd3JmMVm8yL6NL00BA3IRIapeL5XTkoVZJElN8v3eGbJeYp2N2qg4r2+x8i3KG/bzu3JdOUwbTu3j2iLXWw2D/mVWUu9KN9MxkNTliJFohf+rDO+xzM3OU+HzsrW7iHLOdfb1z+irVT77NZdNO8aOshq3tXH7NZdI384YgQ3L/mVWabplW8m46UImUiRLNEC30/2zUcuYqD70aELls/vqrkoQAi+x3NDXwv9bSVynnpbmDmB/Vc8+rJpY7Z2D1nOOd/I18y5c3B33sHGKQfSO3kKbTu2MWvb08w88aSRHWifytrXLaT79QtwZphzdD58P/MeWT3u1+QrdnTOV5Zp+rwsLQb5iE6GUotRTA3IRIp5Rguy5N30P7AK1qzcvQKAG4A1K+nvPKT+f/l5Hs8sOU++guRGhYgmZdjmrNV3DlkwHZLI16zVd8KCwwbb+h9YRcdv/oOOYQVk+/eZMuK1r33bn/F4055gSQjImfH4oQvhdYcR/OzMUX6l7zR9XvLNGjl30DcXs9o0ZSlSzLNUQZY7J+vtLstMyi05Nay9bUfpu9XKtfsIctxDlLLwPEYAHT1bmLfiFtr+0APO0faHHuatuIWOni1DnpfltXc37zU4GNu9b0vaQ4tdwiSA6GVhPDXy76VavWtWETKRIt5L02T5ZJ+jKEDFeS7WPmvNXaUjP2vugjccPr5997zI5s5ZbJx/PL2T96Ztx8vMWvNrOrrHP72YdekirymhDAvaNy1ZRsfPfzz0NbS2JtX7i2U458pUUSvb7stnSihPS0H5CrJkVwgN/HupVqOYwYbsZnaFmT1rZg8Oa/+kmT1kZuvM7B+L2i8ws4fTx5aG6pfIaLyXpsnyyb6tTAi8XHs98TxOvpGfLDbPWsTaxUvp3bM9uVFgz3bWLl7K5lnjn47JsnSRd8J6hnMpxPlpZQrblmv34ZvYXo9LQQVZsiuEOoxO+qrVKGbICNmVwGXADwoNZvYm4J3APOfcK2a2f9o+BzgTmAscBNxmZoc550rfUiQSkE+pgjx9so+ZuOt7nLwjPxlsnH88/Tb0V1x/Sysb5x/PISWeX+nj5JuwnvVc8j0/u1evYeMRx+6ODj54N50L5494bufj63n8NXOGTls6R+fj62HWQUOe61uaJEti+5Ods1l3asfQSNqor672zejewIHDziVqbJCZp99hlVarUcxgAzLn3F1mNnNY80eBrzvnXkmf82za/k7g2rT9UTN7GFgM3BOqfyITkanoZ2+Z293LtVdQ7MRd3+MUoohqr5X+9Vaq3fc4ZTqenlNCIV77k52zWdt6AP1pHlohOth84NQRg515994Mf3xl5F2Wv/sVLH3L4PMKpUkKd8P2tk1hza4+WLd+xKDMd0qoVpOrJyL2NecraoHlyGIXty6n2jlkhwHHm9nFwE7gc8653wIzgHuLnrc5bROpWd7FSSMWhq2FsgKxirgapfOgrESb73HKdDwzvO9ZjpFPJG/d1m2Dg7HBn7Om0qUX2qeyz9aneHbG6+idvDeTerexz9anRvQzS2kS30KqeSoR4asWrjlf0Qos14Asxa2rpdoTpi3AVOBo4K+B683MKP07smQCg5mda2YrzWzlc889F66nIhUStTBsThJ3QxQIzZSs7nucMhzPEO+773HKkrT85FtPL5lr9+RbTx/6sxlKk/gWUq3V5OoJyck1J7Wn2hGyzcANzjkHrDCzAWBa2n5w0fM6gKdKbcA5txxYDtDV1TXRG4FERqh0wcCoUwM5WbYpRFQh03I3vsfJmkrfFVmiREWI9933OGV57Rsm7Uv/sOf2t7SyoWXfIZGvLMsx+U4JZV2SyFeWa7jiBUJzcs1J7an2gOzfgDcDd5jZYcCrgK3ATcC/mtk3SZL6DwVWVLlvIsFyWmJNDeQmcTdAVGH2zueTnKdhpTRm79oOTB/yXO/jlKFEBQR43z2PU5akZd8o1ezWXazZ1TfyeJZajgm/KaEQydVZruEQ13turjmpOcEGZGZ2DXASMM3MNgNfAa4ArkhLYfwRODuNlq0zs+uB9cAu4OO6w1JiqLecltwk7maIPPma8csbcO3TR9Qhm9GzBYYloXsfpwD9zMQz+pIladk3SjVz7hxYt54NvX4LwPsIkVyd5RoOcb3n5pqTmhPyLss/L/PQX5R5/sXAxaH6I+KjHnNacpG4mzHy5FWioudFOnpe9C4E63WcMvaz0rJEX3yTludOm8Lqp18cchNAsxtg7rT2kfvvmAlbt8GuAZjSTlMFygRUukRElms41PWei2tOak5treUgElmtFgysexmKVIYouBqinyGEKKQ6o3tDyaK8M7o3DHmeb7HXLELczJHlGm5zpadby7WLhKSlk6Skiie65kStFgyciCwFT2MVkc0S+clScNW3OGqmfv7sOugvyqhobq5qfpBv9MX3Gh64/eYkkvjouqHtLzw1ZD8hpvdC3MyR5RqetebXrD3iT0Yu2fXgf8Gs945r/yLjpQGZjFCPxRp91WrBwPHKUqQyZkHLTHk3nontWYqjZjJ8SaEJLDEUSqZr2PN4BpneC3AzR5ZruGPjKtjxhzLrnWpAJtWlAZmMUG+J7VnVYsHA8coSgYhd0LLShXYzFUfFL6I0cPvNMDBsADIwUPYYxYo4ZrqGPY9nkBIVgUpEeOeltU+lo3vjyDxDlaiQCJQYIyPUY2J7w8oSgchJQUvfgqtZzmPv/KgMxyhEfpSvLK/d93geMHmPktss1+4jZvHcUPsXGS9FyGSEUMUaJYIsEYicFLRsPnIRA92Pwqr7krsbrQnmd42IPGU5j70jShmOUcyIY5bX7jtd/MyOV0ruq1y7j+YjF/FEU5vXguWQIYrpedxVokJqiQZkMkI9JrY3qizJ8nkpaNn/wCpYs3J3qQk3AGtW0t95yJA/pCGKo2Y6RhEjjlmK4oLfdHGIyHl3zw7WtE6lP/1L1Ns2hTUGTT07xl/ENeNxV4kKqRUakMkI9ZbYnlWsvB+Iu2xTXqIFvhGQEMVRMx2jDNG0Sp9zWYri+goROQ9SxDV28V6RcdKATEqqp8T2LGLeaVgLyzblIlqQIQKSqTiqZzTN9xj5RtOCnHMZi+L6CBE5D1LENXLxXpHx0kcGkSKjRV9CGy0CIEUCFGftbJ/Mwuntg9GetpYmFk5vn/BA2KeIa5BzLifHKFMRV9/nRi7eKzJeipBJrlV8ejFi3k/WHB3f157lGOWhIHCoXDffUglZjqdXNC3AOReiKC5UPnKeJerm+9xQ50fMVAZpDN4DMjPb0zn3h5CdEckiyFRPxDsNs+To+L72LMcoLwWBQ+S6hTie3gKcc8GK4lZYljw/3+fGPD9EJmLMAZmZHQt8F9gL6DSz+cCHnXMfC905kdGEKCsQ807DLNEC39ee5RjlqSBwpXPdQhxPXyHOuaxFcWPKEnXzfW6W88Mn8hWqhEkeljWT6vGJkH0LWArcBOCcW2NmJwTtlYiPAFM9Me80zHR3q+9rz3CMGrogcIDj6SvEOdfQ72UG3pGvAO97XpY1k+rxmrJ0zj1hZsVN/eWeK1I1gaYXfT9dh/jE6h0t8H3tGY5RlinTPOSaZRLgeGbxZOds1p3aMfR4lnmuz7Gv1+LOlb7mvCNfGUtp+Baw3Xzg60auo1mDy5pJdfhcnU+k05bOzF5lZp8DNgTul8iYYi57EnNZHPB/7VmO0dxpU2i2oW2lpky9lxnKkRDH01eW4+n7XN/3Mk+CXHO+ka8MpTR836PN7dNZu3gpvXu2g9lgnt/m9pGFe/OyrJlMjE+E7CPAt4EZwGbgVkD5YxJdzOnF2Dklvq89yzHynTKthVyzSkdKQhxPXyGKo9Zjcecg11yAyKjve7Rx4YlDVlIA6G9pZePCEzlkvP2UXPMZkB3unHtfcYOZHQf8JkyXRPxFK2QaOaek0Obz2rMcI58p09j5SaHyaUIcTx9BiqNSh8WdA5UH8bmhIsuNF77vUe+kvUo/r0R7XpY1k4nxmbL8F882kcYRoPhkzKK0WWQp5hlCXo6TryDFUetRgGvOt3iv7/PA/z1qa20u/bwS7Vn2L/lVNkJmZscAxwL7mdlnix7aGyh9Jok0iCCfWDNGAGLdBh998fk6y6fJXBz16ReHlLRodgPMndZeja5GFTtK5BsZ9X0/s15HuVjWTCZktCnLV5HUHmsBis+Ql4H3hOyUSK0Lkr+WdTHqSLfBR89PqrN8mizHc0b3BvpLVOCfsXB+yVUF6kleCr76vp/RryOpOWUHZM65O4E7zexK59zjVeyTSC5U+hNrlghAllvmQ5SoiJmflOU4hYgixix3MnD7zcmi4Y+uG9r+wlMNET3JUh7ER6ibc3zfz7rL85MJ8Unq32Fm/wTMBSYVGp1zbw7WK5EGlCUCULhlvnCXVuGWeVbcMuQOrbwsh5SF73EKEf2IXqCzzqZrswhyLjfw8ZTa4zMguxq4DjiFpATG2cBzITsl0qh8o26+t8zXQomKEHyOU4joR/QCnRmma2MX7/Xdv2/EMci5nKPp79jvp4Tnc2vOvs657wF9zrk7nXN/CRwduF8iMgrfW+Zjl6iIKkT0I3JExbcwbezivb77z1LsNcS5HLO4dBax30+pDp8IWeHj4NNmdjLwFNARrksiMpa21ubSS+MMu2W+XpfQ8RIi+pFxm5WOavhO12aNJlU6L853/1lyIUOcyzGLS2dRr5FuGcpnQHaRmbUD55PUH9sb+EzQXonIqELdWl9PQpRJyLLNUPl7PtO1WaJJIfLifPfvmwsJ4c7lPJSTaOhIdwMZc0DmnPt/6Zc9wJsAzGzPkJ0SkdHp1vqxhYh+ZNlmzKhGlmhSiLw4A1yZ9mJZlg9q5HO5oSPdDWTUAZmZzQAOBNY65/5oZvsDnwbOAQ4K3z2RxpJliku3zI8tRPTDd5tZohqVntrMVEA2Q16cbz9LDcZKtWdZPiiLWEWTQ2nkSHcjKTu8NrNPA/eTTFPea2ZnAxuANiC/Z7ZIjQqRuKtk4Hh8l9AJ8R7N6N7AvBW30PaHHnCOtj/0MG/FLczo3jDyyZ5LEmXpZ4jlg0LcKJAXne2TWTi9ffD4tbU0sXB6uz6Q1ZnRImTnkiws/oKZdQIPAyc45+6tTtdE6odPZCHEFFfs5O5Q8lDw1TeqkfU98jmXshSQbVqyjO4S1f87F84fdz9D5DhmuVEgammSQHwj4nm5hmWk0QZkO51zLwA457rN7L81GBPJzje5O0Tibuzk7hDyUvDVN+cp69Sm140CGaYhn+yczdrWAwanNwuJ9c0HTh1SBT9LP0PkOHrvv4GLveblGpbSRhuQdZjZpUXf71/8vXPuvHDdEqkfvp/sQyTuxk7uDiFLqYQs24y1hE6W98g7SpWhPMe6rduG5JoB9FvThM/PSi8f5L3/Gij2GitKlZdrWEob7Tf9XwOriv4N/15EPPh+sp87bQrNw25Dm2jibqZt5iSyUCiV0LtnO5gNRnQ2t08f/0YjvvYDJu/h3e57LmUpeOq7zSz9DMH3XI5d7DVqDltOrmEpbbTFxa+qZkdE6pXvJ/sQt/Vn2mYNRBZ8bJx/QulSCfNPGFEqwVvE1/7Mjle8233PpSzlOXxLVGTpZwi+53LsYq9ZolQVXw4pJ9ewlOZTGFZEJiBL4nKIUha+2wxRSDWE3smlI4bl2n3EfO1ZcrMOmLwHj77cW7J9ON/yHN4lKmqgOKnvuRy12KtnlCpE4eC8XMNSWrCqcmZ2hZk9a2YPlnjsc2bmzGxaUdsFZvawmT1kZktD9Uuk2vJyy3rzkYtoOvWM3Z+m26fSdOoZNZd70rZze6Z2HzFfu2+JCAgTpfLd//CI2VjtDcuzjMho+YDjlZdrWEobM0JmZsc5534zVlsJVwKXAT8Y9rMHA28Fuova5gBnAnNJCs7eZmaHOef6fV6ENK6Kh/wDyUsR1zwsIzO7dRdrdvUNmbZs3tXH7NZdE9purNeeJYIaotjs3GlT+N0zPRRvoYmR+/eNpGXdf+wyDZXev2+UKlTEMQ/XsJTmEyH7F8+2IZxzdwEvlHjoW8DnGXodvxO41jn3inPuUZKaZ4s9+iYNTEVPG9PMuXOYz3baerclRU97tzGf7cycOyd218YlSwQ1VLHZ4YOqUoOsLJG8vBRxDbF/3yhVluMpjaFshMzMjgGOBfYzs88WPbQ3ULq88hjM7DTgSefcGrMhge4ZQHGNs81pm0hZMdcKbHRZogohopgz585h5oS2UFt8I6ghis2u27qt5IBs+HPrsYhrqP37RKm0HJIMN9qU5auAvdLnFJ8hLwPvybojM5sM/A3wtlIPl2grGQk3s3NJVhGgs7Oz1FOkQdRCknEjylJ8MkTiciMLUWzW97l1WcQ14v4bebF0KW20shd3mtl/AUc65y6swL5eBxwCFKJjHcDvzGwxSUTs4KLndgBPlenXcmA5QFdXV7n0BWkAIQqp5kkeik8qill5lS42m+W5dVfENcP+Q1xvecktleoY9S9XmlS/TyV25Jx7wDm3v3NupnNuJskg7A3OuWeAm4AzzWwPMzsEOBRYUYn9Sv0KUUg1L/JSfFJRzDiyXBshriPfIrKxi7j67j92rps0Bp86ZKvN7Cbgx8AfCo3OuRtG+yEzuwY4CZhmZpuBrzjnvlfquc65dWZ2PbAe2AV8XHdYylgaOeQfNfcmQ1Sh0aOYsWS5NkJcR77lOWIXcfXdf+xcN2kMPgOyfYDngTcXtTlg1AGZc+7Px3h85rDvLwYu9uiPyKCGDflHzH3JUnxSicvxZLk2Kn0d9fb1g41MDe7tG/k5O3aZBq/9x851k4Yw5oDMOfeBanRERDKImHuTJarRyFHMRta2czu9bSMH3RMp3htV7Fw3aQg+hWEnAR8kKdo6qdDunPvLgP0SqSuVLv0Qe4mULFGNho1iNrBZq+9k7eKlI4r3zlp9Jyw4bNzbjVUIOvb1Jo3BJ5Hjh8ABwFLgTpI7IMe/toNIgwlRwFZLpEgt6+jZwrwVt9D2h56keO8fepi34hY6eraMe5sxC0HrepNq8Mkhe71z7gwze6dz7ioz+1fgltAdE6kXoUo/xM69ESmnackyOn7+Yzq6N+5ubG1NBjXjFLuEiq43Cc1nQFaI0b5kZkcAz0BdFckWCUqlH6TRhLh7UteR1DufAdlyM5sK/E+SemF7AV8O2iuROqLSD1LrQuRmVTqipOtI6t2YZ7Jz7rvOuRedc3c6516bFne9vBqdE6kHjVzAVmpfzNysLHQdSb3zuctyOvD3wEHOuWVmNgc4plyRVxEZSqUfZCyx7h6E+LlZvrJcR7GWFROZCJ8pyyuB75MsDA7w38B1gAZkIp5U+kHKib0Ae55ys3yuo8FljgolKtJljgANyqSm+Uy+T3POXQ8MADjndgFa1khEpAJGi1BVQ7kcrLzmZo22zJFILfOJkP3BzPYlWS4JMzsa6AnaK5GI8jLdEXOaS/z4vEexI1RZlreKfc557b/nRTZ3zmLj/OPpnbw3bTteZtaaXw8twRFq3yIT4DMg+yzJ3ZWvM7PfAPsB7wnaK5FI8jLdEXuaS8bm+x7FvnvQNzcr9jnnu//Nsxax9og/GVwloHfPdtYuXgqT9+SQwPsWmQiftSx/Z2YnAocDBjzknOsb48dEcmm06Y5aGpDlJRG7kfm+R6EWYH9s3Xo29LXQO2kv2nZuZ3brLmbOnVPyuT65WbHPOd/9b5x/PP029E9bf0srG+cfP+4BWezXDvmJ3Mv4lR2QmdnpZR46zMxwzt0QqE8i8ZRaQHi09khiT3PJ2HzfoxB34T62bj1r2Iv+tjRK1DaFNbv6YN36soOyscQ+53z332ul/6yVa6/kvkPJS+ReJma0M/TUYV//vOh7B2hAVscaNl+ifWrpwVdhDbsaEXuaS8aW5T2q9F24G/paBgdjBf0trWzobRn3Miuxzznf/RtpwvMwVqKt0vsOJVTkXlG32lL2bHLOfaDwD3ii+Hvn3F9WsY9SZXkpFBlC05Jl0Dr0DxmtrUl7DVGRzNp3wOQ9MrVXUu+kvTK1+4h9zvnuv9RgbLT2Su47mACR+8GoW2EbadSt/4FV496mTIxvDHci57LkTC3kS8QSYg2+EFRstvY9s+OVTO2VZM7hbGRMyNz4f5XHPud89x8impX1tVd8hiFA5D4v+bKNZPyT6lK3YudLxFbpNfhCUbHZ2hbzOio1GBut3Vfsc85n/6FukvB97SHuyGxasmxoDhlMPHKfk3zZRjJaUv/P2R0Ze62Z3VT8uHPutJAdk3hi50uI1IOY11Fba3Ppfbc2B993bLEjeSFmGIJE7nOSL9tIRouQfaPo638O3RGpHaE+YYqMpt5uJIl5HTX6NRwzkhcqMlrpyH2QqJtMSNkBmXPuzmp2RGpH7E+Y0njqsfBmzOtI13A8eZlhyEu+bCNRDpmUFDtXRBpLvd5IEvM60jXsp9KR2TxFJ/OSL9soNCATkega/UYSiSNEZFbRSRmvMQdkZjbJObdzWNs059zWcN0SkXrhE4HIyzQPxM91UzHPygkVmVV0UsbD57fdb83s6MI3ZvZu4O5wXRKReuFbZDhmEdUsYhdNVjHPylJkVmqJz5Tle4ErzOwO4CBgX+DNITslkgexIyV54BuByFpENVaUKHauW6hiniHO5TxcH6EiszFfe5Z9K9paW8YckDnnHjCzi4EfAtuAE5xzm4P3TKSG1eNdgSF4LwidIVIRc6Hl6BGVAMU8Q5zLebk+QiTgx3ztWfatBctrz5gfA8zse8CngXnAB4Cfm9nHQ3dMpJaNFimR3cpFGoa3+z4PRo8ShZaln0GUK9o5gWKeIc7lvFwfne2TWTi9ffD9a2tpYuH09gkNnGK+9iz7jnkdSWk+U5YPAh9yzjng0TSf7JthuyVS26JHSnLCNwKRKVIRccmX2CUNmpYso3v1GjYecSy9k/embcfLzHrwbjoXzh/3NkOcy3m6PiqdgB/ztWfat5ZOqjk+U5bfGvZ9D/DBYD0SyYE83RUYk28JgEylAiIu+RK7pMGTnbNZ23oA/ZacZ717trN28VKaD5xK5zi3GeJcbuTrI+qSWVn2raWTao5P2YtDgX8A5gCTCu3OudcG7JdITYsdKckT3wiE7/Oalixj4GfXQX//7sbm5qot+RKzpMG6rdsGB2MF/dY0oZsKQpzLjXx95GXJLC2dVHt8piy/D3wF+BbwJpI8MgvZKZFaFztS0vCcG/37OhViOizEudzI10delszS0km1x2dA1uacu93MzDn3OPBVM/s1ySBNpGHN6N7AgcN+maFfZsEN3H4zmzsOY+P843fnUa35NR0TLP2QBwaUGnqW+oScpaRBiKhfzEhi7HIOeVkyS0sn1RafAdlOM2sCNpnZJ4Angf3DdkuktumW8Xg2t09n7eKl9Le0ArvzqFhxC4dE7lto5eKAw9sb+fxs5Ncu+eaTZfhpYDJwHrAIeD9wdshOidQ63TIez8aFJw4Oxgr6W1rZuPDESD2qHt+yG418fjbya8+b/gdW0XfJRfRdeD59l1zU8CtO+Nxl+dv0y+0k+WMi/rx3wwAAEhlJREFUolvGo+mdtFem9nrinbTdyOdnI7/2HFEkc6SyAzIzu2m0H3TOnTba42Z2BXAK8Kxz7oi07Z+AU4E/Ao8AH3DOvZQ+dgFJOY1+4Dzn3C0ZXodIdemW8WjaWptL39rf2hyhN9XlnbTdyOdnI7/2HAm1DFiejRYhOwZ4ArgGuI/sd1ZeCVwG/KCo7ZfABc65XWb2v4ALgC+Y2RzgTGAuyXqZt5nZYc65fkRqUNZbxvOytl0eNHJJBfBL2m7kkgahXnu9XUfRKZI5wmgDsgOAtwJ/TrLA+C+Aa5xz63w27Jy7y8xmDmu7tejbe4H3pF+/E7jWOfcKyWoADwOLgXt89iVSbVluGc/L2nZ50cglFXw1ckmDEK+9Hq+j6BTJHKHsgCyNTv0H8B9mtgfJwOwOM/uac+5fKrDvvwSuS7+eQTJAK9ictonULN9bxkdbXy70L/OY+w4pZlmBvGjkkgaVfu31eh3F1MhR3HJGTepPB2InkwzGZgKXAjdMdKdm9jfALuDqQlOJp5W8w9vMzgXOBejsHO9iISLVk5u17USkJF1HldfIUdxyRkvqvwo4ArgZuNA592AldmhmZ5Mk+y9JFyyHJCJ2cNHTOoCnSv28c245sBygq6urMcpzS67lZm07lCcjUkojr80ZUiNHcUsZ7Wx6P3AY8CngbjN7Of23zcxeHs/OzOztwBeA05xzO4oeugk408z2MLNDgEOBFePZh0itmTttCs3DYsDVXNvOd9+FPJnCH55Cnkx3z44RzxVpJDGvYWkco+WQTWjob2bXACcB08xsM8lSSxcAewC/NDOAe51zH3HOrTOz64H1JFOZH9cdllIv8rK2nfJkKk8Rx/qgG0mkGszleFHerq4ut3LlytjdEKkLNzz0dNnHTj/8wCr2pD4MvzMPkqjKwunt+kMu0qDMbJVzrqvUY5oAFxHAf1ke8TNaxFFEZDifxcVFpAE0esFVX77TkLozT6T6+h9Ylds7NzUgExFAeTI+shQI1Z15ItWV9/UxNSATkUGNXHDV55N1lhsfQkUcdaNA/chzNKcW5X19TA3IRKTh+X6yzjINGSLiqCV86kfeozk1KefrY2pAJg1BUQUZje8n66zTkJWOOKo0SeX5/m6odDQr79GcmpTz9TGVzCB1TwVPZUyen6xjFwjVjQKV5fu7YTCaVTgf0mhW/wOrxr/znEdzalHTkmXQ2jq0MUfrY2pAJnVP5QdkTOU+QQ9r72yfTOeUtsHFdw3onNJWteiUSpNUlu/vhtGiWePmec6Jv+YjF9F06hm7j2H7VJpOPSM3EUdNWUrdU1RBxtK0ZNnQfB4o+cm6u2cH3dt6KfwNd0D3tl72nfyqqgzKVJqksrx/NwSIZvmec5JNntfH1McqqXuKKshYfD9Zx462drZPZuH09sFzt62lSZX/J8D7d0OAaFbeozlSeYqQSd1TVEF8+HyyVrS1vvj+bggVzQoRzdENTPmlAZnUPRU8lUqJXexVZS8qy/d3Q2HQVOs1w3R+5JsGZNIQGrngqfjxKWuQNdpa6WhFlrIXipT48f3dkIfcJJVFyTcNyESk4fkW6cwSbQ0RrfCdMlWkpDFpSj3fNCATkYaXpUinb0QlRLTCd8pUkZLGFHtKXSZG75KISICyBiGiFb6FaRUpaUyxCxfLxChCJiKSYckV39ysENEK3ylTRUoaU2f7ZJ7f8UceezmplVftwsUyMRqQiUjDy1IY1jc3K1S5FZ8pU5V6aUyxCxfLxOjjkog0vBCFYWMWcVUB2cYUu3CxTIwiZCIihCkMG7Pcikq9xBOr5IhyB/NNETIREU+tlq1dGk9hWrswCCpMa3f37Ai+by0Tl296l0REPJmVHnmVa5fGE3PaUHdZ5pumLEVEPP1xwGVql8YTc9pQy8TlmwZkIiKeVE6i8uptiafY54hyB/NLv0VERDxpSqiyYuZbhaJzRMZLETIREU+hpoRCRInyEHkKtcSTz0LxoWjaUMZLAzIRkQwqPSUUYiHwvCwuHiLfyneh+JA0bSjjoSlLEZGIQtyVl5cCoSHKNIy2ULxILdOATEQkohBRorwUCA2SbxVgoXiRatCATEQkohBRorwUCA2yxFOJBeFHbRepEbV1dYqINJi506YwvKysMbEoUSPf6de0ZBm0tg5tLLFQvEitUVK/iEhkBrhh309EXu70C3HzQSFxP9ZdliLjpQGZiEhE67ZuY3hm1wATL/2Qhzv9QpW98FkoXqTWaMpSRCSivCTgh9DIr11kOA3IREQiyksCfgiN/NpFhtNZLyISUSMn4DfyaxcZLtiAzMyuMLNnzezBorZ9zOyXZrYp/X9q0WMXmNnDZvaQmS0N1S8RkVoSpPRDTjTyaxcZzpxzYz9rPBs2OwHYDvzAOXdE2vaPwAvOua+b2ReBqc65L5jZHOAaYDFwEHAbcJhzrn+0fXR1dbmVK1cG6b+IiIhIJZnZKudcV6nHgkXInHN3AS8Ma34ncFX69VXAu4rar3XOveKcexR4mGRwJiIiIlL3ql32Yrpz7mkA59zTZrZ/2j4DuLfoeZvTthHM7FzgXIDOzs6AXRURkdC6e3bUfL00kWqolaT+UnUQS86lOueWO+e6nHNd++23X+BuiYhIKIXCsIUyF4XCsN09OyL3TKT6qj0g22JmBwKk/z+btm8GDi56XgfwVJX7JiIiVTRaYViRRlPtAdlNwNnp12cDPytqP9PM9jCzQ4BDgRVV7puIiFSRCsOK7BYsh8zMrgFOAqaZ2WbgK8DXgevN7INAN3AGgHNunZldD6wHdgEfH+sOSxERybe2lqaSgy8VhpVGFGxA5pz78zIPLSnz/IuBi0P1R0REassBk/fg0Zd7S7aLNBotLi4iIl76H1jFwO03Q8+L0D6VpiXLJrSI9zM7XsnU7kt3bkoeaUAmIiJj6n9gFQM//zH09SUNPS8m38O4B2UhcsgKd24WbhYo3LkJaFAmNU0T9SIiMqaB22/ePRgr6OtL2scpxOLiunNT8koRMhERNM01pp4Xs7V7mDttypBoFkx8cXHduSl5pQiZiDQ8FSj10D41W7uHEIuLh4i6iVSDImQi0vBGm+ZSlCzRtGTZ0BwygNZWmpYsm9B2O9snV/QYh4i6iVSDBmQi0vA0zTW2QuJ+Je+yDKEwuNP0s+SNBmQi0vBUoNRP85GLam4AVkqlo24i1aDfNiLS8OZOm0KzDW3TNJeIVJMiZCLS8DTNJSKxaUAmIoKmuUQkLk1ZioiIiESmAZmIiIhIZBqQiYiIiESmHDIRkQanZaNE4tOATESkgRWWjSpUti8sGwVoUCZSRZqyFBFpYKMtGyUi1aMBmYhIA9OyUSK1QVOWIiI5Uul8Ly0bJVIbdMWJiOREId+rMIAq5Ht19+wY9za1bJRIbdCATEQkJ0Lke3W2T2bh9PbBiFhbSxMLp7croV+kyjRlKSKSE6HyvbRslEh8ipCJiOREubwu5XuJ5J+uYhGRnFC+l0j90pSliEhOFKYVVVVfpP5oQCYikiPK9xKpT5qyFBEREYlMAzIRERGRyDQgExEREYlMAzIRERGRyDQgExEREYlMAzIRERGRyDQgExEREYlMAzIRERGRyDQgExEREYlMAzIRERGRyKIMyMzsM2a2zsweNLNrzGySme1jZr80s03p/1Nj9E1ERESk2qo+IDOzGcB5QJdz7gigGTgT+CJwu3PuUOD29HsRERGRuhdryrIFaDOzFmAy8BTwTuCq9PGrgHdF6puIiIhIVVV9QOacexL4BtANPA30OOduBaY7555On/M0sH+pnzezc81spZmtfO6556rVbREREZFgYkxZTiWJhh0CHATsaWZ/4fvzzrnlzrku51zXfvvtF6qbIiIiIlUTY8ryLcCjzrnnnHN9wA3AscAWMzsQIP3/2Qh9ExEREam6GAOybuBoM5tsZgYsATYANwFnp885G/hZhL6JiIiIVF1LtXfonLvPzH4C/A7YBawGlgN7Adeb2QdJBm1nVLtvIiIiIjFUfUAG4Jz7CvCVYc2vkETLRERERBqKKvWLiIiIRKYBmYiIiEhkGpCJiIiIRKYBmYiIiEhkGpCJiIiIRKYBmYiIiEhkGpCJiIiIRKYBmYiIiEhkGpCJiIiIRKYBmYiIiEhkGpCJiIiIRKYBmYiIiEhkURYXFxERqVfdPTtYt3UbvbsGaGtpYu60KXS2T47dLalxGpCJiIhUSHfPDlZv6aHfJd/37hpg9ZYeAA3KZFSashQREamQdVu3DQ7GCvpd0i4yGg3IREREKqR310CmdpECDchEREQqpK2l9J/Vcu0iBTpDREREKmTutCk029C2ZkvaRUajpH4REZEKKSTu6y5LyUoDMhERkQrqbJ+sAZhkpilLERERkcg0IBMRERGJTAMyERERkcg0IBMRERGJTAMyERERkcg0IBMRERGJTAMyERERkcg0IBMRERGJTAMyERERkcg0IBMRERGJTAMyERERkcg0IBMRERGJzJxzsfswbmb2HPB47H4UmQZsjd0JGZXeo9qn96j26T2qfXqPatNrnHP7lXog1wOyWmNmK51zXbH7IeXpPap9eo9qn96j2qf3KH80ZSkiIiISmQZkIiIiIpFpQFZZy2N3QMak96j26T2qfXqPap/eo5xRDpmIiIhIZIqQiYiIiESmAdk4mdkkM1thZmvMbJ2ZXZi272NmvzSzTen/U2P3tZGZWbOZrTaz/5d+r/enxpjZY2b2gJndb2Yr0za9TzXEzF5tZj8xs41mtsHMjtF7VDvM7PD0+in8e9nMPq33KF80IBu/V4A3O+fmAwuAt5vZ0cAXgdudc4cCt6ffSzyfAjYUfa/3pza9yTm3oOg2fb1PteXbwH8452YB80muKb1HNcI591B6/SwAFgE7gBvRe5QrGpCNk0tsT79tTf854J3AVWn7VcC7InRPADPrAE4GvlvUrPcnH/Q+1Qgz2xs4AfgegHPuj865l9B7VKuWAI845x5H71GuaEA2Ael02P3As8AvnXP3AdOdc08DpP/vH7OPDe4S4PPAQFGb3p/a44BbzWyVmZ2btul9qh2vBZ4Dvp9O/3/XzPZE71GtOhO4Jv1a71GOaEA2Ac65/jRE3AEsNrMjYvdJEmZ2CvCsc25V7L7ImI77/9u7m1CrqjCM4/8n9YJlIISI0cfFiUEWdYXAhBCLSAjp4za4EEjUrGmTpoaDZkJQNGkgEuLHwJAogj6gSQ2iQKMaVOSlrhKCUJMGvQ32sks4SuSufe/+/yZ7n733gRdezuFhrXXOqqo5YD/wcpJHehek/1gPzAFvVdWDwJ849TVKSWaAA8DJ3rXo/zOQ3QBt+P5T4AngYpJtAO14qWNpU7YHOJDkZ+A4sC/JMezP6FTVr+14iWHdy0PYpzFZBBbbDADAKYaAZo/GZz/wVVVdbK/t0SpiILtOSbYk2dzONwKPAd8B7wEH22MHgTN9Kpy2qnq1qu6oqlmGIfyPq+p57M+oJLklya1Xz4HHgXPYp9GoqiXgQpId7dKjwLfYozFaYHm6EuzRquIfw16nJPczLJJcxxBsT1TVoSS3ASeAu4BfgOeq6nK/SpVkL/BKVT1pf8YlyXaGUTEYpsberarD9mlckjzA8OOYGeBH4AXa9x72aBSS3AxcALZX1ZV2zc/RKmIgkyRJ6swpS0mSpM4MZJIkSZ0ZyCRJkjozkEmSJHVmIJMkSerMQCZpkpI8naSS3NO7FkkykEmaqgXgc4Y/DpakrgxkkiYnySaG7bVepAWyJDcleTPJ+SRnk7yfZL7d25Xks7YB+odXt6ORpBvFQCZpip4CPqiqH4DLSeaAZ4BZ4D7gJWA3QJINwBvAfFXtAt4BDvcoWtLatb53AZLUwQJwpJ0fb683ACer6m9gKckn7f4OYCfwURIYtkv7bWXLlbTWGcgkTUrb328fsDNJMQSsYnlPzWveApyvqt0rVKKkCXLKUtLUzANHq+ruqpqtqjuBn4DfgWfbWrKtwN72/PfAliT/TmEmubdH4ZLWLgOZpKlZ4NrRsNPA7cAicA54G/gCuFJVfzGEuNeTfAN8DTy8cuVKmoJUVe8aJGkUkmyqqj/atOaXwJ6qWupdl6S1zzVkkrTsbJLNwAzwmmFM0kpxhEySJKkz15BJkiR1ZiCTJEnqzEAmSZLUmYFMkiSpMwOZJElSZwYySZKkzv4BDs4ODtDvBS4AAAAASUVORK5CYII=\n",
      "text/plain": [
       "<Figure size 720x432 with 1 Axes>"
      ]
     },
     "metadata": {
      "needs_background": "light"
     },
     "output_type": "display_data"
    }
   ],
   "source": [
    "# Create another figure\n",
    "plt.figure(figsize=(10, 6))\n",
    "\n",
    "# Scatter with positive examples\n",
    "plt.scatter(df.age[df.target==1],\n",
    "           df.thalach[df.target==1],\n",
    "           c='salmon');\n",
    "\n",
    "# Scatter with negative examples\n",
    "plt.scatter(df.age[df.target==0],\n",
    "           df.thalach[df.target==0],\n",
    "           c='lightblue');\n",
    "\n",
    "# Add some helpful info\n",
    "plt.title(\"Heart Disease in function of Age and Max Heart Rate\")\n",
    "plt.xlabel(\"Age\")\n",
    "plt.ylabel(\"Max Heart Rate\")\n",
    "plt.legend([\"Disease\", \"No Disease\"]);"
   ]
  },
  {
   "cell_type": "code",
   "execution_count": 17,
   "metadata": {},
   "outputs": [
    {
     "data": {
      "image/png": "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\n",
      "text/plain": [
       "<Figure size 432x288 with 1 Axes>"
      ]
     },
     "metadata": {
      "needs_background": "light"
     },
     "output_type": "display_data"
    }
   ],
   "source": [
    "# Check the distribution of the age column with a histogram\n",
    "df.age.plot.hist();"
   ]
  },
  {
   "cell_type": "markdown",
   "metadata": {},
   "source": [
    "### Heart Disease Frequency per Chest Pain type\n",
    "\n",
    "3. cp - chest pain type\n",
    "    * 0: Typical angina: chest pain related decrease blood supply to the heart\n",
    "    * 1: Atypical angina: chest pain not related to heart\n",
    "    * 2: Non-anginal pain: typically esophageal spasms (non heart related)\n",
    "    * 3: Asymptomatic: chest pain not showing signs of disease\n",
    "    "
   ]
  },
  {
   "cell_type": "code",
   "execution_count": 18,
   "metadata": {},
   "outputs": [
    {
     "data": {
      "text/html": [
       "<div>\n",
       "<style scoped>\n",
       "    .dataframe tbody tr th:only-of-type {\n",
       "        vertical-align: middle;\n",
       "    }\n",
       "\n",
       "    .dataframe tbody tr th {\n",
       "        vertical-align: top;\n",
       "    }\n",
       "\n",
       "    .dataframe thead th {\n",
       "        text-align: right;\n",
       "    }\n",
       "</style>\n",
       "<table border=\"1\" class=\"dataframe\">\n",
       "  <thead>\n",
       "    <tr style=\"text-align: right;\">\n",
       "      <th>target</th>\n",
       "      <th>0</th>\n",
       "      <th>1</th>\n",
       "    </tr>\n",
       "    <tr>\n",
       "      <th>cp</th>\n",
       "      <th></th>\n",
       "      <th></th>\n",
       "    </tr>\n",
       "  </thead>\n",
       "  <tbody>\n",
       "    <tr>\n",
       "      <th>0</th>\n",
       "      <td>104</td>\n",
       "      <td>39</td>\n",
       "    </tr>\n",
       "    <tr>\n",
       "      <th>1</th>\n",
       "      <td>9</td>\n",
       "      <td>41</td>\n",
       "    </tr>\n",
       "    <tr>\n",
       "      <th>2</th>\n",
       "      <td>18</td>\n",
       "      <td>69</td>\n",
       "    </tr>\n",
       "    <tr>\n",
       "      <th>3</th>\n",
       "      <td>7</td>\n",
       "      <td>16</td>\n",
       "    </tr>\n",
       "  </tbody>\n",
       "</table>\n",
       "</div>"
      ],
      "text/plain": [
       "target    0   1\n",
       "cp             \n",
       "0       104  39\n",
       "1         9  41\n",
       "2        18  69\n",
       "3         7  16"
      ]
     },
     "execution_count": 18,
     "metadata": {},
     "output_type": "execute_result"
    }
   ],
   "source": [
    "pd.crosstab(df.cp, df.target)"
   ]
  },
  {
   "cell_type": "code",
   "execution_count": 19,
   "metadata": {},
   "outputs": [
    {
     "data": {
      "image/png": "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\n",
      "text/plain": [
       "<Figure size 720x432 with 1 Axes>"
      ]
     },
     "metadata": {
      "needs_background": "light"
     },
     "output_type": "display_data"
    }
   ],
   "source": [
    "# Make the crosstab more visual\n",
    "pd.crosstab(df.cp, df.target).plot(kind='bar',\n",
    "                                  figsize=(10, 6),\n",
    "                                  color=['salmon', 'lightblue'])\n",
    "\n",
    "# Add some communication\n",
    "plt.title('Heart Disease Frequency Per Chest Pain Type')\n",
    "plt.xlabel(\"Chest Pain Type\")\n",
    "plt.ylabel(\"Amount\")\n",
    "plt.legend(['No Disease', 'Disease']);\n",
    "plt.xticks(rotation=0);"
   ]
  },
  {
   "cell_type": "code",
   "execution_count": 20,
   "metadata": {},
   "outputs": [
    {
     "data": {
      "text/html": [
       "<div>\n",
       "<style scoped>\n",
       "    .dataframe tbody tr th:only-of-type {\n",
       "        vertical-align: middle;\n",
       "    }\n",
       "\n",
       "    .dataframe tbody tr th {\n",
       "        vertical-align: top;\n",
       "    }\n",
       "\n",
       "    .dataframe thead th {\n",
       "        text-align: right;\n",
       "    }\n",
       "</style>\n",
       "<table border=\"1\" class=\"dataframe\">\n",
       "  <thead>\n",
       "    <tr style=\"text-align: right;\">\n",
       "      <th></th>\n",
       "      <th>age</th>\n",
       "      <th>sex</th>\n",
       "      <th>cp</th>\n",
       "      <th>trestbps</th>\n",
       "      <th>chol</th>\n",
       "      <th>fbs</th>\n",
       "      <th>restecg</th>\n",
       "      <th>thalach</th>\n",
       "      <th>exang</th>\n",
       "      <th>oldpeak</th>\n",
       "      <th>slope</th>\n",
       "      <th>ca</th>\n",
       "      <th>thal</th>\n",
       "      <th>target</th>\n",
       "    </tr>\n",
       "  </thead>\n",
       "  <tbody>\n",
       "    <tr>\n",
       "      <th>0</th>\n",
       "      <td>63</td>\n",
       "      <td>1</td>\n",
       "      <td>3</td>\n",
       "      <td>145</td>\n",
       "      <td>233</td>\n",
       "      <td>1</td>\n",
       "      <td>0</td>\n",
       "      <td>150</td>\n",
       "      <td>0</td>\n",
       "      <td>2.3</td>\n",
       "      <td>0</td>\n",
       "      <td>0</td>\n",
       "      <td>1</td>\n",
       "      <td>1</td>\n",
       "    </tr>\n",
       "    <tr>\n",
       "      <th>1</th>\n",
       "      <td>37</td>\n",
       "      <td>1</td>\n",
       "      <td>2</td>\n",
       "      <td>130</td>\n",
       "      <td>250</td>\n",
       "      <td>0</td>\n",
       "      <td>1</td>\n",
       "      <td>187</td>\n",
       "      <td>0</td>\n",
       "      <td>3.5</td>\n",
       "      <td>0</td>\n",
       "      <td>0</td>\n",
       "      <td>2</td>\n",
       "      <td>1</td>\n",
       "    </tr>\n",
       "    <tr>\n",
       "      <th>2</th>\n",
       "      <td>41</td>\n",
       "      <td>0</td>\n",
       "      <td>1</td>\n",
       "      <td>130</td>\n",
       "      <td>204</td>\n",
       "      <td>0</td>\n",
       "      <td>0</td>\n",
       "      <td>172</td>\n",
       "      <td>0</td>\n",
       "      <td>1.4</td>\n",
       "      <td>2</td>\n",
       "      <td>0</td>\n",
       "      <td>2</td>\n",
       "      <td>1</td>\n",
       "    </tr>\n",
       "    <tr>\n",
       "      <th>3</th>\n",
       "      <td>56</td>\n",
       "      <td>1</td>\n",
       "      <td>1</td>\n",
       "      <td>120</td>\n",
       "      <td>236</td>\n",
       "      <td>0</td>\n",
       "      <td>1</td>\n",
       "      <td>178</td>\n",
       "      <td>0</td>\n",
       "      <td>0.8</td>\n",
       "      <td>2</td>\n",
       "      <td>0</td>\n",
       "      <td>2</td>\n",
       "      <td>1</td>\n",
       "    </tr>\n",
       "    <tr>\n",
       "      <th>4</th>\n",
       "      <td>57</td>\n",
       "      <td>0</td>\n",
       "      <td>0</td>\n",
       "      <td>120</td>\n",
       "      <td>354</td>\n",
       "      <td>0</td>\n",
       "      <td>1</td>\n",
       "      <td>163</td>\n",
       "      <td>1</td>\n",
       "      <td>0.6</td>\n",
       "      <td>2</td>\n",
       "      <td>0</td>\n",
       "      <td>2</td>\n",
       "      <td>1</td>\n",
       "    </tr>\n",
       "  </tbody>\n",
       "</table>\n",
       "</div>"
      ],
      "text/plain": [
       "   age  sex  cp  trestbps  chol  fbs  restecg  thalach  exang  oldpeak  slope  \\\n",
       "0   63    1   3       145   233    1        0      150      0      2.3      0   \n",
       "1   37    1   2       130   250    0        1      187      0      3.5      0   \n",
       "2   41    0   1       130   204    0        0      172      0      1.4      2   \n",
       "3   56    1   1       120   236    0        1      178      0      0.8      2   \n",
       "4   57    0   0       120   354    0        1      163      1      0.6      2   \n",
       "\n",
       "   ca  thal  target  \n",
       "0   0     1       1  \n",
       "1   0     2       1  \n",
       "2   0     2       1  \n",
       "3   0     2       1  \n",
       "4   0     2       1  "
      ]
     },
     "execution_count": 20,
     "metadata": {},
     "output_type": "execute_result"
    }
   ],
   "source": [
    "df.head()"
   ]
  },
  {
   "cell_type": "code",
   "execution_count": 21,
   "metadata": {},
   "outputs": [
    {
     "data": {
      "text/html": [
       "<div>\n",
       "<style scoped>\n",
       "    .dataframe tbody tr th:only-of-type {\n",
       "        vertical-align: middle;\n",
       "    }\n",
       "\n",
       "    .dataframe tbody tr th {\n",
       "        vertical-align: top;\n",
       "    }\n",
       "\n",
       "    .dataframe thead th {\n",
       "        text-align: right;\n",
       "    }\n",
       "</style>\n",
       "<table border=\"1\" class=\"dataframe\">\n",
       "  <thead>\n",
       "    <tr style=\"text-align: right;\">\n",
       "      <th></th>\n",
       "      <th>age</th>\n",
       "      <th>sex</th>\n",
       "      <th>cp</th>\n",
       "      <th>trestbps</th>\n",
       "      <th>chol</th>\n",
       "      <th>fbs</th>\n",
       "      <th>restecg</th>\n",
       "      <th>thalach</th>\n",
       "      <th>exang</th>\n",
       "      <th>oldpeak</th>\n",
       "      <th>slope</th>\n",
       "      <th>ca</th>\n",
       "      <th>thal</th>\n",
       "      <th>target</th>\n",
       "    </tr>\n",
       "  </thead>\n",
       "  <tbody>\n",
       "    <tr>\n",
       "      <th>age</th>\n",
       "      <td>1.000000</td>\n",
       "      <td>-0.098447</td>\n",
       "      <td>-0.068653</td>\n",
       "      <td>0.279351</td>\n",
       "      <td>0.213678</td>\n",
       "      <td>0.121308</td>\n",
       "      <td>-0.116211</td>\n",
       "      <td>-0.398522</td>\n",
       "      <td>0.096801</td>\n",
       "      <td>0.210013</td>\n",
       "      <td>-0.168814</td>\n",
       "      <td>0.276326</td>\n",
       "      <td>0.068001</td>\n",
       "      <td>-0.225439</td>\n",
       "    </tr>\n",
       "    <tr>\n",
       "      <th>sex</th>\n",
       "      <td>-0.098447</td>\n",
       "      <td>1.000000</td>\n",
       "      <td>-0.049353</td>\n",
       "      <td>-0.056769</td>\n",
       "      <td>-0.197912</td>\n",
       "      <td>0.045032</td>\n",
       "      <td>-0.058196</td>\n",
       "      <td>-0.044020</td>\n",
       "      <td>0.141664</td>\n",
       "      <td>0.096093</td>\n",
       "      <td>-0.030711</td>\n",
       "      <td>0.118261</td>\n",
       "      <td>0.210041</td>\n",
       "      <td>-0.280937</td>\n",
       "    </tr>\n",
       "    <tr>\n",
       "      <th>cp</th>\n",
       "      <td>-0.068653</td>\n",
       "      <td>-0.049353</td>\n",
       "      <td>1.000000</td>\n",
       "      <td>0.047608</td>\n",
       "      <td>-0.076904</td>\n",
       "      <td>0.094444</td>\n",
       "      <td>0.044421</td>\n",
       "      <td>0.295762</td>\n",
       "      <td>-0.394280</td>\n",
       "      <td>-0.149230</td>\n",
       "      <td>0.119717</td>\n",
       "      <td>-0.181053</td>\n",
       "      <td>-0.161736</td>\n",
       "      <td>0.433798</td>\n",
       "    </tr>\n",
       "    <tr>\n",
       "      <th>trestbps</th>\n",
       "      <td>0.279351</td>\n",
       "      <td>-0.056769</td>\n",
       "      <td>0.047608</td>\n",
       "      <td>1.000000</td>\n",
       "      <td>0.123174</td>\n",
       "      <td>0.177531</td>\n",
       "      <td>-0.114103</td>\n",
       "      <td>-0.046698</td>\n",
       "      <td>0.067616</td>\n",
       "      <td>0.193216</td>\n",
       "      <td>-0.121475</td>\n",
       "      <td>0.101389</td>\n",
       "      <td>0.062210</td>\n",
       "      <td>-0.144931</td>\n",
       "    </tr>\n",
       "    <tr>\n",
       "      <th>chol</th>\n",
       "      <td>0.213678</td>\n",
       "      <td>-0.197912</td>\n",
       "      <td>-0.076904</td>\n",
       "      <td>0.123174</td>\n",
       "      <td>1.000000</td>\n",
       "      <td>0.013294</td>\n",
       "      <td>-0.151040</td>\n",
       "      <td>-0.009940</td>\n",
       "      <td>0.067023</td>\n",
       "      <td>0.053952</td>\n",
       "      <td>-0.004038</td>\n",
       "      <td>0.070511</td>\n",
       "      <td>0.098803</td>\n",
       "      <td>-0.085239</td>\n",
       "    </tr>\n",
       "    <tr>\n",
       "      <th>fbs</th>\n",
       "      <td>0.121308</td>\n",
       "      <td>0.045032</td>\n",
       "      <td>0.094444</td>\n",
       "      <td>0.177531</td>\n",
       "      <td>0.013294</td>\n",
       "      <td>1.000000</td>\n",
       "      <td>-0.084189</td>\n",
       "      <td>-0.008567</td>\n",
       "      <td>0.025665</td>\n",
       "      <td>0.005747</td>\n",
       "      <td>-0.059894</td>\n",
       "      <td>0.137979</td>\n",
       "      <td>-0.032019</td>\n",
       "      <td>-0.028046</td>\n",
       "    </tr>\n",
       "    <tr>\n",
       "      <th>restecg</th>\n",
       "      <td>-0.116211</td>\n",
       "      <td>-0.058196</td>\n",
       "      <td>0.044421</td>\n",
       "      <td>-0.114103</td>\n",
       "      <td>-0.151040</td>\n",
       "      <td>-0.084189</td>\n",
       "      <td>1.000000</td>\n",
       "      <td>0.044123</td>\n",
       "      <td>-0.070733</td>\n",
       "      <td>-0.058770</td>\n",
       "      <td>0.093045</td>\n",
       "      <td>-0.072042</td>\n",
       "      <td>-0.011981</td>\n",
       "      <td>0.137230</td>\n",
       "    </tr>\n",
       "    <tr>\n",
       "      <th>thalach</th>\n",
       "      <td>-0.398522</td>\n",
       "      <td>-0.044020</td>\n",
       "      <td>0.295762</td>\n",
       "      <td>-0.046698</td>\n",
       "      <td>-0.009940</td>\n",
       "      <td>-0.008567</td>\n",
       "      <td>0.044123</td>\n",
       "      <td>1.000000</td>\n",
       "      <td>-0.378812</td>\n",
       "      <td>-0.344187</td>\n",
       "      <td>0.386784</td>\n",
       "      <td>-0.213177</td>\n",
       "      <td>-0.096439</td>\n",
       "      <td>0.421741</td>\n",
       "    </tr>\n",
       "    <tr>\n",
       "      <th>exang</th>\n",
       "      <td>0.096801</td>\n",
       "      <td>0.141664</td>\n",
       "      <td>-0.394280</td>\n",
       "      <td>0.067616</td>\n",
       "      <td>0.067023</td>\n",
       "      <td>0.025665</td>\n",
       "      <td>-0.070733</td>\n",
       "      <td>-0.378812</td>\n",
       "      <td>1.000000</td>\n",
       "      <td>0.288223</td>\n",
       "      <td>-0.257748</td>\n",
       "      <td>0.115739</td>\n",
       "      <td>0.206754</td>\n",
       "      <td>-0.436757</td>\n",
       "    </tr>\n",
       "    <tr>\n",
       "      <th>oldpeak</th>\n",
       "      <td>0.210013</td>\n",
       "      <td>0.096093</td>\n",
       "      <td>-0.149230</td>\n",
       "      <td>0.193216</td>\n",
       "      <td>0.053952</td>\n",
       "      <td>0.005747</td>\n",
       "      <td>-0.058770</td>\n",
       "      <td>-0.344187</td>\n",
       "      <td>0.288223</td>\n",
       "      <td>1.000000</td>\n",
       "      <td>-0.577537</td>\n",
       "      <td>0.222682</td>\n",
       "      <td>0.210244</td>\n",
       "      <td>-0.430696</td>\n",
       "    </tr>\n",
       "    <tr>\n",
       "      <th>slope</th>\n",
       "      <td>-0.168814</td>\n",
       "      <td>-0.030711</td>\n",
       "      <td>0.119717</td>\n",
       "      <td>-0.121475</td>\n",
       "      <td>-0.004038</td>\n",
       "      <td>-0.059894</td>\n",
       "      <td>0.093045</td>\n",
       "      <td>0.386784</td>\n",
       "      <td>-0.257748</td>\n",
       "      <td>-0.577537</td>\n",
       "      <td>1.000000</td>\n",
       "      <td>-0.080155</td>\n",
       "      <td>-0.104764</td>\n",
       "      <td>0.345877</td>\n",
       "    </tr>\n",
       "    <tr>\n",
       "      <th>ca</th>\n",
       "      <td>0.276326</td>\n",
       "      <td>0.118261</td>\n",
       "      <td>-0.181053</td>\n",
       "      <td>0.101389</td>\n",
       "      <td>0.070511</td>\n",
       "      <td>0.137979</td>\n",
       "      <td>-0.072042</td>\n",
       "      <td>-0.213177</td>\n",
       "      <td>0.115739</td>\n",
       "      <td>0.222682</td>\n",
       "      <td>-0.080155</td>\n",
       "      <td>1.000000</td>\n",
       "      <td>0.151832</td>\n",
       "      <td>-0.391724</td>\n",
       "    </tr>\n",
       "    <tr>\n",
       "      <th>thal</th>\n",
       "      <td>0.068001</td>\n",
       "      <td>0.210041</td>\n",
       "      <td>-0.161736</td>\n",
       "      <td>0.062210</td>\n",
       "      <td>0.098803</td>\n",
       "      <td>-0.032019</td>\n",
       "      <td>-0.011981</td>\n",
       "      <td>-0.096439</td>\n",
       "      <td>0.206754</td>\n",
       "      <td>0.210244</td>\n",
       "      <td>-0.104764</td>\n",
       "      <td>0.151832</td>\n",
       "      <td>1.000000</td>\n",
       "      <td>-0.344029</td>\n",
       "    </tr>\n",
       "    <tr>\n",
       "      <th>target</th>\n",
       "      <td>-0.225439</td>\n",
       "      <td>-0.280937</td>\n",
       "      <td>0.433798</td>\n",
       "      <td>-0.144931</td>\n",
       "      <td>-0.085239</td>\n",
       "      <td>-0.028046</td>\n",
       "      <td>0.137230</td>\n",
       "      <td>0.421741</td>\n",
       "      <td>-0.436757</td>\n",
       "      <td>-0.430696</td>\n",
       "      <td>0.345877</td>\n",
       "      <td>-0.391724</td>\n",
       "      <td>-0.344029</td>\n",
       "      <td>1.000000</td>\n",
       "    </tr>\n",
       "  </tbody>\n",
       "</table>\n",
       "</div>"
      ],
      "text/plain": [
       "               age       sex        cp  trestbps      chol       fbs  \\\n",
       "age       1.000000 -0.098447 -0.068653  0.279351  0.213678  0.121308   \n",
       "sex      -0.098447  1.000000 -0.049353 -0.056769 -0.197912  0.045032   \n",
       "cp       -0.068653 -0.049353  1.000000  0.047608 -0.076904  0.094444   \n",
       "trestbps  0.279351 -0.056769  0.047608  1.000000  0.123174  0.177531   \n",
       "chol      0.213678 -0.197912 -0.076904  0.123174  1.000000  0.013294   \n",
       "fbs       0.121308  0.045032  0.094444  0.177531  0.013294  1.000000   \n",
       "restecg  -0.116211 -0.058196  0.044421 -0.114103 -0.151040 -0.084189   \n",
       "thalach  -0.398522 -0.044020  0.295762 -0.046698 -0.009940 -0.008567   \n",
       "exang     0.096801  0.141664 -0.394280  0.067616  0.067023  0.025665   \n",
       "oldpeak   0.210013  0.096093 -0.149230  0.193216  0.053952  0.005747   \n",
       "slope    -0.168814 -0.030711  0.119717 -0.121475 -0.004038 -0.059894   \n",
       "ca        0.276326  0.118261 -0.181053  0.101389  0.070511  0.137979   \n",
       "thal      0.068001  0.210041 -0.161736  0.062210  0.098803 -0.032019   \n",
       "target   -0.225439 -0.280937  0.433798 -0.144931 -0.085239 -0.028046   \n",
       "\n",
       "           restecg   thalach     exang   oldpeak     slope        ca  \\\n",
       "age      -0.116211 -0.398522  0.096801  0.210013 -0.168814  0.276326   \n",
       "sex      -0.058196 -0.044020  0.141664  0.096093 -0.030711  0.118261   \n",
       "cp        0.044421  0.295762 -0.394280 -0.149230  0.119717 -0.181053   \n",
       "trestbps -0.114103 -0.046698  0.067616  0.193216 -0.121475  0.101389   \n",
       "chol     -0.151040 -0.009940  0.067023  0.053952 -0.004038  0.070511   \n",
       "fbs      -0.084189 -0.008567  0.025665  0.005747 -0.059894  0.137979   \n",
       "restecg   1.000000  0.044123 -0.070733 -0.058770  0.093045 -0.072042   \n",
       "thalach   0.044123  1.000000 -0.378812 -0.344187  0.386784 -0.213177   \n",
       "exang    -0.070733 -0.378812  1.000000  0.288223 -0.257748  0.115739   \n",
       "oldpeak  -0.058770 -0.344187  0.288223  1.000000 -0.577537  0.222682   \n",
       "slope     0.093045  0.386784 -0.257748 -0.577537  1.000000 -0.080155   \n",
       "ca       -0.072042 -0.213177  0.115739  0.222682 -0.080155  1.000000   \n",
       "thal     -0.011981 -0.096439  0.206754  0.210244 -0.104764  0.151832   \n",
       "target    0.137230  0.421741 -0.436757 -0.430696  0.345877 -0.391724   \n",
       "\n",
       "              thal    target  \n",
       "age       0.068001 -0.225439  \n",
       "sex       0.210041 -0.280937  \n",
       "cp       -0.161736  0.433798  \n",
       "trestbps  0.062210 -0.144931  \n",
       "chol      0.098803 -0.085239  \n",
       "fbs      -0.032019 -0.028046  \n",
       "restecg  -0.011981  0.137230  \n",
       "thalach  -0.096439  0.421741  \n",
       "exang     0.206754 -0.436757  \n",
       "oldpeak   0.210244 -0.430696  \n",
       "slope    -0.104764  0.345877  \n",
       "ca        0.151832 -0.391724  \n",
       "thal      1.000000 -0.344029  \n",
       "target   -0.344029  1.000000  "
      ]
     },
     "execution_count": 21,
     "metadata": {},
     "output_type": "execute_result"
    }
   ],
   "source": [
    "# Make a correlation matrix\n",
    "df.corr()"
   ]
  },
  {
   "cell_type": "code",
   "execution_count": 22,
   "metadata": {},
   "outputs": [
    {
     "data": {
      "image/png": "iVBORw0KGgoAAAANSUhEUgAAA0AAAAJCCAYAAADp3Kf9AAAABHNCSVQICAgIfAhkiAAAAAlwSFlzAAALEgAACxIB0t1+/AAAADh0RVh0U29mdHdhcmUAbWF0cGxvdGxpYiB2ZXJzaW9uMy4xLjMsIGh0dHA6Ly9tYXRwbG90bGliLm9yZy+AADFEAAAgAElEQVR4nOzdd3hUVf7H8ffJJJNKMumVQELoRHrvICDY3R8Cuot1sSOurIquqIAiYkHWgrgq2ECKBQRF6SAttJBCDQQIpCeTXiBzf39MSJ0gBDID5vt6njwwc8+Z+czNOWfuuefORGmahhBCCCGEEEI0Bna2DiCEEEIIIYQQ1iITICGEEEIIIUSjIRMgIYQQQgghRKMhEyAhhBBCCCFEoyETICGEEEIIIUSjIRMgIYQQQgghRKMhEyAhhBBCCCGE1SmlPldKpSmlYuvYrpRSc5VSx5RSB5RSXa7G88oESAghhBBCCGELC4CbLrJ9JNCy/GcC8PHVeFKZAAkhhBBCCCGsTtO0zUDWRYrcDnypme0ADEqpwCt9XvsrfYBrnGbrAEIIIYQQolFQtg5wKZxDx1nt+Lj49OJHMK/cXDBf07T5l/EQwcDpKreTyu9LvpJcf/UJEM6h42wdoV6KTi0CYMnxX22cpH7uDjevZn5xZI2Nk9TPA61G0H3JVlvHqLeou/sxePUfto5RbxtG9WX8pk22jlEvXw4cCMBPJ3+xcZL6ub3ZSACMpattnKR+DPpRAEzYutG2Qeppfr9BDP3l+u2760b2ZUvKKlvHqLf+ATfTY+n1OfbvGt0PgEk71ts4Sf3M6TUEgP2ZP9s4Sf108r7F1hGuSeWTncuZ8NRkaVJ5xRM4uQROCCGEEEIIcS1KAppWuR0CnL3SB/3LrwAJIYQQQgghzJS6rtY/VgBPKqUWAz2BHE3TrujyN5AJkBBCCCGEEMIGlFKLgEGAj1IqCXgFcADQNG0esBoYBRwDCoEHrsbzygRICCGEEEKIRkJdQ5+A0TTtoh/W1zRNA5642s977ewBIYQQQgghhGhgsgIkhBBCCCFEI3GdfQaoQcgeEEIIIYQQQjQasgIkhBBCCCFEIyErQLICJIQQQgghhGhEZAVICCGEEEKIRkIpZesINicrQEIIIYQQQohGQ1aAhBBCCCGEaDRk/UP2gBBCCCGEEKLRkAmQEEIIIYQQotGQS+AsmDf7EUYO7Ux6Zi7dhj1nscw7r93HiMGdKCwqZcKzH7M/NhGAYQM78var49Hp7FiweANvf7TCisnNNE1j9bzvORIVj4OjA3c9ey9BEU1rlduxYjPbf9xEVnIGLyx+HVcPt8uq35D5185fTsKeeBwc9dz89L0EWHh+Y0omP81eQHFeIf4tQrj1X/9A52DPzu/XEbdxNwCmMhOZSSlM/PoNnJu4WiV/7wADz3YKx04pfjqRysJDSdW23xTqy/g2IQAUnS/jzT0JHM0pAGBcqyDuCPNHA47lFDJt1xFKTZpVcl/Q3cfAk+3C0SlYdTqVRcfPVNt+Y5AvY8ODzfnLypgTm0BCXiEAz0VG0MvPE2PpOR7cst+quS8wxsZy8rvv0Ewm/Pr1I2jkyGrbi5KTOb5wIQWnTtH0jjsIHD4cgJKsLBI+/5xzubkopfAbMICAoUOtnl/TNFZ89D2Hog7i4OjA3ZPvIaRl7fb/x09b2PrDJjLPZvDK0hkV/Xfvut1sXLIOAEdnR+58ajRBLYKtlv3dN39g25aDODk58PKMcbRpV/fY8fYby/n5x11s3DWrXvWvtqyYWI4tWoKmmQjs34/QUTdV216YnMKhzxeQf+o0YXfeTtObhl9yXWvo7mPgibbh2ClYnZTK4hp9d2iQL2PDqvTduASOl/fdyZER9PI1992Ht9qm72qaxqK5PxCz8yB6Rz0PThlHs1Yhtcqt/34Lvy/bTPqZTN77aRpNDOa2/+ui9excuxeAsjITySdTee+nabi5W2fs7+Vv4NnO5WP/8VS+PFx97B8R6sv41pVj/6y9Vcb+lkHcXmXsnx5l3bE//UAcB79ZgmbSCBnYlxa3jKi2XdM0Dn6zhPToOHR6PZH/HI9H81Dyk1PY/9FnFeUK0zJoedcthI2w7tipaRoL3vuRfdsP4uik57H/jCW8de22M/fVrzl+KAmdTkdEu6b88/nR2NvriNocy5JPf0XZKXQ6O+57+nbadAy36muwJvkabFkBsuirpZu4ffybdW4fMbgTLZoH0GHAMzz5wqfMff0hAOzsFHNmPMDt982i89DJjL6tD21aWufAo6qjUfFknk1n0mf/4faJY1n5wVKL5ULbhXP/zMcx+HnVq35DOb4nnuyz6Tzyycvc9MQY1ny8xGK5jQt+ovvtg3hk/ss4ubkQ/ft2AHreNZQH5z7Pg3OfZ+B9t9C0Q4TVJj92Cp7r0oKnt8Rx95q9DA/1JczduVqZswXFPLLhAPf8to/P4k/zYrcIAHyd9YyJCGL82mjGrtmHnYLhob5WyV2RH3i6fTgvRMVx/+Z9DA3ypZlb9fzJhcVM2hHDw1v389Wx0zwbGVGx7dekNJ6Pirdq5qo0k4nEb7+l9cSJ3PDaa2RGRVF49my1MvaurjQbO5bAYcOq3a/s7Gg2ejQdp02j/ZQppG7YUKuuNRyKOkjGmXSe++Il/jZpDD/Mtdz/mrcP459vPoanv2e1+70CvHn07af41yfPM/Se4Syf8501YgOwbctBTp9MZ9mqF3nhlbt5a8ayOssejDtFXl5RvetfbZrJxNFvFhH5zFN0n/4qaTujKKjVdlyIuGcsTUcMu+y6Dc0OmNg+nCm743hwyz6GBFruu8/sjOGff+zn62On+VeHyr67JimNKbtt13cBYnYeJC0pgze+eZHxk0fz9buWf/8RHcJ49p3H8A6o3vZvGjeEVz6bzCufTeauf95M644trDb5saNy7B/z615GhPoS1qT22P/oxgPc+/s+Pjt4mildy8d+Jz1jWgZx39poxv22D52CYU2tN/ZrJhNxXy6m27NP0n/mVJJ3RJF3JrlamfQDcRSkpDHgrddo/8A9xC1cBIBbYAD9pr9Ev+kv0fe1Kegc9QR07WS17Bfs336IlKQM3l8yhX8+P5rPZi+3WK7/8K68t+h53v56MqUl51i/YicAkd1a8taXz/LWwmd59MUxfDLT8nGH+OuQCZAFf+w6RJYxv87ttwzvyrfLtwCwa98xPNxdCPAz0L1TBAmJKSSeSuPcuTKWrtzOLcO7WSt2hYM7Yuk0tDtKKZq2bU5RfhF5WTm1ygVFhODp713v+g3l6I4YOgzpgVKK4DZhlBQUkV/j+TVN4+SBo7Tpax5oI4f24OiOmFqPdXDTXtoN6GqV3ADtvZpwOr+YMwUlnDdp/H4qnYFB1ffxgcw88s6VARCTmYufs75im72dwlFnh06Bk05HelGp1bIDtDE04WxhMclFJZzXNNYnp9PXv/oEOc6YR/55c/747Dx8nCrzH8jOJffceatmrir/xAmc/Pxw8vXFzt4er+7dyY6OrlbGwd0dt+bNUTpdtfv1BgOuzZoBoHNywikwkHNGo9WyXxC/LYYuw8z9r1nb5hQVFJGbWbv/BUeE4BVQu/82bx+GSxMXAELbNicnw3p9d/OGWEbeZs4e2bE5eXlFZKTXfv6yMhNz31nJU/+6tV71G0Lu8RM4+/nhXN52/Hp0I3Nf9bajd3fHPax227mUug2tjaEJZwoq++6G5HT61Di5FV+17xrz8K3Sd2Ns3HcB9m+NpfeIbiilaNG+OYX5RRgzc2uVC20Vgk+gl4VHqLRr3V56DO3cUFFrae/VhKT8Ys4WmPf/b6fTGRBcvX/GVBn7YzNz8XOp3P86VX3szyi23thvPJ6Iq78vLn7m9hvYsxtpe6u337S90QT37YVSCs+IcM4XFlJsrN43M+IO4eLrg7NP7XGpoUVtiWXATV1RStGqQzMK8ovIzqjddjr3aYtSCqUUEe1CyUozj/FOLo4VXw1dUlQKf/GviVbKzmo/1yqbJlNK/aiU2qOUilNKTSi/7yGl1BGl1Eal1KdKqQ/K7/dVSi1XSkWV//S1Ve6gAC+SkjMrbp9JySIowIugAE+Szla5PzmT4BpnZ60hN9OIh4+h4raHjwe5l3EQdKX1r1ReZg5Nqjx/E28DeTUOAItyC3B0c8au/EDEUplzxaUc33uQ1n06Nnzocr7OelILSypupxaV4FtlglPT7eEBbEvJBiC9qJSvD59h5c3d+eXWnhScO8/OVOsegPs46Umr8sabXlSKj6NjneVHNfVnV7r1Jwl1KTUa0XtVHhjpDQbOZWdf9uOUZGRQeOoUrmFhVzPeJcnJzMHgWzluGHwM5FiYAF2KqF930Lp726sV7U+lp+XgH1DZd/38DaSn1c6+dNEWBgxqj4+vR73qN4RSoxFHr8r97ujpScklToCvpO7V4uOkJ71q3y0uxcep7r478hrruwDGjFy8/Cp//56+Boz1mACXFJcSu+sQXQbecDXjXVTNsT+t8OJj/21hAWxPLh/7i81j/4pburP61p7kW3nsL8424lSl/Tp5eVKcbaxdxrt6mZIaZZJ37iaoV/eGDVuH7PQcvP0r2463rwdZF2k758+XsfnXPXTs1abivl2bYnhm7Ju8Ofl/PPbimAbNK2zP1lOzBzVN6wp0AyYqpYKBl4FewDCgTZWy7wPvaZrWHfgb8D9LD6iUmqCU2q2U2j1//vwGCa2ofWZA0zSLf1hKs+7HN8qf1MJ9l3M240rrX7HaAWo//Z+XORYVS3DbMKtd/gZYaBmWdydAV18Pbgvz54MDiQA0cdAxIMiL21dHMXLlLpzsdYy08iVwlvNbfgWdvDwY1dSf+YcSGzTTZbHU4S6z7ZYVF3Nk3jyajRmDvbPzn1e42iy9BIu/mYs7tv8oUb/uYNTDt/554atEszjgVc+enpbDut+iGX1P/3rVbzBXMlbbYpy/BJb3p7nvjgzx59PDidYN9Ccs5q3Hrz96WxwRHcKsdvkb1DHM1NEuKsb+mETAPPYPDPbijlVRjFq5C2d7HTdZc+y3sN8v9w9lms6fJ23fAQJ6dLlaqS7L5Q79n81eTttO4bTtVPk5nx4DI3lv8QtMfvMBvvv01wZIee1Q2Fnt51pl6y9BmKiUurP8/02BfwCbNE3LAlBKLQValW+/EWhXpVO6K6WaaJqWV/UBNU2bD1yY+WhPz9hw1UOfSckkJLByiTc4wIvk1Gz0DvaEVLncKTjQm7Npl3/2uT52rtzC7l/Nn4EJbhVKTkblmZmcjBzcvd0v+bHcfQxXVL8+9qzaTPQac/7AlqHkVXn+vEwjbl7VzxQ7u7tRkl+EqawMO53OYpn4zda9/A0gragUf5fKs67+zo5kWLiMLcLDhf90j+DpzXHklJovO+nhb+BsQTHGEvPtDUmZ3ODjzi+n0q0THvOZSL8ql8X4OuvJLKmdP7yJC5MjW/DC7nibXzZTld7Tk9KsrIrbpUYjDgbDRWpUZzp/nqPz5uHTsydeXaz3Rr5txRZ2rja3/6atQzGmV44bxgzjZfe/5ONnWfbeYh56/RFcG/ggcOmirfy03Jy9XYdQUlMq+25aqhFfv+rZDx9KIulUBv938+sAFBef42+jXmf56pfw8zf8af2Govc0UJJVud9LsrNxvMS2cyV1r5aM4tJql7T5OtXdd5+NbMGUqGuj767/YStbft4BQPPWTSsuSQLITjdi8PGoq2qdotbto6cVL38DSCusPvb7uThWW5G7IMLDhZe6RTBpi4Wxv/z2hjOZ3ODtzq9WGvudvDwprtJ+i7OycTRU3+9OngaKM2uU8axs4+kH4nBvFoqjh3X6K8Ca5VtZV/4ZnhZtmpJZZdUsMz0HzzraztLP1pBrzOfZ5++3uL1d5xZ8NGMxucZ83Mu/YEP89dhsaqaUGoR5UtNb07SOwD7g8EWq2JWX7VT+E1xz8mMtq37fyz1/M5+97NE5gty8QlLSjOyOTiAiLIBmTX1xcNAx+tberPp9j1Uy9by1P098+BxPfPgcbXtHsn9dFJqmcfpgIk6uTjTxuvQ3kTa9OlxR/froevOAii8uaNnrBmLX70LTNM4cOoGji1OtyY1SitAbWnLoD/O3FcWs20XLnpEV24sLijgde4yWvSKxpvisPELdnAlydcTeTjEs1JfNZ7OqlfF3ceStPm15ZecRTuUXV9yfUlhCpHcTHHXmbtnd34MTuYVWzX8oJ49gV2cCnB2xV4ohgb5sS62e389Jz7QubZgZfZSkguI6Hsk23Jo3pzgtjeKMDEznz5MVFYVnx0u7BFLTNE58+SXOgYG1viChofW5rT/PzHuOZ+Y9R/s+kez93dz/Th5MxNnVGXfvS+9/2WnZfDntc8Y+93d8Q/waMLXZ6HH9+HrZv/l62b8ZMKQDv6wwZ4+JTsTNzbnWZW79BrTnl43T+HHNVH5cMxUnJweWr34JgP6D2/9p/YbiHtacotQ0itLNbSdt1268O11a27mSuldLzb47ONCXbWm1++6rncv7buG10XeH3Nmv4osLOvePZPua3WiaRkJcIs6uThguc/JfmF/E4egEOvXr0ECJLYvPzqOpmzNBLub9P7ypL1tqjv3Ojszq05ZXdtUe+zt4VRn7/TxIzLPe2O8R1oyC1DQKy9tv8s7d+HWufvmgX+cbOPPHDjRNI/vYceydnXGqMklK3hFFUC/rfuZ5xN/68dZC8xcXdB/Qgc2/7kHTNI7EnsTF1QlPn9ptZ92KHRzYeZinp/0DO7vKQ+CUpIyKFcjjh5M4f+48TTyst4JobfIZINuuAHkA2ZqmFSql2mC+7O1TYKBSyhPIw3yp24VPtv8GPAnMBlBKddI0rUG+q3Phf5+if++2+Hg24djOD5j+7jIcHMy76n9fr+XX9fsYMbgTcVvmUFhUwiOTPwHMH+x95uUFrPxqCjqdHQu/28jBI0kXe6oG0ap7O45ExfPeg9NxcNJz1zP3VGz78uV53DFpHO7eHmz/aRNbl64jPzuPDx+fRavu7bhj0riL1reGFt3acXx3HJ9MmIaDo55RT99bsW3Jq/MY+dQ4mnh7MPj+2/jprQVs/noV/uEh3DC8V0W5I9sPENa5DfqLXAPfEMo0eGtvAnMHdECnYMWJVI7nFnJXiwAAvk9I4eF2TfFwdOD5Li0AOK9p3Lc2mrisfNYlZfL1sE6UaRqHswv44XiKVfObNJgbd5y3erTHDvglKY3E/CJuDTXnX3kqhfEtQ3HXOzCpQ3jFa370D/MHZv/TqRWdvDzw0NuzZHA3Fhw9xeqkNKvlVzodzceN4/CcOWgmE759++ISFETqpk0A+A8cSGlODrGvv05ZcTFKKZLXruWG116jKCmJjB07cA4OJmbaNACa3nknhkjrTqLb9GjHoV0HmXX/DPSOekZPHlex7bOXPuH//jUWD28Ptv6wiU1L15OXlce7j7xFmx7tGP2vsaz9eg2FuQX88F/zt8fZ6XQ8/eGzVsnet387tm0+yN9GvY6Tk56XZ4yt2Dbpsfm89NoYfP3qntBcrH5DUzodEfeOJea999FMJgL69cU1OIizG81tJ2iQue3smf4GZUXFoBRJa9fRffqr2Ds7W6xrTSYN/ht/nFnd22OnzH33ZH4RtzQ1992fT6fwjwhz3326fWXffXybue++1LEVHcv77uLB3Vh49BS/WLHvAkT2akvMjoO8eM8b6B0deOCFyrY/57n53P/cGAw+Hqxdtpk1izeQk5XHqw++TWSvttz/nPkzG/u2xNC+e2scna0/9s/eZx777RSsvDD2h5eP/cfLx3595dhfZtK4b13l2P/VjeVjv9G6Y7+dTke7f4wlavZ/0UwmQgb0oUlIEKfWbwYgdMgAfDt2IP1ALJv+PRWdo54bHh5f+dpLSsmIPUT7+++t6ykaXOc+bdm3/SBPj56J3smBx16qHDtmPvspj7xwN16+Hvxv9nJ8/T35z4S5gPmyt/97cDg7Nxxg86+70dnr0OsdmDT9H5d9GaC4vqi6rhFu8CdWyhH4EQjGvPLjC7yK+ZK3ycBZ4CCQpWnaS0opH+BDoC3midtmTdMe/ZOn0ZxDx/1JkWtT0SnzV0wuOX59Xod6d7j5b2B8cWSNjZPUzwOtRtB9yVZbx6i3qLv7MXj1H7aOUW8bRvVlfPmk5Xrz5cCBAPx08hcbJ6mf25uZ/26SsXS1jZPUj0E/CoAJWzfaNkg9ze83iKG/XL99d93IvmxJWWXrGPXWP+Bmeiy9Psf+XaP7ATBpx3obJ6mfOb2GALA/82cbJ6mfTt63gNU+tHhlvFtNtNrBf+aRudfkPrHZCpCmaSXAyJr3K6V2a5o2XyllD/yAeeUHTdMyAPlaDiGEEEIIIUS92fpLECx5VSl1I+CEefLzo43zCCGEEEII8ZdwLX82x1quuQmQpmmTbZ1BCCGEEEII8dd0zU2AhBBCCCGEEA2jPn9b7q9G1sCEEEIIIYQQjYasAAkhhBBCCNFIyGeAZAVICCGEEEII0YjIBEgIIYQQQgjRaMglcEIIIYQQQjQScgmcrAAJIYQQQgghGhFZARJCCCGEEKKRkBUgWQESQgghhBBCNCKyAiSEEEIIIUSjIesfStM0W2doSH/pFyeEEEIIIa4ZytYBLkVAuylWOz5OiZ95Te4TWQESQgghhBCikZDPADWCCdCS47/aOkK93B1+EwDOoeNsnKR+ik4tAmDewd9snKR+Hm07nPmH1tg6Rr1NaDOCqPRVto5Rb919b+a5XettHaNe3uoxBOC6bT8T2owA4KP467PvPt5uOABjN2y2cZL6WTx4ABO2brR1jHqb328Q78ddn20H4On2w7l/8yZbx6iXBQMGAjD0lz9snKR+1o3sC8DRnJ9tnKR+WnrcYusI4jL85SdAQgghhBBCCDNZAZJPQQkhhBBCCCEaEVkBEkIIIYQQopFQsv4he0AIIYQQQgjReMgKkBBCCCGEEI2EfAZIVoCEEEIIIYQQjYisAAkhhBBCCNFIKHVN/m1Sq5IVICGEEEIIIUSjIRMgIYQQQgghRKMhl8AJIYQQQgjRSMiXIMgKkBBCCCGEEKIRkRUgIYQQQgghGgn5Q6iyAiSEEEIIIYRoRGQFqA6aprF63vcciYrHwdGBu569l6CIprXK7Vixme0/biIrOYMXFr+Oq4fbZdVvCPNmP8LIoZ1Jz8yl27DnLJZ557X7GDG4E4VFpUx49mP2xyYCMGxgR95+dTw6nR0LFm/g7Y9WWCVzVZqmsfF/yzmxJw4HRz3DJ/4d/xa1911Oagar315AcX4hfuEh3DRpPDoHe07HHGXFzPl4+HkDENG7I73GjLRq/g2fLufEnnjsHfXc9PS9deTP5OfZlflHPfMPdA7mLnk65igbPvse0/kynN1dGfPG01bN/9X7P7B/+0EcnfRMeHEcYa1DapX76LWvOX7oNPb2OsLbhvLgc6Oxt9ddcv2GknogjpivloBJI3RQX1rdOqLadk3TiPlqCWnRcegc9XSeMB5D81AAfnvmJeydnFB2diidHYOmTbFa7qr5rtf2o2kamz5bTuKeOOwd9Qx/6u/41dF3f3mnMvuIp8dXZAdIOXqSJS+8w8hnH6Bln85WyQ6QGxdL0pLFaCYT3n37E3BT9XGjOCWZkwsXUHT6FIG33YH/8Bpty2Ti8MwZOBgMtHhiotVyX5AVE8uxRUvQNBOB/fsROuqmatsLk1M49PkC8k+dJuzO22l60/BLrmsNmqax9bPlnNxrbj9Dn/w7vhbaT25qBr+9u4CS/EJ8wkK4sbz9nNh1gJ2LVqGUwk5nR78H/0Zg2xZWy58dG0vi4u/QTCb8+/cjeGT19lOUnMyxBQspOHWK0DvuIGiEef+XZGVx7PPPOZeTC0rhP2AAgTcOtVpugO4+Bp5oG46dgtVJqSw+fqba9qFBvowNCza/jrIy5sQlcDyvEIDJkRH08vXEWHqOh7fut2ruCzRNY/47P7J7m/l9Z9LUsUS0qf2+M/vlrzl2MAmdvY5W7Zvy5BTz+1ZBfhFvT/2W9JRsTGUm7vz7IIbd2sMGr8Q65DNAsgJUp6NR8WSeTWfSZ//h9oljWfnBUovlQtuFc//MxzH4edWrfkP4aukmbh//Zp3bRwzuRIvmAXQY8AxPvvApc19/CAA7O8WcGQ9w+32z6Dx0MqNv60OblsHWil0hcU88xuQ0Hvh4Kjc+Ppb1876zWG7LwhV0uW0wD3w8FUc3F2LXbq/YFtyuBX+f8wJ/n/OCVSc/ACf2xJOdnM6D815m2BNjWPvxEovlNi/8ia63DeKheS/j5OZCTHn+4vxC1s5bwh0v/ZP7P3iRW5970Jrxid5xkJTTGbyz+EUe+vdoFry9zGK5PsO7MPvbF5j55b8pLTnHxpU7Lqt+Q9BMJg4sXEzvfz/JkFlTObM9itwzydXKpEXHUZCaxtC3X6Pjg/cQ/cWiatv7vvgMg19/ySaTH7i+20/i3niMZ9O476OpDH1sLOs/sdx3//hyBZ1vHcz9H03F0dWFuHWVfddUZuKPL38itFNba8UGzG3n9KJvafHk07R9ZRrZUbsoOnu2WhmdiyshY8bid+Nwi4+Rvn4tTgGB1ohbi2YycfSbRUQ+8xTdp79K2s4oCmrkt3d1IeKesTQdMeyy61rDqb3x5CSnce+HUxn06Fg2zbfcfrZ/tYKOtw7m3g/NY//B8vYTEtmaMe++wJh3X2DwE/ey4aNvrZZdM5k48e23tH16Ip2mvUbGrigKa+1/V8LGjiVoePX9r+zsaDZ6NJ2mTyPyxSmkbNhQq25DsgMmtg9nyu44HtyyjyGBvjRzc65WJrmwmGd2xvDPP/bz9bHT/KtDRMW2NUlpTNkdb7W8luzedoizpzOYv3wKT04ZzUezllssN+imrsxb+jwfLppMack5fvtxJwCrlv5BaJg/H3w7mZnzHuez91dw7tx5a74EYWUyAarDwR2xdBraHaUUTds2pyi/iLysnFrlgiJC8PT3rnf9hvDHrkNkGfPr3H7L8K58u3wLALv2HcPD3YUAPwPdO0WQkJhC4qk0zp0rY+nK7dwyvJtVMleVsCuGtoN6oJQisHUYJQVF5NfYd5qmcTrmCC37dAKg3eCeJOw8YPWsljn7KbMAACAASURBVCTsiqHdYHP+oIvkP3XgKK36mvO3H9KDYztiADi0eQ8te3fE3dc8qXYxNLFq/j1bYul3UzeUUkR0aE5BfhHZGbm1ynXq3Q6lFEopWrQLJSst57LqN4TshERc/X1x9fPFzt6e4F7dSNkTXa1M8t5omvbrhVIKr4hwzhUWUmy0Tt+8FNdz+zm+K4a2g6v33YLL7LvRqzcR0bsTLuWr6dZSmHgCRz9fHH3Nbceze3dyDlQ/m+3g7o5r8zCUTlerfml2FjkxMXj37WetyNXkHj+Bs58fzuX5/Xp0I3Nf9bavd3fHPax5rfyXUtcaTuyKoXX52B/QOozSOtrPmZgjtOhtbj9tBvfkxC5z+3Fwdqz4A4/nS0oB6/2xx/wTJ3Dy9cOpfB/6dO9O9v7q+9DB3R23sNr7X28w4NasGQA6JyecAwMpNRqtFZ02hiacKSgmuaiE85rGhuR0+tQ4qRtvzCP/fFnF/32d9BXbYrJzybXxZGHn5liGjOqKUoo2kc0oyCsiy8L7Tve+bSvet1q1CyUjrXw/K0VRYQmaplFUWEITdxd0ur/uIbJSdlb7uVbZPJlSylUptUopFa2UilVKjVFKdVVKbVJK7VFKrVFKBSql7JVSUUqpQeX1ZiqlXm+oXLmZRjx8DBW3PXw8yM249IOkK63fkIICvEhKzqy4fSYli6AAL4ICPEk6W+X+5EyC/T2tni8/y0gTn8rndfM21DoALM4rwNHVGbvyN5ImNcokHz7BV5Nm8sO0j8g4VX0FoKHlZ+bQpMrvvomPgfzM6vmL8gpwqpK/6mvMPptGcX4h3700l6/+9RZx63dZLzyQnZGLt19lfi8/A9kXabvnz5exdc1ubujVpl71r6bibCPOXpVtx9nLk+Js45+WKcoyl1Eots+ay8aX3yBx/RarZK7pem4/+ZlG3Lwvr++6+RgoKH99+ZlGEnYcIHKE9ScRpdlG9J6VB316gyfnsi/9IPTMku8Ivuv/wEZv+KVGI45V2rWjpycll3gQfSV1r6aCLCNuVcZ+V29DrQlQcV4B+irtx9W7sv0AHN8RzbdPTWfV6/MY8uS91gnOhX1Ypf14GigxZl/24xRnZFBw+hRuYWFXM95F+TjpSS8urbidXlyKj5NjneVHNvVnV7r128fFZKbl4ONfOW56+3mQmXbx960Nv+yhS2/z+9Yto/tyOjGV8aNe48l73mbCv+7Azs7mh8iiAV0LnwG6CTiradrNAEopD+AX4HZN09KVUmOA1zVNe1ApdT+wTCk1sbxez5oPppSaAEwA+OSTTzDcGFq/VJqF+9RlnE260voNSFk4K6ZpWsWZs+r3WyPRnz9pzWTaRYL5tQjhofnT0Ds7cmJ3HCtnfsoDH0+9yiHrZilbrV17kTKmMhNpCacZPf1JzpWeY9Fz7xHYujlewX4NkLY2i/kvUn7BO8to0zGcNh3D61X/arLYLmru/IsU6Td1Ms6eBkpyctk2ay5uQQH4tGl59YNexPXdfizt3BolLP6OzP9s+mw5fcffhp1Nzrz+efa65ByIxr6JOy7NmpF3+PDVjXWprmSstsU4b8HF2kaVQhctE96rI+G9OnI27hi7Fv3Mba8+dVUz1sniuHd5I19ZcTFHPp5H8zFjsHd2/vMKDaiu99hOXh6MDPFnUvmK87Xicg+5Ppq1nPadw+nQ2fy+tXfHYcJbBvPGR4+RnJTJy09+QvtO4bi4OTVMYBuTb4G7NiZAMcDbSqlZwM9ANtAB+L38gFwHJANomhanlPoKWAn01jSttOaDaZo2H5h/4eaS479ecpCdK7ew+1fztcTBrULJyag8w5GTkYO7t/slP5a7j+GK6jekMymZhARWXrYXHOBFcmo2egd7QoKq3B/ozdm0yz+DVR/7V28m9rdtAPi3DCUvo/J58zONuHp5VCvv7O5GSUERprIy7HQ68jKNuJWXcXSpfOMI69ae9Z8soSg3H2f3hrukZt+qzcT8bm47ARGh5FX53edlWM5fXCV/fqYRV09zGTdvA87urjg4OeLg5EhI+xakJ55p0APY35dvZUP5Z3jC2zYlM60yf1aaEYOPh8V633++hjxjAQ++PrriPi9fj0uuf7WZV3Mq205RVjZOhurP7eRlqF3G03zm0Ln8X0cPdwK7dcKYkGiVCdD13H6iV28m9vfyvhsRSn5m9b7r5nnxvptf5fWlJZzil3cWAFCcl0/innjsdHa06NmxQbJXpff0pDQ7q+J2qTEbB4PhIjUqFSQkkHNgP7mxMZjOn6OsqJjEz/9H8wcfbqi4teg9DZRUadcl2dk4XmL+K6l7pWJ+2Ux8efvxiwglv8rYX1ClXV/g5O5GaZX2U2Dh/QEgqH0EOf/NaPCx/wK9pyclWVXaT7YR/WXsQ9P58xz+eB4+PXvi3aVLQ0SsU0ZxabVL2nyd9GSW1Dq8IryJC89GtmBKVLzNL3kD+HnpVtaUf4anZbumZKRWjpuZaTl4+Vp+3/n20zXkZufz5JT7K+5b+3MU/zd+iPnS46Y++Ad5cfpkGq3b1/Mkurjm2XwCpGnaEaVUV2AUMBP4HYjTNK13HVUiASPgf7Wz9Ly1Pz1v7Q/A4V1x7Fy5hciBXUg6dBInVyeaWBhk69KmV4crqt+QVv2+l0fvG86SFdvo0TmC3LxCUtKMpGfmEhEWQLOmvpxNyWL0rb25f+IHVsnUadQAOo0aAMDx3bFEr95M6/5dSTmSiN7VqWJyc4FSiqaRLTm6bT+t+3clfsNOWvSIBKAgOxcXQxOUUqQcSUTTNJyauDZo/s43D6DzzRfyx7Fv1Wba9O9C8pFEHOvIHxrZkiN/7KfNgK7Erd9FRE9z/oiekayfvwxTWRll58tIPnKSrrcNatD8w/7Wj2F/M192tG9bPL8v30rvGzuTEHcSFzcnPH1qT943rNxBzK7DTHn/0WqXCnTp1+GS6jcEQ3gzClLSKEjLwNnLwJkdu+n6ePUvAQjocgMnft9IcK9uZCecwMHFGSeDB+eLzdd/Ozg7cb64hLSYg7S+c5RVcl/P7afjqAF0LO+7J8r7bqt+5r7r6OJU6+BUKUVIh+p9N7y87z7wyWsV5X6b+xVh3TpYZfID4NKsOSVpaZRkpONg8CQ7KormD13aBCbozrsIuvMuAPIOHyZt7RqrTn4A3MOaU5SaRlF6Bo6eBtJ27abthIcavO6Vihw5gMiR5vaTuDuW2F82E9GvK6lHEtHX0X6CO7QkYft+WvbryqENOwnrbm4/OcnpuAf4oJQiPeE0pvNlDT72X+DWvDnFaWkUp2eg9zSQERVFy4cvrQ1omkbCwi9xDgys9QUJ1nAoJ49gV2cCnB3JKC5lcKAvr0dXX8n0c9Lzauc2zIw+SlJhsdUzWnLL6H7cMtr8vhW1NZ6fl/7BgOGdORx7Chc3J7wsvO+s+XEHe3cc5vUPH6v2vuXrbyA66igdOoeTnZlH0qk0AoK9atX/y7iGP5tjLTafACmlgoAsTdO+VkrlY758zVcp1VvTtO1KKQegVfnqz12ANzAA+Fkp1UPTtAa5ELVV93YciYrnvQen4+Ck565n7qnY9uXL87hj0jjcvT3Y/tMmti5dR352Hh8+PotW3dtxx6RxF63f0Bb+9yn6926Lj2cTju38gOnvLsOh/Ctm//f1Wn5dv48RgzsRt2UOhUUlPDL5EwDKykw88/ICVn41BZ3OjoXfbeTgkSSr5b4grGt7EvfE88Wj07B3dGD4xL9XbPth2scMe/Ie3Lw86Df+dla/8wV/fPMzfuEhtB9mnjMf3baP6F+3Yqezw16vZ9Tk+y1e3tdw+dtxfHccnz06DQdHPSOeqrwO/ftp8xj+xDjcvD3of99trHp7AX98swq/8BA6DOsFgHfTAJp3bsvCiW+i7OyIHNYLn2ZBVsvfqXdborcf5Nkxb6B3cmDCi+Mqts2ePJ+HXxiDp48HX7y9DB9/T159ZC4A3QdGcucDIy5av6HZ6XTcMH4s22f/F81kInRAH9xDgjixbjMAYUMH4N+xA6n7Y1k7eSo6vZ7O/xwPQEluLrvmmPuCZjIR3Ls7/je0t1r2C67n9tO8vO8ufMzcd4c9Vdl3f5z+MTc+Udl3f3nnC7Z/+zO+YSG0v7Gu813Wo3Q6QsbcQ8LcOWgmDe8+fXEOCiZj80YAfAYM4lxODodnzqCsuNh8kL1+LW1fmYbOxpcrgTl/xL1jiXnvfTSTiYB+fXENDuLsxk0ABA0aSGlODnumv0FZUTEoRdLadXSf/ir2zs4W61pbs67tObU3nm8eN7efIU9Wtp+fZ3zM4MfvwdXLg17/uJ3f3/2CneXtp215+0nYvp/Dm3Zhp9Nhr3dg+LMPWG3sVzodYfeM4+CcOWiaCb++fXEJDiKlfP8HlO//mBmvU1Zs3v/Ja9fScdprFCYlkbFjBy7BwUS/Ng2A0LvuxDMy0irZTRr8N/44s7q3x07BL0lpnMwv4pamAQD8fDqFf0SE4q534On25kvGyjR4fJv5Sx5e6tiKjl4eeOjtWTy4GwuPnuKXpDSrZL+gW9+27N52kH/eNRNHJwcmvTy2Ytsrkz5l4kt34+3rwYezluMX4Mnkh8zvW30GRzLu4eGMfWgYc6Yt5olxs9E0eODJW/AwWPeLWIR1qYt9lsIqAZQaAcwGTMA54DHgPDAX8MA8SZsD/ABsA4Zqmna6/HNAXTVNu+8iD39Zl8BdS+4ON/8NBudQ6x08Xk1Fp8xfLTzv4G82TlI/j7YdzvxDa2wdo94mtBlBVPoqW8eot+6+N/PcrvW2jlEvb/UYAnDdtp8Jbcx/2+aj+Ouz7z7ezvwV1WM3bLZxkvpZPHgAE7ZutHWMepvfbxDvx12fbQfg6fbDuX/zJlvHqJcFAwYCMPSXP2ycpH7WjewLwNGcn22cpH5aetwC1vzqwSvQouscqx38J+yZdE3uE5uvAGmatgawdKQwwMJ9rarUm9tgoYQQQgghhBB/STafAAkhhBBCCCGsw5ofC7hWyaeghBBCCCGEEI2GTICEEEIIIYQQVqeUukkpdVgpdUwp9YKF7R5KqZVKqWilVJxS6oGr8bxyCZwQQgghhBCNxLXyh1CVUjrgQ2AYkAREKaVWaJoWX6XYE0C8pmm3KqV8gcNKqW8s/S3Qy3Ft7AEhhBBCCCFEY9IDOKZp2vHyCc1i4PYaZTSgiTJ/cMkNyML8bdFXRFaAhBBCCCGEaCSUFf8QqlJqAua/8XnBfE3T5pf/Pxg4XWVbEtCzxkN8AKwAzgJNgDGappmuNJdMgIQQQgghhBBXXflkZ34dmy19HV3Nv1E0AtgPDAFaAL8rpbZompZ7JbnkEjghhBBCCCEaC6Ws93NxSUDTKrdDMK/0VPUA8L1mdgw4AbS50l0gEyAhhBBCCCGEtUUBLZVSYUopPTAW8+VuVZ0ChgIopfyB1sDxK31iuQROCCGEEEKIxuIaWf7QNO28UupJYA2gAz7XNC1OKfVo+fZ5wHRggVIqBvMlc89rmpZxpc8tEyAhhBBCCCGE1WmathpYXeO+eVX+fxYYfrWfVyZAQgghhBBCNBZ//tmcv7xrZBFMCCGEEEIIIRqe0rSa3zb3l/KXfnFCCCGEEOKacV0srbTqM89qx8dHtj16Te4TWQESQgghhBBCNBp/+c8AfXFkja0j1MsDrUYAMO/gbzZOUj+PtjV/Xs05dJyNk9RP0alFPLdrva1j1NtbPYaw8Oj12fYB7ms5gglbN9o6Rr3M7zcIgOej1tk2SD3N6j4UgK6Lttg4Sf3sGdcfAGPp6j8peW0y6Eex9sz1mR3gxuBRjN+0ydYx6u3LgQPZnrbK1jHqpbffzQBsSr4+28/AwFEANJt9fb73nvz3EFtHuHSy/CG7QAghhBBCCNF4/OVXgIQQQgghhBBmmnwLnKwACSGEEEIIIRoPmQAJIYQQQgghGg25BE4IIYQQQojGQq6AkxUgIYQQQgghROMhK0BCCCGEEEI0FnayBCQrQEIIIYQQQohGQ1aAhBBCCCGEaCzka7BlBUgIIYQQQgjReMgKkBBCCCGEEI2FLADJCpAQQgghhBCi8ZAVICGEEEIIIRoL+RY4mQDVRdM01s5fTsKeeBwc9dz89L0ERDStVc6YkslPsxdQnFeIf4sQbv3XP9A52LPz+3XEbdwNgKnMRGZSChO/fgPnJq5Wyb7xf8s5sScOB0c9wyf+Hf8WtbPnpGaw+u0FFOcX4hcewk2TxqNzsOd0zFFWzJyPh583ABG9O9JrzMgGz33BvNmPMHJoZ9Izc+k27DmLZd557T5GDO5EYVEpE579mP2xiQAMG9iRt18dj05nx4LFG3j7oxVWy31B6oE4Yr5aAiaN0EF9aXXriGrbNU0j5qslpEXHoXPU03nCeAzNQwH47ZmXsHdyQtnZoXR2DJo2xer5NU3j9/nLSdgdj72jnlsn1d32f3xrAUV5hQREhHBbedsvLihixdtfkpuejclkouedQ+g4rJfV8mfFxHJs0RI0zURg/36Ejrqp2nZN00hY9B2ZMbHo9HpaP3g/TZqZ93/S7+tI3rwV0Agc0I+QYTdaLfcFqdFxxHy1FM2k0WxQH1rdZqn9LCV1fxw6Rwe6TBiPISy0crvJxMaX38TJ00DvyY9bNXvvQE8mdwlHpxQ/JqSw4GBSte0Dg7147IbmmDSNMpPGO3uPsz8j95LqWoOmabz75g9s23IQJycHXp4xjjbtarf9GVMXczDuNGgaTZv7MnXGPbi4OJKbU8iMqYs5czoDvaMD/5k2lhYtA62af+kHPxC38yB6Jwf+8dw4QlvVzr/xhy1sWL6ZjLMZzPphOm4ebgAc2X+MT17+DO8ALwA69b+BUeNH1KrfUIyxsZz87js0kwm/fv0IGln9facoOZnjCxdScOoUTe+4g8DhwwEoycoi4fPPOZebi1IKvwEDCBg61Gq5L9A0jW/e/4EDOw6id9Tz8IvjaN46pFa5tcu38NvSzaSdyeS/K6fRxGDe/4X5RXwy/RuyUrMpKzMxcuxg+t/cw6r5v/vvD8TsMLef+18YRzML7Wf991tYt2wz6WczeOfH6RX5AQ7vO8Z3H/xAWVkZbh5u/Pv9J62SfWBzL14Z2hKdUiw+kMzHu05aLHdDQBN+vLcbT66MZfWRdBx1diwZ1wW9TmFvp1h9JJ33/jhhlczCtmQCVIfje+LJPpvOI5+8zNnDiaz5eAn3vfNsrXIbF/xE99sH0W5AV3798Duif99Ol1H96XnXUHreZR6Aj+6KIeqnjVaZ/AAk7onHmJzGAx9PJeVIIuvnfce42ZNrlduycAVdbhtM6/5dWfvxYmLXbqfjyP4ABLdrwR3/edQqeWv6aukm5i1cw//es3zwNmJwJ1o0D6DDgGfo0TmCua8/xIDbX8bOTjFnxgPcfO8bnEnOZOvK1/n59z0cOnrGatk1k4kDCxfT5/mJOHt5smnqmwR0uQH34MqDoLToOApS0xj69mtkJ5wg+otFDHzt+YrtfV98BscmbpYe3ioSdseTdTadR+eb2/6vHy3h/ndrt/315W2//cCu/PLBd+z/fTtdR/Vnz6ot+IQGcPcrj1CQk8cnj7xOh0Hd0Dk0/HCjmUwc/WYRNzw7CUdPT/ZOn4l3pxtwDQqqKJMVE0thaho93phO3vETHP3qG7r8ZwoFSWdI3ryVLv+Zgp29jgPvzcXrhkhc/P0bPHfV/NELv6PvCxNx9jKwceosArpWbz+p0XHkp6Rx4zuvkp2QSPSCxQx8rfJEQcKvG2gSFMC5omKr5QbzCcUXurbg8Q2xpBaV8NXwTmw6k8WJ3MKKMrtSjWz6ZS8AEQYXZvVty99W7bmkutawbctBTp9MZ9mqF4k9cJK3Zizj82+fqVVu0nN34ObmBMCct35k6bdbuO/hG1nwv7W0ahPEW+8/SOLxVGa/sZwP/2e9SWjczoOkn0nn1a9eJPHgSRbPWcZzH9XO36JDGJG92zPnmQ9qbYuIDOexN/5pjbjVaCYTid9+S5tnnkHv6UncG29g6NgRlyp9197VlWZjx5K9b1+1usrOjmajR+ParBllxcXEzpiBe9u21epaw4EdB0lNymDWohdJiD/Jl+8sY+r8SbXKtYwMo2Of9rw58cNq96/7/g+Cm/vzzKyHyc3OZ8q9M+k9vAv2Vhg7AWJ3HiQ1KZ0Z37zIifiTfPPeMl78uHb7iYgM44be7XlnUvX2U5hXxLdzljHxrUfw9vckNzvPKrntFEwf1pp7l+wjJa+EFf/oxtqEdI5mFtYqN2VABJsTMyvuKykzMe67fRSeK8PeTrFsXBc2Hs9kX3KuVbLbjHwLnHwGqC5Hd8TQYUgPlFIEtwmjpKCI/KycamU0TePkgaO06dsJgMihPTi6I6bWYx3ctJd2A7paJTdAwq4Y2g4yZw9sXXf20zFHaNnHnL3d4J4k7DxgtYwX88euQ2QZ8+vcfsvwrny7fAsAu/Ydw8PdhQA/A907RZCQmELiqTTOnStj6crt3DK8m7ViA5CdkIirvy+ufr7Y2dsT3KsbKXuiq5VJ3htN0369UErhFRHOucJCio05dTyi9R3ZGUNklbZffJG237ZfZds/st3c9hVQWlSCpmmcKyrFuYkLdjrrDDW5x0/g7OeHs695//v16Ebmvur7P3N/NAF9zPvfvUU45wuLKDHmUJicgnuLMHSOepROh6F1KzL27rdK7guyExJx8/fF1c8HO3t7Qnp1rdV+UvYcILRfz/L2E8a5gkKKs82/n6LMbFL2x9JsUF+r5gZo79WE0/nFnCko5rxJ47dT6QwK8apWpui8qeL/zjodmnbpda1h84ZYRt7WHaUUkR2bk5dXREZ67b55YfKjaRolJedQ5QcTJxJS6NazFQDNw/1JPpNFZoZ1DgIBDmyLpecwc/6wds0pyi8iJ7N2/qYtQypWea4V+SdO4OTnh1N53/Xq3p3s6Opt38HdHbfmzVE6XbX79QYDrs2aAaBzcsIpMJBzRqPVsl+wb2ssfW/qhlKKiPbNKcwvwphR+0C6WasQfANr73+loLjQPHaWFJXg6m69sRNg/x+x9B5hbj/h7c3tx2ih/YS2DMHHQv5d6/bQuf8NePt7AuDu2aTBMwN0CnQnMbuQ0znFnDNprDyUxrAI31rl7u8Swi9H08goPFft/sJzZQDY2ykcdHZoVkktbO2anQAppcYrpQ4opaKVUl8ppRYopeYppbYopY4opW5pyOfPy8yhiY+h4nYTbwN5NQaCotwCHN2csSsfjC2VOVdcyvG9B2ndp2NDxq0mP8tIEx/Pittu3oZaB7DFeQU4ulbPXrVM8uETfDVpJj9M+4iMU8nWCX6JggK8SEquPINzJiWLoAAvggI8STpb5f7kTIL9PS09RIMpzjbi7FX5nM5enhRnG/+0TFGWuYxCsX3WXDa+/AaJ67dYJ3QN+Zk5uF9C23eq0n7cfSrLdL1lABmnU5g7/mU+fXImwyb8DWVnnaGm1GjEscq+dfT0pKTGgVBJthFHL68qZQyUGrNxCQ4i58hRzuXnU1ZSSuaBGEqysqyS+4KiGm3DycuTouyc2mW8a5Yxv8aYr5fRYdydNjm75+fiSGphScXt1MJSfJ0da5UbHOLN8pu78v7A9ry288hl1W1o6Wk5+AdUtn0/fwPpaZZPTkz7zyJGDppK4ok07r7HvHLesnUwG9eaTyTFxZwkJTmbtFTrHYjnZORg8KvMb/A1YMy4vJMrJ+ITeePh2Xz4wiecPWG9sb/UaERfpV/qDQbOZWdf9uOUZGRQeOoUrmFhVzPeJclOz8Wryv739DWQfRn7f+jf+nH2ZCqT7niV/9w/m3sm3omdlcZOAGN6Dp6+1fMbLZwAqEvq6XQK8wt5++kPmDHhHbaviWqImLUEuDmSnFc5fiTnlRDgVn388HfTM6KlL1/vr31FiJ2C1fd1Z+8T/diSmMX+v/rqD5jPVFrr5xp1TV4Cp5RqD7wE9NU0LUMp5QW8CzQHBgItgA1KqQhN04pr1J0ATAD45JNPcBjUrJ4pap8DqH1M8edljkXFEtw2zGqXvwFUnFatomZ0zUKZC/xahPDQ/GnonR05sTuOlTM/5YGPp17lkPWnLPQoTdMqzsJWv98aiarnqKVmrosU6Td1Ms6eBkpyctk2ay5uQQH4tGl59YNehOXXUKPMRdr+8b0H8Q8P4d43niI7OYNFL39I0/bhOLo4N0DaGi7l922xUShcgwJpOnIEB96Zg87REbemTWudaW5w9cyvlCJlXwyO7m4YwkJJjz9y9bP9CUvvc5ZezoakTDYkZdLZ153HbmjG4xtiL7luQ7M8Llp+B586YxxlZSbemfk9v/+6j1vv7Mn4h4by7ps/8Pf/m02LloG0ahOMzt56B7CW8lsaF+vStGUI0xZNxcnZkdgd8cyf+jmvfvXS1YxYt0sZO/9EWXExR+bNo9mYMdg7W2G8qcHy/r/0+rE7DxMaEczz7z9O2pkMZv/rE1p3DMfZ1ekqpqyb5XH90l9AWZmJk4eT+Ne7j1Faco5ZT7xPeLtm+Df1u5oxL0nN1/LKkFa8uSkBk4VmZtJg1MIo3B3tmX9HJK18XDmSUWClpMJWrskJEDAEWKZpWgaApmlZ5Z1wiaZpJuCoUuo40Aaodo2KpmnzgfkXbn5xZM0lP+meVZuJXrMdgMCWoeRlVJ65y8s04ublUa28s7sbJflFmMrKsNPpLJaJ32ydy9/2r95M7G/bAPBvGUpeRuWZs/xMI66WshdYzl71QDWsW3vWf7KEotx8nN1t97mUqs6kZBIS6F1xOzjAi+TUbPQO9oQEVbk/0JuzaZd/BvFKmFdzKp+zKCsbJ0P1fe/kZahdxtN81s25/F9HD3cCu3XCmJBolQnQ7p83s7+87Qe1DCW3RttvUqP9uLi7UVyl/eRmVLafA2t30vv/hpkv0QryxeDvTebpNIJa1/dkxKXTexooqbJvS7KzcTQYqpVx2xuAZAAAIABJREFU9PKstrJTkm1EX14msH8/Avv3A+D48h9w9LTuCqJzjbZRnJWNs2eNvuvlSVFm9TJOBg/O7NpL8t4YUqLjMJ07z/miInZ/9AXdHn/AKtlTC0vwd6k86+rvoiejqKTO8vvScwlxc8agt7/sulfT0kVb+Wm5ue236xBKakpl209LNeLr515nXZ3OjhtHdOLrBRu49c6euLk5MXXGOMB8MHznTdMJCvaus/7VsOnHrfyxypy/WetQjGmV+Y3pRjy8685fU9UD7Q692vHd+8vIz8mv+JKEhqT39KS0Sr8sNRpxqNF3L8Z0/v/Zu+/wqKr0gePfk0kmlfReSQJKL9IlhKKAooCusjTFsor6sysgiKLg2sBdsawirkpRURbErgjSkRJqSAidAIH0QnogmfP7Y4Z0WiSTYN7P8+RJZu65M+/cvOfce+6590wpB+fMwbtHDzyvu64+QqzVym82sPaHzQCEtwohq9L2z07Pwd3L7Xyr1rD+563cctcNKKXwC/bBJ8CT5GOpRLSpv7Zz9bINrP/RnD/NW4WSnV41fjfvS88fDx83XNycsXe0x97RnpYdIzlx+FS9d4BS8ksIaFbRfgQ0syc1/0yVMh38mvHe0LYAeDra0T/cy3y57aGM8jK5JaVsOpFNv3DPv34HSGaBa7SXwClqPwFY/bkrepKwyy3R3P/uc9z/7nO07NmBuFVb0Vpzct9R7J0canRulFKEdmjJvo3mPtie37fSskf78uXFBUWciDtEy57tqW+dhkRz1+zJ3DV7MpE9OpCwxhx78v6jGJ1rjz2kfUsO/mGOfe/qLUR2N8dZkJ1bfiYr5UAiWmscrDmCdRE/rdjBmDvMl5x079yC3LxCUtJy2Lb7MC3C/QkL8cHOzsCIob34acV2q8bmHhFGQUoaBWkZmEpLObl5G/7XdahSxv+6DpzYsBmtNVmHjmDn5IiDuxulxSXlN66XFpeQtieBZiHWuYm3663RPPDeczzw3nNc06sDey4h98PatyRhQ0XuX2PJc1cfDxJ37wcgPzuXzKQ03P3r9yDwHNfw5hSlplGUbt7+aVu34dWp6uWnXh07kvKHefvnHj6CrZMj9pZO6plc86UPxZlZZOzYiW+PblaJ+xz3iDDyK+VP0ubtteRPe45v2GLJn6PYOjni4OFG25G3cdN7rzF49j/p+uj9eLe51mqdH4C9WXmENHMg0NkeWxvFoFAf1iZVvYQw2KXiALuVhzN2NoqcM6WXtG59GTE6is+XTOTzJROJHtCOX76PMc+0tzsRFxdHvH2q5r7WmhPH08v/Xr82nrBw8wFeXm4RZ8+WAvDd0s106hJZfr9Qfel7WxTPfzyR5z+eSMeodmxZYY7/6N5EHJ0dcbuMA/DTWRVtf2LCMbTWOLtap+13ad6c4rQ0ijPMuZ8VE4NHx0u7dFxrzdEFC3AMCCBg4MB6jrSqG/8WxSufTeCVzyZwXZ/2bPx1G1prDsUn4ujigPtldCC8/DzYu908ens6K4/k42n4BNZv29n/9iimfTKRaZ9MpFNUOzYtN+fPkXhz/lxOB65TVHsO7TlCWWkZJcVnOLr3GAGh9T+JzO7kPMI9nAhxc8DORjG0lS8rKnVsAKI+3kTUXPPPzwfSeXHlfn47lIGnox2u9uaxAHtbG6LCPDmUad3JV0TDaKwjQL8Dy5RSb2utMy2XwAGMUErNB8KBCGB/fQUQ2bUNR7bF89H4GdjZGxny5NjyZYtfnsPNj4+mmZcb/e8dxncz57Hu85/wiwimw6CK6X4PbIolvHMrjA7WvZY9vEtbErfv5bOHZ2Brb8egJ+4qX7ZsxocMfGwMLp5uRI0bzs//+oyNX/yIb0QwbQf2AuDgHzvZ/esGbAw22BqNDJlw72UNg/9Z8997nD69WuPt0YxDW97nlX8vwc4yC85/P1/Jr6t2Mrh/J+LXz6awqISHJnwEmIffn35xHj8snILBYMP8r9eQcMC6U+naGAx0GDeKTbPeQ5tMhEZfj2twIEd/XwdA+A3R+HVsR+quOFZOmIbBaKTzg+MAKMnNZets82fRJhNBvbrh16GtVeMHc+4f2hbPhw+ac//Wpypy/+uX5jDkCUvu3zeMb9+syP2OltyPGnUTP87+nI8ffR2tYcB9w3CywhlkAGUw0GLsKPa8/Q7aZMI/qjfOQYGcWrMWgMB+ffHs0I6sPXvYOuUFyzTY95SvH//BR5TmF6AMBlqOHY2ds3U7/jYGAx3uGckfM99Hm0yE9e1VM386tSN1dzwrnn0JW6ORzuPvtmqM51OmYea2w7zfrx0GpfjuSCpHcgu5o4U/AEsPpXBDiDe3hPtSatKUlJmYsnHfBde1tt592vDHugTuGPIqDg5GXvznqPJlTz0yl6nTR+Ll3YwZU7+kIL8EjablNYFMenEEAIlHUnl56hcYbGwIj/Rj6vRR53uretG2RxvityTw8l2vYnQwctekivf/z+S5jJ0wEndvN1Z/s46VX60iNyuP1x6YRdserRk7YRQ71+5m/fcbMRgM2Nnbcf8L46zW9iuDgeajR7N/9my0yYRP7944BQaSutZcd/369uXM6dPEvfoqZcXFKKVIXrmSDtOnU5SURMbmzTgGBbFnxgwAQm6/Hff29X/ysbKOvVoTuzmBSaNew97Bjn9MGV2+7N8T53LfcyPx8HZjxZJ1/Pzlak5n5fHivW/RoWdr7p88kmH3DuS/ry3ihXtmojX8/eFbq0wxXd/a92xD3JYEpo59FaO9kXufq8ifd5+by7iJ5vz5fek6li8y58+Mf8yifY/WjJs0ioAwP9p2b8WMf8xCKUXULT0Jiqj/aeDLtGbaygMsuLMTBhvF4j2nOJhZwNiO5hOIX+w+dd51fV2M/PvmNtjYKGyAH/ensepI5nnL/2XIABDqQveCNCSl1D3ARKAMODfnZTbQFfADntFa/3iRl7msS+Aak/uuMX/3wpyE3xo4krp5uLX5+xkcQ0dfpGTjVHR8EZO2rmroMOpsZvcBzD94deY+wD0tBzN+w5qGDqNO5kb1A+C5mN8bNpA6erObefr+LosaZhKOP2v7aPPocM6Znxs4krpxNw5h5cmrM3aAG4OGMM7SabkaLejbl01pPzV0GHXSy/cWANYmX5350zdgCABhs67Ofe+xiQPgKulatLz5U6sd/B/85f5GuU0a6wgQWuv5wPxzj5VS84CNWuuak9ILIYQQQgghxCVotB0gIYQQQgghxJWl5YtQr54OkNb63oaOQQghhBBCCHF1u2o6QEIIIYQQQog/SabBbrTTYAshhBBCCCHEFScjQEIIIYQQQjQVMgAkI0BCCCGEEEKIpkNGgIQQQgghhGgqZBY4GQESQgghhBBCNB0yAiSEEEIIIURTIbPAyQiQEEIIIYQQoumQESAhhBBCCCGaChkAkhEgIYQQQgghRNMhI0BCCCGEEEI0FTILHEpr3dAx1Ke/9IcTQgghhBCNxlXRs2jxt4VWOz4+9M3djXKb/OVHgLot3tDQIdRJzN+jAJi7b3kDR1I341sNBmDS1lUNHEndzOw+AMfQ0Q0dRp0VHV/EuLVrGzqMOlvQty9DV6xv6DDq5IeBfQBYlvhLA0dSN7c3vxmAD/b+1sCR1M3/tRkEwFObr862Z3bPAQxefnXutwCWD47iu2NXZ+4DDA+7mQc2rGnoMOrkv1H9AHhmy9WZ+//uMQCA307+3MCR1M2goCENHcKlkxEguQdICCGEEEII0XRIB0gIIYQQQgjRZPzlL4ETQgghhBBCWMjwh2wCIYQQQgghRNMhI0BCCCGEEEI0FTIJgowACSGEEEIIIZoOGQESQgghhBCiqZABIBkBEkIIIYQQQjQdMgIkhBBCCCFEE6FtZAhIRoCEEEIIIYQQTYaMAAkhhBBCCNFUyCxwMgIkhBBCCCGEaDpkBEgIIYQQQoimQgaAZARICCGEEEII0XTICNB59PJ359lOEdgoxXdHU5m/L6nK8ptCfRjXKhiAotIy3th+mIOnCwAYfU0gt4X7oYFDpwuZsfUAZ0zaarFrrVn98VKObt+Lrb2Rm54ci19kSI1yp1Mz+XHWPIrzC/GNCGbI03djsDOnxIk9B1n9yTeYSstwdHVm5GtPWi3+1Nh49ixcDCZNaL/eXDN0cJXlWmv2LFxM2u54DPZGOo8fh3vzUAB+e3oqtg4OKBsblMGGfjOmWC3uc+bMeoibb+hMemYuXQdOqrXMv6bfw+D+nSgsOsP4Zz9kV1wiAAP7duStl8dhMNgw76vVvPXB91aM3CwnLo5jX3+NNpnwjYoi8OabqywvSk7myPz5FBw/TshttxEwaBAAJVlZHP70U87m5qKUwjc6Gv8bbrB6/Nd5efDgtea6u+JkCksSq9bdYCdHnmx7DZGuLiw8lMiyYyfLlw0PDWRQkD8aSMwv4J34A5y1Yt0Fc37/8OE37N+agJ2DHSOeHUNQy5r194/v1rNx2VoykzN4cfE/cXZzASDteCpL/v0lJw8lMfieW4geMcCqsa/9ZCmJ2+OxtTcy6PG78K217cngl39VtD2DnxyHwc6WpLiD/PD6XFx9vQBo0bMjPUbeXGP9+pIeG0/CF4vRJk1w395E3lqz7Un4YjHpu+MxGI20f3Acbs1DyU9OYdcHn5SXK0zLoOXfbiV8sHXzv6u3Ow+3isCgFL8kpbL4aNXcD3F25Jl2LWnh6sL8g8dYkliR+7eFBnJzsB9KwS9JqSw7dsqqsYN5+37/wTfsi0nAzt6Ov08YQ3Atub/xu/VsWLaWzFMZvPS/itzf8fs21iz+HQB7R3tuf3wEgZFBVos/a08cRxYtRmsT/n2iCBlyU5XlhckpHPh0HvnHT9D89uEE3zToktetb2mx8ez93Jz7IX1706KW/e7ezyv2ux0tuQ9wtqCQ2E8/Jy/pFKDo+MDdeLSMsGr8WmuWvr+M+C0JGB3suGvSaEKuqZk7a5etZ83SdWScyuD1Za/gYsmdc47tO86/HpvNfS+Oo3PfTtYK3/pkFrgLjwAppdyVUv93Jd5IKXWvUiqw0uNEpZT3lXjtK81GwaTrInlyfTx/X76DQaE+hLs6VilzqqCYh1bHMua3nXyy9wTPd20BgI+jkZEtAhm3cjejlu/ERsGgUB+rxn90+16yk9O5f86LDHx0JCs/XFxruXXzv6PLsH78Y86LOLg4sWflJgCK8wtZOWcxt019kHvff56hk+63WuzaZCJ2/lf0mvgYA96cxslNMeSeTK5SJm13PAWpadzw1nQ63j+G3Z8tqrK89/NP0//VqQ3S+QFY+L+1DB/3xnmXD+7ficjm/rSLfprHJn/Mu6/+AwAbG8Xsf97H8HvepPMNExgx7HpatbTezhvM2z/xyy+59okn6DB9OpkxMRSeqnogZOvsTNioUQQMHFjleWVjQ9iIEXScMYO2U6aQunp1jXXrmw3wcKtIXt4Zz6N/bCfa34cQZ6cqZfLOljJ3/2GWVesYedobGRoaxNNbdvHYph0YUET7WbfuAuyPSSDjZDoTPpvK354cybfv/a/WcmFtw/nHG4/g7udR5XknVyeGPnIH0XdYr+NzTuKOveScSuOeD6ZxwyOjWPXR17WW27jgezoP7c+9H0zD3tmJ+N83lS8LbB3J2LcnM/btyVbt/GiTifgFX9H12cfo8/o0kjfHkFet7UmPjacgJY3omdNpe98Y4ueb2x6XAH+iXplK1CtT6T19CgZ7I/5drHvwZAM82jqSF7bH8+CGHfQP8CHUuep+K/dsKR8mHGHp0ZNVng9zceLmYD+e2Lybh//YSQ8fTwKdHKwYvdk+S+5P+mwqdzw1kmXv1p77zduG8+Abj+BRLfc9/b14+K3Heeaj57hhzCCWzq49/+qDNpk4/MUi2j79OF1eeZn0LTEU1Gg7nYgcM4rgwQMve936jj1+wVd0n/AYfd+Yxqnz5X5qGv1mTaf9fWOIm1ex343/fDE+7dvQ782XiX51Ki6B/laL/Zy9WxJIO5nOtIXPM+qZv/P17CW1lotoF85jbz2CZ7XcATCVmfhu7g+07tqqvsMVjcDFLoFzB2p0gJRShjq8171A4MUKNQZtPZtxIr+YkwUllJo0K46n0zfQq0qZ2Mw88s6WAbAnMxdfR2P5Mlsbhb3BBoMCB4OB9KIzVo3/8NY9tOnfHaUUgdeGU1JQRH7W6SpltNYcjz3INb3NO+m2A7pzaPMeAPat207LXh1x9fEEwMm9mdVizz6ciLOfD86+PtjY2hLUsysp23dXKZO8YzchUT1RSuHZIoKzhYUU55w+zyta38at+8jKyT/v8lsHdeHLpesB2LrzEG6uTvj7utOtUwsOJ6aQeDyNs2fL+N8Pm7h1UFdrhQ1A/tGjOPj64uBj3v6e3bqRvbvq9rdzdcWleXOUoWozYHR3xzksDACDgwMOAQGczcmxWuwALd2akVxYTGpRMaVasy4lnR6WPD7n9NmzHMzNp1TXHNmxUQqjjQ02CuwNNmSVWLfuAuzdtIfrbuyGUorQ1s0pKigiN7Nmfge1CMbT36vG8y7uzQi5NhQbW+tf4Xxk6x5aW9qeAEvbU1BL23NizwFaXm9ue9r078HhLbFWj7W6nCPmtsfJ0vYE9OhK2o6quZ+2YzdBvc1tj0eLCEpraXsy4vfh5OONo3fN/019utatGacKi0kpKqFUa9Ykp9PLt2oMp8+c5UAtuR/q7EjC6TxKTCZMGmKzTtPb17rxA+z9Yw/XDTTnflgdcr9523CcmplPeIS2bs7pDOvtF/KOmNtOR0vb6dO9K1k7q+aP0dWVZuE1285LWbc+5RxOxMm3IvcDe3YltVrup1bL/XP73bNFRWTtP0RI394A2NjaYlftpJM17Pkjju6W3Alv05yi/CJO15I7IS2D8fL3rOUVzKNDnaI74uLhUuvyvxSlrPfTSF1sD/kGEKmU2qWUilFKrVZKfQnsAVBK3aWU2mpZ/pFSymD5maeUilNK7VFKPa2UuhPoCnxhKXvutNREy/pblVItLK85Tyk1Rym1Xil1QCl1q+X5tpXeK1Yp1bJ+Nol5FCe1sKT8cWpRCT6VOjjVDY/w54+UbADSi87w+f6T/HBLN34Z2oOCs6VsSbXuQWB+5mmaebuXP27m7U5+tYagKK8AB2dHbCwNsYuXe3knKftUGsX5hXw99V0WPjOT+FVbrRZ7cXYOjp4VZ2YcPT0ozs65aJmiLHMZhWLTm++y5sXXSFy13jpBX6ZAf0+SkjPLH59MySLQ35NAfw+STlV6PjmToFrOUtWnMzk5GD0rdg5Gd3fOZmdf9uuUZGRQePw4zuHhVzK8i/KytyejpKLuZpacwcve/pLWzSo5w7LEJD7t050F0T0pKC1jZ5Z16y5AbsZp3H0q/u9u3u61HgQ2RvmZObh4VcReuV05pzivAPvKbY+3OwWVPl/K/qN88fTrfDvjAzKPVz0LXZ+Ks3NwqNSuOJyn7XHwqlqmpFqZ5C3bCOzZrX6DrYWXg5H04orczyguwdvh/PutyhLzC2nv4UYzO1vsbWzo5uOBj8Ol1Zsr6XRm1dx393av9SD2UsT8uplru7W+UqFdVElODvaV8sfo4UHJJZ4A+jPrXgnF2Tk4el0k97Oq7ncdPD0ozsqhMC0Do6sLsR8vYP0LrxL7yUJKK7XB1pKTcRoP34rjHncf98vqAOek5xC7YQ9RQ6+vj/DEBSilblJK7VdKHVJKTT5PmX6W4/94pdTaK/G+F7sHaDLQTmvdSSnVD/jJ8vioUqo1MBLorbU+q5T6ABgLxANBWut2lqDdtdY5SqnHgAla622W5wFytdbdlVLjgNnArZb3bQ70BSKB1ZbO0cPAO1rrL5RSRqDWUSil1HhgPMBHH30E7m0ue6PU1l89310AXXzcGBbux4OrzGcwm9kZiA70ZPjPMeSdKeON61txc6gPvxxPv+w46krXcma7Rif8AmVMZSbSDp9gxCuPcfbMWRZNepuAa5vjGeRbD9FWD6uWLV09+AsUiZo2AUcPd0pO5/LHm+/iEuiPd6t66yvXiaolw7TW5+pEteetEdFF3vAyz+CUFRdzYM4cwkaOxNbR8eIrXEGXU3erc7a1pYevFw9siKGgtJTJHVrRz9+HNSnWq7twnngb8Vm0qmrLn2olas0x8y+fiGDumzsDo6M9R7fH88MbH3PvB9OufJi1qbVNvLztbiotJW1nLNeOuO1KRXXJas39S0z+EwVFLD6axOtd21FcWsbRvALKrN74cJ70ufzcP7TrIDG/buaRt6137+olNzRXet0rorYA1MVLKNBlJnITT9D27pF4RIYT//liDv+wnGvvHFYvkZ7PJR07XMDS/3zLsPG3YmOQucGsyXJF2X+AgUASEKOU+l5rvbdSGXfgA+AmrfVxpdQVORi93EkQtmqtj1r+vgHoYgkWwBFIA34AIpRS72HuMP12gddbVOn325WeX6y1NgEHlVJHgFbAJmCqUioY+EZrfbC2F9RazwXmnnv48eINl/kRIa3oDH5OFWe//BztyajlMrYWbk680K0FT66L5/SZUgC6+7lzqqCYnBLz49VJmXTwdq33DtDOn9axZ4X5Onr/FqHkZVScvcnLyMHZ061KeUdXF4oLijCVlWFjMJCfmYOzh7mMi5c7jq7O2DnYY+dgT3DbSNITT1qlA2QezakYcSjKysbBvWrsDp7uNct4mM/8OFp+27u5EtC1EzmHExtdB+hkSibBARWXbwT5e5Kcmo3RzpbgSpdaBgV4cSrt8kdf/gyjhwdnsrLKH5/JycHO3f0Ca1RlKi3l4Jw5ePfoged119VHiBeUUVKCd6URHy97I1mXeDayk6c7qUXF5J49C8AfaZm0dne1Sgdo0/fr2fqLuf4GXxNKTnrF//10Rg6unq71HkNd7f55HXEr/gDAr0Uo+ZkVsedn5uDiUbPtKanc9lRqn+ydKjrM4V3asvqjxRTl5uPoWv+XpJjPaFfEXpyVjX31tsfDneLMamU8KupHemw8rmGh2LtZ//+VUXymyqiNt4M9mZdxCefyk6ksP5kKwH0tw6qMJtWnP75fz5afzbkfcm3V3M/JyMHV6/K2ZfKRUyx5+yv+8epDOLs6X9FYL8Tew52SSvlzJjsb+0tsO//MuleCg4cHRdXy2qF6va22362c+w6e7nhEmkf7A7p15tCPFzrsu3LWfbuBP34y507otaFkp1Uc9+Sk5+B2Gblz/MAJ5r2yAID80wXs3ZKAjcFAx6j2VzboxqLxnFPrDhzSWh8BUEp9BQwH9lYqMwbzcf9xAK112pV448vt6hZU+lsB87XWnSw/12qtX9ZaZwMdgTXAo8B/L/B6+hL+BtBa6y+BYUARsFwpVW93+O7NyiPUxZFAZ3tsbRQDQ31YdyqrShk/J3tmXt+al7Yc4Hh+cfnzKYUltPdqhr3lLEI3PzeO5hbWV6jlOt8SzbjZzzFu9nO06NmBvau3orXm1P6j2Ds74FKtA6SUIrR9Sw5s3AVA/KqttOhhrugterTn5N4jmMrKOFtyhuQDx/AK9qv3zwDgHhFGQUoaBWkZmEpLObl5G/7XdahSxv+6DpzYsBmtNVmHjmDn5IiDuxulxSWcLTL/L0qLS0jbk0CzkMZ329lPK3Yw5o4+AHTv3ILcvEJS0nLYtvswLcL9CQvxwc7OwIihvfhpxXarxubSvDnFaWkUZ5i3f1ZMDB4dO17Sulprji5YgGNAQI0JEqzlYG4egU4O+DnYY6sU0f4+bE3PuviKQHpxCa3cmmFvY667HT3dOVFQVJ/hlus1rA9PfjiJJz+cRNvr27NjZYz5Pr2ERBycHHH1crv4izSQjkOiyyctiOzRgQRL25O8/yj2Tg41Tr4opQhu15KDf5jbnr2rtxDR3dz2FGTnlp/JTTmQiNYah2bWOYh1Cw+jIDWNwnRz7idv2YZv56ptj2/nDpzcaG57sg8dwdbRscoJmuTNMQT2tO59e+fsz80jyMkRP0dz7vcL8GFz2qXlPoCb0Q4AHwd7evt6sSbZOiOf1w/rw9NzJvH0HEvurzDn/rGERBydLy/3s9OyWTDjU0ZNuguf4Po/YVdZs/DmFKemUWzJn/St2/DsdGlt559Z90pwi6ia+6c2b8PvYrlv2e86uLvh4OlBfnIKABnx+2lmpUkQom+LYvLHE5n88UQ6RLVjqyV3ju5NxMHZEbfLyJ3pX77I9EXTmL5oGp36duTvT97x1+38WJlSarxSaluln/GVFgcBJyo9TrI8V9k1gIdSao1SarvlqrE/7WIjQHnA+e6A/x34Tin1ttY6TSnlaSlbAJzRWi9VSh0G5l3gtUZivs9oJOYRnnNGKKXmA+FABLBfKRUBHNFav2v5uwOw6lI+5OUq0zBzx2HejW6HQcH3R1M5klvI3yLNlfqbwyk80CYEN3s7nrsuEoBSrbln5W7is/L5PSmTzwd2okxr9mcXsOxISn2EeV7hXdpwZFs8nzw8Azt7I4MfH1u+7JsZcxj06GhcvNzoc88wfnprHhu/+AnfiGDaDewJgFeIP807t2b+E2+gbGxoP7An3mHW6UjYGAx0GDeKTbPeQ5tMhEZfj2twIEd/X2f+bDdE49exHam74lg5YRoGo5HOD5rrQkluLltnfwSYZ7UJ6tUNvw5trRJ3ZfPfe5w+vVrj7dGMQ1ve55V/L8HOMr34fz9fya+rdjK4fyfi18+msKiEhyaYYy4rM/H0i/P4YeEUDAYb5n+9hoQDSRd6qytOGQw0Hz2a/bNno00mfHr3xikwkNS15ktu/fr25czp08S9+iplxcUopUheuZIO06dTlJRExubNOAYFsWfGDABCbr8d9/bW24mYNMzZf5jp17XDRilWnkrleEEhNwWb6+6vSSm4G+14u0dnnGwNmDQMCw3i//7YzoHcPDamZjC7Z2fKtOZIbj6/JlnvHpRzru3ehn0xCcy675/Y2RsZ8ezo8mWfvfCK8/WwAAAgAElEQVQRdzw9ClcvNzZ+u5a1/1tFflYesx+eybXd23Dn06PIy8rlvcf/RUmh+f+z4du1PDN3Cg7O9T+rV/MubUncvpf5j8zA1t6OgY/fVb7s21c+5MZHx+Di6UbUuOH88q/P2PTlj/iEB9P2xl4AHNq0k9hfN2BjsMHWaOTmZ++97MvQ6srGYKDN3aOIsbQ9wdHX0yw4kOOrzG1P6IBofDq2Iz02jrUTp2GwN9LhgYr9cFnJGTLi9tH23rHne4t6ZdLwn4TDvNalHTYKfjuZyrGCQm6x5P5PSSl4GO14r1cnnGwNaA23hQUyfsMOCsvKmNapFc3s7CjTmvcTDpNfWmb1z9Cqexv2bU3gzXv/idHeyIgJFbn/ydSPuPOZUbh5ubFhmTn387Ly+PdDM2nVvQ0jnhnFys+XU5hbwDLLzIk2BgNP/udZq8SuDAYix44i7u130CYTflG9cQ4KJHmNue0M6GduO3e+8hplRcWgFCdX/k6XV17G1tGx1nWtxcZgoN24UWyd+R5aV+T+MUvuhw2IxrdjO9J3x7Fmonm/Wzn32949kl0ffoaprAwnH286Pni31WIvj6FHG/ZuSWDGXa9i52Dkrkmjypd9OHkuYyaMxM3bjTXfrOP3r1aRm5XH6w/Mom2P1oyZMOoCr/wXZcVpsKtdmVXdpVy5bov5irMbMF9ttkkptVlrfeDPxKVqvW6ycgHzpAcdMI+8pGqtb620bCQwBfNI0lnMIz5FwGdUjC5N0Vr/opS6A3jNsrwXkGApN8RSdrTW+pBSah6QjXnSBD/gGa31j0qpKcBdlvdJAcZorS92ekt3q8MlcI1BzN+jAJi7b3kDR1I341uZv0Ng0tZ66aPWu5ndB+AYOvriBRupouOLGLf2itwn2CAW9O3L0BWNcxKLi/lhoHl0b1niLw0cSd3c3tw89fQHe61zGcuV9n9tzN+t8tTmq7Ptmd1zAIOXX537LYDlg6P47tjVmfsAw8Nu5oENaxo6jDr5b1Q/AJ7ZcnXm/r97mC/s+e3kzw0cSd0MChoCjenisguIvG+x1e48O/zZ38+7TZRSvYCXtdaDLY+nAGitX69UZjLgoLV+2fL4E+BXrXXt8+RfooveA6S1HnOBZV8DtU20X+Pif631UmBppaeaW35Pr2X9jVrrp6ut/zrwei1lhRBCCCGEEJei8XwRagzQUikVDpwERmG+56ey74D3lVK2gBHoQdV5A+rkcidBEEIIIYQQQog/RWtdapklejnm2Z0/1VrHK6Uetiyfo7VOUEr9CsQCJuC/Wuu4P/veja4DpLW+t6FjEEIIIYQQ4q9IN5oBINBa/wz8XO25OdUezwJmXcn3lQnPhRBCCCGEEE1GoxsBEkIIIYQQQtSTxnMPUIORESAhhBBCCCFEkyEjQEIIIYQQQjQVVvp+tcZMRoCEEEIIIYQQTYaMAAkhhBBCCNFUyD1AMgIkhBBCCCGEaDpkBEgIIYQQQoimQoY/ZBMIIYQQQgghmg7pAAkhhBBCCCGaDLkETgghhBBCiKZCpsFGaa0bOob69Jf+cEIIIYQQotG4KnoWEY8ts9rx8ZH3b2+U2+QvPwLU/+eNDR1Cnawe0huAmPSfGjiSuunmcwsA8w8ub+BI6uaeloMZt3ZtQ4dRZwv69sUxdHRDh1FnRccXMX3nyoYOo05e6nwjACtP/tzAkdTNjUFDAHhj94oGjqRuJnccCMBTm1c1cCR1M7vnACZsuTpjB3irxwBe23V15g7A850G8sSm1Q0dRp2826s/AOM3rGnYQOpoblQ/AL48/GvDBlJHYyJvaugQLp1Mgy33AAkhhBBCCCGajr/8CJAQQgghhBDCTMs9QDICJIQQQgghhGg6ZARICCGEEEKIpkKGP2QTCCGEEEIIIZoOGQESQgghhBCiqZBZ4GQESAghhBBCCNF0yAiQEEIIIYQQTYXMAicjQEIIIYQQQoimQ0aAhBBCCCGEaCrkHiAZARJCCCGEEEI0HTICJIQQQgghRFMhA0AyAiSEEEIIIYRoOqQDJIQQQgghhGgy5BK48+jm7c5jbSIwKPjpRCqLjpyssvzGQB9GRQQBUFRWxuy4wxzOKwRgUvsW9PT1IOfMWe5fv8vqsWutWfjOMnZtSsDewcj450cTfm1wjXIfTP+cI/tOYGtrIKJ1KPdPGoGtreGS16/P+FfMXcrhbXuxtTcy9Kmx+LcIqVEuJyWTb2fOoyivEP8WwQx75m4MdrYUFxTx/VsLyE3PxmQy0eP2AXQc2NNq8efExXHs66/RJhO+UVEE3nxzleVFyckcmT+fguPHCbntNgIGDQKgJCuLw59+ytncXJRS+EZH43/DDVaLG2DOrIe4+YbOpGfm0nXgpFrL/Gv6PQzu34nCojOMf/ZDdsUlAjCwb0feenkcBoMN875azVsffG/FyCuc2hXP9vlL0CYTkQN603b4oCrLtdZsn/8/Tu2Mx9beSM9H7sYzPBSAzXMWcnJHHA6uzbjlrRcaIny01vzv/WXEb0nA6GDH3ZNGE3pNzfxfs2w9q5euI+NUBm8uewUXNxcADuw6xEcvfoKXvycAnfp0YMi4wVaLfctnS0iybNuo/7sb74iaseelZbBm9meU5BfiFR5C9OPjMNjaknMyhQ0ffE7m0SSuG3Ur7YfdaJW4z0mPjSfhi8Vokya4b28ib6263bTWJHyxmPTd8RiMRto/OA635qHkJ6ew64NPyssVpmXQ8m+3Ej7YuvU3LTaeuM/N8Yf27U3LoTXjj/98Mam74zHYG+n04Djcm5tzf+UzU7F1cEDZ2KBsbIieMcWqsZ+Lb+u8JZy05E/vR+7G6zz5s+6divyJesycP5e6fn1Jj41n35eL0SYTwdG9ibj1pirLtdbs+2Ix6bFx5vx54B5cm4dSkJzC7g/+W16uMD2DFrcPpbkV8ydrTxyHFi1GaxMBfaIIHVI19sLkFPZ9Oo/84ycIv304ITcNuuR1rUFrza8ffcPBmL3Y2dtx2zNjCajluCE7JZOlb8ynKL+AgMgQbp9wFwY7W4ryCvl+9pdkJWdga7Rj+FOj8W0eaPXPYS1aJkFoHCNASql5Sqk7L6N8c6VUXH3FYwM82TaCyTHx3LtuJzcE+hDm4lilTHJhMU9t3sMDG3ax8NAJnm3fonzZr0lpPBezt77Cu6jdmxNIOZHBv756nn9MHMG8t5bUWu76Qdcx68vJvL5gImdKzrLmh82XtX59ObxtL1mn0nl47osMeWwkv36wuNZyq+Z9R7fh/Xjk4xdxcHZi14pNAGz/aT3eof488P5kxr7+OL9/8i1lZ0utErs2mUj88kuufeIJOkyfTmZMDIWnTlUpY+vsTNioUQQMHFjleWVjQ9iIEXScMYO2U6aQunp1jXXr28L/rWX4uDfOu3xw/05ENvenXfTTPDb5Y9599R8A2NgoZv/zPobf8yadb5jAiGHX06plkLXCLmcymdj26WL6T36UW/71Isc2buN0UnKVMqd2xZOXnM7Q2S/T/cExxPz3q/JlEX170n/Ko9YOu4r4LQmkn0zn5YXPM+aZv/PV7NrrX2S7cJ546xE8/TxqLGvRPoLnP57I8x9PtFrnByBp515yU9K5492XuH78aDZV2raVbfv8O9re0p87330Je2dHDq4y1117F2d63DeCdkMHWC3mc7TJRPyCr+j67GP0eX0ayZtjyDtZNXfSY+MpSEkjeuZ02t43hvj5iwBwCfAn6pWpRL0yld7Tp2CwN+LfpZPV49+z4Ct6THiM/m9M41Qt8afFxpOfmsaAWdPpeN8Y9sxbVGV5rylP0/efUxuk8wNwctde8lLSuf2dl+j14Gg2f1J7/mz/4jvaDOnP3955CWOl/LnU9euDNplIWLiILs88RtRrL5G8JYb8k1Xb74zYOApT0+jz5gza3juWvQu+BMA5wJ/rX3mB6195gV7Tn8dgNOJnxfzRJhMHv1hE+6cfp9srL5O2JYaCGvstJ1qMGUXI4IGXva41HNq2l6yT6Tz+3xcY+sQofnr/f7WWW/np9/S8vR+P//dFHFwc2fGb+bhn/eIV+EUE8cgHk7n92bv49aNvrBm+aACNogPU2LRyb8apwmKSi0oo1ZpVyen09vOsUiY+J4/80jIA9mbn4e1gLF8Wm51LrpUOuGuzfX0cUTd1RSlFi3bNKcgvIjsjt0a5Tr3aoJRCKUVkm1Cy0k5f1vr15cCWPbQf0B2lFEGtwikuKCI/63SVMlprjsUepHWUeSfR/obuHNi0BzDf23emqAStNWeLzuDYzAkbg3VSPf/oURx8fXHw8cHG1hbPbt3I3r27Shk7V1dcmjdHGQxVnje6u+McFgaAwcEBh4AAzubkWCXuczZu3UdWTv55l986qAtfLl0PwNadh3BzdcLf151unVpwODGFxONpnD1bxv9+2MStg7paK+xymYcScfH3wcXPG4OtLWHXdyFpW2yVMie3xRIe3QOlFN4twzlTWERRtjm/fFu3xOjsbPW4K4v9I44eA7uhlCK8TXOK8os4nXm6RrmQlsHlozyNxfFtsbSINtdd32vCOVNQRGF2zbqbHH+A5j07A9CiXw+OxZjriKNbM3xahGFTrW5YQ86RRJz9fHDyNdfdgB5dSdtRte6m7dhNUO+eKKXwaBFBaWEhxTlVP19G/D6cfLxx9PayZvhkH07E2dcHZ0v8gT27klIt/pQduwmpFP/ZWuJvSCdiYomw5I/PBfInJf4AYZb8iezbgxOW/LmU9evL6SOJOPn5VsqfbqTtrNr2pO2MJdCy/d1bRHC2sIiSats/c+8+nHytmz+5R47i6OuLo2W/5du9K5k7q+aO0dUV1/Ca+61LWdca9m2Oo8MN5nYzuFVziguKyKvluOFo7EHaRHUEoOON3dlvOW7IOJ5CRKdrAPAO8SMnNYv8bOsd91idjbLeTyPVIB0gpdQ4pVSsUmq3Umqh5elopdQfSqkj50aDlNkspVScUmqPUmqkNeLzdjCSVnym/HF60Rm87e3PW35IiB9b0617oHoh2Rm5ePm6lz/29HUnO+P8O4HS0jI2LN9Gh56t6rT+lZafeRpX74r3b+blTl61A8Ci3AIcnB3LD5RcvSvKdLk1mowTKbw77kU+fux1Bo6/A2VjnVQ/k5OD0bPioNTo7s7Z7OzLfp2SjAwKjx/HOTz8Sob3pwX6e5KUnFn++GRKFoH+ngT6e5B0qtLzyZkE1TIyUd+KsnJw9qp4XydPdwqzqtbNwqzTOHm5X7BMQzqdcRr3SvXP3cednMusf0f3JvLaA7P4z+SPOHU0+eIrXCGFWTk4e1dsf2evmtu2JK8Ao1NF3XXy9KAwq+EPwouzc3DwrIjdwdOD4uycmmW8qpYpqVYmecs2Ant2q99ga1GcnYOj10Xiz6r6GR09PSgu//8oNs98l3XTXuPY6vXWCLmGwuxq9fcS8se5Uv5cyvr1pTg7u2r+eLhTXK3tL6meYx7uNf5HKVu24W/l/DmTk4N9pbjsPTwoucSTb39m3SspLyMHN5+KdtPV2428jIsfN+RmmmP1Cw8kYaO5w3py/zFy0rLJteJxj7A+q98DpJRqC0wFemutM5RSnsC/gQAgCmgFfA8sAf4GdAI6At5AjFJq3UVefzwwHuCjjz6C4LaXH2Mtz2l0rWU7eboxJMSPJyxnERoDrWvGeqE++Lx/LaFVxwhadYyo0/pXWm3vXz2A2v4fylLmyI4E/CKCGfva42QnZ7Doxf8Q0jYCeyfHGutccbXGfnlbr6y4mANz5hA2ciS2jlaI+TKoWjJBa42q5TPWtikaQs3YasudxnOWqtb6dxnxhbQMZsaiaTg42hO3eS9zp33KywunXskQz6+2//klbP9G4U9udwBTaSlpO2O5dsRtVyqqy1Drxr/4apYiUS9OwMHDnZLcXDa/+S4uAf54tWp5RSO8mNqbz0vIH3U569eTWsOq+t4X27eZ82c3Le+0cv78mSrZSKszUKPtqb2GmMtE/X0gv85ZypzHZuIXFkBAZJDVrhxpEI1on9dQGmIShAHAEq11BoDWOsvSQH2rtTYBe5VSfpayUcAirXUZkKqUWgt0A2JreV0srzcXmHvu4aKfN152gOnFZ/CtdEmbj6ORzJIzNcpFNHNiQvtIJm/b26CXvAGsWLqB1ZZ7eCJah5CZVnEGJistB3dvt1rX++bT5eTlFHD/qyPKn/P0cbvk9a+UbT+uY9dy83XcgS1Dyc2oeP+8zByaeVZ9fydXF4oLijCVlWFjMJCbkYOLpUzsyi30unMgSik8A31w9/Mi80QagdeG1etnADB6eHAmK6v88ZmcHOzc3S+wRlWm0lIOzpmDd48eeF53XX2E+KecTMkkOKDi0owgf0+SU7Mx2tkSHFjp+QAvTqVd/sjXn+Xo6U5BZsX7Fmbl4OhRLXc83SnMzLlgGWtb++0GNv5kzv+wa0PJqVT/ctJzcPNyveTXcnR2KP+7Xc82fP3OEvJP55dPknClJfy6lgO//wGAd2QYBRkV278gMwenatvWvpkLZwor6m5hVjZOng27/cEyYpJVEXtxVjb27lXjcvBwpzizWhmPivqdHhuPa1go9m6X/v+6Uhw8PCiqFptDtW3v4Ole5TMWZWXjYIn/3G97V1f8u3Qi50iiVTpA+5ZXy5/K9TezZt2snj8FWdnlOeZcvf7Xsn59qZE/2TlVcuN8ZRwq7R8yYuMaJH+MHu6UVIqrJDsb+0vcb/2Zdf+srT+sZ0el44bTla7Eyc04TbNq7aaTq3ON44ZmXub8sHdyYPgzYwFzR/Wd+2bg4W/dy1iFdTVE91ZRe0e8pFqZyr+tat/pPIKcHfF3tMdWKQYE+PBHalaVMr4ORmZc14rXdx8kqaC4IcKsYuAdUbw2bwKvzZtAlz7t2fDrNrTWHIpLxMnFAQ/vmg3q6h82s2frfh59+S5sKl0idl1Uu0ta/0rqems0D7z3HA+89xzX9OrAnlVb0Vpzct9R7J0cyjs35yilCGvfkoQN5ln29vy+lWt6tgfA1ceDxN37AcjPziUzKQ13KzVkLs2bU5yWRnFGBqbSUrJiYvDo2PGS1tVac3TBAhwDAmpMkNBY/LRiB2Pu6ANA984tyM0rJCUth227D9Mi3J+wEB/s7AyMGNqLn1Zst3p8XpFh5KWkkZ+WQVlpKcf+2E5Ql/ZVygR16cDRdVvQWpNx8Ch2To4N3gHqe1tU+aQFHaPasWVFjDkf9ibi6OyIm9elx3c6K7f8THNiwjG01ji71t99Ta1v6svwWVMYPmsKod07cGidue6mHTiK0cmxRgdIKUVA22tI3LwTgENrthDatUO9xXep3MLDKEhNozDdXHeTt2zDt3PVuHw7d+Dkxs1orck+dARbR0ccKnWSkjfHENjT+ve+AbhHVI3/1OZt+FeL379zB05Uit/OyRx/aUkJpUXm/VhpSQnpcQk0C7bODFitBvdl2MwpDJs5hdBuHThiyZ/0A+a6WVv++Le5hmOW/Dm8dgshlvwJ6dr+ouvXF9fwMAqr5E9Mzfzp1IFTlu2fc+gIto4OVTrZyZu3EdAAl0+6hjenKDWNIkvsaVu34dXp0vZbf2bdP6v70D48/P4kHn5/Eq16tSf2d3O7mbQvEXtnhxonTpVShHdoyd4N5nuUdq/cyrU92wFQnF9YPlnSjuWbCGsXib2TA39ZNlb8aaQaYgTod2CZUuptrXWm5RK481kHPKSUmg94AtHARKBes9Kk4d34I8zs3hYb4JekNBLzixga6g/AD8dTGNcyFFejHU+1M182Vqbh4Y3mSvVCp2vo5OmGm9GWxf27Mu/gcX5OSqvPkKvo1Ks1uzcl8OzI1zA62DH++dHly2ZNmMsDk0fi4e3GZ28twdvPg5cfeheAbn3bc/t9gy+4vjVEdm3DoW3xfPjgDOzsjdz61NjyZV+/NIchT4ymmZcb/e8bxrdvzmPd5z/hFxFMx0Hmqa6jRt3Ej7M/5+NHX0drGHDfMJzq6ex3dcpgoPno0eyfPRttMuHTuzdOgYGkrl0LgF/fvpw5fZq4V1+lrLgYpRTJK1fSYfp0ipKSyNi8GcegIPbMmAFAyO23496+/YXe8oqa/97j9OnVGm+PZhza8j6v/HsJdnbmZuK/n6/k11U7Gdy/E/HrZ1NYVMJDEz4CoKzMxNMvzuOHhVMwGGyY//UaEg4kWS3uc2wMBrre93dWv/YftMlERP9euIcEcnCF+Z6GlgP7ENi5Lad2xfPDky9jsDfS8+G7ytff+O6npO49SElePsv+byod7ryFyAHXW/UztO3RhvgtCbx816sYHYzcNWlU+bL/TJ7L2Akjcfd2Y/U361j51Spys/J47YFZtO3RmrETRrFz7W7Wf78Rg8GAnb0d978wzmqXAQV3bkvSjniWPjEdg9GOPv9XsW1/e/0Doh4ag5OnO13HDmfN7M/Y8dWPeIWHcM2AXgAU5uTyw+SZnC0y1429P6/h9n9PxWiFy1dtDAba3D2KmFnvWaYxvp5mwYEcX2W+6jp0QDQ+HduRHhvH2onTMNgb6fDAuPL1y0rOkBG3j7b3jj3fW9R7/O3GjWLzzPfQ2kSIJf5ES/zNB0Tj27EdabvjWDVxGgajkU6W+EtO57LtHXNdNplMBPXqhm+Hy798/M8K6tyWpJ3xfPPkdGyNdvR+pCJ/Vr7+Addb8qfL2OGsfeczdn79I57NQ2hpyZ8LrV/fbAwGWt81ku1vvYs2mQjqcz0uQYGcsGz/kAHReFvyZ/2kFzHYG2n3j3vK1y8rOUNmfAJtGiB/lMFAi7Gj2PP2O2iTCf+o3jgHBXJqjXm/FdjPvN/a/sprlBUVg1Ikrfydbq+8jK2jY63rWlvLbm04GLOX9/7xCnb2RoY/PaZ82RfT5jDsSfNxw433DWXJm/NZteAnAiKD6TzYnDvpJ1L59l+fo2xs8An1Z9iT1j3uEdanar0mtb7fVKl7MHdkyoCdlqd/1FovsSzP11q7KPNeeyZwM+ZRo39qrb9WSjW3lG93kbfS/etwCVxjsHpIbwBi0n9q4EjqppvPLQDMP7i8gSOpm3taDmacpdNyNVrQty+OoVdvA150fBHTd65s6DDq5KXO5u+uWXny5waOpG5uDBoCwBu7VzRwJHUzuaN59PSpzasaOJK6md1zABO2XJ2xA7zVYwCv7bo6cwfg+U4DeWLT6oYOo07e7dUfgPEb1jRsIHU0N6ofAF8e/rVhA6mjMZE3QQNduXS5mr/0q9UO/hOn39Qot0mDfBGq1no+MP8Cy10svzXmjtLEassTgYt1foQQQgghhBCiigbpAAkhhBBCCCEaQCP+fh5racS3JwkhhBBCCCHElSUjQEIIIYQQQjQVMgIkI0BCCCGEEEKIpkNGgIQQQgghhGgitJW+GqExkxEgIYQQQgghRJMhHSAhhBBCCCFEkyGXwAkhhBBCCNFUyPCHbAIhhBBCCCFE0yEjQEIIIYQQQjQVMgmCjAAJIYQQQgghmg4ZARJCCCGEEKKpkC9ClREgIYQQQgghRNOhtNYNHUN9+kt/OCGEEEII0WhcFUMrYbNWWe34+NjEAY1ym/zlL4Ebt3ZtQ4dQJwv69gVg0tZVDRxJ3czsPgCA8RvWNGwgdTQ3qh9DV6xv6DDq7IeBfZi+c2VDh1FnL3W+EcfQ0Q0dRp0UHV8EwMJDyxs4krq5u8VgAN7YvaKBI6mbyR0HAvDi9qsz/1/pciP/vIrr7gudb2Tuvqsz9wHGtxrMqNXrGjqMOvmqfzQA78T/1sCR1M2TbQcB8Hbc1dn2PN1uYEOHIC7DX74DJIQQQgghhLBolGMy1iX3AAkhhBBCCCGaDBkBEkIIIYQQoonQMgucjAAJIYQQQgghmg4ZARJCCCGEEKKpUDICJCNAQgghhBBCiCZDRoCEEEIIIYRoKuQeIBkBEkIIIYQQQjQd0gESQgghhBBCWJ1S6ial1H6l1CGl1OQLlOumlCpTSt15Jd5XOkBCCCGEEEI0FcqKPxcKQykD8B/gZqANMFop1eY85d4Eltf1I1cnHSAhhBBCCCGEtXUHDmmtj2itzwBfAcNrKfc4sBRIu1JvLJMgCCGEEEII0UTYWHH4Qyk1Hhhf6am5Wuu5lr+DgBOVliUBPaqtHwTcDgwAul2puKQDJIQQQgghhLjiLJ2duedZXNtFcrra49nAc1rrMnUFv79IOkBCCCGEEEI0EY3oe1CTgJBKj4OBU9XKdAW+snR+vIEhSqlSrfW3f+aNpQN0HjlxcRz7+mu0yYRvVBSBN99cZXlRcjJH5s+n4PhxQm67jYBBgwAoycri8KefcjY3F6UUvtHR+N9wg1VjT42NZ8/CxWDShPbrzTVDB1dZrrVmz8LFpO2Ox2BvpPP4cbg3DwXgt6enYuvggLKxQRls6DdjilVjB8jaE8ehRYvR2kRAnyhCh9xUI/7Di74mc08cBqORa++/l2Zh5viTVvxO8roNgCYgOorggTdaPf7rvDx48NoIbJRixckUliQmVVke7OTIk22vIdLVhYWHEll27GT5suGhgQwK8kcDifkFvBN/gLOm6idD6tepXfFsn78EbTIROaA3bYcPqrJca832+f/j1M54bO2N9HzkbjzDzdt/85yFnNwRh4NrM2556wWrxg0wZ9ZD3HxDZ9Izc+k6cFKtZf41/R4G9+9EYdEZxj/7IbviEgEY2Lcjb708DoPBhnlfreatD763YuQVtNb89tFSDm3bi529kaFPjyWgRUiNctkpmSx7cx5F+YUERAYz/Nm7MdjZUlxQxHdvLeB0ejamMhM9/zaATgN7Wi32LZ8tIcmSG1H/dzfeETVjz0vLYM3szyjJL8QrPITox8dhsLUl52QKGz74nMyjSVw36lbaD7Nu/U3eHc+uBebcD+/fm9bDaub+zgX/I2VXPAajke4P341HeChlZ86yesbblJWWosvKCO7RmXZ33mrV2AFO7opnm6XutmdwIHIAACAASURBVBjQm3a11N0YS9012Bu5/pG78bLU3T/mLCTJUneHNUDdPRff6o+XcnT7Xmztjdz05Fj8Imvmz+nUTH6cNY/i/EJ8I4IZ8rQ59wFO7DnI6k++wVRahqOrMyNfe9Jq8efGx5G0+Cu0yYRX7z7431T1uKE4JZlj8+dRdOI4AcNuw29QtX2zycT+1/+Jnbs7kY8+YbW4y99fazZ8spRjO8z194bH7sKnlu2fm5rBb/+eR0l+Id7hwdz45DgMdrYc3RrLlkU/oZTCxmBD1P13ENA60mqxb/x0Ccd3xGNrNNL/8bvxqaXtyU3NYOXbn1GcV4hPRAgDnqiIPWbRjygbc+zX33en1WJv4mKAlkqpcOAkMAoYU7mA1jr83N9KqXnAj3+28wONaBIEpdQTSqkEpdQXSqkJDRmLNplI/PJLrn3iCTpMn05mTAyFp6p2SG2dnQkbNYqAgQOrPK9sbAgbMYKOM2bQdsoUUlevrrFufcceO/8rek18jAFvTvt/9u47PIpq/+P4+2STbHo2PSQhBRJa6L1XAVGKjUtRUdSLCqLX8lMsKGLDjlzkAjYUlS5SLfTQOyEkoQQSIJCebOqm7vz+mJC6YIhkk8h5PQ8P2Z0zu5+d/c7ZmTmzs1zZf5isKwmV2iSHR5KblMyQT96mw2MTCf9uWaXpfV57nkHvvV4vOz+K0ci5n5bR7vnpdHtnFskHD5NbZfmlR5wiLymZ7u+/Q4tJD3Fu6U8A5MZfISFsD53feJWus2aSFh5BXlKSWfNbAE+1as6s45FM23eU/t4eNLW3q9Qmu6iYxWfOs7bKjpGr1ppR/r48f/AEz+w/hgZBfy8PM6YHo9HIkW9XMmjGNO7+dCYX9x4hM75y/Vw9EUl2Qgqj5s6i+78ncvjr5WXTmg3oyaBXp5k1c0VLV+1izKQ5150+fFBHmgd607b/8zwz4yvmvfc4ABYWgrnvTmbMIx/SachLjB3dm1YhvuaKXcn5I1GkX01h6lczuWv6OH77cqXJdtu/W0ePewYy7auZ2DjYceLP/QAc2bgb96beTJk/g4fnTGfr179SUlRsluzxx6PISkzh/nlv0XvKBPZXqI2Kjvy4jtC7B/HAvLfQ2ttybruaXetgT4/JY2k7arBZ8lZkNBo59t1K+r08jeEfz+TSvuq1n3gikpzEFEZ8NouuT0zk6Lfq67OwsmTAG88yfM5rDPvgNRLDo0g7F2v2/Ie+XcngGdMY9elM4vYeQX+ddXfM3Fn0/PdEDlZ4f5oP6MmQelx3AWKPRpGRkMJjC2cydNo4tv7PdO2Hfb+OLqMH8vhCtfYjtqr1k5+Tx9aFK7nn9X/z6PzXGPXyY2bLrhiNXF72M82feY7Wb80m4/AhDFU+uzR29viNG4/nHcNMPkbK9q3YeDcxR1yTLh2LIjMhmQe/fJOBT41n1+IVJtvtX7qeDqMG8eCXb6J1sCN6m7r8/dq1ZNxnMxj32QwGTXuQHQt+NnP2FCbMf4sBT09g92LTfc+BpetoP3IQE798C62DLacrZB/72auM/fRVBk59iF1mzF4fhDDfvxtRFKUYeAb16m7RwEpFUSKFEE8JIZ6qy2XQYHaAgKnAXcC5+g6SExuLjacnNh4eWFha4tqtGxnh4ZXaWDk54RAYiNBoKt1vrdNhHxAAgMbGBpsmTSjS682WPeN8HPZeHth7qtl9e3Yl8Wjl7AnHwmnatydCCFyDm1GUl0e+PtNsGW8k60Istp6e2JYue8/uXUk7Xjl/2olwvHur+Z2aN6M4z0CBPpO8hEScmgeh0VojNBp0LVuQeuyEWfOHODuSkJdPkiGfYkUhLDGFHh6uldpkFhVxLiuHYqX6yI6FEFhbWGAhQKuxIL2g0FzRAUiLicPB2wMHL3c0lpYE9O5C/JGTldpcOXKSoP49EELgHhJEYZ4BQ4ZaP56tQ7C2tzdr5or2HjpNuj7nutNHDuvCz2t2A3DoeAzOTnZ4e+ro1jGY83GJxF1KpqiohFUb9jNyWFdzxa7kzIEI2g3ujhACv1ZB5OcayE6vvH4qikLcyXO07tsRgPZDunPmQASgfuAUGgpQFIVCQyG2jnZYaMzT1V86cpLg/mp2zxZBFOYayMuonj0h8iyBPTsBEDywBxcPq+u4rbMjHsEBWFTpV80hPSYOB6/y2vfv1YWrR6vU/tGTBPZTa98tJIii0toXQmBlYwOAsaQEY4nxLy//equlxcTh6O2BY4V193KVdffykZM0K113PUrzX3t/vFqHoK3HdRfg/KEI2gxS68enZRAFuQZyTNT+pZPnaNFHrf3Qwd2JKa3902FHCenVAafSPtdO52i27HlxsWg9PdCWfna5dOtG5snKnz9WTk7YBwZV224AKMxIJzMiArc+fc0VuZrYQxG0HKguf++W6vqba2L5X4k4S/Ne6vJvNagHsYfUOrOy1XLtOxrFBYWYcyWIO3ySFgPU7F4t1NrJNdH3XD11lma91L6nxcAexB4Kr5a9qKDA7Ovv7UxRlM2KorRQFKW5oijvld63UFGUhSbaPqooyupb8bwN4hQ4IcRCoBmwHvAH1gshtqOeF/iRoihfCSGaACsAJ9TcTyuKsrsu8hTq9Vi7lm+0Wut05Mbe/NG8gtRU8i5dwj4o6K8b3yL5GXpsXV3Kbtu6upBxPvYv2xjS9djonBEI9n84DwQEDupH4OB+ZssO6rLXVsimdXEhq8qyL8jQo63w/mhddBTqM7Dz9SF27a8U5eRgYWVN2skIHAMDzJYdwE2rJbWgoOx2WkEhLZxq9iGcXlDI2rh4vu3XnUKjkeNpGRxPN9/OM4AhXY+9W/nyt3PVkRoTV6lNXnomdm66Sm3y0vXYujibK2at+Xi7Ep+QVnb7SmI6Pt6u+Hi7EH+1wv0JaXTvGFwfEclOy8TJo3z5OrnryE7LxNG1fPkasnKxsbct21FwLG0D0HVkf1bOXswXD8+kwJDPfa9MRpjpkj956Xrs3cvrx95NrQ27CrVRkJ2LtV15djtXF/LS6/8AjCFDj51bxX5RR3qV2jdkZGLrqqvUxpCh1r7RaGTr63PISUyh+bABuAWbr9+H0mVfIb/9ddZd+yrrrqHK+1OfctIycXQvz+foriMnLROHirWfXbn2Hdx0ZTtJGVeTKSkuYcXr8yg05NN55EBCB3c3S/bCDD3WLhW3G1xuarvhysoV+N73ACX5+XURr0Zy0/U4VFl/c9Mzsa+w/POzc7GusPzt3XTkppWvvxcOhHPgp/UYMnO4+/U6PYB/w+wObjpy0/TYu1w/u4ObS6UdvNiD4Rz8cT2GrGxGvGa+7PXhVl5MoLFqEDtAiqI8JYS4ExiEOhR2L9ATsAeOCyE2AROAPxRFea/0B5HsTD1WxcvtLVq0CFq2rE0gUw98Uw9Rkp/P2YULCRg3Dktb25vPUEtKTbLfoEnfN1/C1kVHQWYW+z6ch4OPN+6tQm590OupydddTL1GBPY+TWg6YjgnP52LRqvFoWlTk0fa6lJNLmdyPfaWlvTwdOOJPYfJLS5mRvtWDPT2YGdiyq2MeNOqd5TVX1Fj6UyFiXdIURST+U2WmTmYeOLq78D1w104Fo1XMz8e+mA6GQmp/PTGl/i3bYbWzgz9kMlV86/rp0GoSfbr9D0AFhYWDPvgNQpz89j7+WIyL1/FuanPLY95U2qy7BvQumvq86v6S7h+G2OJkeTzlxn7zjMUFRax7OXPadIyEFdfzzpIW5WpZVuzOTNPhmPp6IRdQADZZ87c2lg3wfT2Q7VGN2zTrGcHmvXswNXIGA4t28joWdNvacbrMlnaf73+VmwS1KMDQT3U7IeXbWKUubJL9aJB7ACZsE5RFANgEELsQP2hpMPAt0IIK+BXRVFMnttU5XJ7yp5du276ya1dXChMTy+7XajXY6XT3WCOyozFxZxbuBD3Hj1w7dz5pp//71BHczLKbhvSM7DRVT66Z+Oqq97GRX19tqX/a52daNK1I/rzcWbdAbJ20VFQIVtBRgbaKste6+pCQYX3pyBDj3Vpmyb9+tKkn3oKwYU1a9G6uGBOqQUFuGu1ZbfdtNakVxgRupGOrjqSDPlkFRUBsC85jdY6J7PuANm66shNK1/+pkZ27Fx15KXpb9imobqSmIZfE7ey277eriQkZWBtZYmfT4X7m7hxNTnD1EPUiSMbwzj+u3ouepMW/mSllC/frFQ9Dm5V3gMnB/JzDRhLSrDQaMhO1eNY2iZ8y0F6jx2qnuLq44HOy43Uy8n4tqyb0dDo33dxdts+ANybB5CbWr7cctOqjy5oHR0ozCvPnpeegZ1r/dePrauOvLSK/WL1urYtHTG5URtrezs8W4eQEB5l1h0guyrrbu511t3cBrbuHt8URsQWtfa9g/3JTi3Pl52qrzT6AGBbpfZzKhzld3DTYetkj5WNFisbLX6hzUmJu2KWHSBrFxcKMypuN2TUeLsh9/x5Mk+eIOtUBMbiIkoM+cR9+zWBjz1RV3HLRPwWRtQWdf31DPYnp8r6a1+lPmycHCissPxz06q/RwA+ocFk/jcVQ1YOtk4OdZL91G+7iN6qZvcIDqiUPSdNX61fqZo9Jy3D5OinT2gwO+bXbfb61oCOe9SbhvQdoIqq7qYriqKEAf1RrxKxVAgxqa6e3CEwkPzkZPJTUzEWF5N++DAuHTrUaF5FUYj94QdsmzSpdoEEc9A1CyA3MZncZDX7lQNH8O7cvlIb787tubznAIqikB5zASs7W2x0zhTnF1BkUIffi/MLSI6IxtHMRzCdggIxJCVjSFHzJx86glvHysverUMHEvep+bPOX8DSzhZt6U5eYVYWAPlp6aQeO45nj1v2m1k1ci4rGx87G7xstFgKQX9vDw6lpP/1jEBKfgGtnB3Rlp6u1MFVx+VcQ13GrcateQDZicnkJKdSUlzMxX1H8e3SrlIb3y7tiQ07iKIopJ6LxcrOtt43ompq05ZjTLxfPa2ze6dgsrLzSEzWcyT8PMFB3gQ09cDKSsPYUb3YtOWo2XJ1Hdmff89/hX/Pf4WWPdsTsf0QiqIQfzoWG3ubSqe/gXpkM7BdCNF71ONAJ7cdokUP9X1y8nQhNlw9ipyTkUX6lWRcvN2oK63vHMCYj19lzMev4t+9PTFhavbks7FY29lW28AQQtAktAVxB44DELPzIP5d25t6aLNybR5AToXav7T/KD5Vat+nS3vidqu1n3YuFitbtfbzs7IpzM0DoLiwkKRTZ3Dy8TJr/mvrbnaFdbdplfx+XdpzoXTdTSldd+v79LdOd/dn0txXmDT3FYJ7tidqh1o/V8/EorW3qXT6G6j1498uhLN71dqP3H6I4NLaD+7RjitRFzCWlFBUUEjC2Yu4+ZnnfbALCKQgOZmC1BSMxcVkHD6Mc/uabTf43Hsfbed8TOj7cwh8fAqOrVqaZecHoN2I/mUXLgjq3p4zO9Xln3gmFms7m2o7N0IIfNuGcH6/uvxP7zhIUDd1+WcmpJSNIqWcv4yxuAQbx7r7XlnbEQMY+6l64YKg7u05u0vNnlTa91TdeRNC4NO2BRf2q33P2Z0HCezevnr2C5cpKS6u0+xS/WuoI0BjhBAfoJ4CNxCYIYQIAK6Ufh/IHugM/FAXTy40GgInTODM3LkoRiMeffpg5+NDUulokteAARRmZnLqvfcoyc9HCEHC1q20f/ttDPHxpB44gK2vLxGzZwPQ9N570bVrd6OnvGUsNBraTxrP/o//i2I04t+/N05+PsRuCwMgaEh/vDq0JenEKba+9CYaa2s6/VvdlyzIyuLQ3EWAekUb317d8Gofapbc1wiNhuAHxxPx+RcoRiPefftg7+vD1Z3qsvcZOADX9m1Jj4jg0KtvlF4G+5Gy+SMXLKI4Jxeh0RDy4ASszPylXqMCC8+c5+3ObbEQgq1Xk7iUm8edft4A/B6fiM7ais97dMLOUoNRgdH+vkzdd5SzWdnsTUplbs9OlCgKF7Jy+L3KVZzqmoVGQ9fJ/2LH+1+iGI00G9QLXVMfzm1Rv24XMrQfPp1CuXoikg3PzUKjtabnUw+Vzb933rckRZ2jIDuHtVNfp/0Dd9N8cG+z5f/+v9Pp16s17i6OxByczzufrcaq9PK4X/+4ld+3H2f4oI5E7p5LnqGAJ19S672kxMjzM5ewYemraDQWfL9iJ9Fn42/0VHUmuFsbYo5E8uUTs8sug33NsrcWMvLZCTi6OTN48mjWfrSEnUs34d3Mj47D1Utd9xt/J+s//5FFUz8AYPCjo7FzNs9RTL9OocQfi2TNs2+jsbai39Ty2vjzgwX0fXIidq46uj44hp1zv+PY8o24BTWlxeBeAOTps9gw4yOKDGq/GrV5J/d+9jrWZjh9z0KjofOj/yJsjlr7QQN74eznQ8xWtfaD7+hHk46hJJyIZPPzs7DUWtPtSfX15euzOPS/H1CMRhRFoWnPzvh0Nk+fXzF/98n/Ylvpuhtcuu6eLV13Wwzth2+nUK6ciOTX59T8vSusu7tL19387BzWlK67IWZcdwGCurThwpFIvnlKrf3h08tr/5fZCxk2bQIObs70e2Q0mz5Zwt6fNuHZzI+2pZd5d2vqTWCn1nz/7ByEhQXthvbEPcA8B/GERoPfuImcnzcXxajg1rsPtj6+pIbtBMC9/0CKMjM588G7ZdsNKdu30vqt2WjMeJr8jQR0CeXSsSh+mjobS60Vg58pr4+N7/6PQVMnYu/qTM+Hx7Dls+84+PNGPIL8aH2Huv6e33+CM7sOYaHRYGltxbAXJ5vt9Gj/zqFcOhbJsmlvY6m1YuC08uyb3l3AwKkTsXfV0fOhMWz5/DsOLduIe1BTWg9Rs184cIKzOw9iYalmH/rCY43m1O7a+Ae/tBoTJs/5rAdCiDjUHzt6BvABmqNeEOHaRRAeAf4PKAJygEmKovzVNwyVSbU4Ba4h+GHAAABePrS9npPUzkfd1cvYTtmzs36D1NLivgMZtaVOrrFhFhuG9uPt41vrO0atvdXpDmz9J9R3jFoxXFIvK7805o96TlI7Dwerv00yJ3xLPSepnRkd1JH3mUcbZ/2/0+UO3m3E6+4bne5g8enGWfsAU1oNZ/yOsPqOUSvLB/UH4IvIP+s5Se08F6peHvzzU42z73m+7VBoJNePC1kUZraN/3NP9m+Qy6TBjAApihJY+ues60z/HvjeXHkkSZIkSZIk6Z9GNNQvwJiRXASSJEmSJEmSJN025A6QJEmSJEmSJEm3jQZzCpwkSZIkSZIkSXVLXgRBjgBJkiRJkiRJknQbkSNAkiRJkiRJknSbsJAjQHIESJIkSZIkSZKk24ccAZIkSZIkSZKk24T8DpAcAZIkSZIkSZIk6TYiR4AkSZIkSZIk6TYhR4DkCJAkSZIkSZIkSbcROQIkSZIkSZIkSbcJIYeA5AiQJEmSJEmSJEm3D6EoSn1nqEv/6BcnSZIkSZIkNRiNYmil3Q+7zbZ9HDGpX4NcJnIESJIkSZIkSZKk28Y//jtA6y7+Vt8RamVMwAgAFp/+o56T1M6UVsMBeOXwtnpOUjsfdhvC2rjGWTsA9waOYOuVzfUdo9bu8L2LpTGNs/YfDlZr39Z/Qj0nqR3DpWVA4153Ab472zjrZ3KL4Y223we1739q7476jlFrC/sMatS1A/DRyS31nKR2Xm4/FICJO3fVc5La+XnggPqOUGPyK0ByBEiSJEmSJEmSpNvIP34ESJIkSZIkSZIklRwBkiNAkiRJkiRJkiTdRuQOkCRJkiRJkiRJtw15CpwkSZIkSZIk3SbkKXByBEiSJEmSJEmSpNuIHAGSJEmSJEmSpNuEhRwBkiNAkiRJkiRJkiTdPuQIkCRJkiRJkiTdJuR3gOQIkCRJkiRJkiRJtxE5AiRJkiRJkiRJtwk5AiRHgCRJkiRJkiRJuo3IESBJkiRJkiRJuk0IeRk4OQIkSZIkSZIkSdLtQ44AXYeiKKxf8AunD0djpbXiXy9NxC+kabV2e9ftZs/aXaRdTeWtVe9i7+wAwLFtR9i5chsAWlst904fi09zX7Nl3/HVGmKPRmGptebO5x7Eq3n17JlJaWz8eAn5OXl4NvPjrucfRmOllsTliHPs+OYXjMUl2DrZM+7958ySHSApPJKIpatQjAoBA3vTYvTwStMVRSFi6SqSTkSi0VrRecokdEH+5dONRnbOnIONi45eL001W+6K+Tb87xfOHIrGysaKsS9OxNdE7exbt5u9a3eRlpDKzJXltZN8KYnVn/3MlZh4hj9yN/3HDjZ7/lXz1xJ5MBprGysefnkC/i2q59+5djc71oSRejWVD9e+g0Np/rMnYlg08xvcvF0B6NivPXdNGl5t/rrM/+eiNcQcicJKa82o5x+kSXD1/BmJaaz9cAmGnDyaNPdjzItq/efnGlj3yQ9kpmRgLDHS877BdBza0yzZF378JCOGdCIlLYuuQ1822ebTtx9h+KCO5BkKmfLi/zhxKg6AoQM68MmsSWg0FixZvoNPFqw3S+aK/gnr7tbFazh/VK2du597EG8TtaNPTGPdx0vIz87Dq7kfo15Qa+fgL9uI3HkEAGOJkbT4RJ798X1sHe3Nlr8x9/1pEZGc+3klKEaa9OtDwN13VpquKArnfl5JesQpLKytaf34IzgGqPVzecs2EsL2oigKPv370nTYELPlrpivsdfPge9Wc/lYJJZaa/pPexj3ZtXzZyelsmPudxTk5OEW1JQB0yehsbJEfyWRsC9/JC02nq4TRtJu9B1myQ2QeeoUl1euAKMR97598b5zRKXp+YkJxC35nrzLl/AZcw/ew4ZVmq4YjUS//x7WOh3Bz0w3W+76Ir8DZOYRICHEPUKINuZ8zto6fTia1CspvPzd69z/n3GsnbfKZLvA0CD+PedpXLxcKt3v6u3GU59M54VFrzBk4jDWzF1hjtgAxB6NIiMhhccWzmTotHFs/d9Kk+3Cvl9Hl9EDeXzhTGwc7IjYuh+A/Jw8ti5cyT2v/5tH57/GqJcfM1t2xWgk/PsV9Hr5GYZ8NJP4A0fIupJQqU1SeCQ5icnc8eksOj7+IOFLlleafv73HTj6eJstc1VnSmvnpe9e577nxvHrf03XTkBoEI/PeRpdldqxc7Jj1NP30/9+8+74XBN5MJqUKynMWvoaE1/4F8vnrjbZrnnbIJ795Glcq+QHCG7XjNe++j9e++r/zLrzA3D+SBTpV1OY+tVM7po+jt++NF3/279bR497BjLtK7X+T/yp1v+Rjbtxb+rNlPkzeHjOdLZ+/SslRcVmyb501S7GTJpz3enDB3WkeaA3bfs/zzMzvmLee48DYGEhmPvuZMY88iGdhrzE2NG9aRVingMu1/wT1t0LR6PIuJrCk4tmcue0cfxxnb5z55J1dBszkCcXq7UTvkWtnR73DeGxea/w2LxXGPDISJq2DTbbxis0/r7/7I/L6PD8M3R/9y2SDh4m98rVSm3SI05hSEqmxwezafnIg5z54WcAcuKvkBC2ly5vzKDb22+QFh5BXlKS2bJf09jrJ/54FFkJKYz971v0fXIC+75abrLd4Z/WETpyEGP/+xZaB1vOblfzax3s6fXYWNqNMvNBO6ORS8t+JmT6s7SZ9Tbphw9juFq5djR29jQdPx6voUNNPkbytm3YeDcxR1ypgfhbO0BCdTOPcQ/QKHaAovZF0HloN4QQBLQOxJBrICsts1o732A/XL3dqt0fGBqEnaMdAP6tA8lMrT5vXTl/KII2g7ojhMCnZRAFuQZy0is/v6IoXDp5jhZ9OgIQOrg7MQciADgddpSQXh1w8lCP4NvpHM2WPeN8HA5eHth7umNhaYlfzy4kHg2v1Cbx6En8+/ZACIFrcBBFuXnkZ6ivz5CWQeKJUwQM7GO2zFVF7Y+g8x1q7fjXonYcdI40bemPhWX9nKF6ct8pepTWflCbQAw5BjJN5G8a4lc2ytOQnDkQQbvBav37tQoiP9dAton6jzt5jtZ91fpvP6Q7Z0rrXwgoNBSgKAqFhkJsHe2w0Jjnvdh76DTp+pzrTh85rAs/r9kNwKHjMTg72eHtqaNbx2DOxyUSdymZoqISVm3Yz8hhXc2S+Zp/wrp77kAEbUtrx7fV9fvOiyfP0aq072w3pDvnSmunouhdx2jTv4tZcl/TmPv+rAtx2Hp6YuvpgYWlJV49upF64mSlNqnHT+LduydCCJybN6M4z0CBPpO8hEScmgWh0VpjodGgaxlCyrETZst+TWOvn4uHTxI8QM3v2SKIwlwDeRnV8189dZagnp0ACB7Qg4uH1fXc1tkRj+AALCw1Zs2dGxuLjacnWg+1dly6dkMfXrnvsXJywj4wEKGpnq0wI4PMiAjc+/Y1V+R6J4T5/jVUN/2pLoQIFEJECyEWAMeAh4UQ+4UQx4QQq4QQDqXt5gghooQQJ4UQnwghegOjgY+FECeEEM1L//0uhDgqhNgthGhVOq+XEGKtECK89F/v0vtnCiFOCyG2CCGWCSFeunWLorLMtEx0HuVHtnXuOpMbgTVx+PcDtOzW+lZF+0s5aZk4uuvKbju668ipkt2QnYuNvS0WpZ2Bg5uurKPOuJpMfk4eK16fx9IXPiJy+yGzZTdk6LF1LV/uNq4uGKp0wIYMPbZuVdvoAYj4cTVtJ9xbr2tdVmrl2nF215ncAWqoMlMz0XmW14/OQ4f+JnfgY6PieP+Jj/lyxiKuxib89Qy3UHZaJk4e5fmd3HVkV63/rMr171ihTdeR/Um9nMgXD89k8bQPGDblfoRFw/i6pI+3K/EJaWW3rySm4+Ptio+3C/FXK9yfkIaviZG5uvRPWHezq/adbqZrR+tQoXZMtCnKL+TCsWha9u5Q96EraMx9f4E+A5sK9aN10VGQkVG5TYYebcU2rjoKMvTY+/qgP3uOopwcSgoKSYs4RUF65XnNobHXT166HvsK66edm47cdH2lNgXZuVjblee3d3MhN71+fAKdewAAIABJREFUP9+K9HqsXMoPxlm76CjS1/z9v7xyBb73349oyFvr0i1X2+8AtQQmA28CvwB3KIqSK4R4BXhBCDEfuBdopSiKIoTQKYqiF0KsBzYqirIaQAixDXhKUZRzQogewAJgMDAP2KUoyr1CCA3gIIToCtwPdCrNfQw4WjWYEGIKMAVg0aJFeA2vfv5qjSjV7xLc/MoRc+Ich38/wNOfm+88akWpHr7aen2DNsYSI8nnLzP2nWcoKixi2cuf06RlIK6+nnWQtmqumrQxlV2QeDwCrZMDuiB/UqLO3vpsNWTyJTSijtV0/dQ8f9MQP2YvexMbWy2nDkSx+M1vmbX09VsZ8cZM5a/a5AaFduFYNF7N/Hjog+lkJKTy0xtf4t+2GVo721sc9OaZ6oMURTH5/phYDHXrH7DumnoR1RftX7eJOXwK39ZBZj19Cf6BfX+V8KbWWyHA3qcJ/iOGc+KTL9DYaHFo6ldPBy0ae/1Uv69qn2OyxuoqUI2ZLJ4azak/eRIrR0fsAwLIPnPm1sZqwBrRJkmdqe0O0EVFUQ4IIUaintK2t/QD2BrYD2QB+cDXQohNwMaqD1A6UtQbWFXhw1tb+v9gYBKAoiglQKYQoi+wTlEUQ+n8G0wFUxRlMbD42s11F3+r8Yvat343Bzer57I2bemPPqX8CII+VY+Tm1ONHwsg4cJVVn++nMffexJ7p7rtyI5vCiOi9Dxi72B/slPLj9pkp+qxd3Wu1N7WyYH8XAPGkhIsNBpy0vTYu6htHNx02DrZY2WjxcpGi19oc1LirpjlQ9DWVYehwpG7/PQMbF2qZHd1wZBWuY2Nzpkrh46RcCyCxPBIjEXFFBsMHFnwHV2nTq7z3PvX7+bQb+ry92tRuXYyU/U4ud5c7Zjbrl/3sHeTmj+gpT/65PL60afocb6J2re1tyn7u23PNqz4YjU5mTllF0moC0c2hnH8dzV/kxb+ZKWU589K1ePgVrmG7KrUf3aqHsfSNuFbDtJ77FD1NC0fD3RebqReTsa3ZUCd5a+pK4lp+DUpP23S19uVhKQMrK0s8fOpcH8TN64mm/cIeGNdd49uCiP8j9LaCanSd6bpcTDRdxbkVKgdE22iwsx3+tI/pe/XuriQX6F+CjL0aHW6Sm1sXFwqjewUpOuxLm3j078PPv3V0yfPr/kVG5fK89aVxl4/Ub/v4szWfQC4BweQW2H9zEvTY1clm42TA4V55flz0zKqtTE3K50LRRnpZbcLM/RY6Wr2/ueej0EfHk7mqVMYi4ooMRiI/eYbgh5/vK7iSg1EbXeAckv/F8AWRVEmVG0ghOgODAHGA8+g7tRUZAHoFUXpWMPnrPP91d6j+9F7dD8Aog9Gsm/dbjoO7Myl0xextbfFya3mK3lGcgY/zP6W8S8/hIdf3X94dLq7P53u7g/AhSORHN8URqt+nUk4G4fW3qZaByuEwL9dCGf3nqBV/y5Ebj9EcI92AAT3aMf2xasxlpRQUlxCwtmLdBk9sM5fA4CuWQA5icnkJqdi66oj/sDRahtB3p3bcWHLLnx7dSXjfByWdrbYuDgTOu4eQsfdA0BK1FliNm81ywYUQK/R/ehVWjunD0ayb/1uOgzszOXTF7Gxu7naqQ8D7unLgHvU859PHYhk16976DK4E3HRau0730T+zPQsnFwcEUIQF30RRVHq/ABA15H96TpSrf9zhyI5sjGM0AGduXImDht7GxxN1H9guxCi95wgdEAXTm47RIvS+nfydCE2/Az+bZuTk5FF+pVkXEx8V6s+bNpyjKceGcbK9fvo3imYrOw8EpP1pKRlERzkTUBTD64mpjN2VC8efXa+WbM11nW3y9396VLad8YcjuTYxjBa9+/M1TNxaO2u03e2D+H03hO06d+FiG2HCCmtHYD8XAOXT8Uw6sWHzZL/n9L3OwYFYEhKxpCSitZFR9LBw4Q+WXkj1K1je65s24lnj65kXYjF0s4GrU59fYVZWVg7OZGflk7q0eN0ft30VRRvtcZeP23uHECbOwcAcOnoKaJ/D6NZny6knIvDys4WO5fq+ZuEtiD2wHGa9+lKzK6D+Hdrb5as12MfGEh+cjIFqalY6XRkHDlM0ONP1Ghe33vvw/fe+wDIPnOGpC1/yp2f28TfvQz2AeBLIUSwoigxQgg7wA+4CtgpirJZCHEAiCltnw04AiiKkiWEiBVCjFUUZZVQh4HaK4oSDmwDngbmlp4CZw/sARYJIT4ozX038NXfzH9drbq34fShaD589F2stdaMfal8H++b1xfxwAvjcXZzZs/aXexatZ3s9Gw+e/IjWnVvw9gXxrP1xz/Iy8plbekVwCw0Gp778sW6iltJUJc2XDgSyTdPzcZKa83w6Q+WTftl9kKGTZuAg5sz/R4ZzaZPlrD3p014NvOjbemlft2aehPYqTXfPzsHYWFBu6E9cQ/wMUt2C42G9o+MY99H81GMRgIG9MLJz4fYbWHqaxvSH6+ObUkKj2TLi29haW1Npynm+aCoqZbd23D6cDQfT34XK601Y18sr53v3ljE/c+Px8nNmb2/qrWTk57N3Kc+omX3Njzw/Hiy07P47/RPKcjLRwjBnl938cLiV7GpMLJSl0J7tCHyYDSzHnoPaxtrHnp5fNm0L2cs5sGXxqFzd2bHL2FsXb6drPRs3n/iY0J7tObBl8ZzfFc4u9fvRaPRYKW14rE3Jpn13Orgbm2IORLJl0/MLrsM9jXL3lrIyGcn4OjmzODJo1n70RJ2Lt2EdzM/Og5X67/f+DtZ//mPLJr6AQCDHx2NXR2OXlX0/X+n069Xa9xdHIk5OJ93PluNVenlib/+cSu/bz/O8EEdidw9lzxDAU++tAiAkhIjz89cwoalr6LRWPD9ip1En403S+Zr/gnrbvOuat+5aIpaO3c9V147K2ctZMR0tXYGPTqadR8tIezHTXg186P9sPLLpJ/df5KgTq2wttGaeoo61dj7/hYPjSP8s3koRiNN+vbG3teHKzvU+vEd1B+39m1JP3mKAzNmorG2ptVjj5TNf+rLxRTl5CA0GkIemoCVvXlPH4PGXz9NO4cSfzySVdPfxtLain7THiqb9sf7C+j71ETsXXV0e2gMOz7/jqPLNuIW1JSWg3sBkJeRxboZH1FkUD+7Tm3ayf2fv451HZ8+LDQa/MdP4NwXc1GMRtz79MHWx4eUXbsA8BgwgKLMTKLff4+SfDVb8rathM56G41t/Z/aXB/k76CCMHU+5w1nECIQ9Xs8bUtvDwY+pPz0tTeAw8A6wAZ15OYTRVG+F0L0Qd1pKQAeAIzA/4AmgBWwXFGU2UIIL9TT2JoBJcDTiqLsF0LMAiYAF4EUYKeiKDfaCbqpU+AakjEB6jXsF5/+o56T1M6UVuqlj185vK2ek9TOh92GsDaucdYOwL2BI9h6ZXN9x6i1O3zvYmlM46z9h4PV2rf1rzYw3igYLi0DGve6C/Dd2cZZP5NbDG+0/T6off9Te3fUd4xaW9hnUKOuHYCPTm6p5yS183J79RLVE3fuqucktfPzwAHQEL4SVQO9f9ljtm+J7ruvb4NcJjc9AqQoShzQtsLt7UA3E027m5h3L9Uvg32niXZJwBgTj/mJoiizSkeawoBPa55ckiRJkiRJkm5v8iIIf/8UOHNbXPpDqjbA94qiHKvvQJIkSZIkSZIkNR6NagdIUZSJ9Z1BkiRJkiRJkhor0TB+2q5eyUUgSZIkSZIkSdJto1GNAEmSJEmSJEmSVHvyO0ByBEiSJEmSJEmSpNuIHAGSJEmSJEmSpNuEOX+br6GSI0CSJEmSJEmSJN025AiQJEmSJEmSJN0m5ACQHAGSJEmSJEmSJOk2IkeAJEmSJEmSJOk2IUeA5AiQJEmSJEmSJEm3ETkCJEmSJEmSJEm3CTkCBEJRlPrOUJf+0S9OkiRJkiRJajAaxa7FoM17zbZ9vOOuPg1ymcgRIEmSJEmSJEm6TVg0yF0S8/rH7wDpCzfXd4Ra0VnfBcCCqD/rOUntTG0zDIAuy3bXc5LaOTqhX6Nd9qAu/znhW+o7Rq3N6DC00eaf0WEoAK8c3lbPSWrnw25DALD1n1DPSWrHcGkZAOkF6+s5Se24akeTaGic2QG8bUfTbMGu+o5RaxemDuBY6qb6jlErnd3vBmD5+d/rOUntjG9+JwD+n+2o5yS1c+mFQfUdoVESQtwJfAFogK8VRZlTZfqDwCulN3OApxVFCf+7zysvgiBJkiRJkiRJklkJITTAl8AIoA0wQQjRpkqzWGCAoijtgXeAxbfiuf/xI0CSJEmSJEmSJKka0Clw3YEYRVEuAAghlgNjgKhrDRRF2Veh/QHA71Y8sRwBkiRJkiRJkiTplhNCTBFCHKnwb0qFyb7A5Qq340vvu57Hgd9uRS45AiRJkiRJkiRJtwkLYb6LJCuKspjrn7ZmaizKZDghxCDUHaC+tyKX3AGSJEmSJEmSJMnc4oGmFW77AVerNhJCtAe+BkYoipJ2K55Y7gBJkiRJkiRJ0m2iAX0H6DAQIoQIAq4A44GJFRsIIfyBX4CHFUU5e6ueWO4ASZIkSZIkSZJkVoqiFAshngH+QL0M9reKokQKIZ4qnb4QeBNwAxYIIQCKFUXp+nefW+4ASZIkSZIkSdJtoiFdAU1RlM3A5ir3Lazw9xPAE7f6eRvSMpAkSZIkSZIkSapTcgRIkiRJkiRJkm4T5rwKXEMlR4AkSZIkSZIkSbptyBEgSZIkSZIkSbpNNKCrwNUbOQIkSZIkSZIkSdJtQ44AXYeiKHw2Zy37dkdjY2PFzHcn0KpN0+u2/+T9NWz89RA7D31Yq/lvdfZd36wh7mgkllprhk1/CM/m1Z87MymV3z5dQn5OHp7N/Bj+3CQ0VuUlkXjuIitnfMqIFycT0ruTWbID9Griwkudm6ERgl/PJ7IkOr7S9AG+rjzdPhCjolBiVPj02AVOpGbVaF5z+LvLP/7UOTZ8sBgnTzcAgnt2oMe4EWbNf/C71cQfV/P3nfow7s2q589OTmXn3O8oyMnDLagp/adPQmNpif5KInsW/EhabDydx4+k3eg7zJb9n5A/KTySiKWrUIwKAQN702L08ErTFUUhYukqkk5EotFa0XnKJHRB/uXTjUZ2zpyDjYuOXi9NNWv2hR8/yYghnUhJy6Lr0JdNtvn07UcYPqgjeYZCprz4P06cigNg6IAOfDJrEhqNBUuW7+CTBevNmFylKAqff7iOfbtPq/32O+No2cavWrv33lrJ6ch4FEXBP8CDN94dh52dlpxsA7NeXUZSop6SEiMTHxnAyHu6mTX/vI/WcXDPabQ2Vrw6exwtWlfP/+GslZyJUvM3DfBgxmw1/zXRpy4zddJ/eevDhxg4tL3Z8vdv6sKbfYOxsBCsjEpg4fHLlabfEejGCz0CMSpQYlR4Z08MRxLVvv/R9r6Ma90EIWBFVALfnbxittzXKIrC93PXcmJ/NNY21jz9+gSCWlZf/vNn/ciF05fRWGpo3safJ14ei6WlhisXk1j03nJiz8YzbspdjJw4yOz5f1v0C+cOR2GlteKeFx7EJ7h633lwQxgHft1FekIqLy97D3tnh5uavy4MCHRl1sAQNBawPCKBBYcvmWzX3suRdRO6MG1TJJvPpdDEQcvnI1rjYWeNosDPEVf59rj5txvMTY5+3OQyEELohBBTS/8eKITYeJPzLxFCPHAz89T2uf6ufbujuXwxhdWbXmPGW//io3dXX7dtdOQlsrMNtZ7/Vos7FoX+ajKPLHiTIU+PZ/uiFSbb7f1hPZ1GDeLRBW+itbcjctv+smnGEiN7f1iHf8fW5ooNqMOyM7o059mdkTyw+SjDAzwIcrKr1OZQkp7xvx1j4u/HefvQWWb2CKnxvOZwK5a/T+vmPPj5DB78fIZZd34A4o9HkZWYwv3z3qL3lAns/3q5yXZHflxH6N2DeGDeW2jtbTm3Xc2vdbCnx+SxtB012JyxyzTm/IrRSPj3K+j18jMM+Wgm8QeOkHUloVKbpPBIchKTuePTWXR8/EHCl1R+fed/34Gjj7c5Y5dZumoXYybNue704YM60jzQm7b9n+eZGV8x773HAbCwEMx9dzJjHvmQTkNeYuzo3rQK8TVX7DL795zm8sVUVm18hRlvPsBH7/5ist1//m80S1e/wI9rXsSriY7Vy/YCsHr5PoKae7F09Qt8+c1TzPtkA0VFxWbLf3DPaeIvpfLT+ld4aeYDfPae6fzPvDSab1e+wHerXsTTW8fa5XvLppWUGFn0xSa69WpprtiA2n+/3T+EyZsiGL7sMKNCPAl2qdx/74vP4K4VRxm58iiv7DjDB4PUjC1c7RjXugn3rjnG3SuOMDjAjUBnW7PmBzixP5rE+FQ+X/Ea/355LN98Yvpzv8+wzny6bAYfLf0/CguK2LHhAAAOTnY88vy9jJxg3h2fa84diSLtSgrPfv0Go54dz8b5q0y282/TjEnvT0Xn6Vqr+W81CwHvDm7BI2vDGbLkEKNbeRHiWv2z30LAq/2as+tietl9JYrCu7tiGPL9IcYsO8qkjr4m55X+eW52J1AHmPeQYj0J23GKEaO7IYSgXYdAsrMNpKZkVmtXUmJk3qcbmP7CqFrNXxcuHIqg9aDuCCFo0jKIglwDuemVn1tRFC5HnCWkd0cA2gzqwfmDJ8umh2/eRXCvjtiVHtkxl1BXRy7n5HMlN59io8Kfl1IY6Fe5kzUUG8v+ttVoUJSaz2sOt2L516dLR04S3F/N79kiiMJcA3kZ1fMnRJ4lsKc6Mhg8sAcXD4cDYOvsiEdwABYajdmzQ+POn3E+DgcvD+w93bGwtMSvZxcSj4ZXapN49CT+fXsghMA1OIii3DzyS1+fIS2DxBOnCBjYx+zZAfYeOk26Pue600cO68LPa3YDcOh4DM5Odnh76ujWMZjzcYnEXUqmqKiEVRv2M3LY3/6du5sWtiOSEaO6IISgbYcAcrLzSU3JqtbO3sEGUOuoIL+I0h/nQwhBXm4BiqJgyCvEydkOjcZ8x1r37Ixk+Eg1f2h7NX/aX+UvKM8P8MuyvQwY0g4XV3uz5Qbo4OnExUwDl7PyKTIqbIxJZmiQW6U2eRX7fksNCmrn39zFjhNJWeQXGylR4OBVPcOC3M2aH+DonlP0u7MrQghC2gaSl20gI7X68u/Uuw1CCIQQBLf2Jz1ZXX+dXRxp3tofjWX9HJ8/feAUHYeo2y1NWwWSn2sgO736dkuT5n64eLnVev5braO3E3F6A5cy1drZcDqJYc2rv/+TO/rx27kU0vIKy+5Lzi3kVLLaZ+UWlRCTlou3g7bavP80FsJ8/xqqm13L5gDNhRAngI8BByHEaiHEaSHET6K0FxVCvCmEOCyEOCWEWCwq9q6lrtdGCBEshNgqhAgXQhwTQjQvncXkc9WVlORMvLx1Zbc9vXSkJFdfkVct203/gaG4ezjXav66kJOmx8HNpey2g5uOnCqdUH52Llp727KNPAd3HblpmWXznz9wknbD+5olb0WedlqS8grKbiflFeJhW70zGuTnxpq7u/DFgFDePnj2puata393+QMknonlp+c/4NfZC0i7VHkEoK7lpeuxdy/Pb++mIy9dX6lNQXYu1nbl+e1cXcgzwwddTTTm/IYMPbau5dltXF0wVNl5M2TosXWr2kZ9fRE/rqbthHuhbrvHWvPxdiU+Ia3s9pXEdHy8XfHxdiH+aoX7E9Lw9XIx9RB1KiU5q1K/7eHlfN1++92ZK7h70GwuxqUwdoK6w/nAhN7ExSYzasg7PHT/pzz/yhgsLMy3MZuanIVnDfN/8OYK7h0ym0uxKdw3Xs2fkpTJ7h2nGD22l1nyVuRtb01CTnn/nZBTgJd99f57WJAbWyZ045u72/LKdrXvP5ueR3cfZ3RaS2wsLRgY4EaTetiITU/Jws2zfPm7eupIv8GBz+LiEnb/cYQOPVqZI95fyk7V4+RRnt/J3Zms1Jr3i393/trydtByNTu/7HZCTgFejpXffy8Ha4aHePDjDU6N9HOyIdTTkeOJ1XdapX+em+2ZZwDnFUXpCPwf0An4D9AGaAZcO+w4X1GUboqitAVsgZEmHut6bX4CvlQUpQPQG7i29Xe956pECDFFCHFECHFk8eLFN/nyyimKqWukV96oSEnOZNuf4Yyd2K9W89cdE89d5alN5itts+ubNfSZNBoLMx65rBKhElNLckd8GvdvOsqLu6N4un3ATc1b9/7e8vdo5sfkxbN58PNX6XD3ADbM+erWR7wRk6Vbdek24N8QaMz5axLLRO0IIUg8HoHWyaHS94EaGmFiLVUUBVPHs0x2oXXtOsvWlDfeGceGbTMJDPJk6x/qKN3BvWcJaenDhm0z+X7V83z6/lpyc/JNzl8XTPUr18v/6uxxrNkyk4AgT7aX5v/vx+t58rm7zDpqVcZETFM18GdsGkOXHebJ3yJ5oXsgAOcz8lh0/DI/jG7PkpHtOJ2WQ0k9FJDp5X/99t9+sppWHZrRqmOzOkxVc6a7zppvt/zd+WvL5Gd/lTCzBobwwe7zGK9TFnZWGhaNasvbO8+RU1hyyzNKDc/fvQjCIUVR4gFKR4UCgT3AICHEy4Ad4ApEAhuqzFutjRBiJ+CrKMpaAEVR8ksf+0bPVYmiKIuBa3s+ir5wc41fzKple1i3Rv0eQJu2/iQllh81Tk7S4+HpVKn9mdPxxF9K5YG73wMgP7+I++96jzWbX8fTS/eX899K4ZvDOLVlHwBewf7kpGWUTctJ0+PgUnmEytbJgYJcA8aSEiw0GnJS9di7qm2Sz1/it0+XqK8pO4e4o1FYaCxo3qNDneW/JimvAK8KX8b1srMm1VBw3fbHU7Lwc7BFZ2150/PeSrdy+Wvtys9dD+oSyo5FKzFk5WDrVHenI0b/vouz29T87s0DyE0tz5+bpseuSn6towOFeeX589IzsHOt3MacGnv+a2xddRjSy7Pnp2dgW7V2XF0wpFVuY6Nz5sqhYyQciyAxPBJjUTHFBgNHFnxH16mTzZb/r1xJTMOvSfmpM77eriQkZWBtZYmfT4X7m7hxNTnD1EPccquX72X9moMAtA5tWqnfTknKxN3j+v22RmPBkDs78NOSXYy8pxub1h3m4ccGqacA+bvj4+tKXGwyoe3qbqd07fK9bPxFzd8ytCnJN5l/8PAOLP9+F3fd040zUZeZ/cpPAGTqczmw5zQajQX9Brets/zXJOYUVhq1aeKgJTnv+v334YRM/J1tcLGxJCO/mJXRiayMTgTgpR5BJOaYp+//c80etq9Xv8PTrHVT0pLLl396sh4Xd9P9yupv/yBbn8sT7481S87rObhhN8f+ULd7fEL8yUopz5+VmomjW823W5zcdX9r/tpKyCnAx9Gm7HYTBy3JVd7/dl6OzL+rDQCutlYMCnJTT5U/n4qlhWDRqLasjU7i95jUOs/bEAj5Q6h/eweoYoWVAJZCCBtgAdBVUZTLQohZgE3FmW7Q5kaHCqo919/MXs3YCX0ZO0E97WtPWCSrf97DsBGdOHXyIg4OttVOc+vbP5Tfds4uuz2w+yus2fw6AP0Ghf7l/LdSh7v60+Gu/gDEHjlF+OYwWvTtQuLZOLR2NmUb19cIIfBrG8K5fSdo2a8LUTsO0qx7OwAmL3q7rN2f85YS1LWtWXZ+AKLSs2nqaIOPvZZkQyHD/D14fd+ZSm38HGyILz2q2srFHisLgb6wmOwazFtXbuXyz83Iwk7nqB7VPxuHoijYONbt+fit7xxA6zsHAHD52Cmifw8jqE8XUs7FYW1nW20HQghBk9AWxB04TrM+XYnZeRD/rua7WlRVjT3/NbpmAeQkJpObnIqtq474A0er7cB4d27HhS278O3VlYzzcVja2WLj4kzouHsIHXcPAClRZ4nZvLVB7fwAbNpyjKceGcbK9fvo3imYrOw8EpP1pKRlERzkTUBTD64mpjN2VC8efXa+WTI9ML4PD5SeArY3LJrVy/YydERHIk9ewt7RptoOhKIoxF9Oo6m/O4qisGdnFAGBHgB4ees4cjCGjl2akZ6WzcWLKfj6Vf+uxK107/g+3Fuaf39YNL+s2MuQOzsSFXEJewcb3Ezkv3I5Db/S/PvCovAPUvOv2PxaWbsPZi6nV/82Ztn5ATiZnEWgsy1+jjYk5RYwMtiT/2yJrtQmwMmGi1lq3x/q7oCVhQUZ+epFJtxsrUgzFOHjoGV4M3fu/+W4WXIPu78vw+5XtxuO7YvizzV76H1HJ2IiL2LnYIOLe/UdgO3rD3Dy4BnemPeUWU+RNKXHqH70GKWexXL2UCQHN+ym7YDOxJ+5iI29DY43cWCoVY+2f2v+2gpPzCZIZ0tTJxsScwoY1cqLZzdHVmrT95sDZX9/OrwV2y6k8ed5dWfn42GtiEnP5etjla86KP2z3exORDbg+Bdtru3spAohHIAHgKqXQjHZRlGULCFEvBDiHkVRfhVCaIF6+SZ1n35t2BcWzf13vYeNjTUz3x1fNu0/Ty/m9bfH4eF5/RX7RvPXtcAuocQdjeL7p2djqbVi6PSHyqb9+s7/uGPaRBxcnek7aQy/ffod+3/eiEeQH6F3mP+876pKFPjoyHnmD2yLRgjWXUjiQlYe9werV7VaE5PIkKbu3B3kSbFRoaDEyKt7T99wXnP7u8s/Zv9xTv6+BwuNBZbW1ox48VGznEZwjV+nUOKPRbLm2bfRWFvRb2p5/j8/WEDfJydi56qj64Nj2Dn3O44t34hbUFNaDFbz5+mz2DDjI4oM+QghiNq8k3s/ex1rO/Nclakx57fQaGj/yDj2fTQfxWgkYEAvnPx8iN0WBkDQkP54dWxLUngkW158C0trazpNebjOc9XU9/+dTr9erXF3cSTm4Hze+Ww1VqWX1v/6x638vv04wwd1JHL3XPIMBTz50iJAvZjM8zOXsGHpq2g0Fny/YifRZ81/Kdre/VoySaP8AAAgAElEQVSxb3c0Y++eg9bGmjfe+VfZtBemfsOrsx7Azd2Rd95YTm5OASgKwS19ePmN+wCY/OQdvDtzBQ/e9ykoCtP+cxc6F/NdTKBnv1Yc2BPNxFFq/hlvl+d/edo3vPzWA7i6O/LBzOXk5qr5m7fw4YXX7zNbxuspUWDW7hi+H9UOCyFYdTqRcxl5TAxtAsDPkQnc2dyDe1t6UWxUyC828uyfUWXzLxgeis7GkmKjwlth58gqMN/V967p1Ks1J/ZH859/vY/WxoonX5tQNu3DFxfz7xnjcPVw5ptPVuPu5cKbU+YB0G1AO+5/bDj6tCxef/xzDLn5CAvBbyvD+PinV7Czt7neU95SId3acPZwFF88/g5WWmvueX5i2bQf31zI6Ocm4OTmzIF1u9i7ehs5Gdn8b9qHhHRtw5j/TLjh/HWpRFGYueMsS+/vgEYIVpxK4GxaHg+191Gzn7x63Xm7+ThzfxtvolNy+O0h9cIrH+29wI7Y9OvO80/QkC9OYC7C9HdVbjCDED8D7QEDkKQoysjS++cDRxRFWSKEeBcYD8QBl4GLiqLMEkIsATYqirL6Bm1CgEWAO1AEjAX8gZdMPddfxL2pU+AaEp31XQAsiPqznpPUztQ2wwDosmx3PSepnaMT+jXaZQ/q8p8TvqW+Y9TajA5DG23+GR2GAvDK4W31nKR2Puw2BABb/wl/0bJhMlxaBkB6gfl/R+hWcNWOJtHQOLMDeNuOptmCXfUdo9YuTB3AsdRN9R2jVjq73w3A8vO/13OS2hnf/E4A/D/bUc9JaufSC4PAfF/2/lv+tSPMbOfArRzUv0Euk5s+jUxRFJO79IqiPFPh7zeAN0y0ebQGbc4BVX+A4wKw09RzSZIkSZIkSZJUM/KHUOUykCRJkv6fvfsOj6pYHzj+nWx6COmFEBJCEnoJ0qV3wYZ6vYBcUbmKvaCIIoJ0ERt25KoXLDRBBUV/9N47SeglhEB672V3fn9sSCHBC5FswLyf58mT3XPm7L57ds6cmTMzZ4UQQoha5IbfSEAIIYQQQghxc7KSu8BJD5AQQgghhBCi9pAeICGEEEIIIWoJuQuc9AAJIYQQQgghahHpARJCCCGEEKKWkN4P2QdCCCGEEEKIWkR6gIQQQgghhKglZA6Q9AAJIYQQQgghahHpARJCCCGEEKKWkN8Bkh4gIYQQQgghRC0iDSAhhBBCCCFErSFD4IQQQgghhKgl5CYIoLT+W48D/Ft/OCGEEEIIcdO4JZoWj2/bZLH68Vfdet2U+0R6gIQQQgghhKglZP5LLWgAjd62qaZDqJJ53XoBMGzjlpoNpIoW9+4BQFrB7zUcSdW42g7mpV0bajqMKpvTuc8tH//E/etqOowqmdauHwD/Pbm6hiOpmscaDwQgJX9lDUdSNe529wDgEDC8hiOpmtzoRbRfvLWmw6iyfcO6cyztt5oOo8qaud7Fo1s213QYVTK/R08A+v6xvYYjqZr1g7oCkFV4a5676tj0qekQxHX42zeAhBBCCCGEEGZyG2zpBRNCCCGEEELUItIDJIQQQgghRC0hd4GTHiAhhBBCCCFELSI9QEIIIYQQQtQS0gMkPUBCCCGEEEKIWkR6gIQQQgghhKglpPdD9oEQQgghhBCiFpEeICGEEEIIIWoJ+R0g6QESQgghhBBC1CLSAySEEEIIIUQtIXeBkx4gIYQQQgghRC0iDSAhhBBCCCFErSFD4K4iJTyC04uWorWJet27ETD4jnLrc2LjOP7NfLKiLxB03700uGPANW9b3TIiI4hZuhhtMuHRtTu+dwwqtz4vLpbzC+aTeyGaevcMwWfAwHLrtcnEibenY+PqSvCzL1gydPP7a80Hs35mx9Zj2NvbMHH6cJo2b1Ah3fRJizkWeQG0pkFDLyZNfwhHRzsy0nOYPmkxFy8kYWtnw5tThxEcWs9i8SceieTYD0vRJo1/z64E33XF/tWaYz8sJfFwJAZbW1o9MRKXhgFkxcZx6POvS9LlJCQRev9dBA3sa7HY/w7xxx6O5NC3y9AmE0G9u9LsngHl1mutOfjtj8QdMsff8amHcQsKwFhQyMapH2IsKkIbjfh3akvLf9xl0dgvx7du3nLO7D+KjZ0td744At+Qivk/LS6ZFe/OJy8zB59gf+5++WEMNtbs/mk9kZv2AWAymkiOieOF72fi4Oxkkdg/fGcFO7YeNx+704bSpLl/hXQz3lrK8cgYtNYEBHrx5vShODrakZWZy+Txi4iPS8NoNPHQIz25a0iHao/7srnvPsmgvm1JTM6gff9xlaZ5f8ojDOwdRk5uAaNf+YJDEVEA9O/Zhvcmj8RgsGL+4o289/lKi8V9WRdfN8be1ggrpfjlbBwLjsWUW39HoBePNDPnpZwiI7P2neZUWjYAwxr7cV8jX1Dwy5k4Fp28ZPH4tdZ89cEv7N9xDDt7W16YOIzgphXzzweTvuf0sRisrQ2ENm/A0+MfxNraAED4/tN8/eEKjEVG6ro6MWPusxaLPzUigqjFS9AmEz7du1F/UPlzb25sLKfnLyA7OpqAIUPwG2gum/JTUjj9zTcUpmeAUvj06EG9fpYtNzt4uvJss0ZYKfg9Jp7FZy+WW9/Xz4thQfXNn8NoZE7kGc5m5gAwtlUInb3cSCso5PFthywa92Vaa959eynbt0Zib2/L5BkjadY84KrpZ89cwsqfd7Jt75xyyyPDo3h0xGzefu9x+g24rbrDrjHS+yENoEppk4lTPyyi9SsvYefmxoFpb+MR1honP7+SNNZOjoQ8NIzkg4eue9vqjv3CooWEvDgGGzc3Trw9A5fWbXAo8/4GRyf8hw4j/VDlBVXihnXY+9bDmJdrkZivtGPrMS6cT2TZqjeIOHKe2dOX8c3CMRXSvTRuCHXq2AMwZ/Yv/LhwK4883o/5X62jcVM/Zn80iqiz8bw7czmfffWMRWLXJhOR3y6m47gXsHd3Y8fkWXi3bY1z/dIGWOKRSLLjEugxewppZ84RuWARt7/1GnXq+dJt2oSS19nw0nh824VZJO6/S/wmk4kD/11Kz/HP4+Dhyro3Z+N3Wytc/EvjjzsUSVZcIoM+mEzK6Sj2f7OYftPGYWVjTc83X8DG3h5TkZENU96nXpsWeIQGWfQznN1/lNRLiTz55UQunYhi9RdLeeT9Vyqk2zR/BR3u7UXzHu34v8+WcHjtTm4b3J1O9/el0/3mytOpPeHsXbHJIo0fgJ3bjnPhfBI//vYakUeimT39J75eWPEiykuv3oNT8bH70bsrWbZoOyP/3Ydli3cQFOzDe5+OIjUli6H3zGbgnW2xsbHMqeq7Hzczd8Fqvvqw8vJiYO8wghv60rLHGDq2DeHjGf+mx70TsbJSzJn+GHeOmMnF2GS2/TqD39bu5/ipi5W+TnWwUvBa+2Ce3RhBfG4+3/YPY8vFFM5l5JSkuZSVx+j1R8gsLOL2em5M6BDCo2sPE+ziyH2NfBm59hBFJhMf92zJtkspXMjKs1j8APt3HCf2QhJfLBvPyYho5s5ezrvfvFghXY+B7RgzZQQAH0z8nrUrdjPogdvJyszly9k/8dZHT+Dl60ZaSqbFYtcmE+cWLqT5mDHYurkRPmMmbm3a4Fiu3uBE0LBhpBw6WG5bZWVF4IMPUicwEGNeHkemTcelebNy21YnK+CFFo0YtyeSxLwCPr+9DTsTUjifVVoHiM3JY8zucLKKjHT0dOXlliE8t/MIAKtjElhxPpbXWodaJN7KbN8ayYXoBH75fQoRR87x9rRFfLvotUrTHo04T2aZ4+Iyo9HExx/+TJeuzas7XHETkEZgJTLOnsPB2xsHLy+srK3x7tie5IOHy6WxrVuXukENUQbDdW9bnXKizmHn7YVd8fu7dehA+pHyDR2bunVxahhUIXaAgtQU0sPD8ejazVIhV7BlYwSD7umAUopWbRqSmZlLUmJ6hXSXGz9aa/LzC1HKPKvv3Jk42ndqDEDDRj7EXkwhOckyJ8K0s1E4+Xjh6G3e//U6tSfhQPnvP+HAYep37YxSCreQRhTl5JCXVv7zJUUex9HLEwdPD4vEfdmtHn/K6Sjq+HhRx8cTg7U1AV3acWn/kXJpLu4/QsPunVBK4REaRGFOLrmp6SilsLE35ymT0YjJaIIamCh6alc4Lft0RClF/aZB5GfnkpVSfv9qrTl/5BRNu5obmK36duTUrvAKr3Vs8wGa92hnkbgBtmyMZNDd7VBK0bJNIFmZeSQlZlRI51T22M0rPXaVUuRk56O1JjengLoujhgMljtNbd9znJS0rKuuv2tAOxYu3wrAnoOncanriK+3Kx3CQjgTFUdUdAKFhUZ+/HUndw1ob6mwAWjh7syFzDwuZudRZNKsiU6kZ333cmmOJGeSWVgEQHhSJt4OdgA0rOtIeHIm+UYTRg0HEtPp7e9p0fgB9myJoNcgc/5p0iqQ7MxcUpIq5p/2XZuhlEIpRWiLAJIT0gDYsvoAXXq3wsvXDQBXd2eLxZ517hz2Xt7YF597PTt0IPVQ+bLTpm5d6gRVrDfYurpSJzAQAIO9PQ716lGQlmap0Gnq6szF7Dxic/Mp0pqNsYnc7l0+7xxNyySryFjy2MvetmRdeGoGGcX5qqZs3niYO+/pXFxvaERWZg6JldQbjEYTc97/iRdeub/CuiULN9K3f1vcLJhvaoqVstzfzeqGnlmUUv9SSu1RSh1SSn2plApUSp1SSnkqpayUUluVUgOK0/6ilNqvlIpUSo0u8xpZSqkZSqnDSqldSimf4uXBxc/3KqWmKqWufpb6iwrS0rBzdyt5bufmRv41FkZ/ZdsboSA1DVu30oLL1tWNwtRrf/+LS5dQ//5/gKq5tnFiQjo+vq4lz719XElMqFiQAUx9cxGDek0i6lwC/3yoOwChTeqzaZ250hsZfp642FQS4i3zHeSlpmFf5vu3d3cj74r9n5eahr1H+TT5V6SJ3b0Pv86WG/pz2a0ef25qGo5lYnNwdyU3Je2KNOk4uLuWT1Mcv8lkYs34max86jV8WjXFI8SyvT8AmcnpOHuWxufs4Upmcvn8n5uRjV0dB6yKK1KVpSnMK+DsgWM0ub1N9QddLDEho9yx6+XjctVjd/rEJdzZeyrnoxJ5cHhXAP4x/HaiziVwd99p/OuB9xnz2r1YWd081+n8fN2JiU0ueX4xLgU/X3f8fN2IuVRmeWwy9X3cKnuJauPtYEd8Tn7J84TcgpIGTmXubeTDjthUAM6kZ9PWqy4uttbYGazoWs8dH8erb1tdUhLT8fQpzT8e3i6kVFKJvayoyMimP/bTtnNTAC5FJ5KVkcOEpz/n5ZEfsvH3fdUe82Xmc3+Zc6+bK/lpqdf9OnlJSWRfiKZOkOXKHk97WxLzCkqeJ+YV4Gl/9e9/UAMf9iRarl5zLRLi0/DxLT3mvH3cSKzkvL9k4SZ69m6Nl5dLhe03rj/MA//sUd2hipvEDTuzKKWaAUOBrlrrMMAI9ATeAeYCrwBHtdZrijcZpbVuB7QHXlBKXb5U7ATs0lq3AbYATxQv/wj4SGvdAbjq4GSl1Gil1D6l1L558+ZV7cP8ld+HqvHflqokgGtsgacfOYy1c10ci69E1RStK9uJlX+ISdOHs2rDFIIa+bD2/8zDCkb+uy8ZGbn86x/vsnThVho3rY/B2kKVqEpiv3x1+1qZiopIOHgE3441MP74lo+/kmVXxv8n+cvKyooBb7/BXZ/OIOVMFOkXLD8PorIPUfEr+N9pTu+NoH6zIIsNfwOuK/+8OW0ov66fSMMgb9atNl8p3739JKFN/Ph1/UQW/DiG92f+TLaFh2H9GVVJOaS1rvQzVprNqlMlu/lqIbTzduHeRr58cvgcAFEZuXx7PIbPerXik54tOZWWjdHiH+D699mXs5fTPKwRLdo2Asxz3s4cj2HiB/9m8sdPsPTrtVyMTqyGSCtRWd6/zi5kY14eJ7+YS8OhQ7F2cLhRkVVJ5edhCHN3YZC/D/85EWXZgP6HysK98rBMTEhj3ZoDDH2oV4W0773zIy+MGWLRHueapJS22N/N6kYOrO4LtAP2Fp8MHIAErfVkpdSDwFNA2QkBLyil7it+3AAIBZKBAuC34uX7gf7Fj7sAQ4ofLwTeqywIrfU84HLLR+/btum6P4itmyv5KaVXbvJTU7Fzdf2TLW7MtjeCrZsbBakpJc8L0lKxucb3zz5zhvQjh8iICMdUVIgxN4+ob76i4ajHqyvcEj8u2saK5TsBaN4ygPi40is3CfFpeHnXveq2BoMV/QaG8f38jdx9Xyfq1LFn0vThgLkQv++OafjVt8xQLHt3N/LKfP95KanYuZa/0mTv5kpe8hVp3Eq/o8QjkdQNDMDO5eqfubrc6vE7uLuSUya23JQ0HNxcKqQp2ytUWRpbJ0e8m4USe/goLg2qfxz+/lVbOLzanP/rhQaQmVQaX2ZyGnXcr/gMdeuQn5WLyWjEymCoNM3RLZYZ/rZs8XZWLt8NQLMWDcodu4nx6Xh6/fmx2/eONvwwfzN3DenAqhV7eXhUb5RSNAjwxK++O1HnEmjR6uqTmS3pYlwy/vVKy5L6vu7Exqdia2ONv1+Z5fU8uJRw/Vf//4qEnPxyvTbeDrYk5uZXSBfi4sjEjqG8sDmS9ILSYUsrzsaz4mw8AM+0DiQhp6DCttXh9x+3sWaFOf+ENm9AUpmr9skJ6bhfcaX+ssVfrSY9NYvX33m0ZJmHtwvOrk7YO9hh72BH87aNiDp1ifoBXtX6GcB87s1PKXPuTU3D9jrO/aaiIk58MRfPTp3wuM2yF4+S8grKDWnzsrclOb/i99/I2ZFXWgUzfu/RGh/yBrB00SZ+XrYdgOYtA4mPKz3mEuJT8fQuv/+PH7tATHQiQwZPAiAvr4B7B01ixR9TORZ5nvGvmm/ik5aazfatERgMVvTua9l5rMJybmRTVwELtNZhxX9Nihs/jsDl27jUAVBK9QL6AV2Ke3oOAvbFaQp16aUHIzVwo4a6QQ3JjU8gNzHJfDV7zz48wq5tGMlf2fZGcAxsSH5CAvlJiZiKikjduxeX1tf2/n733U/LWe/SYuYsGv57NM5Nm1ik8QPw4PBufL/sVb5f9io9+rTkj5V70VoTfjiKOnUc8LziJKi15kLxlT2tNVs3RxIY5A1AZkYuhcWF84rluwhrF1wyX6i6uQQFkh2fQE7x9x+7ex/ebVuXS+PdtjUXt+9Ca03q6bNYOzhgX6aREbtrL36dLTt/4LJbPX734ECy4hLISkjCWFRE9M79+LVrVS6NX7vWRG3djdaa5FPnsHFwwMHNhbyMTAqyzRNjiwoKiI84QV0/H4vE3e7OHoz6+DVGffwaoZ1bE7FhD1prLh4/h52jfYXGjVKKgNahHN9unt8Xvn4PoZ1KP2dedi4XIk4T2rn8Z68O/xjWlW9/fJlvf3zZfOz+uh+tNRGHz+PkbF+hAWQ+dpNKHm/bdJTAhuYKqo+vK/t2nwYgJTmT8+cTqe9v2Xlkf2bV2gM89IB5qG3HtiFkZOYQl5DGvsNnCAnyJbCBFzY2Bh68uwur1u63aGxHUzJp4GyPn5Md1laKAQFebLmYUi6Nj6Md73ZrzqSdJ4jOLH+TGzc7m5I0ffw9WX3eMj0ngx/sxpzvX2HO96/QqUdLNv1hzj8nws/jVMced8+KDei1K3ZxcNcJXpn2cLkhkh17tOToobMYi4zk5xVwKjIa/4beFvkcdRo2JC8hgbzisjNp717c2lzbuVdrzZkF3+JQrx5+A/r/7w1usOPpmdR3csDXwQ5rpehdz4sdCeXzjre9LZPbNuXtw6eIybk5emX/ObwXi5ZPYNHyCfTq04ZVK3cV1xvOUqeOQ4Vhbt17tmLN5nf4bc0MflszA3t7W1b8MRWAX1dPL1ned0BbXn9z+N+68SNzgG5s42I9sEIp9aHWOkEp5Q44A2OBH4DzwH+AuwAXIFVrnaOUagp0vobX3wU8ACwBht3AuCtQBgMhI4YR/uFHaJMJ325dcarvx6VNmwHw69WTgvR09k+biTE3D5QiZt16OkybjLWDQ6XbWooyGPAf+hBnPp6DNmk8bu+Kg199krZsAsCzRy8K09M58fZ0jHl5KKVI3LCOZm9NxVDDXe6Xde3enB1bjvHAYHMBNXF66df90tPzmDBlKB6ezkydsJDsrHw0mtDGfoyb+CAAUWfjmTzhBwxWVgQF+zBhSrVml3KsDAaaPzyMve9+gjaZ8O9xO87+fkRv2AJAQJ8eeLVpSeKRCDa/OgmDnS2tHx9Zsr0xv4CkiOO0eHSExWL+u8V/26P/ZMusz8y3we7VBRd/P06vM09cD+nXnXphLYg9FMnvYyZjbWdLhyf/BUBeWgZ7vvgWbTKhtaZB59vwu636GxBXCm7fnLP7Ivly9FRs7GwZ/GLpvlw6eS6Dnh+Os4cLvR+9hxWz57Pl+1X4NPKn9YDSYvTkziMEtW2K7Z+M468Ot3dvyo6tx3jwzlnY2dvy5rR/lqx7+ZmvGT/5H3h4OjPtzcVkZ+WD1oQ08WPcm+YJyY892Y/pE5cw4v73QWuefWkwrm6WG8K34JPn6d6lGZ5uzpze/SnTPlhWcge6r75fx/9tOMjA3mFEbp1DTm4+T479EjBPrB4zcT6/fjceg8GKBUs2cexkzJ+91Q1n1PDu/jN80rMlBivFyrPxnM3I4YFgXwCWn4njiRYBuNhZ81r7kOJtNCPXmBvRs7s1w8XWhiKTiXf2nym5WYIltevajP07jvHUA29jZ2/DCxNLy+6pL/2H5yb8E3cvF754Zzlevm689vjHAHTp1Yqhjw+gQZAPt3Vuyosj3sfKStHvnk4EBlvmJxCUwUDQQ8M5NmcOWpvw7toVx/p+xBXXG3yL6w3h02dgzDPXG2LXraPN1CnkxMSQtGsXjvXrc3iKuUIecP99uLWyTPlj0vDJ0bO806EFVgr+iEngfFYudzUw553fLsTxcEgAdW1teLGFebihUcMzO8xDVye0aUwbdxdcbK1Z3Ls9C05F80dMgkViv6xbj5Zs3xrBvYMmYe9gy+RppeelF57+lIlT/oWXt+VG44ibn7raOM8qvZhSQ4HxmHuWCoGXMc8B6qq1NiqlfgJ+xTyE7RegPnAC8AIma603KaWytNaXe4r+AdyltX5UKRUKfI+5p2kVMFprXf9/hKRHV2EI3M1gXrdeAAzbuKVmA6mixb3NEwnTCn6v4UiqxtV2MC/t2lDTYVTZnM59bvn4J+5fV9NhVMm0dv0A+O/J1TUcSdU81tj8u08p+Zb/HZsbwd3uHgAcAobXcCRVkxu9iPaLt9Z0GFW2b1h3jqX99r8T3qSaud7Fo1s213QYVTK/R08A+v6xvYYjqZr1g8w3Q8kqvDXPXXVs+kCN3Dv0+k3Yt95ik3NmtO97U+6TGzq8TGu9BHMPTVmdy6wve9/BQVTicuOn+PEyYFnx04tAZ621VkoNAyx3exchhBBCCCHE38Kt9EOo7YBPlfkOC2nAqBqORwghhBBCiFuK1U18dzZLuWUaQFrrrYDl7iYghBBCCCGE+Nu5ZRpAQgghhBBCiL/mZr47m6XUjl98EkIIIYQQQgikB0gIIYQQQohaQ3qApAdICCGEEEIIUYtIA0gIIYQQQghhcUqpO5RSJ5RSp5VSr1eyXimlPi5ef0QpdduNeF8ZAieEEEIIIUQtYajpAIoppQzAZ0B/IAbYq5RaqbU+WibZICC0+K8T8EXx/79EeoCEEEIIIYQQltYROK21Pqu1LgAWA/dekeZe4FtttgtwVUrV+6tvLD1AQgghhBBC1BKW/CFUpdRoYHSZRfO01vOKH9cHLpRZF0PF3p3K0tQHYv9KXNIAEkIIIYQQQtxwxY2deVdZXdn96K5snV1LmusmDSAhhBBCCCFqiZvoNtgxQIMyz/2BS1VIc91kDpAQQgghhBDC0vYCoUqpIKWULTAMWHlFmpXAyOK7wXUG0rXWf2n4G4DS2nLjAGvA3/rDCSGEEEKIm8bN07fyJ2YfWWux+vG41v3/dJ8opQYDczDfnO4brfUMpdRTAFrruUopBXwK3AHkAI9prff91bj+9kPg+v6xvaZDqJL1g7oCMHrbppoNpIrmdesFwLqLv9dsIFXUr/5gBq7eVtNhVNnqgd0Yu3tDTYdRZe916sP0g+tqOowqebNtPwDmHV9dw5FUzeimAwGIy73yItytwdfhHgDaL95aw5FUzb5h3XEIGF7TYVRZbvQi4GRNh/EXNKbXqluz3rDpTnO94Vav92QWrq/hSKrG2aZvTYdwS9Ja/w78fsWyuWUea+DZG/2+f/sGkBBCCCGEEMLMcEv0U1UvmQMkhBBCCCGEqDWkB0gIIYQQQoha4ia6C1yNkR4gIYQQQgghRK0hPUBCCCGEEELUElZKbpIsPUBCCCGEEEKIWkN6gIQQQgghhKglZA6Q9AAJIYQQQgghahFpAAkhhBBCCCFqDRkCJ4QQQgghRC1hqOkAbgLSAySEEEIIIYSoNaQHSAghhBBCiFpCboIgPUBCCCGEEEKIWkR6gIQQQgghhKgl5IdQpQF0VR08XXm2WSOsFPweE8/isxfLre/r58WwoPoA5BqNzIk8w9nMHADGtgqhs5cbaQWFPL7tkMVjTwmP4PSipWhtol73bgQMvqPc+pzYOI5/M5+s6AsE3XcvDe4YcM3bWoLWmh8//ZnI3cewtbfh4XHDCWjcoEK6TT9vZePyLSRdSuKdn6dRx6UOACcPnebLiV/j4esOQFj31gweOdBi8bf3dOWppo0wKMUfMfEsPRdTbn0DJwdebhlKSN06LDh1nmVRpXlrSIAfg/x9UAr+iInn5/OXLBb3ZQlHIon4finapAno2ZXQu8vvO601kd8vJf5wJAY7W8KeGIlrwwAA1r08AWt7e5SVFcrKih5Tx1s8/ouHItm3YBnaZCKkT1da3jug3HqtNXsX/Milg2x/z0wAACAASURBVOb4b3/6YTyCzPHvmPsdMQcisK/rzD3vvWnx2C/Ht/E/yzm3/yjWdrbc8eIIfIIr5v/0+GR+e3c+eVk5eDfyZ/CYhzHYmIv0C+Gn2Pj1T5iKjDjUdWLozBctFvvHs1ewe9tx7OxtGD91KI2b+VdI987kpZw4GoPWmgaBXrw+dSiOjnYl649FXOCZkZ/w1jv/olf/1haJHaCLrxtjb2uElVL8cjaOBcfKH7t3BHrxSDPzd5FTZGTWvtOcSssGYFhjP+5r5AsKfjkTx6KTlj925777JIP6tiUxOYP2/cdVmub9KY8wsHcYObkFjH7lCw5FRAHQv2cb3ps8EoPBivmLN/Le5ystGLmZ1poZM+axefN+7O3tmDXrRVq0CKmQ7vXXP2TPngicnZ0AmDXrJZo1a0RmZjavvvo+ly4lYjQaGTXqfh54oJ/F4u/o5cpzzRthULDqQjwLz5SvN/Tz82J4cGm94cPwM5zJzMHL3pY3whrjbmeDScNv0XEsj4q1WNxwa9d5wJx33nv7R7ZvjcTe3obJM0bStHnAVdPPnrmEX3/exda9HwKwacNh5n7yK1ZWVhgMVrzy+j8Iu61i3hN/H3+pAaSUytJa16lk+XzgN631sr/y+le85qNAe631czfqNa/GCnihRSPG7YkkMa+Az29vw86EFM5n5Zakic3JY8zucLKKjHT0dOXlliE8t/MIAKtjElhxPpbXWodWd6gVaJOJUz8sovUrL2Hn5saBaW/jEdYaJz+/kjTWTo6EPDSM5IOHrntbS4jcfYzEi4lM/u4Noo6dZ/GcZYz7fEyFdMEtg2jVpQVzxnxaYV1Iq0Y8PfMJS4RbjhXwbLNgxu+LICmvgE+6hLErIZno7NK8k1FYxBfHznK7t0e5bQPrODLI34cXdh2mUJuY2a4luxNTuJSTZ7H4tclE+LeL6TzuBRzc3dj61ix8b2uNc/16JWkSjkSSFZ9An3enkHbmHOHzF9F98msl67uMH4Odc4ViwSJMJhN7vllKvwnP4+jhyh9vzMa/XStc/Uvjv3QokszYRO6dM5mk01Hs/moxg2eYK4vBPTvTZGBPtn/2bY3ED3Bu/1FSYxMZNXcisSejWPfFUka890qFdFsWrKDdPb1o2qMdaz9fQvi6nYQN6k5eVg7r5i7lgclPU9fLnZy0TIvFvnvbcWKik/hh5WscDY/mgxk/Mff7Fyqke27sPTjVsQfg0/dW8vPi7YwY1QcAo9HElx+tokOXJhaLG8xj4l9rH8yzGyOIz83n2/5hbLmYwrmMnJI0l7LyGL3+CJmFRdxez40JHUJ4dO1hgl0cua+RLyPXHqLIZOLjni3ZdimFC1mWO3YBvvtxM3MXrOarD5+pdP3A3mEEN/SlZY8xdGwbwscz/k2PeydiZaWYM/0x7hwxk4uxyWz7dQa/rd3P8VMXK32d6rJly36ioi6xZs2XHD58gsmTv+DHH9+vNO24caO4446u5Zb98MMqgoMDmDt3Eikp6dxxx1PcfXdPbG1tqj12K+DFFo0Yu9tcb5jbrQ3b46+oN+Tm8eLO4nqDlyuvtArhmR1HMGrN50fPcSojGweDgXnd2rAvKa3cttUd+61a57ls+9ZILkQn8PPvk4k4EsXb0xazYFHlFwGORpwnM6P8vu3YuQk9e7dGKcWpEzG8PvZrlv/6liVCrxEGmQMkc4Aq09TVmYvZecTm5lOkNRtjE7nd271cmqNpmWQVGUsee9nblqwLT80go7DIojFflnH2HA7e3jh4eWFlbY13x/YkHzxcLo1t3brUDWqIMhiue1tLOLIjgk79O6CUIqh5Q3KzcklPTq+QrkGof0kvz82iiYszl3LyiCvOO5tiE+lyRUMnvaCQkxlZFOnyXdABTg4cS88k32TCpOFISjpdr9i2uqWeicLJ2wsnb3Me8OvcnrgD5fNA3IHDNOjaGaUUbiGNKMzJIS+t4vdTE5JPR+Hs64WzjycGa2sCb2/HhX1HyqW5sO8IjXp0QimFV2gQhTm55KSa4/dpFoqdk1NNhF7izJ5wmvfuiFIKvyZB5GfnkpVSfv9qrYk+corGXcMAaNGnI6d3hQNwfMt+Qru0oa6X+dhwdHW2WOzbNkUy8K52KKVo0TqQrMw8khMzKqS73PjRWpOfX4hSpWfjnxZtp2ffVri5W/Z7aOHuzIXMPC5m51Fk0qyJTqRn/fLly5HkTDKLy/bwpEy8Hcy9Vg3rOhKenEm+0YRRw4HEdHr7e1o0foDte46TkpZ11fV3DWjHwuVbAdhz8DQudR3x9XalQ1gIZ6LiiIpOoLDQyI+/7uSuAe0tFXaJ9et3MWRIH5RShIU1JSMjm4SElGveXilFdnYOWmuys3NxcXHG2toyN/xt6urMxZzSesOGS4l09SmffyJTy9QbUjPxcjDXG1LyCzmVYe5JzDUaOZ+Vg2eZOoVFYr9F6zyXbd54hMH3mMv1Vm2CyMzMISmx4nnJaDTx0fs/8eIr95Vb7uhoX1IO5eYWIO2Dv79rbgAppV5WSkUU/710xTqllPpUKXVUKbUK8C6zLkop9Y5Sak/xX0jxci+l1HKl1N7iv67FyzsqpXYopQ4W/69wGVApdadSaqdSqlrOMJ72tiTmFZQ8T8wrwNPe7qrpBzXwYU9iWnWEct0K0tKwc3creW7n5kZ+2rXF9le2vZHSk9Jx9XYtee7q5Upa0vVVsM8djWLm4+/y2etfcumc5YYSeNjbkpiXX/I8KS//mk9kUVk5tHJzwdnGGjsrKzp4ueH1J/muOuSlpuHgUZoH7N3dyEstnwfyUtKwL5NPHNzdyEu5nEaxa/bHbJk0k/Mbt1oi5HJyUtJwKhO/k7sruSlpV6RJx8mjNH85VpKmJmUlp+PsWRqfs6crWVdcAMjNzMbeyQGr4osYdTxcSxpJqZcSyMvKYcmEj/nu5dlEbthjsdiTEjLw9i2N3cvHhcSEyo/dtyct4b6+U4k+l8j9w8xX8hPj09m6MYJ7HuxikXjL8nawIz6n9NhNyC0oaeBU5t5GPuyITQXgTHo2bb3q4mJrjZ3Biq713PFxtOyxey38fN2JiU0ueX4xLgU/X3f8fN2IuVRmeWwy9X3cKnuJahUfn4yvb+lp3dfXg/j45ErTfvjhd9x99/PMnPkfCgoKARgx4k7OnImhe/dHuOee55kw4QmsrCxzndfL3pbE3PL1hj8rv+8M8GFPQsVyx9fBjlCXOhz7k4bsjXYr13kuS4xPw9e3NM/6+LiREF8xxqULN9Gjd2s8vVwqrNu47hAP3D2Fl575nEnTHq7OcGuclbLc383qmobAKaXaAY8BnQAF7FZKbS6T5D6gCdAK8AGOAt+UWZ+hte6olBoJzAHuAj4CPtRab1NKBQCrgWbAcaCH1rpIKdUPmAk8UCaW+4CXgcFa69RKYh0NjAb48ssvoUGLa/mI/5PWlU8YC3N3YZC/Dy8VX32tcX9lXttNMieusn1d9grx/9Ig1J+piyZh72BHxK6jzJv0DZO/m3AjQ7yqyqK8Stap4EJ2LkvPxfB2+5bkFRk5l5mN8Vo3vmEqe79r2PfFSbpNHIu9myv5GRnseudj6tTzxaNpzQ2LMMd2ZfyVfMbryF/VrfL8XyHRVdOYjCYSzlzgwWnPUVhQyKJxH1KvSUPc63tX2OZGu55jd/zUoearsbN+YcPqwwwe0oFP3l3Jky8OxmCogcEJlYR5taOvnbcL9zby5fH15t7RqIxcvj0ew2e9WpFTZORUWk0cu/+bquRDaq0r/Y5qIvzK3rOy2F5++RG8vNwoLCxi4sRPmTdvGc89N5xt2w7SrFkQ3347g+joWB57bCLt27egTh1HC0Rfkb5KDgrzcGFwAx+e31G+3uBgsGJKu6Z8evQsOcW9LTXllqnzFLuWsicxIY11aw7y5X9fqpAWoHe/MHr3C+PAvlPM/fRXPv/KMnMnRc241jlA3YCftdbZAEqpn4DuZdb3ABZprY3AJaXUhiu2X1Tm/4fFj/sBzctk0LpKKWfABViglArFfP4pO3i3N9AeGKC1rjiuAtBazwPmXX665I/t1/gRSyXlFZTr3vWytyU5v6BCukbOjrzSKpjxe4/WePfvZbZuruSnlLYL81NTsXN1/ZMtbsy2f9XmX7axfdVOAAKbBJBW5spYWmIaLh51r/m1HJzsSx637NycJR8tIys9q+QmCdUp6Yqrfp72dpXmnatZfTGe1RfjAXgsNLBcb5Il2Lu5kZtcmgfyUlKxdyt/pcze3ZW8MvkkNyUVezfX4u3N/+3q1sW3XRhpZ6Ms2gBydHclu0z82SlpOFwRvzlNaf7KqSSNpR1ctYXwteb87xsSQGZSaXyZSWk4uZePz6FuHfKyczEZjVgZDGQlp+FU/BnqeLjiUNcJG3s7bOzt8G8RTGLUxWprAP28eDu//bQbgCYtGpAQVxp7Ynw6nl5XP3YNBiv6DGzD4gWbGTykAyeOXmDqaz8AkJ6Wza5txzEYrOjep2W1xF5WQk5+uV4bbwdbEnMrHn8hLo5M7BjKC5sjSS8oLfdXnI1nxVnzsftM60AScq79uLeUi3HJ+NcrHVZb39ed2PhUbG2s8fcrs7yeB5cSKlxfrBY//LCKpUtXA9CqVShxcUkl6+LikvH2rjjM+fIyW1sb7r+/H9988xMAP/20jtGj/4FSisBAP/z9fTl7NobWrRtX++dIzCsoGdIG5npDUl7l9YZXWwXz2hX1BoNSTGnXlHUXE9kad+3D/m6EW7XOs3TRZn5ZZq7jNW8ZSFxcaZ6Nj0/Fy7t8uXni2AViohO5b7B5bk9eXgFDBr3FL39MKZfutvahxFxIIi01C1e3mpnPWt1u5p4ZS7nWy2zXsqv+7HqRruSxFdBFax1W/Fdfa50JTAM2aq1bAncD9mW2PQs4A9Vamh1Pz6S+kwO+DnZYK0Xvel7suGIcsre9LZPbNuXtw6eIseAk9f+lblBDcuMTyE1MwlRURMKefXiEtan2bf+qnkO68cZ/XuWN/7xKm24t2b12L1przh2NwsHJARePa6+gpqdklFwNijp2Hq01TnUtM5/gREYm9R0d8CnOO73qebHrOsawuxRP1vWyt6OrtwebYhOrK9RKuTYKJDs+gZziPHBp1z5825a/C5dv29Zc2L4LrTWpp89i4+iAvasLRfn5FOWaj4Wi/HwSI47h7G/ZG2h4BAeSGZdAZkISxqIizu/YT4N2rcql8W/XmrNbdqO1JvHUOWwcHXCs4QZQ2zt7MHLOa4yc8xohnVtzdOMetNZcOnEOOyd76lzRAFJKEdAqlJPbzTcyidywh5BO5s8Z0qkVF4+exWQ0UphfQOzJ83j4+1Rb7PcN68rXS1/m66Uv0713S1b/tt98p8Aj53GqY4/HFQ0grTUx0Uklj3dsOUpAkBcAS35/gyV/mP969mvFmDfut0jjB+BoSiYNnO3xc7LD2koxIMCLLRfLH7s+jna82605k3aeIDqz/CRqNzubkjR9/D1Zfd6yx+61WLX2AA89YL522bFtCBmZOcQlpLHv8BlCgnwJbOCFjY2BB+/uwqq1+y0S04gRd7JixcesWPEx/fp15pdfNqC15tCh4zg7O1baALo8L0hrzbp1uwgNDQSgXj0vdu4098olJaVy7lwM/tWY98s6kZ6Jf5l6Qx8/L3bEV6w3TGvXlJmHTxGTXb7eMK51CNFZufx4zvJ3D7xV6zz/HN6ThcvfYOHyN+jVpzW/rzSX6+GHz1GnjkOFYW7derZi9eZZ/LpmOr+umY69vW1J4+dCdEJJveH40WgKC4twca3Z+aCiel1rD9AWYL5SahbmxtB9wMNXrH9SKfUt5vk/vYGFZdYPBWYV/99ZvGwN8BzwLoBSKkxrfQhzD9DlW888ekUc54GxwM9KqQe11pHXGP91MWn45OhZ3unQAisFf8QkcD4rl7sa+ALw24U4Hg4JoK6tDS+2aASAUcMzO8wF74Q2jWnj7oKLrTWLe7dnwalo/ohJqI5QK1AGAyEjhhH+4Udokwnfbl1xqu/HpU3mEYt+vXpSkJ7O/mkzMebmgVLErFtPh2mTsXZwqHRbS2vRqTmRu48x+V8zsLW35V/jhpWs++z1eYwYOxRXTxc2/rSFdYs3kJGSyczH36VFp2aMGDuMg5sPs3XldgwGAzZ2Nox6c+R1DaH7K0waPjt2hpntWmKlYM3FeM5n53CnvznvrIqJw83Whk+6hOFobUBrGBLox+htB8gxGpkU1hRnGxuMWvPpsTMlk04txcpgoOXIYeya/Qlam2jQ43ac/f2I2rAFgIZ9euDdpiUJhyPY8OokDLa2hD0+EoD89Az2ffSleT+YTNTv0gHv1jdmCOr1xN/xsX+yfuZn5ttg9+6CawM/Tq41z0dq3L879du24OKhSH55cTLWdrbc/tS/Srbf+vE3xB89RV5mFsufmUDrf9xJaJ/bLfoZgto15+y+SL5+aio2drYMfH5Eybqfps5lwLPDqePhQvdH7mHVe/PZ/sMqvBv507J/ZwA8GvjSsG0zFrwwC2VlRav+nfEMtMxx3Ll7U3ZtO8ZDd8/Czt6W16f8s2TduGe/Ztxb/8Dd05m3Jy4mOzsftCa4sR8vT7jfIvH9GaOGd/ef4ZOeLTFYKVaejedsRg4PBJuP3eVn4niiRQAudta81j6keBvNyDXmRujsbs1wsbWhyGTinf1nSm6WYEkLPnme7l2a4enmzOndnzLtg2XYFN8a/avv1/F/Gw4ysHcYkVvnkJObz5Njzcer0WhizMT5/PrdeAwGKxYs2cSxkzF/9lbVomfP9mzevI/+/Ufj4GDHzDK3b3/iiclMn/48Pj4ejB37Pqmp6Witadq0EVOmmO9698wzQxk/fg533/0cWmvGjn0Ud3fLXNwwavgo4izvdiytN0Rl5XJPgDn/rIyO45FQc71hTJl6w5PbD9PKzZmB/t6cycjmq27mi47/ORHN7kTL9MLdynWey7r2aMn2rZEMGfQW9g62vFVmDs8LT3/GxCkj8PK++oiW9WsP8fvK3VhbG7Czt+Ht9/5tsXpDTZAeIFBXG+dZIaFSLwOjip9+pbWec/k22MqcSz4B+gAni9N8r7VeppSKAv4LDMbc6zNca326+AYGn2Ge92MNbNFaP6WU6gIsABKBDcDDWuuGZW+DrZRqC/wA3K21PvMnYeu+VRgCdzNYP8g8KXj0tk01G0gVzevWC4B1F3+v2UCqqF/9wQxcva2mw6iy1QO7MXb3lSNRbx3vderD9IPrajqMKnmzrfl3R+YdX13DkVTN6Kbm332Ky7X878DcCL4O9wDQfrHlb8JxI+wb1h2HgOE1HUaV5UYvorQacCtqTK9Vt2a9YdOd5nrDrV7vySxcX8ORVI2zTV+4thFTNe6706stNsvv4ZCBN+U+uebfAdJafwB8cMWyOsX/NebenKv5TGtdbpCl1joJc4/Qle+zk/JD3CYWL58PzC9+fBBofq2xCyGEEEIIIcCgbr6btFia/A6QEEIIIYQQota45h6gqtJaN6zu9xBCCCGEEEKIa1HtDSAhhBBCCCHEzUGGf8k+EEIIIYQQQtQi0gMkhBBCCCFELSG3wZYeICGEEEIIIUQtIj1AQgghhBBC1BLSAyQ9QEIIIYQQQohaRHqAhBBCCCGEqCXkh1ClB0gIIYQQQghRi0gPkBBCCCGEELWEzAGSHiAhhBBCCCFELSI9QEIIIYQQQtQS0gMESuu/9USov/WHE0IIIYQQN41bomnxa/QfFqsf3x0w6KbcJ3/7HqCtcatqOoQq6e57JwAfRa6p4Uiq5sUWAwAYuXlzDUdSNd/27MmK83/UdBhVdm/gIGYeWlvTYVTZG2H9mXd8dU2HUSWjmw4E4KntG2s4kqqZ27U3AI0+vzWP3bPP9ATgWNpvNRxJ1TRzvQs4WdNh/AWNcQgYXtNBVFlu9CK+O31rlj0Ph5jLnmXn/q+GI6mafwTdAUDzb7bUcCRVc3RUj5oO4ZpJD5DMARJCCCGEEELUIn/7HiAhhBBCCCGEmUF6gKQHSAghhBBCCFF7SANICCGEEEIIUWvIEDghhBBCCCFqCSslN0mWHiAhhBBCCCFErSE9QEIIIYQQQtQS0vsh+0AIIYQQQghRi0gPkBBCCCGEELWE/BCq9AAJIYQQQgghahHpARJCCCGEEKKWkB9ClR4gIYQQQgghRC0iPUBCCCGEEELUEvI7QNIDJIQQQgghhKhFpAfoKrTWLPr4Z8J3H8PWzpZR44cT2Ni/QroNP21l7bItJF5M5sMVU3F2rQPA/y3awO51BwAwGk3Eno/nwxVTqVPXySKxb/t6OecPRGJtZ0vf5/6FV3CDCuky4pNY88F88rNy8Azyp9+LIzHYWHNuzxF2L1qFUgorgxXdRj1AvWbB1R73ZWkREZxfsgRtMuHdrRt+gwaVW58bG8vZBQvIjo6mwZAh1BswAID8lBTOfPMNhRkZKKXw7tED3759LRb3ZVprVn7+E8f3HsPGzoZ/jn0I/9CK+3/7iq1s+3kzyZeSeOvH6Ti5mPPOgfX72LR0PQB2Dnbc9/yD+AXXt2j8e+Yv4+JBc/7p+vTDeDSqGH9mQhJbPvov+Vk5eAQ1oNtzIzFYW1/z9tUZ/8b/LOfc/qNY29lyx4sj8Kkk/6fHJ/Pbu/PJy8rBu5E/g8c8jMHGXCReCD/Fxq9/wlRkxKGuE0Nnvmix+JPDIzm1cCloE/W6dyXwzjvKrddac2rhUlLCI7CytaXZvx/BOTDAHPfa9cRu2Y7WGr8e3WgwwLL5v0cDNyZ1C8HKSrH0aCxzD14ot75fQw9e7tQQkwajSTNt22n2xWUA8Gjr+gxtVg+lYMnRWP575KJFYwfzvv3qg1/Yv+MYdva2vDBxGMFNK5b7H0z6ntPHYrC2NhDavAFPj38Qa2sDAOH7T/P1hyswFhmp6+rEjLnPWjT+GTPmsXnzfuzt7Zg160VatAipkO711z9kz54InJ3N56NZs16iWbNGZGZm8+qr73PpUiJGo5FRo+7ngQf6WST2ue8+yaC+bUlMzqB9/3GVpnl/yiMM7B1GTm4Bo1/5gkMRUQD079mG9yaPxGCwYv7ijbz3+UqLxHwlrTVrvlzO6X1HsbGz5e4xI6gXUrHsSY1L5ud35pOblUO9YH/ufcVc9uRl57LivW9JT0zFZDTR+f4+hPXvbNH4V33xEyf2HsXGzoYHXhlB/UrOXTtXbmHHz5tJiU3ijSUzSs5d17p9dehW343xnYMxKMWyk3F8daR82dMnwIPnbwtEayjSmlm7z3Ag3lz2rH2wI9mFRkxaU6Q1/1x50CIx1yS5C5yFe4CUUpuUUu0t+Z5VFb77GAkxScz84Q1Gjn2Q7z9YVmm6kJZBvPL+03j4upVbfsfwPrz19Vje+nos9z9xJ03aBFuk8QMQfeAo6bEJjPhsEr2eGsbmeUsqTbfzu5W0ubs3Iz6bhF0dR46t3wmAf6smDP3gdYZ+8Dq9nx3Bxs8XWiRuAG0yEbVwIU1eeIHWU6aQvHcvOZculUtj7eRE4LBh1Ovfv9xyZWVF4IMP0mbqVFqMH0/8xo0VtrWE43uPkXQxkXH/ncADLw3l549/rDRdwxZBPDHradx8yucdd18PnnrveV7+8jX6PjSA5XMq//6qy8VDR8mMS+S+j96iyxPD2fX14krT7f9hBc0H9+b+j97C1smBUxt2Xtf21eXc/qOkxiYyau5E+j87lHVfLK003ZYFK2h3Ty/+PXci9nUcCV9njj8vK4d1c5cyZMITPPrpG9w9bpTFYtcmEye/X0SbMc/RcfpbxO/eS/bF8nk4JTyC3PgEOr09lSaPjODEt+bjMyvmIrFbttPuzdfpMOVNkg+HkxMfb7HYrRRM6RHKY6vCGbhoL3eHehPi5lguzY6YVAYv2c9dS/fz2sYTvN27CQCN3R0Z2qwe9y0/wJ1L9tEn0IOGLg4Wi/2y/TuOE3shiS+WjeeZ1x9k7uzllabrMbAdny19jY8WjqUgv5C1K3YDkJWZy5ezf2LCe6P4ZPE4Xp050pLhs2XLfqKiLrFmzZdMm/Yskyd/cdW048aNYsWKj1mx4mOaNWsEwA8/rCI4OICVKz/hu+/e5p13vqagoNAisX/342buHTnrqusH9g4juKEvLXuM4bnX/8PHM/4NgJWVYs70x7j3kXdo23csD95zO01DLXfBqKwz+46ScimRZ/4zkcHPD+WPzyovezb8dwWdhvTi2f+Yy55Da8xlz77ftuLZwJfRn77Ow7OeZ91Xv2AsLLJY/Cf3HiXpUiIvf/MmQ14cxspPKz93BTZvxKi3n8HV271K299oVgre7BLCk2siuPunfQxu5EWwa/myZ9elVO775QD3rzjAm1tPMrVr43LrH/3jMPevOFArGj/CTIbAXcWhbRF0GdgepRTBLRqSk5VLWnJGhXQBjf3xrOdeySuU2rP+AB37tq2uUCs4tyecJr06opTCt0kQBdm5ZKekl0ujteZi+EmCu4QB0LR3J87tOQKAjYMdSpkvDxTlFwCWu1SQde4c9t7e2Ht5YWVtjXuHDqQePlwujU3dutRp2BBlMJRbbuvqilNgIAAGe3vs69WjMC3NYrFfdnRHOLf174BSisBmDcnNziUjOb1Cuvoh/rj7elRY3rBFEI7O5sI7oFlD0pMqbludLuw9QqMe5vzj1dicf3JSK+afuMiTBHY25+vgnp24sPfwNW9fnc7sCad5b/P7+zUJIj87l6xK8n/0kVM07mrO/y36dOT0rnAAjm/ZT2iXNtT1Mh/Xjq7OFos942wUDt7eOHib879Ppw4kHTpSLk3SwSP43t4ZpRQuwY0oysklPy2dnNg46jYKwmBni5XBgGuTUBIPHLJY7G2863I+PZcLGXkUmjS/nU6gf1D5/J1TZCp57GBtQGMehx7s5sih+AzyikwYNey+lMaAIE+LxX7Zni0R9BrUDqUUTVoFkp2ZfQFuQAAAIABJREFUS0pSxXK/fddmKKVQShHaIoDkBHM5s2X1Abr0boVX8QUxV3fL5R2A9et3MWRIH5RShIU1JSMjm4SElGveXilFdnYOWmuys3NxcXEu6dmqbtv3HCclLeuq6+8a0I6Fy7cCsOfgaVzqOuLr7UqHsBDORMURFZ1AYaGRH3/dyV0DauY664ld4bTqYy57/JsGkZedS2YlZU/UkVM062Yue1r37ciJ4rJHKSjIzUdrTUFuAQ7OjlgZLFdNO7YzgrZ9zeeugGYNycuq/NzlF+KPWyXnrmvd/kZr5elMdEYuMZnmsuePs4n0CfizsseK2j4DxkpZ7u9mVW1HllLKSSm1Sil1WCkVoZQaesX64Uqp8OJ175RZnqWUel8pdUAptV4p5VW8PFgp9X9Kqf1Kqa1KqabVFTtAWlIG7t6uJc/dvFxJS7z+Azk/r4CIPce5rWfrGxnen8pOSaOOZ2mvgpOHa4UGUF5mNrZODlgVNyKcPFzJLlNQnd11mIXPT2PVjLn0eW6EZQIHCtLSsHUvbVDaurpSmJp63a+Tn5RETnQ0TkFBNzK8a5KenI6rV+n+d/V0Jb2KJ4G9/7eLJh2a3ajQrklOahpOHqXxO3q4kpNSviGZn5mNrWOZ/OPuRk5xHruW7atTVnI6zp6lx66zpytZV+z/3Mxs7Mvk/zoeriWNpNRLCeRl5bBkwsd89/JsIjfssVjs+Wmp2LuX7js7N1fyr8j/+alp2JVN4+5KfmoaTvX9SDt5isKsLIz5BSSHR5Cfcv3HTlX5OtkSm5Vf8jw2Kx8fJ7sK6QYEebB2eAe+vrMlr204CcDJlBw6+rngameNvbUVvQI9/p+9+w6PqujbOP6dbMqmZ9MbIYHQCUW6dBCwIHZp9vpaEVEUEUUQ+yMoPhb0UVAURGwINnqTqrSE0EMJpPceksz7x4YUskAIZJOY3+e6ciXZM2f33rNzZnfOzDlLgEvVdWtbalIG3n7ldcfL153U87T7RUXFrPntbzr3NL8dnTqeRHZmLpMf+ZCn75rJ6l+313rmihISUvD3L+84+vt7kZCQYrHszJlfcf31T/Daa5+WjfKMHXsdhw/H0rfv3YwY8QSTJz+IjU39OE4a6O9JbFz5czkZn0qgvyeB/iZiT1W4PS6FoLNG1a0lKyUDN5/y+uPm7UHW2W1PZuW2x7VCma7D+5F8Ip737pzCnMdeZ+hDt6CsuP0zU9Jxr5jfx/2iOjCXun5N+Tk7EJ9T3vbE5xTg62Rfpdzgpl4svbkrHw9tz4vr95fdroHPhkXw3YjO3NbKv9bzivqhNs8Buho4pbW+DkAp5Q48Uvp3IPAm0AVIA/5USt2otf4JcAb+0VpPUEq9BLwMPA7MAf5Pa31QKdUD+BAYdPaDKqUeAh4C+OSTT2gzomZD4VpbOD5Qg57srr+iCG8fZrXpb1DN7Bco06xnR5r17MipqENsXbCUEVOfuKwZz8lirovb8MX5+Rz4+GOajhyJraP1p9FYOrSkalB5Du08yLbfN/PITOudfwLnegmqVCALhS5m/dpjqf5XjX/uMiXFJSQePsFt0x/ndOFpFkycSUCrUDyDfGsh7dm5LNx2VnhtoZBS4BwYQMg1w9j5znsYjA64NAm26ocnS1XcUl34MyaFP2NS6BbgztPdQ7nzl90cTsvlkx0n+HJEB3JPF7MvJZtiSyvXsot9yE/e+p62nZrRrrN5CllJcQmH98Uy7b//R2HBaZ67fzYt2zclKMSnFtJWVd197+mn78bHx8Tp00VMmfIBc+Ys5vHHR7Nhww7atAnjyy9ncPx4HPfeO4WuXdvh4uJU9Y6tzFIbqrW2+PzqoOqc84GrtpznDnfkn2j8mgVzx+tPkBaXzNcv/peQ9s1wcLLO+9iltt111fZX9xFWHkth5bEUuvi582SXUO7/3TzyNnbpTpLyCvE02vHZ1REcSc/j7wTrzrywtvpxWKNu1WYHaA/wTunozlKt9foKO0I3YI3WOglAKfU10A/4CSgBzpz0MB/4QSnlAlwJfFfhPiweHtRaz8HcWQLQ6+OXVTvwqh83sH7pZgBCWzUhNbH8qHVaUjoe3u7Vvq8ztq3cQQ8rTH/b89s69i7/CwDf8BCyk8uP/OakpONsqpzd6OZCYU4eJcXF2BgM5jKeVZ9fYLtwMmYnk5eZjaObS+0+CcDeZKIwtXzKRmF6OnYeHudZo7KSoiIOfvwx3j164HnFFbUR0aK/lqxny6/medxNWoWQnlS+/dOT03Hzcruo+4s7corFMxdy/4yHcbZC53nfH2s5sNJcf7ybNyUnpTx/bko6jmfVHwdXFwpzK9Sf1DScSss4e3pccP3LbceydexZbt7+/uEhZCWX77tZyVXrtqObC/kV6n92hX3ExcsDRzdn7IwO2BkdCG7XnKSjJ63SAXIwmcivMGpTkJaOw1n132gyVRrZKUhNx760TGC/3gT26w3A4e9/wmiq/r5zqeKzCyuN2gS4OJCYW3DO8tviMghxN2Iy2pKWX8Si6HgWRccD8EyPMOKzz73u5fTrdxv4s/QcnhZtm5CcUF53UhIz8PSxXHcXfvYHGWnZPP/mPWW3efm64+rhjNHRAaOjA207N+PowVO12gH6+utlLFr0BwARES2Ij08uWxYfn4Kvb9Up2mdus7e34+abr+Lzz38A4IcfVvDQQ7eap+82DSQ42J8jR2Lp0KFllfuwtpPxKQQHlE9rCvL3JC4hDXs7W4IDK9we4MWpROuNfG5fuo4dv5vbnoCWIWQmldefzOR0XLwq1x+ns9qerOR0XEvL7Fq+hStvG4JSCs9AHzz8vEg+kUhQq6a1ln/zkvVsK80f3DKEjIr5kzJw9az+e5e7t8clrV9T8TkF+FcYbfZ3diAxt/Cc5f9OyKCJqyMeDrakFxSRlGcum5p/mpXHUujg4/qv7wCJWuwEaq0PYB7h2QO8Xjqac8bFHBLQmHOma607Vfi57POCBt3Up+zCBZ37RrDpj+1orTkcdRRHZyMeF/khNjc7j/27DtOpT/vLHbWKiGv6lV24IKx7B/av2Wo+T2N/DPZOxiofAJVSBLVvweFN5nME9q3eQli3CAAy4pLKjqInHT5BSVExRlfrjGC5hIaSn5hIfnIyJUVFpG7bhqljx2qtq7Um5ssvcQwIqHKBhNp25Yi+jP94IuM/nki7KyP4Z/k2tNYciz6Ko7Mjbl7V7wCkJabx5bTPGTXxDnyCrTDqALQe1p8Rb01ixFuTCOnWgSPrzPUn6UAMdk6OZZ2bM5RS+LdtybHN5hNGD6/dQpOu5mmeTbpGXHD9y63zdf24a9Zz3DXrOcJ7dmDvavPjn9ofg4OzERcL9T8kogUHNprrf9SqrYT3MNf/8B4RnNx7hJLiYk4XFBJ34BhewX61mv8M17Cm5CUkkpdkrv8JW7bh3any9FmvTh2I/2szWmsyDh/B1smIg4f5+RVmms9XyU9JJfnvHfj26GaV3AC7EzMJdXck2NWInY1ieLgvK2IqT79q6mYs+7udtwt2Njak5ZtP8vZytAMg0MWBYc28WXIo0Sq5r72tD7PmT2DW/An06NeeNb/9jdaa/XuO4exixNO7aru//OfN7Ni8nwnT76w0Rax7v/bs3XmE4qJiCvILORh1nODQ2t2Hx469ruxiBldd1ZOfflqF1pqdO/fh6upksQN05rwgrTUrVmymRQvzB+yAAB82bTKfy5ecnEZMTCzBVqr7F7Js+T+MuaUvAN07h5OZlUt8Yjrbdx0mPMyfpk18sLMzcNv1vVi2/G+r5eo6vB8PfvAcD37wHK16dmDPKnPbE7svBqOzEVcLbU9oRAuiN5jbnt0rt9KytO1x8zURs8s8NSs7LZPUk4kWz7W5nHqO6MsTH07kiQ8n0qZXBDtWmt+7jkcfxcHZeFHvXa17tr+k9WsqMjmLpu6OBLmY255rmvmw+njltifEtbztaePlgp2NIr2gCEdbG5xKz3NztLXhykAPDqbl1HpmUfdqbQSodJpbqtZ6vlIqG7inwuItwHtKKW/MU+BGA7NLl9kAtwILgTHABq11plIqRil1m9b6O2UeBuqgta58dvxlFNGzDXs2R/PCmNewd7Dj3udHly2bNXEO90wciYe3OysWr+OPhavJSM1i6n3vENGzDfdMNJ/utGP9Htp1a4WDo3Xnsjft0o7j/+zl60enYetgx6DH7yhbtvTVjxj46BicPd3peecNLH/3C7Z8sxSfsGDaXNULgMObdrJ/7VZsDAZs7e0YOuFeq01hUgYDoaNHs3/WLHRJCT69e+MUGEjC2rUA+PXvT2FGBpEzZlCcn49SirgVK+jwyivkxcaSvHkzjkFB7Jk2DYAmN92ER0SEVbKf0bp7W/ZtjebNe17F3sGe254przv/m/wJtz49Cncvdzb8uJa1360iKzWLdx9+i9bd23Lb06NYMf8PcjNz+HG2+Qo6NgYD4/47wWr5gzq3I3ZHFD+MewVbezt6P1Jef1a8/iFXPjwGJ08Puoy9gbXvfcGOb5fiGdqEFoN6XXB9awjr0pYj26P43/9Nw87BnmFPlJ/D9sO0jxn62GhcvNzpe/cIlr0zl41fL8O3WTDtSy8369XEn9DObZj35BsoGxsihvTEu2mgVbLbGAy0vGMku959H11SQkCfK3EOCuTk6nUABA3sh1eH9qTujmTz81Mw2NvT+r67y9aP/O8cTmdnowwGWtwxGjtn6029LdYwdf0h5l0fgY1SfLcvnoNpuYxpFwDAN1FxXN3ch5ta+VFUoskvKuHJP/eWrf/hsHZ4GG0pKtG8vO4gmQXWu/rVGV16t+Hvv6L5v1tex8Fox5NTRpUtm/bUpzw++XY8fdz56M3v8fE38dwD7wPQa0AEIx8YSpMwP67o2ZpxY/+DjY3iqhE9aNo8wGr5+/fvytq12xky5CEcHR14rcLl2x98cCqvvvoEfn5ePPPMf0hLy0BrTevWzXjllUcBePTRkUyaNIvrr38crTXPPHMPnhZmBtSGebOfoG+vNnibXDm05QOmv7sYu9LL0n82fwW/r9rBsIGdiFo/i9y8Ah5+5hPA/DUT46fM5ZevJmEw2DDv2zVEH4i1SuazhXdry6HtUfz3gWlll8E+Y8HLHzP8ydG4erkz6N4R/PjWXNZ8tQz/ZsF0GmZue/qOupolM+fzyaOvAzDonhE4udf+zIszWnVvy4Fte3n3vunYOdhz89NjypbNm/IxNz01Gjcvd/76aS3rF68kOzWL2Y+8Sctubbl5/Ojzrl+bijXM2HSIT4e1x0YpfjwYz6H0XEa2Mu973+6PY0ioNzeEl7Y9xSVMWBMNgJejPe8PbguArVIsO5LIhpPWG0GsK1aclX5JlFKemGeFhQJHgdu11mlnlWkCfAn4Y55FNkdr/d4F79vi+SKXgVJqGPB2aZjTmM//eQd4Rmu9XSk1BpiEeTToV631xNL1soGZwLVABjBSa52klAoDPgICADtgodZ62gViXNQUuPqkr/91ALwX9WcdJ6mZce3M381zV2nHpaH5sn9/fj72W13HqLEbml7DazuX13WMGnuh0xDm7PujrmPUyEOthwHwfxtX13GSmvm490AAmn3YMPfdI4/2ByA6fWkdJ6mZNh7DgQN1HeMStMQxZPSFi9VTeccX8NWhhtn23BlubnsWx/xex0lq5tYw83eetf18XR0nqZm99/UDa1429xJsTVpmtTPluvtcV+NtopR6C/NgyhtKqecBk9b6ubPKBAABWut/lFKuwN/AjVrrvRbuskytjQBprf8Azm5FBlRY/g1g8QtmtNZTgCln3RaD+cIKQgghhBBCiBpoEL00sxso7zvMA9YAlTpAWus4IK707yylVDQQBJy3AyQXghBCCCGEEEJcdkqph5RS2yv8PHQRq/uVdnDOdHTOe1KlUioU6Iz5VJvzqs2rwNWI1tp6E16FEEIIIYRoRKx5DtBZV2e2kEWtwHz+ztkmX8zjlF4x+nvgKa111W+wPku96wAJIYQQQggh/v201leda5lSKkEpFaC1jis918fi5UGVUnaYOz9fa61/qM7jyhQ4IYQQQgghGgkbK/5coiXAmUud3g38fHaB0itD/w+I1lq/W907lg6QEEIIIYQQor55AxiilDoIDCn9H6VUoFLq19IyvYE7gUFKqZ2lP9de6I5lCpwQQgghhBCNhFJWuwr2JdFapwCDLdx+CvPX5aC13kANLmwnI0BCCCGEEEKIRkNGgIQQQgghhGgkGtD3ANUaGQESQgghhBBCNBoyAiSEEEIIIUQjYc3vAaqvZARICCGEEEII0WjICJAQQgghhBCNhAwAyQiQEEIIIYQQohFRWjeMa4HX0L/6yQkhhBBCiHqjQQyu7E5darXPxx08h9fLbfKvnwLX/bsNdR2hRrbe1geAe9atreMkNTO3X38ANiUuq+MkNdPL9zoe2LCmrmPU2Gd9BvDkptV1HaPG3u81kFGr19V1jBpZOLAfAF8c+KOOk9TMvS2HAfBPcsPcd6/wvg5o2G3ngGUb6zpGja25rjdfHWqYdR/gzvBhOIaMrusYNZJ3fAEAt65qmG3n4kHmtjOtYGkdJ6kZk8Pwuo5QbTb1sktiXTIFTgghhBBCCNFo/OtHgIQQQgghhBBmMgAkI0BCCCGEEEKIRkRGgIQQQgghhGgk5ItQZQRICCGEEEII0YjICJAQQgghhBCNhAwAyQiQEEIIIYQQohGRESAhhBBCCCEaCRkBkhEgIYQQQgghRCMiI0BCCCGEEEI0EjYyBCQjQEIIIYQQQojGQ0aAhBBCCCGEaCRkAEhGgIQQQgghhBCNiIwACSGEEEII0Ugopes6Qp2TDtA59PTzYELnZtgoxc9HEvhyf2yl5cNCfLirVTAAeUXFvPnPYQ5m5AAwukUgN4T5oYFDGblM33aAwhLrVba0yEiOLvwWXVKCX98+BF1zTaXleXFxHJo7j5zjxwm58UYChw0FoCA1lUOff87pjExQCr9+/Qi4arDVcp+htebr935k9+Zo7B3seeCF0YSWbuuKVny/nj+/W0fiyRRm/zINVw8XAHKz8/hk+tekJqRRXFzCNaMG0ve67lbLn7onkiMLFqF1Cf59+9Dk2qsrLc+Ni+fA53PJPn6C0JtuIPjqodVe1xqSdkex75tF6JISgvv1ptnwyhm01uz7ehFJuyMx2NsT8cDduIWGkBMXz64PPysrl5uUTPhN1xM6zLp1KDMqkthFC9ElJXj17ov/1ZXrf358HMfmzSXvxHECRtyI39BhlZbrkhL2v/4qdh4eNH/sSWtGNz++1qyY8z2H/96LnYM9140bi394kyrl0uNT+PntueRn5eLXPJjrn74Tg50tW35YSdSa7QCUFJeQEhvPk/Nfw9HV2SrZ5836kZ2borE32vPI5NGEWdh3P5g6nyP7TmCwNdC8bQgPTLwNW1sDJ48l8MmMhcQciGXkQ9cyfMzAWs9cUUNvO7v7ePB422YYFCw7kcA3h09WWn5VoA+jmweZn0txMTP3HOZwVi4+Rnte6NQSTwc7SjQsPR7P90fjrJ5fa82fn3zPoe3mun/9+LEEWKj7afEp/PjmXPKycwloHswNE8x1Pz8nj5/f+ZKMpDRKikvoefMgOg3paZXsH7/9MNcM7kxSSiZdh0y0WOY/r9zNsIGdyM0r5KEJH7Ez8igAQ/p35J2pd2Ew2DB34Wre+XCJVTJXlBUVyalFC0GXYOrdF99hVdvN2C/nkn/iOH4jbsRnSHm7uW/y89gYjSgbhbIxED7pRWvHR2vNu2/+xKb10TgY7ZkyfRSt21Zte2a8/C3RUSfQGkKa+jDl1VE4OTmQmZnLjJe+JfZECg4Otkx+ZSTNWwRY/XkI65EOkAU2wMQrmvP4ukgScwuZd1Un1p9KISYrr6zMqZx8/m/NbrJOF9PL38SkLuHct2oXPkZ7RrYIZOTv/1BQUsJrPVsxpIkPy44lWiW7Likh5ptvaDt+PPYmE3tmvIapY0ecAgPLytg6OxM2ahSpO3dUWlfZ2ND0tttwadqU4vx8dk9/Ffe2bSqtaw27N0eTEJvMmwte4PDeY3z5n8W8NOepKuVaRITR8cp2vPHkfyvdvvKHjQSF+jH+zQfITMtm0tjX6TX0Cmztar+665ISDn+9gPYTnsLBZGLn9Nfx7NQB50rb34nmY0aRsmPnRa9rjfzRXy2g67PjMHqa2PTK6/h27oBLUHmG5N2R5CYk0vfNaWQcjmHvl9/Q86XncQ7w58rpL5bdz5qnnsevSyerZT/zuCcWfEP4uPHYmUzsf30G7h064lhhGxqcnAkeOYqMnTst3kfSqhUY/QMozs+zuLy2Hfl7L2mnknj4kymc2n+UPz5axN3/mVCl3Jq5P9PthgG07deF3//7LbuWb+KKa/vS4+bB9LjZ/OH74NY9bPt5jVU6PwA7N0UTH5vMzG9f4FDUMf73zmJe/bTqvtt76BU89vJYAGZPnc/qXzYz5KbeuLg5cff4m9i+LtIqeStq6G2nDTCuXTOe2RJFUn4hH/fpyMaEVI5ll9fjuLx8xm3aQ3ZRMd19PJgQEc6jf+2mWGs+3BvDwcwcHA0G5vTpyPbk9ErrWsPh7XtJPZXEo59O4eT+o/z230XcN7Nq3V/1xc/0uHEA7fp34dcPvmXnn5vocl1fti9dj3cTf0a+/DA5GVl89NAMIgZ0xWCFtv+r79by8bw/+GzmoxaXDxvYieah/rTvN57uncN5f8b99LthCjY2ilmv3st1Y1/jZFwKG36ZwdLlf7Pv4EmL91MbdEkJpxZ+Q9iT47E1mTj8xgzcOnTEGFCh7js5E3j7KDJ3WW43m42fgK2Lq7UiV7Fpwz5OHEvmu6WTiNp9nLde/Z7PvxlXpdxTz96As4sRgFlv/8ziBRu46/7BzPt0JS1aBfLmrHs5GpPAOzN+4IPPHrH207AaOQdIzgGyqJ2nK7HZ+ZzKKaBIa/48kUS/IK9KZfakZJF1uhiAyJRMfJ3sy5YZlMLBYINBgdFgIDm/0GrZs2NiMPr4YvTxwcbWFu9u3UjbuatSGTs3N1zCQlEGQ6Xb7T08cGnaFACD0YhjQACF6enWil5mx4ZIel/dFaUU4e1Cyc3OIz05s0q5pi2D8QnwrHK7UpCfW4DWmoK8ApzdnLAxWKeqZx2Jwejri2Pp9vfp3pXUHZW3v72bG65hVbd/ddatbRlHjuLk54uTrzlDQI9uJO7YXalM4o7dBPbuiVIKj/BmnM7NoyA9o1KZlL37cPL1xtG78n5T23KPxuDg64ND6TY0detGxu7Kb9h2bm44h4ZV2f4AhWmpZOzZg1fvPtaKXMXBzXtoP6g7SimCWodRkJNHdmrl7au15tjug7Tube5gRgzuzsHNe6rcV/Taf2jbr4tVcgP8vSGSvqX7bov2oeRm5ZFmYd/tfGVblFLmfbxNCKmJ5ufnbnKleZsQDLbWf2tq6G1naw9XTubmE5dnft9adSqJ3n6V28eotCyyi8zvW3vTsvBxNL9vpRac5mCmeQZDXnExx7Jz8TbaY237N+8horTuB7cOIz8njywLdf/o7oO06WOu+x0Gd2d/ad1XCgrzzG1/YV4hjq7Wa/s3bt1Hanr2OZcPH9qFb75fD8DWHYdwd3PC39eDbp3COXw0nqPHEzl9upjvftnE8KFdrZL5jNyjMdj7+GBfWvfdu3ar0tGxdXPD6RztZn2wbnUk117fBaUU7Ts2JTsrj+Skqm3Pmc6P1pqC/NPmSgPEHEmga48WAISG+RF3Ko2UlCzrPQFhdfW2A6SUuksptVsptUsp9ZVS6nql1Bal1A6l1AqllF9tPbaPoz0JuQVl/yfmFpS9UVgyIsyfTXFpACTlFzJ//0mWDO/Gr9f3IPt0EVsSrPdGWJiejoNn+ZuevcmDgvS0i76f/ORkck4cxyUs7HLGq5a0pEw8fT3K/jf5eJCWnHGeNSobfEsfTh1L4Kkbp/LiPW8z5smbsLGxTlUvSE/HwdNU9r+9yURBNT8IXcq6l0t+WhrGChmMJg/y0yrXn4K0dAtlKueM37Id/57dajesBYVp6dibKtR/DxOn06q/DU8u+pagm28FVXdNY1ZKBq7e5fXf1cuDrJTK9T8vMwcHF0dsSj+MWCpzOr+QI/9E0+rKjrUfulRqUiZeFfZdT18PUpPOve8WFRWz/o/tdOzR2hrxzquht50+RnuS8soPtiXlF+JjdDhn+etC/NiaWHXf8Hd0oIW7C9Hn+TBfW7JSMnDzKa8/bt6W677RuULdr1Cm6/B+JJ+I5707pzDnsdcZ+tAtKCu1/RcS6O9JbFxK2f8n41MJ9Pck0N9E7KkKt8elEORnsnQXtaYoPR27Cu2mncnE6Yt571EQ8/4sDr42ndT162oh4YUlJWbg619ed3z93ElKtNz2TJ+ykGsHTuXY0URuH20+2NWiZSBrVpo70lF7jhMfl0aSFT+7CeurHy3DWZRS7YDJwCCtdUdgHLAB6Km17gwsBCxOslVKPaSU2q6U2j5nzpwaPr6FG89xCk8XH3dGhPnxwZ6jALjaGegf5MmNy7Zx7S9bcbQ1cHWIT41y1IiuGlRd5GBncX4+Bz76mNCRI7F1dLxcyapNW3oOF/EUIrfsJyQ8iFk/TWXa5xOYP+sH8nLyL2PC87iUU73qwzmJFjKcXX8svT4Vi5QUFZG4Yxf+3aw38lDu/NnOJ2P3Lmxd3XAqPZJfd6pT/y9c5tC2SILahFlt+htc/L77+TuLad2xGa07NavFVNX0L2g7z6bP0ah08nLn2iZ+fLLvaKXbHQ02vNKlNR/sPUJu6UiRVVl8Dc4qcp6G8sg/0fg1C2bcV9N5cPZz/P7xdxTk1s1U1rNZqktaa5SFHcRSE1urLvE9t/kzz9PihSmEPT6OlLWryTl44DKGqx6Lb0vneA5Tpo9i6cqXCQ3zY8Uf5pGuu+4fRFZmHnfe9h++W7CBlq3z8m+9AAAgAElEQVSDMNTT0a7LQSnr/dRX9fUcoEHAYq11MoDWOlUpFQF8q5QKAOyBGEsraq3nAGd6Pvqz7zZc9IMn5hbi51R+5MzXyYEkC9PYwt2dmNw1nKfWR5FRWARAdz8PTuXkk176/+qTKXTwcuP340kXnaMm7E0mClJTy/4vTEvH3sPjPGtUVlJUxP6PPsa7Rw+8rriiNiJatOKHDaz9ZTMAYa2bkFrhyGRaUjoeXu7Vvq/1v27lujsGo5TCL9gHnwBP4o4l0Kxt7X+wdTB5UJBaftS4MC0Nh2pu/0tZ93IxeprIr5AhPy0dB5PHBcsYK+RM3h2JW9MQHNzdaj/wWexNJgrTKtT/9DTsqrkNcw4fJmP3TjIj91BSdJrivHyOfv4Zofc9UFtxy/y9bB27/tgEQECLELKSy+t/Vko6Lp6V67+jmwsF2XmUFBdjYzBYLLN3nXWmv/35/QZWLTHvu83aNCGlwr6bmpiOydvyvrv48z/ISs/hgdduq/WM1dFQ284zkvILK81U8DHaW5x+3czViWcjmvPctr1kni4qu92gFK90ac2Kk0msj0+tsl5t2b50HTt+L637LUPITCqvP5nJ6bic1fY7ubmQn1Oh7ien41paZtfyLVx52xCUUngG+uDh50XyiUSCWtX1QQ04GZ9CcED5lOAgf0/iEtKwt7MlOLDC7QFenEq8+JHHS2FrMnG6Qrt5Oi0NW/fq1/0zbaytmxtunTqTezQG5xYtL3vOsy1euIGfv98CQJt2TUiML687iQkZePuc+3ODwWDDVVd34uu5qxl+Y3ecXYxMmT4KMHdMb7pmBoFBVafYi3+PejkChPmgz9n9+dnAB1rrCOBhwFhbD743LYsmLo4EOjlgqxRDm/iw/lTlNwQ/RwfevLINL289wPHs8tGF+NwC2nu64lA677ibrztHs3JrK2oVLqGh5Ccmkp+UTElREcnbtmHqWL0pMFprDs/7EseAAAKHDqnlpJVddXMfpn/xDNO/eIYr+kaw8fftaK05FHUURxcjHt7V/zDt5Wdi79/mI1AZqVnEHU/EJ9A656K4hoWSn1C+/ZO2bsezU/W2/6Wse7m4hTUlNyGR3NIMcVu24du5Q6Uyvp06cGrjZrTWpB86gq2jEQeP8jeauM3bCaiD6W8ATk1DKUhMpCA5iZKiItK2bcO9Q/W2YeBNN9P+jbdp99obhN7/EK6tW1ml8wPQ5bp+3Pf+c9z3/nO06NmByFVb0Vpzcl8MDk7GKp0bpRQhHVqwb6P56OWelVtp0SOibHl+Th4nIg/RomcEtW3oLX14Y94zvDHvGbr2i2B96b57MPIoTi5GTBb23VVLNrN7y36eeOUOq01PvZCG2naesT8ji2BnR/wdze9bgwJ9+Cuh8vuWr9Ge6V1a89qug8SeNSo+sUM4x7Pz+C7mlDVj03V4Px784Dke/OA5WvXswJ7Suh+7LwajsxFXC3U/NKIF0RvMdX/3yq20LK37br4mYnbtByA7LZPUk4mY/K17HuK5LFv+D2Nu6QtA987hZGblEp+YzvZdhwkP86dpEx/s7Azcdn0vli3/26rZzrSbhaXtZsb2bbhVs90sKSigOD+/7O/s6L0YA4NqM26ZW0f14avvJvDVdxPoP6g9v/7yN1prIncdw8XViLdP5bZHa82J48llf29YE0XTUF8AsjLzOF16QODn77fQ+YpmZecL/RvZWPGnvqqvI0ArgR+VUjO11ilKKU/AHThzWZS7a/PBizW8veMw7/drj42CX2ISOJKZy83N/AH44Ug8D7Rtgru9Hc9d0dy8Tonm7pW7iErNZmVsCl9d1YlirdmfnsOPR+JrM24lymAgbMxoomfNQusSfHv3xikokPg1awHwH9CfwowM9rw6w9xoKUXcihV0nPYKubGxJG/ejFNQELtemQZAyM03YYqo/Q9RFXXs1Ybdm6OZOOo1HIx23D9pdNmyd5+dw73PjcTk7c7yxev49ZvVZKRmMeWed+jQsw33PT+SEfcM4bPXFvDi3W+hNdz+f8PLLpFd25TBQPOxo4ic+Z75Urp9euMcFEhc6fYPKN3+O6a/RnGeefufXLGSLtOnYuvoaHFda7IxGGhzx0j+fud9dEkJQX2vxCUokBOrzPO6mwzqh3fH9iTtjmT9xCkYHOxpf3/57lhcUEhKVDRt7xlr1dxnKIOB4JFjOPz+LHSJxuvK3jgGBpG8bg0A3v0GcDojg/2vv0pxfj5KKZJWraDNy9Mw1IMpSwDNu7blyPYoPnloGnYO9lw7rnxbLpr6Mdc8MRpXL3cG3jOCn9+ay7r5y/BrFkyHoeWX+z2waTdhnVtjf55zQGpD515t2LkpmqduN++7D79Qvu++OWEODz4/Ek8fd/73zmK8/Uy89ND7AHTrH8Et9w0jPSWTyffPJC8nH2Wj+G3ROt7++jmcnGv/g0hDbzuLNbwXeYS3u7fDRsFvsYkczc5jRIj5fWvJ8XjubhGCm70d49s1K1vn4Y27iDC5MizYl8OZOXzWx/zB99P9x9mSZN2RiPBubTm0PYr/PjCt7DLYZyx4+WOGP2mu+4PuHcGPb81lzVfL8G8WTKdh5rrfd9TVLJk5n08efR2AQfeMwMndOm3/vNlP0LdXG7xNrhza8gHT312MXenV5z6bv4LfV+1g2MBORK2fRW5eAQ8/8wkAxcUljJ8yl1++moTBYMO8b9cQfSD2fA912SmDgcBRY4iZPQtKNKYre2MMDCKltN30Km03D73xKiWldT951QpavjSN4uxsjn3yIQC6pBiPbj1wbdfeqvkBruzbhr/WR3Prda9jNNrxYuloDsD4Rz/lham34+XtyrQXF5CbnY/WEN4qgOdevBWAozEJvDJ5AQYbRWhzfya/crvVn4OwLmVxPn89oJS6G3gWKAZ2AD8CMzF3gjYD3bTWAy5wN7p7DabA1QdbbzOfmHfPurV1nKRm5vbrD8CmxGV1nKRmevlexwMb1tR1jBr7rM8Anty0uq5j1Nj7vQYyanXdnEx7qRYO7AfAFwf+qOMkNXNvS/P3e/yT3DD33Su8rwMadts5YNnGuo5RY2uu681Xhxpm3Qe4M3wYjiGjL1ywHso7vgCAW1c1zLZz8SBz25lWsLSOk9SMyWE4NJArTB/L/sVqH/6bulxfL7dJfR0BQms9D5h31s0/10UWIYQQQgghxL9Dve0ACSGEEEIIIS6vejkkY2X1+fwkIYQQQgghhLisZARICCGEEEKIRqI+fz+PtcgIkBBCCCGEEKLRkBEgIYQQQgghGgkZAJIRICGEEEIIIUQjIiNAQgghhBBCNBI2MgQkI0BCCCGEEEKIxkNGgIQQQgghhGgkZABIRoCEEEIIIYQQjYh0gIQQQgghhBCNhkyBE0IIIYQQopFQStd1hDqntP5Xb4R/9ZMTQgghhBD1RoM4vSY+b4nVPh/7O46ol9tERoCEEEIIIYRoJOplj8TK/vUdoKc2r6rrCDUyq+cgAAb/trGOk9TMymt6A7A27tc6TlIz/QOu5ektDbPuALzbYxAPbVhT1zFqbE6fAbwX9Wddx6iRce2GAvDW7uV1nKRmJnYYAsDCw7/XcZKaGdX8aqBht50NNTuY8y+OaZh1B+DWsKu5ddW6uo5RI4sH9QPAMWR0HSepmbzjCwCIz1tSx0lqxt9xRF1HEBfhX98BEkIIIYQQQpgpGQKSq8AJIYQQQgghGg8ZARJCCCGEEKKRkAEgGQESQgghhBBCNCIyAiSEEEIIIUQjIaMfsg2EEEIIIYQQjYiMAAkhhBBCCNFIyFXgZARICCGEEEII0YjICJAQQgghhBCNhgwByQiQEEIIIYQQotGQESAhhBBCCCEaCSUjQDICJIQQQgghhGg8pAMkhBBCCCGEqFeUUp5KqeVKqYOlv03nKWtQSu1QSi2tzn1LB0gIIYQQQohGQikbq/1coueBlVrrFsDK0v/PZRwQXd07lnOAziFpdxTRXy9Cl2iC+/em+fBhlZZrrYn+ehFJu6Iw2NsT8eBduIeGkB0Xz84P/1dWLjcxmRY3Dyds2GCrZe/m7cFjbZpho+DX2AQWHjlZafngQB9GhQUBkFdczKyowxzJygXgmYhwevqYSC88zQMbdlotc0Vaa76d/SN7Nkdjb7TjnudH07RlkyrlVv2wnpWL15F0Kpn//DQdVw+XsmX7dxzi2w9+pLi4GBd3F55973Gr5U/cHcXe+ea606R/b8Kvr1p39s5fROKuKAwO9nQsrTsAp3Ny2f35fLJiTwGKjg/cialFM6tlB0jdE8mhBYvQuoSAvn0IufbqSstz4+LZ9/lcso+fIOymG2hy9dBqr2sNWms2/O97jv0Tha2DPYMfvwOf5lXrT2ZCMn++O5eC7Fy8w4K5atxdGOxsidm6my0LlqGUwsZgQ5/7biGgTXOr5t/8xWJOlObv99ideDermj8rIZnVs76gIDsXr7Am9H/CnD/9ZDzr/juflJhYuo4eTsSIq6ya/bdPfuDgtr3YOdhx49NjCQyvmn3LL+vY/NNaUuOSmbhgBs7uLhe1fm1p6G1nQ8+vtWbZRz+wv/T1v2XCWIJaVH39Ny1Zx18/muvPC99Wrj/VWb+2ZEVFcmrRQtAlmHr3xXfYNZWW58fHEfvlXPJPHMdvxI34DCl/b9g3+XlsjEaUjULZGAif9KLVcgN8/PbDXDO4M0kpmXQdMtFimf+8cjfDBnYiN6+QhyZ8xM7IowAM6d+Rd6behcFgw9yFq3nnwyVWTG6mteb9t35my4Z9OBjtmDRtJC3bBFcp9+bURezfG4vWmiZNfXh+2kicnBzKlkdHnuDRu2bz8pt3MGBIB2s+BWHZDcCA0r/nAWuA584upJQKBq4DZgBPV+eO62QESCnloZR6tPTvAdUdrqqw/lyl1K21kw50SQlRXy6k64TH6fv6S8Rt3kbWybhKZZJ2R5ETn0i/t16h3b1jiJq3AACXAH/6TJ9Mn+mT6f3KJAwO9vh36VRbUauwAZ5s14xJ26O4b/0OBgX40NTFsVKZuNx8xm/Zw4MbdzL/0Amebh9etuyP2EQmbd9rtbyWRG6JJiE2iVe/foE7J9zO1zMXWywXHhHG+P88gpdf5RHR3Kw8vpm1mMdee4BX5j7Pw1PvtkZsoLzudH/mcfq/8RKnzlV3EhIZ8PYrRNw7hsi5C8qWRc1fhE9EWwa8OZV+MybjEuhvtexn8h/8egER45+g2/SpJG7ZRs6pU5XK2Do7ET5mFE2GDbnoda3h+D97yYhLZOx/X2LA/41i7ZxvLZbb9NUSOl4/kLH/fQkHFyeiV24CIDiiFSPffZ6R7z7PwMfGsvrDb6wZn9gde8mMS+K22S/T5+HR/PXpQovltn39M+2GD+S22S/j4OLIgVXm/A4uzvS67zYirh9kzdgAHNy+l5STSTz52Ytc/+Qoln7wncVyIW2bcddrj+Lh61mj9WtDQ287G3p+gAPb9pJ8KomnP3+RG8eNYsk5Xv+mbZtx3+tV6091168NuqSEUwu/IezxcbR4aRoZ27aSH3dW2+nkTODto/C+aqjF+2g2fgItJr9s9c4PwFffreWGu9445/JhAzvRPNSf9v3G8/jzn/L+jPsBsLFRzHr1Xm64+006D36G20ZcSesWQdaKXWbLhn3EHk/m6yXP8cyUW3l3xg8Wyz3+zAg+X/Q0X3w3AV9/D35cuLFsWXFxCZ+8t4xuvVpZK3YdUlb7UUo9pJTaXuHnoYsI6qe1jgMo/e17jnKzgIlASXXvuK6mwHkAj9bRY19Q+pGjOPv54OTrg42tLQE9upL4z65KZRL/2UVQ754opTCFN6MoN5f89IxKZZKj9uHk442jt5fVsrf2cOVkTj5xeQUUac3quCSuPOtNYm96FtlFxWV/+xjty5btScsk83SR1fJasnNjJL2GdUMpRbN2oeRl55GeklGlXEiLYLwDPKvcvnXl33Tu26GsY+Rmcq31zGekHz6Kk2953Qns2ZWEs+pOwll153Rp3Tmdl0fq/kM06d8bABtbW+ycnayWHSDzSAyOvr44+pjz+3bvSsqOyvnt3dxwCwtFGQwXva41xGzdQ6sB3VFK4d8qjMKcPHJSK9cfrTUn9xygeS/zwYnWA3sQs3U3AHaODqjSr8kuKijE2t+XcGzbbsL7m/P7tjTnz02rmv9U5AHCenYGILx/D45tM29rR3dXfMKbYmNrqHLftW3f5kg6DTbvu01ah5Kfk0dWatV9N6B5MCa/qu1iddevDQ297Wzo+QGiN0XSufT1D2kTSn52HpkW2v7A8GBM/lXrT3XXrw25R2Ow9/HBvrT9c+/ajcxdlUfSbN3ccAoNq9J21gcbt+4jNT37nMuHD+3CN9+vB2DrjkO4uznh7+tBt07hHD4az9HjiZw+Xcx3v2xi+NCu1opdZsOaKIYN74JSinYdmpKdlU9KUmaVcs4uRsDchhYUnC5r6wF+WLCR/oMjMHk6Wy13Y6C1nqO17lrhZ07F5UqpFUqpSAs/N1Tn/pVSw4FErfXfF5OrrqbAvQE0V0rtBE4DOUqpxUB74G/gDq21Vkq9BFwPOAJ/AQ9rrXVth8tPS8foWT6qYPQ0kX44pmoZr8plCtLSMXq4l90Wt2U7gT271XbcSryN9iTlF5b9n5RfSBuPc3cArmnix9akdGtEq7b0pAxMPh5l/5t8PEhPysDDy/08a5VLOJFEcXEx74z7gPy8Agbf0o9ew6zzOuSnpePodYG6k5qO41n1Kz81HWWwwd7Nhd2ffknm8Vjcw0Joe8ft2Do4YC2F6ek4VMjmYDKRGRNznjUuz7qXU05qOi7e5TmcvTzISc3A2bO8/uRn5WDv7IhN6QcRZy8Pcip8UDqyeRebv15CXkY2103+P+uFB3JT03GuUIecvDzISU3HyVSevyArB3univlNVTp5dSErOR23Cvuum7c7mckZuHpWb9+91PUvRUNvOxt6foDMlHTcK77+Pu5kpmTgVs22/1LXvxRF6enYmco7nHYmE7kX0/4piHl/FgBeffvj2bff5Y54SQL9PYmNSyn7/2R8KoH+ngT6m4g9VeH2uBS6dwq3dBe1KjkxE1//8tfex8+dpMQMvHzcqpR9/aVv2bJhH02b+fHY09cDkJSQwfrVkcyc8zD7ok5YLXddqU+XwdZan3OetlIqQSkVoLWOU0oFAIkWivUGRiilrgWMgJtSar7W+o7zPW5djQA9DxzWWncCngU6A08BbYFmmJ8MwAda625a6/aYO0HDL3THFYfa5syZc6HillnoY1U8SlAdJUVFJO7YjX/3K2qW4TI6V5+xk6c71wT78en+o9YNdAGaS9v+xcUlHNsfyxNvPMi4tx5m2Zd/knDC0j5TGyxta3XhEgp0cQmZR08QMrgffV+djMHBgcO//FErKc/pUg4v1PqhieqxWN/Prj4XKNOsZ0fGzJ7CNc89yNYFFzVD95JZjnZWHbLURtVWoItguW5XP9mlrn+5NbS282wNLb/Fun8x9ecS178kFj83VH/15s88T4sXphD2+DhS1q4m5+CByxju0ln6wKy1trh9a/8wdVUW28RzvACTpo3k++VTaBrmy6o/zCPns99ewsPjrsVgkGuD1TNLgDPnMdwN/Hx2Aa31JK11sNY6FBgFrLpQ5wfqz0UQtmqtYwFKR4VCgQ3AQKXURMAJ8ASigF/Od0elQ2tnej76qc2rLjqM+Yh8Wtn/+alpOHhUPoJkNHmQn3JWGVP50Yek3VG4NQ3Bwb3q0YfalJxfWGlag4/RnpSCwirlmrk6MSGiOZO27a3zaQ8Aq3/cwPql5nMYQluHkFbhyGRaUjru3tXfjiYfd1zcnXFwdMDB0YEWHZtz4vAp/Jqca+ro5WM0mcg7q14YTZXrjqOnB3ln16/SumP09MDUPAyAgG6dObT0z1rPXJG9yYOCCtkK0tJw8PA4zxqXZ91Ltee3dexd/hcAvuEhZCeX58hJScf5rNfA6OZCYU4eJcXF2BgM5jIWRhkC24WTMTuZvMxsHN1cqiy/XPb+vpb9K8z5vcObklOhDuWmpOPkaSF/bsX8aVXKWMuWX9bzzx/mfTewRQiZFfbdzOQMXL2qv++6eXtc0vqXoqG2nWc01Pybl6xn2++l59+1DCGj4uuflIGrZ/Vff3dvj0ta/1LYmkycTkst+/90Whq27tVv/+xK20pbNzfcOnUm92gMzi1aXvacNXUyPoXggPJph0H+nsQlpGFvZ0twYIXbA7w4lZhm6S4uux8XbmTpD1sAaNWuCYnx5a99UkIG3hZGf84wGGwYNKwjC+et5dobu7F/7wmmPfc1ABnpOWzesA+DwYa+g9rX7pOoM/XhkFm1vAEsUkrdDxwHbgNQSgUCn2mtr63pHdeXrm5Bhb+LAVullBH4ELhVax0BfIp5aKvWuYc1JSchkdykZEqKiojbsh3fzpWvBuLbuQMnN25Ga03aoSPYOjpWnv62eRuBPa0/D3ZfRhZBzo74OzpgqxQDA3z4KzG1Uhlfoz1TO7fm9V0Hic3Nt3pGSwbe1IeX/vcsL/3vWTr1ac+mP7ahteZI1FEcnR2rPf0NoFOfCA7tOUJxUTEF+YXE7D1GQIhfLaYv596sct05tXk7fheqO07mumP0cMfoaSI7Lh6A5Kj9uFr5IghuYaHkJSSSV5o/cet2vDp1rPV1L1XENf3KLlwQ1r0D+9dsRWtN/P4Y7J2MVTo3SimC2rfg8CbzHP19q7cQ1i0CgIy4pLKjiUmHT1BSVIzRtXbnhLe9uj83vTOJm96ZRNNuHTi01pw/8UAMdk6Olaa/nckf0K4lMZt3AHBo7RZCutXNFYt6XN+XRz6YyCMfTKRNrwh2rjTvuyf2HcXobLyo6Wute7S/pPUvRUNtO89oqPl7jujLEx9O5IkPzfVnR+nrfzz6KA7Oxouavta6Z/tLWv9SODUNpSAxkcLkJEqKisjYvg23DtVr/0oKCijOzy/7Ozt6L8ZA619I4HyWLf+HMbf0BaB753Ays3KJT0xn+67DhIf507SJD3Z2Bm67vhfLll/UqRg1dtOo3vxv0dP8b9HT9B3Ynj+W/o3Wmqjdx3B2MVaZ/qa1JvZ4ctnff63bS0iYDwDf/voC3/5m/ul/VQTjX7j5X9z5aTi01ila68Fa6xalv1NLbz9lqfOjtV6jtb7gbDGouxGgLOBCZ6af6ewkK6VcgFsBy5cDu8xsDAba3jmKbW/PRpeUENzvSlyDAzm+ah0AIYP64dOxPUm7I1n77EsYHOzp8MBdZesXFxSSHLmPdveMtUbcSko0zN57hDe7tcNGwW+xiRzLzmN4E/MH6aUn4rkzPAQ3ezvGtTNfXrlYw6N/mYeBJ3dsSUdPd9ztbVk4sCvzDh7nt1hrTR8zi+jZlsgt0UweOwN7B3vueW5U2bL3n5vDXc+OxMPbnZXfr+OPBavITM1i2v1vE9GjDXdNHEVAUz/adW/NtPvfRilFn+t6EtQswCrZbQwG2t81iq1vzUbr8rpzrLTuNB3UD9+O7UnaFcmaZ1/CYF+57rS7cyQ7P/qCkuJinHy86fjgnVbJfYYyGAgfO4o9M99Dl5Tg36c3zkGBnFqzFoDAAf0pzMjg7+mvUZyXD0oRu2Il3aZPxdbR0eK61ta0SzuO/7OXrx+dhq2DHYMeLx8JX/rqRwx8dAzOnu70vPMGlr/7BVu+WYpPWDBtruoFwOFNO9m/dis2BgO29nYMnXCvVadhNbmiHbE7ovjuiVewtbej72Pl+f947UP6/N8YnD096HbHDaye+QV/L1iKV1gTWg0y589Ny+Tn59/idF4+Sikil63hlpmTsXdyPNdDXjYturXlwLa9vHf/dOwc7Llx/JiyZfNf+pgR40bj5uXO5p/XsnHxSrLTsvjosTdp0bUtNzw1+rzr17aG3nY29PwArbqbX/937zO//jc/Xf76z5vyMTc9Za4/f/20lvWLV5KdmsXsR96kZbe23Dx+9HnXr23KYCBw1BhiZs+CEo3pyt4YA4NIWbcGAK9+AzidkcGhN16lJN/cdiavWkHLl6ZRnJ3NsU8+BECXFOPRrQeu7az74Xve7Cfo26sN3iZXDm35gOnvLsbOzvwR8bP5K/h91Q6GDexE1PpZ5OYV8PAznwDmKefjp8zll68mYTDYMO/bNUQfiLVqdoCefVuzeUM0Y65/AwejPc+/cnvZsomP/Y+JL9+Kp7crr09ZSE5OAWhN85aBPD35ZqtnrQ8uw/fzNHjKCtcUsPzASn0DdADygIQzPTal1AfAdq31XKXUq5jn8x0FTgDHtNZTlVJzgaVa6wt1iGo0Ba4+mNXTfAnbwb9tvEDJ+mnlNebTuNbG/VrHSWqmf8C1PL2lYdYdgHd7DOKhDWvqOkaNzekzgPeirDv973IZ1858idu3di+v4yQ1M7GD+fLmCw//XsdJamZUc/N3TzXktrOhZgdz/sUxDbPuANwadjW3lh6wamgWDzJfOMExZHQdJ6mZvOPmr4SIz7P+9whdDv6OI6CBzC3LPL3cah/+3eyG1MttUmfnAGmtLR6a0Vo/XuHvF4EqF8TXWt9Te8mEEEIIIYT4t6qXfRKrkjEwIYQQQgghRKNRX64CJ4QQQgghhKhl9el7gOqKjAAJIYQQQgghGg0ZARJCCCGEEKKRkBEgGQESQgghhBBCNCLSARJCCCGEEEI0GjIFTgghhBBCiEZDxj9kCwghhBBCCCEaDRkBEkIIIYQQopFQSi6CICNAQgghhBBCiEZDRoCEEEIIIYRoNGQESEaAhBBCCCGEEI2G0lrXdYba9K9+ckIIIYQQot5oEEMruUXrrfb52Mm2b73cJjICJIQQQgghhGg0/vXnAO1MWVrXEWqkk9dwAA5mNMz8LdzN+Zu+vaqOk9TMsWcH8efJX+s6Ro0NDbqWbw7/XtcxamxM86uZGbm8rmPUyPj2QwAYs2ZtHSepmW8G9Acg5N3VdZykZo4/PZHi5mUAACAASURBVBCA7NMNs+1xsRtE1umVdR2jxlztBtP283V1HaPG9t7Xj7SChvm+a3Iwv+/G5y2p4yQ14+84AgDHkNF1nKRm8o4vqOsIF0HGP2QLCCGEEEIIIRqNf/0IkBBCCCGEEMJMNYxTlWqVjAAJIYQQQgghGg0ZARJCCCGEEKKRUEpGgGQESAghhBBCCNFoyAiQEEIIIYQQjYaMAMkIkBBCCCGEEKLRkA6QEEIIIYQQotGQKXBCCCGEEEI0EkrGP2QLCCGEEEIIIRoPGQESQgghhBCi0ZCLIMgIkBBCCCGEEKLRkBEgIYQQQgghGgn5IlTpAJ2T1pq5M39ix6ZoHIz2PPLiKJq1Cq5S7v2p8zmyLxaDwUB42yY8+Nxt2Noa2LYukkWf/o6yURgMNtw97gZad2xmtexz/vMT2/8yZ3/qpVGEt66a/e0p8zkUHYvB1kDLdk14fJI5e052Hu+89A1J8WmUFJdw0x0DGHJ9d6tkB+gf6snLg1tgUIqFu+P4aOsxi+U6+Lvy09iuPP5LJL8eSMLBYMOi0Vdgb1DY2ih+PZDEzI0xVst9htaa7z/4kagt0dgb7bhj4miatGxSpdzaH9ez5vt1JJ9K5vUfp+Pi7lJp+bF9x/nP47O4d8pddO7fyVrx0Vrz+yc/cHDbXuwc7Ljx6bEEhFfNnxafwvdvzCMvO4eA5k246Zk7MNjZkpeVy5JZ35Aal4ytvR03PDUa39BAq+bf+Plijv8Tha29PQOfuBOfZlXzZyYks2LmF+Rn5eLTrAmDnrwLg50tMVt3s23BUpSNwsZgw5X33kpAm+ZWy58RGcmJRd9CSQneffrgf/U1lZbnx8dxdO48ck8cJ/CGG/EfOrTScl1SQvRrM7D38CD88SeslhvM++7UAS0w2MDCPXF8uO24xXId/Fz5eXQXHlsWxa8HkwhwcWDmNW3wcbJHa/hmzyk+3xFr1exgrjtvv76IjeujMBrtmTrjLtq0DTln+bde+5YlP25iw7ZZlW6P2nOUe8a+xevvPMBVQ6+o7dhltNa88/p3pfntmDrjLlpfIP8vP25m/baZAKxZtYuPZ/+CjY0NBoMNE56/lU5XhFsrPn2CTEzq2RyDUiw+EM9nu09UWj4oxIsnrmiK1v/f3nmHR1Wsf/zzppBCQgoJCaH3LiBFEaQKXLhUpYvt6s8uFrBwlS4XEezoRVCvqPQqYAFBCAFpipRAaELopJGeEEIyvz/OSbJJNkAgu0vMfJ5nnz17Zs4535kz/Z2ZhatK8c7Ov9gTlQTAL4PbkpqZRbZSXFWKIav/tJvuHJRSvD99FdvDjLp33JRhNGxcuO6dOmExEQfPoBRUrxHIuLeH4enpRlJSGlPHL+bsmTjc3Fx4c9JQ6tSrbFf9H7/7PTu3HsbN3ZWxk4dSv1Fh/dMnLuHIobMopahWI5A3Jg/F09Mt1z0i/AzPPvwJE6aPpHP3O+yiffaMp+jVrSUxcUm07v6aVT/vTXqEnl1akJZ+hSdH/5e94ZEAdO/UnJkTH8bZ2YmvF21i5mer7aJZ41hKbAqciPiKyLMldb9rPKeziNxj6+fs3X6Yi2dj+WjJWP7v9cF8OWO5VX/39mjFBwtfZ+Z3Y7iSkcmvq3cC0Kx1Pd79ZjTvzhvN0/8eyufTlthaci6//3aY82dimbN8LM+PHcxn061r7/yPVsxe+jqfLjS0r19laP9h6Taq1wpi1oIxTJv9LF9+tJrMzKt20e4kMKV7Ax5Zto/7vtpJv0aVqFfR06q/sR3rsiUyLvdcRlY2wxf/Sa95u+k1bzedavrTsnIFu+i25NDOCKLPxTD+238z7JUhLP5wmVV/tZvW4vmZz+Af5FfILTsrm+/nrKFR64a2lluI478f4tK5GF744i36jhrGD7OWWvW34avV3D2wMy98MQ53Lw/2rN8BQNiSXwiqXYVnPnuDgaNH8vPnK+wpn9N7DpF4IYbhsybQ6ZnhhM1ZZNXfjm+/544+XRjx6QTcvDw4vHE7AFWbNWDw+2MZ/N5YOj87ktDPFthNu8rO5vTCBdR7YRSNJ07i0u7dpJ8/n8+Ps2d5qg0bRlD37lbvEb1xI+7B9ms05eAk8HbX+jyych/dvt5Fv4ZB1PMvIu/eW4fQU5dyz2Upxduhx+k2bxf9F/7Bwy2qWL3W1mwLO8iZ09Gs+nESb00cwbQpC4v0eyj8FMlJaYXOZ2Vl8/EHK2nXvrEtpVolR//KHyfy5sQHmTbFetqHHP3p+c61vbsBC1e8yYLl/2b8lJFMmTDf1pJzcRJ4q11dnlofTt8Vv9O7diB1fPOngR3n4xm4ag/3f7+Ht8KOMrl9/Xzuj/60j/u/3+OQzg/A9q2HOXMqlqVrxzJ2/GDefdt63fvSq/35btkY5i8fQ1BlX5Yt3ArAvLkbqdcghPnLxzB+6nA+mL7KnvLZufUwZ0/HMn/164wZN4j3p1ovu58f04+vlrzC/5aOplKwLysXbct1y8rK5vOPfqBNuwb2kg3At0tD6f/wO0W69+zSgjo1g2na8WWef2MuH099HAAnJ+HDtx+j/yPTadltDIP73UPDelXsJduBiB0/tycluQbIF7jhDpAY3MzzOwM27wDtDgun4z9aISLUb1qD1JR04mOTCvlreU8jRAQRoW7j6lyKTgDA3dMt18SYkX4F7Ghu3LklnK69De0Nm9UgNTmdS1a0t2mfp71+4+rEmtoRIT0tA6UU6WkZeFfwxNnZPsvFWlSuQGR8GmcSL5OZrVhzOJrudQML+Xv0zqr8dCya2LTMfOfTMrMAcHESXJ2dUHZRnZ8Dv4XTtnsbRIRajWuSnpJOYlxiIX/V6lWlYrC/1XuErgyjRcfmePl5WXW3JYd3hHNHN0N/1YY1uZyaTvKl/PqVUpzcf4zGHZoD0Py+thzZfgCA2NMXqd3CaJgEVAsiIeoSKfGF05+tiNy9n/qd2iIiBNWvRUZqOqnxhfWfDz9K7XYtAajf+S5O7toHgKtHXt7NzMiwa/mdevIk7pUq4RYYiJOLC36t25Cwb18+P64VKlC+Zk3E2bnQ9Vfi40k8cICADh3sJTmXFsEViExI53Ru3o2iR52AQv4ea1GVn47FEJd2JfdcdOoVwqNTAEjNzOJ4XCrBXm6FrrU1oZv28c9+dyMiNGtem5TkNGJiCufdrKxsPnxvBaNG31/IbfGCTXTr3hI/f297SM5H6Kb99O53l6m/FsnJacQWof+j91bw4uiB+c57errnpv309Ct2bbo0C/DmdFI6Z5ON9PPTiRi6Vq+Yz0/a1ezcYw8Xx5Tv12LLpnB69zXq3qbNa5CSnE5sTOGyr7yXO2CUQxmXM3PbBydPRNH6rnoA1KwVxIXz8cTFJdtN/9bNB+nZx9Df5I4apCRfJu56+jMy802nWrFwG526NcPPv7zddANs23WYSwkpRbr36dGKBcvDANj153F8KngSXMmXNi3q8lfkRSJPR5OZmcXSNdvp06O1vWRrHEhJtmrfAeqIyF4R+UBENorIHhE5ICL9AUSkpohEiMhnwB6gmog8LiJHRWSziMwVkVmm30ARWS4iu81PexGpCTwNvGw+594S1J+P+JhEKgb55v6uGOjDJSsVSQ5Xr2ax5ec/aH533oj9rtADvDzsHd4Z8wXP/HuoraQWIi46kQBL7ZV8iIu+tvZNP/3Bne0M7X0Gt+dMZBQP957E8yNm8uQrA3Bysk8HKNjLjQvJGbm/LyRnFGoIBXmVo2e9QL7be67Q9U4CPz7Shj3PdSAs8hJ7L9iv4Z1DQmwifpXy4t830JfE2KLjv9D1MQns33qADn1t3s+3SnJsAj6BeforBPiQXEB/elIq7uU9cDIb4RUCfEmKMzrQQbVCiNi2H4BzR06REB1PUjHCf6ukXkrAKyDPquZV0ZdUU1sOl5NTKWeh36uiH6kWnbyTO/ex6IUp/PSf2XR+7kH7CAcyExJw9cvrFJfz8yUzIf6Grz+zZDFVHnjAIfO7g73cOJ98Off3hZQMgryLyLv7C+fdHKpWcKdJJW/+vGj/vBsdlUBQcF7aqRTkR0xUQiF/ixdsplOXOwgM9Cl0/aaN+3hgSEdbS7VKTFQCwRb6g4L8iLaif8mCzXTscgcBBfQDbNqwlwf6TuKlZz9j/JSHbCk3H0Hl3biYmlf2X0zNoJJnuUL+utWoyNr7WzO7R1PeCjuSe14BX/RsxtJ+LRncINgekgsRE51IpeC8srNSkA8xRdS9U8YtoneXiZyKjGbIcGPAol79EDZvNAaSDh44zcUL8VbTn62IjU7Kpz/wGvqnjV/MwG6TOX0yhvuHtQcgJiqRsE3h9Bvczi56i0NIsD9nL+TNGDl38RIhwf6EBPtx9rzF+QtxVLEyK+PvhuBkt8/tSkkqewP4SynVAngVGKiUuhPoArwneTVyA+AbpVRLIBMYB9wNdAcs5/t8BHyglGoDPAB8oZSKBGab51sopcIKihCRJ0XkdxH5fc6cOTcdGGVlaOlabYovZyynUYvaNGqRt86nbadmfLDoDca88xiL5/5801qKi7VRsWtp/2z6cpq0rE3Tlob2PTuOULteFb75cQIffzea2TNWkpZyuegb2BhVIEQTutbnndC/yLYS0GwFveft5u7Zv9GicgXqB9h3FAqMUbFCFKNBuvzTVfR7sg9OdrK63RAF9FtNY+Z4cYch3bmcksbs599l1+otVK5Txb5hsRr9BeLfyjuy9FLrruYM+2QcPV97kt0LfyhhgdfCeszeCAn79+Pq7U35GjVKVtINYk1lwWie2Lke08Ks510AT1dnPu/blEmbj5FyJavENV6PG8m6MdEJbFi/h6EjOhfyO3P6Uka9PMBuFvOCWCt7CqZ9Q/+fVvUDdLmvBcvXTGDmx08xe9YaW8i0yo2WkBtPxdFnxe88v+EQo1rVzD3/4Nq9DFr9J0+tD2d4oxBaBRXu3Nma4hT946YMY+3GCdSsFcSGdXsBePjxriQnpfPQ4PdYunAr9RtWwdmKpddW3Ej6yWHs5KEs/2UcNWpV4td1hpX6kxmreerF3g5L/9dCrKQwpZTV8Fl7j5q/H7baBEGA/4hIRyAbqAIEmW6nlFI7zOO2QKhS6hKAiCwFcib13gc0tkicFUTkunMKlFJzgJyej9obt/aGRa9bvpWN5hqeOg2rEWcx8hIXk4hfgPUCdemX60hKSGH0649adW/csg6fvb2IpIQUKvjaZkrT2qVbWWeu4anXuBqxltqjE/G3MtIHsGDuOpLiU3h+7KO55zas3c2gh7siIoRUCyAoxJ8zp6Jp0KToxbQlxcWUDCpbjBpX9nYjKuVKPj93BHnzSd8mAPh7uNKlVkWuZivWH4/N9ZOUcZXtZ+LpXMufo7GpNte9ZdVWfvvBWENSvUF14qPz4j8hJgGfije+Fun00TN8PeUbAFISUzm0MwInZ2ead2hWsqIt2LUmjD3rDP0h9aqTGJOnPyk2Ee8C+j0rlOdyajrZWVk4OTuTFJuAd0Ujjbl5utP/FcNqopTio8cm4xecfypLSRP+UygRG34DILBuDVJi86wmKXEJePrnT//uFby4YqE/JS4eT7/CeSSkSV02zYolPSkFjwq2n47o6utHZnze2pgr8Qm4+vpe44o8Uv86TsK+fSSGh5OdmUlWejonv/ySWo8/biu5+biQkkGIt3vu78pebkSnZOTz0yzIm1m9jbUx+fLuX7G4OAmf923KyogofrbIy7ZmycLNrFxmrGFo3LQGURfz0k50VDwBlfLH/+GIM5w9HcOA3uMBuHz5Cv17jef7nyYTcfAUY1/9EoCE+FS2hYXj7OxEl26228RkycJQVlnov2ihPyoqnsBK+dP1EVP/wN4TcvUP6DWBVT9Nyufvztb1OHsmloT4FHztMBX3YmoGweXzyv7g8m5Ep10p0v8fUYlU8/bA182FhIyrxKQbfi9dzmTjqTjuCPTmjyjbW56XLdrK98uNurdRk2pEX8wrO6OjEq1a2XJwdnbivn+0YP7Xm+gzoC3lvdwZN2UYYJSdA3tNJaSK9WnSJcXKRdtYu8LQ36CA/pioRAICi667nJ2d6NqzOYvmhdJ7QBuOHDrD5NeNdWOJCans2HoYZ2cn7u3a1KZhuBHOXYyjauW8eqhKsD8XouIp5+pC1RCL85Urcj76xq3upZfbd22OvbBVB+hBIBBopZTKFJFIIKdmtGyNXusNOAHtlFL5VmnacmpHzwc60PMBwxS9Z9sh1i3fxj3dW3Ls4Gk8y7vjF1C4INi4egf7dx5h3CfP5JsmdvFsLEFVKiIinDhylquZV/H2sZ01os/gDvQZbGjfvfUQa5duo2OPlhwJP42nlzv+VrSvW7WDPTuOMPXT/NoDg3zZt/sYTVvWJj4umbOnowm2cSGcw74LydTy86SajzsXkzPo27ASo9Yeyuenw9ztucczezXi179iWX88Fn8PV65mK5IyruLm4kSHGv78d6f1HeRKmo4DOtBxgBH/4TsOsmXVVlp1bUlkxCncy3vgU/HGRyMnLRiXe/zt9AU0vbuxTTs/AG373kvbvsaM0qO7DrJ7TRhNO93JuSOncCvvjneBDoSIUOuOehzauo+mne5k34ZdNLjbqOQup6Th6lYOZ1cX9qzbTo2mdXDzdC/0zJKkaa9ONO3VCYBTf4QT/tMW6nZoRfSxSMp5elDer7D+kKb1ObH9T+p2aM3RzTup2dbYrSjxQgwVggMQEWJOnCHr6lXcve1jSSxfsyaXo6PJiI3F1deX+N93U+vxJ27o2ioD76fKQGNNSvKRI0T9st5unR+AfReTqeXrQbUK7lxMyaBvwyBG/Xgwn58OX+7IPX6vZ0M2nohj/V9GZ2dGj4Ycv5TKF3vy7/xla4YM78yQ4Z0BCAs9wJKFm+nZqzXh+0/i5eVRaJrbvZ2asT50eu7vDm1e4vufJgOwZt3buecnvDmPezs1s2nnx9DfiSHDjbS/NfQASxaGmvoj8fLyKNQA79CpGetC8xaL39vm5dzOz5nT0VStFoiIcPjQaTIzr+Lja5+0Hx6bTA0fD6p4uROdlkGv2oG8tvlwPj/Vvd05bU6zbFTRC1cnISHjKh4uTghC2tUsPFycuCfEl//utb4DYUkzaFgHBg0zyv5tWw6xdOE2uvdqycH9p/Hydi/UgVBKcfZMHNWqB6CUYuvmg9SoWQmA5KR03D1ccXV14fvlO2l5Z+3c9Ta2YuCw9gw0p7Bt3xLBisXb6PaPFhw6cJryXu5UtKL/3Jk4qpr6f9tyiOq1jHW6i3/8d66/aeMW0a5j49ui8wPwwy97ePqRHixZ/RttW9YlKTmNi9EJxMQlUbdWMDWqBXL+4iUG923Ho6NmOVquxg6UZAcoGcix0PgA0WbnpwtQ1JyMXcAHIuJnXv8AcMB0Ww88D8wAEJEWSqm9pj+bb+3V8p5G/Lk9ghcHT6OcuyvPvDks123a6Lk89cYQ/AN9+GLGcgKD/HjryY8BY9rboH/1YOem/Wz5+XecXZwpV86Vl6Y8ZLd5+a3bN+L33yL4v/un4ebuykvj8rRPeGkuo94cQsVAHz6dvpxKwX6MedzQfk+XZgx/ogfDHu/Oh5MX8dzwGSgFjz3fBx8bWa4KkqUU4zcc5ZtBLXB2EpYcOM+xuFQebG5sozx/3/kir63kVY73ezXGycmYdbr2SDS/nogr0r+taHJXYw7tjGDyyKm4updj5Gt58f/fN+YwYsxQfAJ82LxiCxsX/UrSpWSmPTGDJnc1YsSYYde4s32o16Yxx3Yf4pPHp+DqVo7+L4/IdZs/fjb9XhyOd0Uf7nusL8umz+PXb36gcp2qtOxpzPuOORPFqve+Q5ycCKweTL8Xh9tVf/U7m3B6z0EWPjcJFzdXOj83Mtfth7c/o/OzIyjv78vdI/vzywf/Y9fCtQTUqkajbob+Ezv2cnTzTpxcnHEp50r3V/5lt7wrzs5UHzacYx99iMrOJqB9ezxCQogJDQUgsFMnMhMTifjPVLIuX0ZEiN64gSYTJ+Hs4WEXjUWRpRTjNh3l2wea4yzC4vALHI1LY+QdRt79bn/RebdNiA8PNA4mIiaFn0YaC5Df3XaCTScvFXmNLejQsSnbwsLp32s87h7lmDjl4Vy3Uc/MYtykkQRWujGLnCNo37Ep28IOMqDXBNw9yjHBYg3PqGc+ZdykB6+pf+Mve/lx9U5cXJxxc3dl2szH7Zb2sxRM3X6cuT2b4iTCymMXOZ6QxtAGxo6Gi49coHvNAPrXDeJqtuJyVjajN0cAUNGjHB93MyyLLiL8cCKarefsP4p/z72N+C0sgkH/nIa7uytvTckrz19+di7/njiEigHeTH5rIWkpl1EK6jaozOtvDQIg8mQUk95ciLOTULNOMG9OGmJX/Xff25AdWyMY0fcd3NzL8YbF81977ktemzAI/wBvpo1bRGpqBihFnfohvPJm4c1A7M28T17g3naNCPDz5vjOWUx5fxmurkYT94vvNvDzr3/Ss0sLDoZ9SFp6Bk+N+RwwNgR5edzXrPl2LM7OTsxbvJmIo/bfgt/eWJsSWNYQq+sVbvZmIguAO4DdGOt5XIG9QHsg588s1iqlmlpc8yQwBjgPRACXlFJvikgA8CnQCKOjtkUp9bSI1AeWYUyte8HaOiALijUF7naiRcU+ABxLLJ366/kY+mvM+NXBSm6OU692Zf25Hx0t46bpUaU3C/6y37qzkmZEnX/wQfgvjpZxU7zc1NieesTmUAcruTkWdDasCdXf3+RgJTfH6Ve6AJCSWTrLHi/XriRnbnS0jJvG27Ubjb/a4mgZN82hf3UkPqN01rt+bka9ezG9dP6PTbBHPwA8qtt30KykSD+9EErJ3LKr2fvsttLJxan5bRknJToFTik14vq+KGgPXaCUmiMiLsBKDMsPSqlYoNDWaUqpoxidLI1Go9FoNBqNRlMMHLFT6O3G7bBVx0QR2QuEAycB+/7zl0aj0Wg0Go1Goykz2GoThBtGKTXG0Ro0Go1Go9FoNBpN2cDhHSCNRqPRaDQajUZjL26HCWCORceARqPRaDQajUajKTNoC5BGo9FoNBqNRlNG0NtgawuQRqPRaDQajUajKUNoC5BGo9FoNBqNRlNm0BYgbQHSaDQajUaj0Wg0ZQZtAdJoNBqNRqPRaMoI+o9QtQVIo9FoNBqNRqPRlCG0BUij0Wg0Go1GoykzaPuHjgGNRqPRaDQajUZTZtAWII1Go9FoNBqNpoyg/wcIRCnlaA225G8dOI1Go9FoNBrNbUMp6VkctWP7uP5tGSd/9w6QTRGRJ5VScxyt42bR+h1LadZfmrWD1u9otH7HUpr1l2btoPU7mtKuX1Ny6DVAt8aTjhZwi2j9jqU06y/N2kHrdzRav2MpzfpLs3bQ+h1NadevKSF0B0ij0Wg0Go1Go9GUGXQHSKPRaDQajUaj0ZQZdAfo1ijt80i1fsdSmvWXZu2g9Tsard+xlGb9pVk7aP2OprTr15QQehMEjUaj0Wg0Go1GU2bQFiCNRqPRaDQajUZTZtAdII1Go9FoNBqNRlNm0B0gjeYGEBFfEXm2hO71qIiEWPyOFJGAkri3rRCRr0VkUDH81xSRcFtqukEdo0QkQkTmi8gYR+u5FURkgIg0drCG3HwgIp1FZG0xry9WOrK4rtjPKguISEoR528qnq/zrEdFZFZJ3vMaz9osIq3t8SxNHo7K38WlJOvj6zyns4jcY+vnaByD7gBpNDeGL1CowBUR55u416NAyPU8aUqEZ4HewDFHCymIGBSnDB4AOLQDRBH5QKPR/C0oLfm7WDpvoqzNoTOgO0B/U3QH6BqIyCoR+UNEDorIk+a5x0XkqDlCNTdnRExEAkVkuYjsNj/tHaseRKS8iPwgIvtEJFxEhopIKxEJNcO1TkQqi4iLqbmzed00EZnqYPn5EJGHRWS/GZZvzZGm2SISZr6PPjaW8A5QR0T2mnG1SUQWAAdMfSNFZJfp/rmIOJufr824PyAiL5ujY62B+aZfD/P+r5rX7xKRuuY9rYZRRJpYPGu/iNQr6cAWjG/zdEcR+U1ETuSM8pkVywyLMA4taS03i4jMBmoDq4GXgeYi8quIHBOR/zP9VBaRLWZchovIvTbWVFMMi9RnwB7gIRHZLiJ7RGSpiHiZ/t4RkUPmO5hpjkL2A2aYWuuYn5/NvBwmIg3Na4NEZKX57vbljGCKyDgROSwiv4jIQrk5i1huPgBmAF4issy873wREfNZ4818Ei4ic3LOF4gLq35EpK6IbDC17xGROuYlVp91K1jJtzXM9BEgIk5mvPYw/RaqD8zzKSIy1dS7Q0SCzPN1zN+7RWSyFGGtKYbWV8y4CheRlwq4iYjMMtPMD0AlC7dIEZkuhcsXq3WWiLQ18/mf5ncDK1r+aabbW7Zci5V6qoD7cLNsCReR6RbnU0TkPTONbBSRQPO81XzhKKRw3dVXRHaa8bshJ73cJpRY/raXThH5wHz/e8x00t/UWLCsrSbFaL+JSE3gaeBl8zk2rRs0DkAppT9FfAB/89sDCAeqAJGAP+AKhAGzTD8LgA7mcXUg4jbQ/wAw1+K3D/AbEGj+Hgp8ZR43ASKA7sCfQDlH67fQ3QQ4AgTkvBfga+BnjE58PeAs4G5DDTWBcPO4M5AK1DJ/NwLWAK7m78+Ah4FWwC8W9/A1vzcDrS3ORwJvmscPA2vNY6thBD4BHjT9lAM87BTfS00tjYHjFmnsF8AZCAJOA5Ut48vBaScSCAAmAvvMvBwAnMGwwo22iHtnwNvGemoC2cDdpo4tQHnT7XVgvBnfR8jbpTMn3XwNDLK410agnnl8F/CrebwYeMkiTD4Yne69Zvi9MSxiY0ogHyQCVc10sZ28MtDf4ppvgb4Fw3ANPzuBgeaxO+B5rWfdwrsoKt8+ASwDXgU+t/BfsD6oaP5WFtrfBd4yj9cCw83jp4GUW9DaCmOwpTzgBRwEWubcE7ifEtS9fAAACDRJREFUvHwYAiRYxHMk1ssXq3UWUAFwMY/vA5abx48Cs4CBGHWfXwnlCWv11GYzzYZglCmBgAvwKzDAIt5zysHx5NXFVvOFIz5YL0v9yMvbTwDvOUqfFb01KaH8bUedLkAF8zgAOA4IFmWt6RZCMdtvGPVGsctJ/SkdHxc012KUiAw0j6sBDwGhSqlLACKyFKhvut8HNLYYCKkgIt5KqWR7Ci7AAWCmOWq2FogHmgK/mDqdgQsASqmDYoz0rwHaKaWuOEayVboCy5RSsQBKqUum/iVKqWzgmIicABpiNPLswS6l1EnzuBtGA2W3qcsDiMaIy9oi8gnwA7D+GvdbaPH9gcV5a2HcDrwpIlWBFUqpkp7eVVR8rzK1HLIYtewALFRKZQFRIhIKtAH2l7CmkuB7pVQ6kC4im4C2wG7gKxFxxQifPdLPKaXUDjEseo2BbWb8lsN4t0nAZeALczS/0Dx8MSxF9wBLLcocN/O7K0ZDF/O9JIpIB/LCj4isKaGw7FJKnTXvuRej0bEV6CIir2F0XvwxGuwFn1nIj4hsBqoopVaa+i+b977Ws24Wq/lWKTVRRAZjdFpaWPgvWB/UA+KAK+S9oz8wBpEA2mFMWwSjgTXzFrR2AFYqpVIBRGQFYDki3ZG8fHheRH4tcL218sVqnYXRAZknhmVZYTQWc+iC0THpoZRKuoXwWJKvnlJKhVloagNsVkrFAIjIfIywrsJo3C42/X0HrLhOvnAE1srSZsBiEamMkedPXusGDuZW8re9EOA/ItIRI01UwRiMA7OsNY/bUsz2mz3EaxyH7gAVgRjTwe7D6AykmRXzEYxRQ2s4mX7T7aPw+iiljopIK4w1ENMwRggPKqXaFXFJM4yRw9vJJA9GAWftD6sKnrPnn1qlWhwLME8pNbagJxFpDvQEngOGAP8q4n7qBo4BlFJqgYjsBP4JrBORJ5RSBRs8t0JR8Z1RwI/ld2nAWlxuMSvOfwLfisgMpdQ3NtaRk3YEw0I4vKAHEWmL0UAfBjyP0ZCyxAlIUEq1KHhtEdjqPVmmiSzARUTcMawprZVSZ0RkIoYlJ09M0X6upbPQs25Ru9V8KyKeGKPeYFhbkouoD3LClKmUyklbJaGrKK3X41rln7UyxWqdZQ7YbFJKDTSnAW22cD6BMa20PvD7DWi6LgXrKRGxHCgqTrpVFD9f2BprZeknwPtKqdVmuppob1HF4Kbyt515EMNC2EoplSkikRZ6CtbTRVFUXihJnZrbDL0GqGh8gHizsmuIMWXFE+gkIn4i4oJhus9hPUZDBQARcXgBLMZOY2lKqe8wRh/vAgJFpJ3p7ioiTczj+4GKGKNrH4uIr4NkW2MjMEREKgKIiL95frAY8/TrYFTKR2yoIRlj6lBR+gaJSKUcfWKsJQgAnJRSy4FxwJ3XuNdQi+/tFucLhVFEagMnlFIfY6xvueMWw2YtPNbi2xpbgKFirHcKxEg/u0pYT0nRX0TczXB1xhj5r4Ex6j8X+JK8d2QPdgDtJW9NhqeI1DdHsX2UUj8CL5FnhchNN+bo+0nTUpGzBqS56W8j8Ix53llEKmCM2vY1w++F0eG7Ga6VD3LIaXzEms+ytiuUVT9muM6KyABTv5vZIbEFVvMtMB2YjzGtaq7p11p9cD12kFdHDLtFrVuAAWYaKU/eNDRL92Hm+66MYamxxFr5UlSd5QOcM48fLXCfUxjT7b7JqTtuFSv1lGUe3IlR5waIseHMcCDUdHMiL22NALZeJ184AmtlqWX8PuIoYUVQUvnb1ljq9MEowzNFpAtQo4hrdlH89tuNxIemlKItQEXzM/C0iOzHaFjvwCi0/oNRKJ8HDmHMkQUYBXxq+nfBqJCetrfoAjTDWDSdDWRiNIquYnRwfDB0figiURiLCruZIzqzgI+4TQpnc3reVCBURLIw1iiB8V5CMSxWT+dMl7GRhjgR2SbG1s7pQJSF2yEReQtYL8ZOM5kYFp904H+St/tMzkjz18BsEUnHmCYD4GZadZwwKvkcCoVRjEXCI0UkE7gITC7hsBYV39ZYaYZhH8ZI52tKqYvmyPHtxi6MqYjVgSlKqfMi8gjGBhSZQArm1DF7oJSKEZFHgYUikjNN5y2MSvd7c6RVMDZwAFgEzBWRURiNjgeB/5ppz9V03we8CMwRkccxRm2fUUptF5HVpvspjNH7nLKrOJqLzAcWfhJEZC7G1KZIjGmGxfHzEPC5iEzGyEuDi6vzRigi376CMe2qvVIqS0QeEJHHMKawFawPrsdLwHciMhoj3RU7vi207hGRr8kbXPhCKfWnxQj1Sgwr4QHgKHmdhByslS9F1VnvYkyBewVjzU1BLUdE5EGMaWZ9lVJ/3Wy4TKzVUzPNZ10QkbHAJoy88KNS6nvzulSgiYj8gRG3OZ28ovKF3SmiLJ2IEXfnMNJRLUdos0ZJ5W9bU0DnbqChiPyOMQX+cBHXnBOR4rbf1gDLxNhY4QWlVFjhO2tKKzkL8TQ3iIh4KaVSzBGElRibCKx0tK6yhtkYWKuUWuZoLbaiLIRRYz8syi5PjAr+SaXUHkfr+rtixnO6UkqJyDCMDRH6O0BHJMZ0pVh7P9uWiEiKUsrL0To0pQfdftNYoi1AxWeiiNyHYQZej7EYU6PRaG535ojxR6ruGGtfdOfHtrQCZolhpkmg6PV/Go3GPuj2myYXbQHSaDQajUaj0Wg0ZQa9CYJGo9FoNBqNRqMpM+gOkEaj0Wg0Go1Goykz6A6QRqPRaDQajUajKTPoDpBGo9FoNBqNRqMpM+gOkEaj0Wg0Go1Goykz/D/QGjVuSyqx+gAAAABJRU5ErkJggg==\n",
      "text/plain": [
       "<Figure size 1080x720 with 2 Axes>"
      ]
     },
     "metadata": {
      "needs_background": "light"
     },
     "output_type": "display_data"
    }
   ],
   "source": [
    "# Let's make our correlation matrix a little prettier\n",
    "corr_matrix = df.corr()\n",
    "fig, ax = plt.subplots(figsize=(15, 10))\n",
    "ax = sns.heatmap(corr_matrix,\n",
    "                annot=True,\n",
    "                linewidths=0.5,\n",
    "                fmt='.2f',\n",
    "                cmap='YlGnBu');"
   ]
  },
  {
   "cell_type": "markdown",
   "metadata": {},
   "source": [
    "## 5. Modelling"
   ]
  },
  {
   "cell_type": "code",
   "execution_count": 23,
   "metadata": {},
   "outputs": [
    {
     "data": {
      "text/html": [
       "<div>\n",
       "<style scoped>\n",
       "    .dataframe tbody tr th:only-of-type {\n",
       "        vertical-align: middle;\n",
       "    }\n",
       "\n",
       "    .dataframe tbody tr th {\n",
       "        vertical-align: top;\n",
       "    }\n",
       "\n",
       "    .dataframe thead th {\n",
       "        text-align: right;\n",
       "    }\n",
       "</style>\n",
       "<table border=\"1\" class=\"dataframe\">\n",
       "  <thead>\n",
       "    <tr style=\"text-align: right;\">\n",
       "      <th></th>\n",
       "      <th>age</th>\n",
       "      <th>sex</th>\n",
       "      <th>cp</th>\n",
       "      <th>trestbps</th>\n",
       "      <th>chol</th>\n",
       "      <th>fbs</th>\n",
       "      <th>restecg</th>\n",
       "      <th>thalach</th>\n",
       "      <th>exang</th>\n",
       "      <th>oldpeak</th>\n",
       "      <th>slope</th>\n",
       "      <th>ca</th>\n",
       "      <th>thal</th>\n",
       "      <th>target</th>\n",
       "    </tr>\n",
       "  </thead>\n",
       "  <tbody>\n",
       "    <tr>\n",
       "      <th>0</th>\n",
       "      <td>63</td>\n",
       "      <td>1</td>\n",
       "      <td>3</td>\n",
       "      <td>145</td>\n",
       "      <td>233</td>\n",
       "      <td>1</td>\n",
       "      <td>0</td>\n",
       "      <td>150</td>\n",
       "      <td>0</td>\n",
       "      <td>2.3</td>\n",
       "      <td>0</td>\n",
       "      <td>0</td>\n",
       "      <td>1</td>\n",
       "      <td>1</td>\n",
       "    </tr>\n",
       "    <tr>\n",
       "      <th>1</th>\n",
       "      <td>37</td>\n",
       "      <td>1</td>\n",
       "      <td>2</td>\n",
       "      <td>130</td>\n",
       "      <td>250</td>\n",
       "      <td>0</td>\n",
       "      <td>1</td>\n",
       "      <td>187</td>\n",
       "      <td>0</td>\n",
       "      <td>3.5</td>\n",
       "      <td>0</td>\n",
       "      <td>0</td>\n",
       "      <td>2</td>\n",
       "      <td>1</td>\n",
       "    </tr>\n",
       "    <tr>\n",
       "      <th>2</th>\n",
       "      <td>41</td>\n",
       "      <td>0</td>\n",
       "      <td>1</td>\n",
       "      <td>130</td>\n",
       "      <td>204</td>\n",
       "      <td>0</td>\n",
       "      <td>0</td>\n",
       "      <td>172</td>\n",
       "      <td>0</td>\n",
       "      <td>1.4</td>\n",
       "      <td>2</td>\n",
       "      <td>0</td>\n",
       "      <td>2</td>\n",
       "      <td>1</td>\n",
       "    </tr>\n",
       "    <tr>\n",
       "      <th>3</th>\n",
       "      <td>56</td>\n",
       "      <td>1</td>\n",
       "      <td>1</td>\n",
       "      <td>120</td>\n",
       "      <td>236</td>\n",
       "      <td>0</td>\n",
       "      <td>1</td>\n",
       "      <td>178</td>\n",
       "      <td>0</td>\n",
       "      <td>0.8</td>\n",
       "      <td>2</td>\n",
       "      <td>0</td>\n",
       "      <td>2</td>\n",
       "      <td>1</td>\n",
       "    </tr>\n",
       "    <tr>\n",
       "      <th>4</th>\n",
       "      <td>57</td>\n",
       "      <td>0</td>\n",
       "      <td>0</td>\n",
       "      <td>120</td>\n",
       "      <td>354</td>\n",
       "      <td>0</td>\n",
       "      <td>1</td>\n",
       "      <td>163</td>\n",
       "      <td>1</td>\n",
       "      <td>0.6</td>\n",
       "      <td>2</td>\n",
       "      <td>0</td>\n",
       "      <td>2</td>\n",
       "      <td>1</td>\n",
       "    </tr>\n",
       "  </tbody>\n",
       "</table>\n",
       "</div>"
      ],
      "text/plain": [
       "   age  sex  cp  trestbps  chol  fbs  restecg  thalach  exang  oldpeak  slope  \\\n",
       "0   63    1   3       145   233    1        0      150      0      2.3      0   \n",
       "1   37    1   2       130   250    0        1      187      0      3.5      0   \n",
       "2   41    0   1       130   204    0        0      172      0      1.4      2   \n",
       "3   56    1   1       120   236    0        1      178      0      0.8      2   \n",
       "4   57    0   0       120   354    0        1      163      1      0.6      2   \n",
       "\n",
       "   ca  thal  target  \n",
       "0   0     1       1  \n",
       "1   0     2       1  \n",
       "2   0     2       1  \n",
       "3   0     2       1  \n",
       "4   0     2       1  "
      ]
     },
     "execution_count": 23,
     "metadata": {},
     "output_type": "execute_result"
    }
   ],
   "source": [
    "df.head()"
   ]
  },
  {
   "cell_type": "code",
   "execution_count": 24,
   "metadata": {},
   "outputs": [],
   "source": [
    "# Split data into X and y\n",
    "X = df.drop('target', axis=1)\n",
    "y = df['target']"
   ]
  },
  {
   "cell_type": "code",
   "execution_count": 25,
   "metadata": {},
   "outputs": [
    {
     "data": {
      "text/html": [
       "<div>\n",
       "<style scoped>\n",
       "    .dataframe tbody tr th:only-of-type {\n",
       "        vertical-align: middle;\n",
       "    }\n",
       "\n",
       "    .dataframe tbody tr th {\n",
       "        vertical-align: top;\n",
       "    }\n",
       "\n",
       "    .dataframe thead th {\n",
       "        text-align: right;\n",
       "    }\n",
       "</style>\n",
       "<table border=\"1\" class=\"dataframe\">\n",
       "  <thead>\n",
       "    <tr style=\"text-align: right;\">\n",
       "      <th></th>\n",
       "      <th>age</th>\n",
       "      <th>sex</th>\n",
       "      <th>cp</th>\n",
       "      <th>trestbps</th>\n",
       "      <th>chol</th>\n",
       "      <th>fbs</th>\n",
       "      <th>restecg</th>\n",
       "      <th>thalach</th>\n",
       "      <th>exang</th>\n",
       "      <th>oldpeak</th>\n",
       "      <th>slope</th>\n",
       "      <th>ca</th>\n",
       "      <th>thal</th>\n",
       "    </tr>\n",
       "  </thead>\n",
       "  <tbody>\n",
       "    <tr>\n",
       "      <th>0</th>\n",
       "      <td>63</td>\n",
       "      <td>1</td>\n",
       "      <td>3</td>\n",
       "      <td>145</td>\n",
       "      <td>233</td>\n",
       "      <td>1</td>\n",
       "      <td>0</td>\n",
       "      <td>150</td>\n",
       "      <td>0</td>\n",
       "      <td>2.3</td>\n",
       "      <td>0</td>\n",
       "      <td>0</td>\n",
       "      <td>1</td>\n",
       "    </tr>\n",
       "    <tr>\n",
       "      <th>1</th>\n",
       "      <td>37</td>\n",
       "      <td>1</td>\n",
       "      <td>2</td>\n",
       "      <td>130</td>\n",
       "      <td>250</td>\n",
       "      <td>0</td>\n",
       "      <td>1</td>\n",
       "      <td>187</td>\n",
       "      <td>0</td>\n",
       "      <td>3.5</td>\n",
       "      <td>0</td>\n",
       "      <td>0</td>\n",
       "      <td>2</td>\n",
       "    </tr>\n",
       "    <tr>\n",
       "      <th>2</th>\n",
       "      <td>41</td>\n",
       "      <td>0</td>\n",
       "      <td>1</td>\n",
       "      <td>130</td>\n",
       "      <td>204</td>\n",
       "      <td>0</td>\n",
       "      <td>0</td>\n",
       "      <td>172</td>\n",
       "      <td>0</td>\n",
       "      <td>1.4</td>\n",
       "      <td>2</td>\n",
       "      <td>0</td>\n",
       "      <td>2</td>\n",
       "    </tr>\n",
       "    <tr>\n",
       "      <th>3</th>\n",
       "      <td>56</td>\n",
       "      <td>1</td>\n",
       "      <td>1</td>\n",
       "      <td>120</td>\n",
       "      <td>236</td>\n",
       "      <td>0</td>\n",
       "      <td>1</td>\n",
       "      <td>178</td>\n",
       "      <td>0</td>\n",
       "      <td>0.8</td>\n",
       "      <td>2</td>\n",
       "      <td>0</td>\n",
       "      <td>2</td>\n",
       "    </tr>\n",
       "    <tr>\n",
       "      <th>4</th>\n",
       "      <td>57</td>\n",
       "      <td>0</td>\n",
       "      <td>0</td>\n",
       "      <td>120</td>\n",
       "      <td>354</td>\n",
       "      <td>0</td>\n",
       "      <td>1</td>\n",
       "      <td>163</td>\n",
       "      <td>1</td>\n",
       "      <td>0.6</td>\n",
       "      <td>2</td>\n",
       "      <td>0</td>\n",
       "      <td>2</td>\n",
       "    </tr>\n",
       "    <tr>\n",
       "      <th>...</th>\n",
       "      <td>...</td>\n",
       "      <td>...</td>\n",
       "      <td>...</td>\n",
       "      <td>...</td>\n",
       "      <td>...</td>\n",
       "      <td>...</td>\n",
       "      <td>...</td>\n",
       "      <td>...</td>\n",
       "      <td>...</td>\n",
       "      <td>...</td>\n",
       "      <td>...</td>\n",
       "      <td>...</td>\n",
       "      <td>...</td>\n",
       "    </tr>\n",
       "    <tr>\n",
       "      <th>298</th>\n",
       "      <td>57</td>\n",
       "      <td>0</td>\n",
       "      <td>0</td>\n",
       "      <td>140</td>\n",
       "      <td>241</td>\n",
       "      <td>0</td>\n",
       "      <td>1</td>\n",
       "      <td>123</td>\n",
       "      <td>1</td>\n",
       "      <td>0.2</td>\n",
       "      <td>1</td>\n",
       "      <td>0</td>\n",
       "      <td>3</td>\n",
       "    </tr>\n",
       "    <tr>\n",
       "      <th>299</th>\n",
       "      <td>45</td>\n",
       "      <td>1</td>\n",
       "      <td>3</td>\n",
       "      <td>110</td>\n",
       "      <td>264</td>\n",
       "      <td>0</td>\n",
       "      <td>1</td>\n",
       "      <td>132</td>\n",
       "      <td>0</td>\n",
       "      <td>1.2</td>\n",
       "      <td>1</td>\n",
       "      <td>0</td>\n",
       "      <td>3</td>\n",
       "    </tr>\n",
       "    <tr>\n",
       "      <th>300</th>\n",
       "      <td>68</td>\n",
       "      <td>1</td>\n",
       "      <td>0</td>\n",
       "      <td>144</td>\n",
       "      <td>193</td>\n",
       "      <td>1</td>\n",
       "      <td>1</td>\n",
       "      <td>141</td>\n",
       "      <td>0</td>\n",
       "      <td>3.4</td>\n",
       "      <td>1</td>\n",
       "      <td>2</td>\n",
       "      <td>3</td>\n",
       "    </tr>\n",
       "    <tr>\n",
       "      <th>301</th>\n",
       "      <td>57</td>\n",
       "      <td>1</td>\n",
       "      <td>0</td>\n",
       "      <td>130</td>\n",
       "      <td>131</td>\n",
       "      <td>0</td>\n",
       "      <td>1</td>\n",
       "      <td>115</td>\n",
       "      <td>1</td>\n",
       "      <td>1.2</td>\n",
       "      <td>1</td>\n",
       "      <td>1</td>\n",
       "      <td>3</td>\n",
       "    </tr>\n",
       "    <tr>\n",
       "      <th>302</th>\n",
       "      <td>57</td>\n",
       "      <td>0</td>\n",
       "      <td>1</td>\n",
       "      <td>130</td>\n",
       "      <td>236</td>\n",
       "      <td>0</td>\n",
       "      <td>0</td>\n",
       "      <td>174</td>\n",
       "      <td>0</td>\n",
       "      <td>0.0</td>\n",
       "      <td>1</td>\n",
       "      <td>1</td>\n",
       "      <td>2</td>\n",
       "    </tr>\n",
       "  </tbody>\n",
       "</table>\n",
       "<p>303 rows × 13 columns</p>\n",
       "</div>"
      ],
      "text/plain": [
       "     age  sex  cp  trestbps  chol  fbs  restecg  thalach  exang  oldpeak  \\\n",
       "0     63    1   3       145   233    1        0      150      0      2.3   \n",
       "1     37    1   2       130   250    0        1      187      0      3.5   \n",
       "2     41    0   1       130   204    0        0      172      0      1.4   \n",
       "3     56    1   1       120   236    0        1      178      0      0.8   \n",
       "4     57    0   0       120   354    0        1      163      1      0.6   \n",
       "..   ...  ...  ..       ...   ...  ...      ...      ...    ...      ...   \n",
       "298   57    0   0       140   241    0        1      123      1      0.2   \n",
       "299   45    1   3       110   264    0        1      132      0      1.2   \n",
       "300   68    1   0       144   193    1        1      141      0      3.4   \n",
       "301   57    1   0       130   131    0        1      115      1      1.2   \n",
       "302   57    0   1       130   236    0        0      174      0      0.0   \n",
       "\n",
       "     slope  ca  thal  \n",
       "0        0   0     1  \n",
       "1        0   0     2  \n",
       "2        2   0     2  \n",
       "3        2   0     2  \n",
       "4        2   0     2  \n",
       "..     ...  ..   ...  \n",
       "298      1   0     3  \n",
       "299      1   0     3  \n",
       "300      1   2     3  \n",
       "301      1   1     3  \n",
       "302      1   1     2  \n",
       "\n",
       "[303 rows x 13 columns]"
      ]
     },
     "execution_count": 25,
     "metadata": {},
     "output_type": "execute_result"
    }
   ],
   "source": [
    "X"
   ]
  },
  {
   "cell_type": "code",
   "execution_count": 26,
   "metadata": {},
   "outputs": [
    {
     "data": {
      "text/plain": [
       "0      1\n",
       "1      1\n",
       "2      1\n",
       "3      1\n",
       "4      1\n",
       "      ..\n",
       "298    0\n",
       "299    0\n",
       "300    0\n",
       "301    0\n",
       "302    0\n",
       "Name: target, Length: 303, dtype: int64"
      ]
     },
     "execution_count": 26,
     "metadata": {},
     "output_type": "execute_result"
    }
   ],
   "source": [
    "y"
   ]
  },
  {
   "cell_type": "code",
   "execution_count": 27,
   "metadata": {},
   "outputs": [],
   "source": [
    "# Split data into train and test sets\n",
    "np.random.seed(42)\n",
    "\n",
    "# Split into train & test set\n",
    "X_train, X_test, y_train, y_test = train_test_split(X, y, test_size=0.2)"
   ]
  },
  {
   "cell_type": "code",
   "execution_count": 28,
   "metadata": {},
   "outputs": [
    {
     "data": {
      "text/html": [
       "<div>\n",
       "<style scoped>\n",
       "    .dataframe tbody tr th:only-of-type {\n",
       "        vertical-align: middle;\n",
       "    }\n",
       "\n",
       "    .dataframe tbody tr th {\n",
       "        vertical-align: top;\n",
       "    }\n",
       "\n",
       "    .dataframe thead th {\n",
       "        text-align: right;\n",
       "    }\n",
       "</style>\n",
       "<table border=\"1\" class=\"dataframe\">\n",
       "  <thead>\n",
       "    <tr style=\"text-align: right;\">\n",
       "      <th></th>\n",
       "      <th>age</th>\n",
       "      <th>sex</th>\n",
       "      <th>cp</th>\n",
       "      <th>trestbps</th>\n",
       "      <th>chol</th>\n",
       "      <th>fbs</th>\n",
       "      <th>restecg</th>\n",
       "      <th>thalach</th>\n",
       "      <th>exang</th>\n",
       "      <th>oldpeak</th>\n",
       "      <th>slope</th>\n",
       "      <th>ca</th>\n",
       "      <th>thal</th>\n",
       "    </tr>\n",
       "  </thead>\n",
       "  <tbody>\n",
       "    <tr>\n",
       "      <th>132</th>\n",
       "      <td>42</td>\n",
       "      <td>1</td>\n",
       "      <td>1</td>\n",
       "      <td>120</td>\n",
       "      <td>295</td>\n",
       "      <td>0</td>\n",
       "      <td>1</td>\n",
       "      <td>162</td>\n",
       "      <td>0</td>\n",
       "      <td>0.0</td>\n",
       "      <td>2</td>\n",
       "      <td>0</td>\n",
       "      <td>2</td>\n",
       "    </tr>\n",
       "    <tr>\n",
       "      <th>202</th>\n",
       "      <td>58</td>\n",
       "      <td>1</td>\n",
       "      <td>0</td>\n",
       "      <td>150</td>\n",
       "      <td>270</td>\n",
       "      <td>0</td>\n",
       "      <td>0</td>\n",
       "      <td>111</td>\n",
       "      <td>1</td>\n",
       "      <td>0.8</td>\n",
       "      <td>2</td>\n",
       "      <td>0</td>\n",
       "      <td>3</td>\n",
       "    </tr>\n",
       "    <tr>\n",
       "      <th>196</th>\n",
       "      <td>46</td>\n",
       "      <td>1</td>\n",
       "      <td>2</td>\n",
       "      <td>150</td>\n",
       "      <td>231</td>\n",
       "      <td>0</td>\n",
       "      <td>1</td>\n",
       "      <td>147</td>\n",
       "      <td>0</td>\n",
       "      <td>3.6</td>\n",
       "      <td>1</td>\n",
       "      <td>0</td>\n",
       "      <td>2</td>\n",
       "    </tr>\n",
       "    <tr>\n",
       "      <th>75</th>\n",
       "      <td>55</td>\n",
       "      <td>0</td>\n",
       "      <td>1</td>\n",
       "      <td>135</td>\n",
       "      <td>250</td>\n",
       "      <td>0</td>\n",
       "      <td>0</td>\n",
       "      <td>161</td>\n",
       "      <td>0</td>\n",
       "      <td>1.4</td>\n",
       "      <td>1</td>\n",
       "      <td>0</td>\n",
       "      <td>2</td>\n",
       "    </tr>\n",
       "    <tr>\n",
       "      <th>176</th>\n",
       "      <td>60</td>\n",
       "      <td>1</td>\n",
       "      <td>0</td>\n",
       "      <td>117</td>\n",
       "      <td>230</td>\n",
       "      <td>1</td>\n",
       "      <td>1</td>\n",
       "      <td>160</td>\n",
       "      <td>1</td>\n",
       "      <td>1.4</td>\n",
       "      <td>2</td>\n",
       "      <td>2</td>\n",
       "      <td>3</td>\n",
       "    </tr>\n",
       "    <tr>\n",
       "      <th>...</th>\n",
       "      <td>...</td>\n",
       "      <td>...</td>\n",
       "      <td>...</td>\n",
       "      <td>...</td>\n",
       "      <td>...</td>\n",
       "      <td>...</td>\n",
       "      <td>...</td>\n",
       "      <td>...</td>\n",
       "      <td>...</td>\n",
       "      <td>...</td>\n",
       "      <td>...</td>\n",
       "      <td>...</td>\n",
       "      <td>...</td>\n",
       "    </tr>\n",
       "    <tr>\n",
       "      <th>188</th>\n",
       "      <td>50</td>\n",
       "      <td>1</td>\n",
       "      <td>2</td>\n",
       "      <td>140</td>\n",
       "      <td>233</td>\n",
       "      <td>0</td>\n",
       "      <td>1</td>\n",
       "      <td>163</td>\n",
       "      <td>0</td>\n",
       "      <td>0.6</td>\n",
       "      <td>1</td>\n",
       "      <td>1</td>\n",
       "      <td>3</td>\n",
       "    </tr>\n",
       "    <tr>\n",
       "      <th>71</th>\n",
       "      <td>51</td>\n",
       "      <td>1</td>\n",
       "      <td>2</td>\n",
       "      <td>94</td>\n",
       "      <td>227</td>\n",
       "      <td>0</td>\n",
       "      <td>1</td>\n",
       "      <td>154</td>\n",
       "      <td>1</td>\n",
       "      <td>0.0</td>\n",
       "      <td>2</td>\n",
       "      <td>1</td>\n",
       "      <td>3</td>\n",
       "    </tr>\n",
       "    <tr>\n",
       "      <th>106</th>\n",
       "      <td>69</td>\n",
       "      <td>1</td>\n",
       "      <td>3</td>\n",
       "      <td>160</td>\n",
       "      <td>234</td>\n",
       "      <td>1</td>\n",
       "      <td>0</td>\n",
       "      <td>131</td>\n",
       "      <td>0</td>\n",
       "      <td>0.1</td>\n",
       "      <td>1</td>\n",
       "      <td>1</td>\n",
       "      <td>2</td>\n",
       "    </tr>\n",
       "    <tr>\n",
       "      <th>270</th>\n",
       "      <td>46</td>\n",
       "      <td>1</td>\n",
       "      <td>0</td>\n",
       "      <td>120</td>\n",
       "      <td>249</td>\n",
       "      <td>0</td>\n",
       "      <td>0</td>\n",
       "      <td>144</td>\n",
       "      <td>0</td>\n",
       "      <td>0.8</td>\n",
       "      <td>2</td>\n",
       "      <td>0</td>\n",
       "      <td>3</td>\n",
       "    </tr>\n",
       "    <tr>\n",
       "      <th>102</th>\n",
       "      <td>63</td>\n",
       "      <td>0</td>\n",
       "      <td>1</td>\n",
       "      <td>140</td>\n",
       "      <td>195</td>\n",
       "      <td>0</td>\n",
       "      <td>1</td>\n",
       "      <td>179</td>\n",
       "      <td>0</td>\n",
       "      <td>0.0</td>\n",
       "      <td>2</td>\n",
       "      <td>2</td>\n",
       "      <td>2</td>\n",
       "    </tr>\n",
       "  </tbody>\n",
       "</table>\n",
       "<p>242 rows × 13 columns</p>\n",
       "</div>"
      ],
      "text/plain": [
       "     age  sex  cp  trestbps  chol  fbs  restecg  thalach  exang  oldpeak  \\\n",
       "132   42    1   1       120   295    0        1      162      0      0.0   \n",
       "202   58    1   0       150   270    0        0      111      1      0.8   \n",
       "196   46    1   2       150   231    0        1      147      0      3.6   \n",
       "75    55    0   1       135   250    0        0      161      0      1.4   \n",
       "176   60    1   0       117   230    1        1      160      1      1.4   \n",
       "..   ...  ...  ..       ...   ...  ...      ...      ...    ...      ...   \n",
       "188   50    1   2       140   233    0        1      163      0      0.6   \n",
       "71    51    1   2        94   227    0        1      154      1      0.0   \n",
       "106   69    1   3       160   234    1        0      131      0      0.1   \n",
       "270   46    1   0       120   249    0        0      144      0      0.8   \n",
       "102   63    0   1       140   195    0        1      179      0      0.0   \n",
       "\n",
       "     slope  ca  thal  \n",
       "132      2   0     2  \n",
       "202      2   0     3  \n",
       "196      1   0     2  \n",
       "75       1   0     2  \n",
       "176      2   2     3  \n",
       "..     ...  ..   ...  \n",
       "188      1   1     3  \n",
       "71       2   1     3  \n",
       "106      1   1     2  \n",
       "270      2   0     3  \n",
       "102      2   2     2  \n",
       "\n",
       "[242 rows x 13 columns]"
      ]
     },
     "execution_count": 28,
     "metadata": {},
     "output_type": "execute_result"
    }
   ],
   "source": [
    "X_train"
   ]
  },
  {
   "cell_type": "code",
   "execution_count": 29,
   "metadata": {},
   "outputs": [
    {
     "data": {
      "text/plain": [
       "(132    1\n",
       " 202    0\n",
       " 196    0\n",
       " 75     1\n",
       " 176    0\n",
       "       ..\n",
       " 188    0\n",
       " 71     1\n",
       " 106    1\n",
       " 270    0\n",
       " 102    1\n",
       " Name: target, Length: 242, dtype: int64,\n",
       " 242)"
      ]
     },
     "execution_count": 29,
     "metadata": {},
     "output_type": "execute_result"
    }
   ],
   "source": [
    "y_train, len(y_train)"
   ]
  },
  {
   "cell_type": "markdown",
   "metadata": {},
   "source": [
    "Now we've gout our data split into training and test sets, it's time to build a machine learning model.\n",
    "\n",
    "We'll train it (find the patterns) on the training set.\n",
    "\n",
    "And we'll test it (use the patterns) on the test set.\n",
    "\n",
    "We're going to try 3 different machine learning models:\n",
    "1. Logistic Regression\n",
    "2. K-Nearest Neighbours Classifier\n",
    "3. Random Forest Classifier"
   ]
  },
  {
   "cell_type": "code",
   "execution_count": 30,
   "metadata": {},
   "outputs": [],
   "source": [
    "# Put models in a dictionary\n",
    "models = {\"Logistic Regression\": LogisticRegression(),\n",
    "         \"KNN\": KNeighborsClassifier(),\n",
    "         \"Random Forest\": RandomForestClassifier()}\n",
    "\n",
    "# Create a function to fit and score models\n",
    "def fit_and_score(models, X_train, X_test, y_train, y_test):\n",
    "    \"\"\"\n",
    "    Fits and evaluates given machine learning models.\n",
    "    models: a dict of different Scikit-Learn machine learning models\n",
    "    X_train: training data (no labels)\n",
    "    X_test: testing data (no labels)\n",
    "    y_train: training labels\n",
    "    y_test: test labels\n",
    "    \"\"\"\n",
    "    # Set random seed\n",
    "    np.random.seed(42)\n",
    "    # Make a dictionary to keep model scores\n",
    "    model_scores = {}\n",
    "    # Loop through models\n",
    "    for name, model in models.items():\n",
    "        # Fit the model to the data\n",
    "        model.fit(X_train, y_train)\n",
    "        # Evaluate the model and append its score to model_scores\n",
    "        model_scores[name] = model.score(X_test, y_test)\n",
    "    \n",
    "    return model_scores"
   ]
  },
  {
   "cell_type": "code",
   "execution_count": 31,
   "metadata": {},
   "outputs": [
    {
     "name": "stderr",
     "output_type": "stream",
     "text": [
      "C:\\Users\\husza\\DataScienceUdemy\\heart-disease-project\\env\\lib\\site-packages\\sklearn\\linear_model\\_logistic.py:940: ConvergenceWarning: lbfgs failed to converge (status=1):\n",
      "STOP: TOTAL NO. of ITERATIONS REACHED LIMIT.\n",
      "\n",
      "Increase the number of iterations (max_iter) or scale the data as shown in:\n",
      "    https://scikit-learn.org/stable/modules/preprocessing.html\n",
      "Please also refer to the documentation for alternative solver options:\n",
      "    https://scikit-learn.org/stable/modules/linear_model.html#logistic-regression\n",
      "  extra_warning_msg=_LOGISTIC_SOLVER_CONVERGENCE_MSG)\n"
     ]
    },
    {
     "data": {
      "text/plain": [
       "{'Logistic Regression': 0.8852459016393442,\n",
       " 'KNN': 0.6885245901639344,\n",
       " 'Random Forest': 0.8360655737704918}"
      ]
     },
     "execution_count": 31,
     "metadata": {},
     "output_type": "execute_result"
    }
   ],
   "source": [
    "model_scores = fit_and_score(models=models,\n",
    "                            X_train=X_train,\n",
    "                            X_test=X_test,\n",
    "                            y_train=y_train,\n",
    "                            y_test=y_test)\n",
    "model_scores"
   ]
  },
  {
   "cell_type": "markdown",
   "metadata": {},
   "source": [
    "### Model Comparison"
   ]
  },
  {
   "cell_type": "code",
   "execution_count": 32,
   "metadata": {},
   "outputs": [
    {
     "data": {
      "image/png": "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\n",
      "text/plain": [
       "<Figure size 432x288 with 1 Axes>"
      ]
     },
     "metadata": {
      "needs_background": "light"
     },
     "output_type": "display_data"
    }
   ],
   "source": [
    "model_compare = pd.DataFrame(model_scores, index=['accuracy'])\n",
    "model_compare.T.plot.bar();"
   ]
  },
  {
   "cell_type": "code",
   "execution_count": 33,
   "metadata": {},
   "outputs": [
    {
     "data": {
      "text/html": [
       "<div>\n",
       "<style scoped>\n",
       "    .dataframe tbody tr th:only-of-type {\n",
       "        vertical-align: middle;\n",
       "    }\n",
       "\n",
       "    .dataframe tbody tr th {\n",
       "        vertical-align: top;\n",
       "    }\n",
       "\n",
       "    .dataframe thead th {\n",
       "        text-align: right;\n",
       "    }\n",
       "</style>\n",
       "<table border=\"1\" class=\"dataframe\">\n",
       "  <thead>\n",
       "    <tr style=\"text-align: right;\">\n",
       "      <th></th>\n",
       "      <th>accuracy</th>\n",
       "    </tr>\n",
       "  </thead>\n",
       "  <tbody>\n",
       "    <tr>\n",
       "      <th>Logistic Regression</th>\n",
       "      <td>0.885246</td>\n",
       "    </tr>\n",
       "    <tr>\n",
       "      <th>KNN</th>\n",
       "      <td>0.688525</td>\n",
       "    </tr>\n",
       "    <tr>\n",
       "      <th>Random Forest</th>\n",
       "      <td>0.836066</td>\n",
       "    </tr>\n",
       "  </tbody>\n",
       "</table>\n",
       "</div>"
      ],
      "text/plain": [
       "                     accuracy\n",
       "Logistic Regression  0.885246\n",
       "KNN                  0.688525\n",
       "Random Forest        0.836066"
      ]
     },
     "execution_count": 33,
     "metadata": {},
     "output_type": "execute_result"
    }
   ],
   "source": [
    "model_compare.T"
   ]
  },
  {
   "cell_type": "markdown",
   "metadata": {},
   "source": [
    "Now we've got a baseline model... and we know a model's first predictions aren't always what we should based our next steps off.\n",
    "What should we do?\n",
    "\n",
    "Let's look at the following:\n",
    "* Hyperparameter tuning\n",
    "* Feature importance\n",
    "* Confusion matrix\n",
    "* Cross-validation\n",
    "* Precision\n",
    "* Recall\n",
    "* F1 score\n",
    "* Classification report\n",
    "* ROC curve\n",
    "* Area under the curve (AUC)\n",
    "\n",
    "\n",
    "### Hyperparameter tuning"
   ]
  },
  {
   "cell_type": "code",
   "execution_count": 34,
   "metadata": {},
   "outputs": [],
   "source": [
    "# Let's tune KNN\n",
    "\n",
    "train_scores = []\n",
    "test_scores = []\n",
    "\n",
    "# Create a list of different values of n_neighbors\n",
    "neighbors = range(1, 21)\n",
    "\n",
    "# Setup KNN instance\n",
    "knn = KNeighborsClassifier()\n",
    "\n",
    "# Loop through different n_neighbors\n",
    "for i in neighbors:\n",
    "    knn.set_params(n_neighbors=i)\n",
    "    \n",
    "    # Fit the algorithm\n",
    "    knn.fit(X_train, y_train)\n",
    "    \n",
    "    # Update the training scores list\n",
    "    train_scores.append(knn.score(X_train, y_train))\n",
    "    \n",
    "    # Update the test scores list\n",
    "    test_scores.append(knn.score(X_test, y_test))"
   ]
  },
  {
   "cell_type": "code",
   "execution_count": 35,
   "metadata": {},
   "outputs": [
    {
     "data": {
      "text/plain": [
       "[1.0,\n",
       " 0.8099173553719008,\n",
       " 0.7727272727272727,\n",
       " 0.743801652892562,\n",
       " 0.7603305785123967,\n",
       " 0.7520661157024794,\n",
       " 0.743801652892562,\n",
       " 0.7231404958677686,\n",
       " 0.71900826446281,\n",
       " 0.6942148760330579,\n",
       " 0.7272727272727273,\n",
       " 0.6983471074380165,\n",
       " 0.6900826446280992,\n",
       " 0.6942148760330579,\n",
       " 0.6859504132231405,\n",
       " 0.6735537190082644,\n",
       " 0.6859504132231405,\n",
       " 0.6652892561983471,\n",
       " 0.6818181818181818,\n",
       " 0.6694214876033058]"
      ]
     },
     "execution_count": 35,
     "metadata": {},
     "output_type": "execute_result"
    }
   ],
   "source": [
    "train_scores"
   ]
  },
  {
   "cell_type": "code",
   "execution_count": 36,
   "metadata": {},
   "outputs": [
    {
     "data": {
      "text/plain": [
       "[0.6229508196721312,\n",
       " 0.639344262295082,\n",
       " 0.6557377049180327,\n",
       " 0.6721311475409836,\n",
       " 0.6885245901639344,\n",
       " 0.7213114754098361,\n",
       " 0.7049180327868853,\n",
       " 0.6885245901639344,\n",
       " 0.6885245901639344,\n",
       " 0.7049180327868853,\n",
       " 0.7540983606557377,\n",
       " 0.7377049180327869,\n",
       " 0.7377049180327869,\n",
       " 0.7377049180327869,\n",
       " 0.6885245901639344,\n",
       " 0.7213114754098361,\n",
       " 0.6885245901639344,\n",
       " 0.6885245901639344,\n",
       " 0.7049180327868853,\n",
       " 0.6557377049180327]"
      ]
     },
     "execution_count": 36,
     "metadata": {},
     "output_type": "execute_result"
    }
   ],
   "source": [
    "test_scores"
   ]
  },
  {
   "cell_type": "code",
   "execution_count": 37,
   "metadata": {},
   "outputs": [
    {
     "name": "stdout",
     "output_type": "stream",
     "text": [
      "Maximum KNN score on the test data: 75.41%\n"
     ]
    },
    {
     "data": {
      "image/png": "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\n",
      "text/plain": [
       "<Figure size 432x288 with 1 Axes>"
      ]
     },
     "metadata": {
      "needs_background": "light"
     },
     "output_type": "display_data"
    }
   ],
   "source": [
    "plt.plot(neighbors, train_scores, label='Train score')\n",
    "plt.plot(neighbors, test_scores, label='Test score')\n",
    "plt.xticks(np.arange(1, 21, 1))\n",
    "plt.xlabel(\"Number of neighbors\")\n",
    "plt.ylabel('Model score')\n",
    "plt.legend()\n",
    "\n",
    "print(f\"Maximum KNN score on the test data: {max(test_scores)*100:.2f}%\")"
   ]
  },
  {
   "cell_type": "markdown",
   "metadata": {},
   "source": [
    "## Hyperparameter tuning with RandomizedSearchCV\n",
    "\n",
    "We're going to tune:\n",
    "* LogisticRegression()\n",
    "* RandomForestClassifier()\n",
    "\n",
    "... using RandomizedSearchCV"
   ]
  },
  {
   "cell_type": "code",
   "execution_count": 38,
   "metadata": {},
   "outputs": [],
   "source": [
    "# Create a hyperparameter grid for LogisticRegression\n",
    "log_reg_grid = {\"C\": np.logspace(-4, 4, 20),\n",
    "               \"solver\": ['liblinear'],\n",
    "               \"max_iter\": np.arange(10, 140, 20)}\n",
    "\n",
    "# Create a hyperparameter grid for RandomForestClassifier\n",
    "rf_grid = {\"n_estimators\": np.arange(10, 1000, 50),\n",
    "          \"max_depth\": [None, 3, 5, 10],\n",
    "          \"min_samples_split\": np.arange(2, 40, 2),\n",
    "          \"min_samples_leaf\": np.arange(1, 40, 2)}"
   ]
  },
  {
   "cell_type": "markdown",
   "metadata": {},
   "source": [
    "Now we've got hyperparameter grids setups for each of our models, let's tune them using RandomizedSearchCV..."
   ]
  },
  {
   "cell_type": "code",
   "execution_count": 39,
   "metadata": {},
   "outputs": [
    {
     "name": "stdout",
     "output_type": "stream",
     "text": [
      "Fitting 5 folds for each of 20 candidates, totalling 100 fits\n"
     ]
    },
    {
     "name": "stderr",
     "output_type": "stream",
     "text": [
      "[Parallel(n_jobs=1)]: Using backend SequentialBackend with 1 concurrent workers.\n",
      "C:\\Users\\husza\\DataScienceUdemy\\heart-disease-project\\env\\lib\\site-packages\\sklearn\\svm\\_base.py:947: ConvergenceWarning: Liblinear failed to converge, increase the number of iterations.\n",
      "  \"the number of iterations.\", ConvergenceWarning)\n",
      "C:\\Users\\husza\\DataScienceUdemy\\heart-disease-project\\env\\lib\\site-packages\\sklearn\\svm\\_base.py:947: ConvergenceWarning: Liblinear failed to converge, increase the number of iterations.\n",
      "  \"the number of iterations.\", ConvergenceWarning)\n",
      "C:\\Users\\husza\\DataScienceUdemy\\heart-disease-project\\env\\lib\\site-packages\\sklearn\\svm\\_base.py:947: ConvergenceWarning: Liblinear failed to converge, increase the number of iterations.\n",
      "  \"the number of iterations.\", ConvergenceWarning)\n",
      "C:\\Users\\husza\\DataScienceUdemy\\heart-disease-project\\env\\lib\\site-packages\\sklearn\\svm\\_base.py:947: ConvergenceWarning: Liblinear failed to converge, increase the number of iterations.\n",
      "  \"the number of iterations.\", ConvergenceWarning)\n",
      "C:\\Users\\husza\\DataScienceUdemy\\heart-disease-project\\env\\lib\\site-packages\\sklearn\\svm\\_base.py:947: ConvergenceWarning: Liblinear failed to converge, increase the number of iterations.\n",
      "  \"the number of iterations.\", ConvergenceWarning)\n",
      "C:\\Users\\husza\\DataScienceUdemy\\heart-disease-project\\env\\lib\\site-packages\\sklearn\\svm\\_base.py:947: ConvergenceWarning: Liblinear failed to converge, increase the number of iterations.\n",
      "  \"the number of iterations.\", ConvergenceWarning)\n",
      "C:\\Users\\husza\\DataScienceUdemy\\heart-disease-project\\env\\lib\\site-packages\\sklearn\\svm\\_base.py:947: ConvergenceWarning: Liblinear failed to converge, increase the number of iterations.\n",
      "  \"the number of iterations.\", ConvergenceWarning)\n",
      "C:\\Users\\husza\\DataScienceUdemy\\heart-disease-project\\env\\lib\\site-packages\\sklearn\\svm\\_base.py:947: ConvergenceWarning: Liblinear failed to converge, increase the number of iterations.\n",
      "  \"the number of iterations.\", ConvergenceWarning)\n",
      "C:\\Users\\husza\\DataScienceUdemy\\heart-disease-project\\env\\lib\\site-packages\\sklearn\\svm\\_base.py:947: ConvergenceWarning: Liblinear failed to converge, increase the number of iterations.\n",
      "  \"the number of iterations.\", ConvergenceWarning)\n",
      "C:\\Users\\husza\\DataScienceUdemy\\heart-disease-project\\env\\lib\\site-packages\\sklearn\\svm\\_base.py:947: ConvergenceWarning: Liblinear failed to converge, increase the number of iterations.\n",
      "  \"the number of iterations.\", ConvergenceWarning)\n",
      "[Parallel(n_jobs=1)]: Done 100 out of 100 | elapsed:    0.4s finished\n",
      "C:\\Users\\husza\\DataScienceUdemy\\heart-disease-project\\env\\lib\\site-packages\\sklearn\\svm\\_base.py:947: ConvergenceWarning: Liblinear failed to converge, increase the number of iterations.\n",
      "  \"the number of iterations.\", ConvergenceWarning)\n"
     ]
    },
    {
     "data": {
      "text/plain": [
       "RandomizedSearchCV(cv=5, error_score=nan,\n",
       "                   estimator=LogisticRegression(C=1.0, class_weight=None,\n",
       "                                                dual=False, fit_intercept=True,\n",
       "                                                intercept_scaling=1,\n",
       "                                                l1_ratio=None, max_iter=100,\n",
       "                                                multi_class='auto', n_jobs=None,\n",
       "                                                penalty='l2', random_state=None,\n",
       "                                                solver='lbfgs', tol=0.0001,\n",
       "                                                verbose=0, warm_start=False),\n",
       "                   iid='deprecated', n_iter=20, n_jobs=None,\n",
       "                   param_distributions={'C':...\n",
       "       2.33572147e-01, 6.15848211e-01, 1.62377674e+00, 4.28133240e+00,\n",
       "       1.12883789e+01, 2.97635144e+01, 7.84759970e+01, 2.06913808e+02,\n",
       "       5.45559478e+02, 1.43844989e+03, 3.79269019e+03, 1.00000000e+04]),\n",
       "                                        'max_iter': array([ 10,  30,  50,  70,  90, 110, 130]),\n",
       "                                        'solver': ['liblinear']},\n",
       "                   pre_dispatch='2*n_jobs', random_state=None, refit=True,\n",
       "                   return_train_score=False, scoring=None, verbose=True)"
      ]
     },
     "execution_count": 39,
     "metadata": {},
     "output_type": "execute_result"
    }
   ],
   "source": [
    "# Tune LogisticRegression\n",
    "\n",
    "np.random.seed(42)\n",
    "\n",
    "# Setup random hyperparameter search for LogisticRegression\n",
    "rs_log_reg = RandomizedSearchCV(LogisticRegression(),\n",
    "                               param_distributions=log_reg_grid,\n",
    "                               cv=5,\n",
    "                               n_iter=20,\n",
    "                               verbose=True)\n",
    "\n",
    "# Fit random hyperparameter search model for LogisticRegression\n",
    "rs_log_reg.fit(X_train, y_train)"
   ]
  },
  {
   "cell_type": "code",
   "execution_count": 40,
   "metadata": {},
   "outputs": [
    {
     "data": {
      "text/plain": [
       "{'solver': 'liblinear', 'max_iter': 10, 'C': 0.23357214690901212}"
      ]
     },
     "execution_count": 40,
     "metadata": {},
     "output_type": "execute_result"
    }
   ],
   "source": [
    "rs_log_reg.best_params_"
   ]
  },
  {
   "cell_type": "code",
   "execution_count": 41,
   "metadata": {},
   "outputs": [
    {
     "data": {
      "text/plain": [
       "0.8852459016393442"
      ]
     },
     "execution_count": 41,
     "metadata": {},
     "output_type": "execute_result"
    }
   ],
   "source": [
    "rs_log_reg.score(X_test, y_test)"
   ]
  },
  {
   "cell_type": "markdown",
   "metadata": {},
   "source": [
    "Now we've tuned LogisticRegression(), let's do the same for RandomForestClassifier()..."
   ]
  },
  {
   "cell_type": "code",
   "execution_count": 42,
   "metadata": {},
   "outputs": [
    {
     "name": "stderr",
     "output_type": "stream",
     "text": [
      "[Parallel(n_jobs=1)]: Using backend SequentialBackend with 1 concurrent workers.\n"
     ]
    },
    {
     "name": "stdout",
     "output_type": "stream",
     "text": [
      "Fitting 5 folds for each of 20 candidates, totalling 100 fits\n"
     ]
    },
    {
     "name": "stderr",
     "output_type": "stream",
     "text": [
      "[Parallel(n_jobs=1)]: Done 100 out of 100 | elapsed:   56.8s finished\n"
     ]
    },
    {
     "data": {
      "text/plain": [
       "RandomizedSearchCV(cv=5, error_score=nan,\n",
       "                   estimator=RandomForestClassifier(bootstrap=True,\n",
       "                                                    ccp_alpha=0.0,\n",
       "                                                    class_weight=None,\n",
       "                                                    criterion='gini',\n",
       "                                                    max_depth=None,\n",
       "                                                    max_features='auto',\n",
       "                                                    max_leaf_nodes=None,\n",
       "                                                    max_samples=None,\n",
       "                                                    min_impurity_decrease=0.0,\n",
       "                                                    min_impurity_split=None,\n",
       "                                                    min_samples_leaf=1,\n",
       "                                                    min_samples_split=2,\n",
       "                                                    min_weight_fraction_leaf=0.0,\n",
       "                                                    n_estimators=100,\n",
       "                                                    n_jobs...\n",
       "                                        'min_samples_leaf': array([ 1,  3,  5,  7,  9, 11, 13, 15, 17, 19, 21, 23, 25, 27, 29, 31, 33,\n",
       "       35, 37, 39]),\n",
       "                                        'min_samples_split': array([ 2,  4,  6,  8, 10, 12, 14, 16, 18, 20, 22, 24, 26, 28, 30, 32, 34,\n",
       "       36, 38]),\n",
       "                                        'n_estimators': array([ 10,  60, 110, 160, 210, 260, 310, 360, 410, 460, 510, 560, 610,\n",
       "       660, 710, 760, 810, 860, 910, 960])},\n",
       "                   pre_dispatch='2*n_jobs', random_state=None, refit=True,\n",
       "                   return_train_score=False, scoring=None, verbose=True)"
      ]
     },
     "execution_count": 42,
     "metadata": {},
     "output_type": "execute_result"
    }
   ],
   "source": [
    "# Setup random seed\n",
    "np.random.seed(42)\n",
    "\n",
    "# Setup random hyperparameter search for RandomForestClassifier\n",
    "rs_rf = RandomizedSearchCV(RandomForestClassifier(),\n",
    "                          param_distributions=rf_grid,\n",
    "                          cv=5,\n",
    "                          n_iter=20,\n",
    "                          verbose=True)\n",
    "\n",
    "# Fit random hyperparameter search model for RandomForestClassifier()\n",
    "rs_rf.fit(X_train, y_train)"
   ]
  },
  {
   "cell_type": "code",
   "execution_count": 43,
   "metadata": {},
   "outputs": [
    {
     "data": {
      "text/plain": [
       "{'n_estimators': 210,\n",
       " 'min_samples_split': 20,\n",
       " 'min_samples_leaf': 23,\n",
       " 'max_depth': 3}"
      ]
     },
     "execution_count": 43,
     "metadata": {},
     "output_type": "execute_result"
    }
   ],
   "source": [
    "# Find the best hyperparameters\n",
    "rs_rf.best_params_"
   ]
  },
  {
   "cell_type": "code",
   "execution_count": 44,
   "metadata": {},
   "outputs": [
    {
     "data": {
      "text/plain": [
       "0.8688524590163934"
      ]
     },
     "execution_count": 44,
     "metadata": {},
     "output_type": "execute_result"
    }
   ],
   "source": [
    "# Evaluate the randomized search RandomForestClassifier model\n",
    "rs_rf.score(X_test, y_test)"
   ]
  },
  {
   "cell_type": "code",
   "execution_count": 45,
   "metadata": {},
   "outputs": [
    {
     "data": {
      "text/plain": [
       "{'Logistic Regression': 0.8852459016393442,\n",
       " 'KNN': 0.6885245901639344,\n",
       " 'Random Forest': 0.8360655737704918}"
      ]
     },
     "execution_count": 45,
     "metadata": {},
     "output_type": "execute_result"
    }
   ],
   "source": [
    "model_scores"
   ]
  },
  {
   "cell_type": "markdown",
   "metadata": {},
   "source": [
    "## Hyperparameter Tuning with GridSearchCV\n",
    "\n",
    "Since our LogisticRegression model provides the best scors so far, we'll try and improve them again using GridSearchCV..."
   ]
  },
  {
   "cell_type": "code",
   "execution_count": 46,
   "metadata": {},
   "outputs": [
    {
     "name": "stdout",
     "output_type": "stream",
     "text": [
      "Fitting 5 folds for each of 30 candidates, totalling 150 fits\n"
     ]
    },
    {
     "name": "stderr",
     "output_type": "stream",
     "text": [
      "[Parallel(n_jobs=1)]: Using backend SequentialBackend with 1 concurrent workers.\n",
      "[Parallel(n_jobs=1)]: Done 150 out of 150 | elapsed:    0.7s finished\n"
     ]
    }
   ],
   "source": [
    "# Different hyperparameters for our LogisticRegression model\n",
    "log_reg_grid = {'C': np.logspace(-4, 4, 30),\n",
    "               'solver': ['liblinear']}\n",
    "\n",
    "# Setup grid hyperparameter search for LogisticRegression\n",
    "gs_log_reg = GridSearchCV(LogisticRegression(),\n",
    "                         param_grid = log_reg_grid,\n",
    "                         cv=5,\n",
    "                         verbose=True)\n",
    "\n",
    "# Fit grid hyperparameter search model\n",
    "gs_log_reg.fit(X_train, y_train);"
   ]
  },
  {
   "cell_type": "code",
   "execution_count": 47,
   "metadata": {},
   "outputs": [
    {
     "data": {
      "text/plain": [
       "{'C': 0.20433597178569418, 'solver': 'liblinear'}"
      ]
     },
     "execution_count": 47,
     "metadata": {},
     "output_type": "execute_result"
    }
   ],
   "source": [
    "# Check the best hyperparameters\n",
    "gs_log_reg.best_params_"
   ]
  },
  {
   "cell_type": "code",
   "execution_count": 48,
   "metadata": {},
   "outputs": [
    {
     "data": {
      "text/plain": [
       "0.8852459016393442"
      ]
     },
     "execution_count": 48,
     "metadata": {},
     "output_type": "execute_result"
    }
   ],
   "source": [
    "# Evaluate the grid search LogisticRegression model\n",
    "gs_log_reg.score(X_test, y_test)"
   ]
  },
  {
   "cell_type": "code",
   "execution_count": 49,
   "metadata": {},
   "outputs": [
    {
     "data": {
      "text/plain": [
       "{'Logistic Regression': 0.8852459016393442,\n",
       " 'KNN': 0.6885245901639344,\n",
       " 'Random Forest': 0.8360655737704918}"
      ]
     },
     "execution_count": 49,
     "metadata": {},
     "output_type": "execute_result"
    }
   ],
   "source": [
    "model_scores"
   ]
  },
  {
   "cell_type": "markdown",
   "metadata": {},
   "source": [
    "## Evaluating our tuned machine learning classifier, beyond accuracy\n",
    "\n",
    "* ROC curve and AUC score\n",
    "* Confuson matrix\n",
    "* Classification report\n",
    "* Precision\n",
    "* Recall\n",
    "* F1-score\n",
    "\n",
    "... and it would be great if cross-validation was used where possible.\n",
    "\n",
    "To make comparisons and evaluate our trained model, first we need to make predictions."
   ]
  },
  {
   "cell_type": "code",
   "execution_count": 50,
   "metadata": {},
   "outputs": [],
   "source": [
    "# Make predictions with tuned model\n",
    "y_preds = gs_log_reg.predict(X_test)"
   ]
  },
  {
   "cell_type": "code",
   "execution_count": 51,
   "metadata": {},
   "outputs": [
    {
     "data": {
      "text/plain": [
       "array([0, 1, 1, 0, 1, 1, 1, 0, 0, 1, 1, 0, 1, 0, 1, 1, 1, 0, 0, 0, 1, 0,\n",
       "       0, 1, 1, 1, 1, 1, 0, 1, 0, 0, 0, 0, 1, 0, 1, 1, 1, 1, 1, 1, 1, 1,\n",
       "       1, 0, 1, 1, 0, 0, 0, 0, 1, 1, 0, 0, 0, 1, 0, 0, 0], dtype=int64)"
      ]
     },
     "execution_count": 51,
     "metadata": {},
     "output_type": "execute_result"
    }
   ],
   "source": [
    "y_preds"
   ]
  },
  {
   "cell_type": "code",
   "execution_count": 52,
   "metadata": {},
   "outputs": [
    {
     "data": {
      "text/plain": [
       "179    0\n",
       "228    0\n",
       "111    1\n",
       "246    0\n",
       "60     1\n",
       "      ..\n",
       "249    0\n",
       "104    1\n",
       "300    0\n",
       "193    0\n",
       "184    0\n",
       "Name: target, Length: 61, dtype: int64"
      ]
     },
     "execution_count": 52,
     "metadata": {},
     "output_type": "execute_result"
    }
   ],
   "source": [
    "y_test"
   ]
  },
  {
   "cell_type": "code",
   "execution_count": 53,
   "metadata": {},
   "outputs": [
    {
     "data": {
      "text/plain": [
       "<sklearn.metrics._plot.roc_curve.RocCurveDisplay at 0x25c4f064848>"
      ]
     },
     "execution_count": 53,
     "metadata": {},
     "output_type": "execute_result"
    },
    {
     "data": {
      "image/png": "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\n",
      "text/plain": [
       "<Figure size 432x288 with 1 Axes>"
      ]
     },
     "metadata": {
      "needs_background": "light"
     },
     "output_type": "display_data"
    }
   ],
   "source": [
    "# Import ROC curve function from the sklearn.metrics\n",
    "# Plot ROC curve and calculate AUC metric\n",
    "plot_roc_curve(gs_log_reg, X_test, y_test)"
   ]
  },
  {
   "cell_type": "code",
   "execution_count": 54,
   "metadata": {},
   "outputs": [
    {
     "name": "stdout",
     "output_type": "stream",
     "text": [
      "[[25  4]\n",
      " [ 3 29]]\n"
     ]
    }
   ],
   "source": [
    "# Confusion matrix\n",
    "print(confusion_matrix(y_test, y_preds))"
   ]
  },
  {
   "cell_type": "code",
   "execution_count": 55,
   "metadata": {},
   "outputs": [
    {
     "data": {
      "image/png": "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\n",
      "text/plain": [
       "<Figure size 216x216 with 1 Axes>"
      ]
     },
     "metadata": {},
     "output_type": "display_data"
    }
   ],
   "source": [
    "sns.set(font_scale=1.5)\n",
    "\n",
    "def plot_conf_mat(y_test, y_preds):\n",
    "    \"\"\"\n",
    "    Plots a nice looking confusion matrix using Seaborn's heatmap()\n",
    "    \"\"\"\n",
    "    fig, ax = plt.subplots(figsize=(3, 3))\n",
    "    ax = sns.heatmap(confusion_matrix(y_test, y_preds),\n",
    "                    annot=True,\n",
    "                    cbar= False)\n",
    "    plt.xlabel(\"True label\")\n",
    "    plt.ylabel('Predicted label')\n",
    "    \n",
    "plot_conf_mat(y_test, y_preds)"
   ]
  },
  {
   "cell_type": "markdown",
   "metadata": {},
   "source": [
    "Now we've got a ROC curve, an AUC metric and a confusion matrix, let's get a classification report as well as cross-validated precision, recall and f1-score."
   ]
  },
  {
   "cell_type": "code",
   "execution_count": 56,
   "metadata": {},
   "outputs": [
    {
     "name": "stdout",
     "output_type": "stream",
     "text": [
      "              precision    recall  f1-score   support\n",
      "\n",
      "           0       0.89      0.86      0.88        29\n",
      "           1       0.88      0.91      0.89        32\n",
      "\n",
      "    accuracy                           0.89        61\n",
      "   macro avg       0.89      0.88      0.88        61\n",
      "weighted avg       0.89      0.89      0.89        61\n",
      "\n"
     ]
    }
   ],
   "source": [
    "print(classification_report(y_test, y_preds))"
   ]
  },
  {
   "cell_type": "code",
   "execution_count": 57,
   "metadata": {},
   "outputs": [
    {
     "data": {
      "text/plain": [
       "303"
      ]
     },
     "execution_count": 57,
     "metadata": {},
     "output_type": "execute_result"
    }
   ],
   "source": [
    "len(df)"
   ]
  },
  {
   "cell_type": "markdown",
   "metadata": {},
   "source": [
    "### Calculate evaluation metrics using cross-validation\n",
    "\n",
    "We're going to calculate accuracy, precision, recall and f1-score of our model using cross-validation and to do so we'll use `cross_val_score()`"
   ]
  },
  {
   "cell_type": "code",
   "execution_count": 58,
   "metadata": {},
   "outputs": [
    {
     "data": {
      "text/plain": [
       "{'C': 0.20433597178569418, 'solver': 'liblinear'}"
      ]
     },
     "execution_count": 58,
     "metadata": {},
     "output_type": "execute_result"
    }
   ],
   "source": [
    "# Check best hyperparameters\n",
    "gs_log_reg.best_params_"
   ]
  },
  {
   "cell_type": "code",
   "execution_count": 59,
   "metadata": {},
   "outputs": [],
   "source": [
    "# Create a new classifier with best parameters\n",
    "clf = LogisticRegression(C=0.20433597178569418,\n",
    "                        solver='liblinear')"
   ]
  },
  {
   "cell_type": "code",
   "execution_count": 60,
   "metadata": {},
   "outputs": [
    {
     "data": {
      "text/plain": [
       "array([0.81967213, 0.90163934, 0.86885246, 0.88333333, 0.75      ])"
      ]
     },
     "execution_count": 60,
     "metadata": {},
     "output_type": "execute_result"
    }
   ],
   "source": [
    "# Cross-validated accuracy\n",
    "cv_acc = cross_val_score(clf,\n",
    "                        X,\n",
    "                        y,\n",
    "                        cv=5,\n",
    "                        scoring='accuracy')\n",
    "cv_acc"
   ]
  },
  {
   "cell_type": "code",
   "execution_count": 61,
   "metadata": {},
   "outputs": [
    {
     "data": {
      "text/plain": [
       "0.8446994535519124"
      ]
     },
     "execution_count": 61,
     "metadata": {},
     "output_type": "execute_result"
    }
   ],
   "source": [
    "cv_acc = np.mean(cv_acc)\n",
    "cv_acc"
   ]
  },
  {
   "cell_type": "code",
   "execution_count": 62,
   "metadata": {},
   "outputs": [
    {
     "data": {
      "text/plain": [
       "0.8207936507936507"
      ]
     },
     "execution_count": 62,
     "metadata": {},
     "output_type": "execute_result"
    }
   ],
   "source": [
    "# Cross-validated precision\n",
    "cv_precision = cross_val_score(clf,\n",
    "                              X,\n",
    "                              y,\n",
    "                              cv=5,\n",
    "                              scoring='precision')\n",
    "cv_precision = np.mean(cv_precision)\n",
    "cv_precision"
   ]
  },
  {
   "cell_type": "code",
   "execution_count": 63,
   "metadata": {},
   "outputs": [
    {
     "data": {
      "text/plain": [
       "0.9212121212121213"
      ]
     },
     "execution_count": 63,
     "metadata": {},
     "output_type": "execute_result"
    }
   ],
   "source": [
    "# Cross-validated recall\n",
    "cv_recall = cross_val_score(clf,\n",
    "                           X,\n",
    "                           y,\n",
    "                           cv=5,\n",
    "                           scoring='recall')\n",
    "\n",
    "cv_recall = np.mean(cv_recall)\n",
    "cv_recall"
   ]
  },
  {
   "cell_type": "code",
   "execution_count": 64,
   "metadata": {},
   "outputs": [
    {
     "data": {
      "text/plain": [
       "0.8673007976269721"
      ]
     },
     "execution_count": 64,
     "metadata": {},
     "output_type": "execute_result"
    }
   ],
   "source": [
    "# Cross-validated f1-score\n",
    "cv_f1 = cross_val_score(clf,\n",
    "                       X,\n",
    "                       y,\n",
    "                       cv=5,\n",
    "                       scoring='f1')\n",
    "\n",
    "cv_f1 = np.mean(cv_f1)\n",
    "cv_f1"
   ]
  },
  {
   "cell_type": "code",
   "execution_count": 65,
   "metadata": {},
   "outputs": [
    {
     "data": {
      "image/png": "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\n",
      "text/plain": [
       "<Figure size 432x288 with 1 Axes>"
      ]
     },
     "metadata": {},
     "output_type": "display_data"
    }
   ],
   "source": [
    "# Visualize cross-validated metrics\n",
    "cv_metrics = pd.DataFrame({\"Accuracy\": cv_acc,\n",
    "                          \"Precision\": cv_precision,\n",
    "                          \"Recall\": cv_recall,\n",
    "                          \"F1\": cv_f1},\n",
    "                         index=[0])\n",
    "\n",
    "cv_metrics.T.plot.bar(title='Cross-validated classification metrics',\n",
    "                     legend=False);"
   ]
  },
  {
   "cell_type": "code",
   "execution_count": 66,
   "metadata": {},
   "outputs": [
    {
     "data": {
      "text/html": [
       "<div>\n",
       "<style scoped>\n",
       "    .dataframe tbody tr th:only-of-type {\n",
       "        vertical-align: middle;\n",
       "    }\n",
       "\n",
       "    .dataframe tbody tr th {\n",
       "        vertical-align: top;\n",
       "    }\n",
       "\n",
       "    .dataframe thead th {\n",
       "        text-align: right;\n",
       "    }\n",
       "</style>\n",
       "<table border=\"1\" class=\"dataframe\">\n",
       "  <thead>\n",
       "    <tr style=\"text-align: right;\">\n",
       "      <th></th>\n",
       "      <th>0</th>\n",
       "    </tr>\n",
       "  </thead>\n",
       "  <tbody>\n",
       "    <tr>\n",
       "      <th>Accuracy</th>\n",
       "      <td>0.844699</td>\n",
       "    </tr>\n",
       "    <tr>\n",
       "      <th>Precision</th>\n",
       "      <td>0.820794</td>\n",
       "    </tr>\n",
       "    <tr>\n",
       "      <th>Recall</th>\n",
       "      <td>0.921212</td>\n",
       "    </tr>\n",
       "    <tr>\n",
       "      <th>F1</th>\n",
       "      <td>0.867301</td>\n",
       "    </tr>\n",
       "  </tbody>\n",
       "</table>\n",
       "</div>"
      ],
      "text/plain": [
       "                  0\n",
       "Accuracy   0.844699\n",
       "Precision  0.820794\n",
       "Recall     0.921212\n",
       "F1         0.867301"
      ]
     },
     "execution_count": 66,
     "metadata": {},
     "output_type": "execute_result"
    }
   ],
   "source": [
    "cv_metrics.T"
   ]
  },
  {
   "cell_type": "markdown",
   "metadata": {},
   "source": [
    "## Feature Importance\n",
    "\n",
    "Feature importance is another way of asking, \"which features contributed most to the outcomes of the model and how did they contribute?\"\n",
    "\n",
    "Finding feature importance is different for each machine learning model. One way to find feature importance is to search for \"(MODEL NAME) feature importance\".\n",
    "\n",
    "Let's find the feature importance for our LogisticRegression model.."
   ]
  },
  {
   "cell_type": "code",
   "execution_count": 69,
   "metadata": {},
   "outputs": [],
   "source": [
    "# Fit an instance of LogisticRegression\n",
    "gs_log_reg.best_params_\n",
    "\n",
    "clf = LogisticRegression(C=0.20433597178569418,\n",
    "                        solver='liblinear')\n",
    "\n",
    "clf.fit(X_train, y_train);"
   ]
  },
  {
   "cell_type": "code",
   "execution_count": 71,
   "metadata": {},
   "outputs": [
    {
     "data": {
      "text/html": [
       "<div>\n",
       "<style scoped>\n",
       "    .dataframe tbody tr th:only-of-type {\n",
       "        vertical-align: middle;\n",
       "    }\n",
       "\n",
       "    .dataframe tbody tr th {\n",
       "        vertical-align: top;\n",
       "    }\n",
       "\n",
       "    .dataframe thead th {\n",
       "        text-align: right;\n",
       "    }\n",
       "</style>\n",
       "<table border=\"1\" class=\"dataframe\">\n",
       "  <thead>\n",
       "    <tr style=\"text-align: right;\">\n",
       "      <th></th>\n",
       "      <th>age</th>\n",
       "      <th>sex</th>\n",
       "      <th>cp</th>\n",
       "      <th>trestbps</th>\n",
       "      <th>chol</th>\n",
       "      <th>fbs</th>\n",
       "      <th>restecg</th>\n",
       "      <th>thalach</th>\n",
       "      <th>exang</th>\n",
       "      <th>oldpeak</th>\n",
       "      <th>slope</th>\n",
       "      <th>ca</th>\n",
       "      <th>thal</th>\n",
       "      <th>target</th>\n",
       "    </tr>\n",
       "  </thead>\n",
       "  <tbody>\n",
       "    <tr>\n",
       "      <th>0</th>\n",
       "      <td>63</td>\n",
       "      <td>1</td>\n",
       "      <td>3</td>\n",
       "      <td>145</td>\n",
       "      <td>233</td>\n",
       "      <td>1</td>\n",
       "      <td>0</td>\n",
       "      <td>150</td>\n",
       "      <td>0</td>\n",
       "      <td>2.3</td>\n",
       "      <td>0</td>\n",
       "      <td>0</td>\n",
       "      <td>1</td>\n",
       "      <td>1</td>\n",
       "    </tr>\n",
       "    <tr>\n",
       "      <th>1</th>\n",
       "      <td>37</td>\n",
       "      <td>1</td>\n",
       "      <td>2</td>\n",
       "      <td>130</td>\n",
       "      <td>250</td>\n",
       "      <td>0</td>\n",
       "      <td>1</td>\n",
       "      <td>187</td>\n",
       "      <td>0</td>\n",
       "      <td>3.5</td>\n",
       "      <td>0</td>\n",
       "      <td>0</td>\n",
       "      <td>2</td>\n",
       "      <td>1</td>\n",
       "    </tr>\n",
       "    <tr>\n",
       "      <th>2</th>\n",
       "      <td>41</td>\n",
       "      <td>0</td>\n",
       "      <td>1</td>\n",
       "      <td>130</td>\n",
       "      <td>204</td>\n",
       "      <td>0</td>\n",
       "      <td>0</td>\n",
       "      <td>172</td>\n",
       "      <td>0</td>\n",
       "      <td>1.4</td>\n",
       "      <td>2</td>\n",
       "      <td>0</td>\n",
       "      <td>2</td>\n",
       "      <td>1</td>\n",
       "    </tr>\n",
       "    <tr>\n",
       "      <th>3</th>\n",
       "      <td>56</td>\n",
       "      <td>1</td>\n",
       "      <td>1</td>\n",
       "      <td>120</td>\n",
       "      <td>236</td>\n",
       "      <td>0</td>\n",
       "      <td>1</td>\n",
       "      <td>178</td>\n",
       "      <td>0</td>\n",
       "      <td>0.8</td>\n",
       "      <td>2</td>\n",
       "      <td>0</td>\n",
       "      <td>2</td>\n",
       "      <td>1</td>\n",
       "    </tr>\n",
       "    <tr>\n",
       "      <th>4</th>\n",
       "      <td>57</td>\n",
       "      <td>0</td>\n",
       "      <td>0</td>\n",
       "      <td>120</td>\n",
       "      <td>354</td>\n",
       "      <td>0</td>\n",
       "      <td>1</td>\n",
       "      <td>163</td>\n",
       "      <td>1</td>\n",
       "      <td>0.6</td>\n",
       "      <td>2</td>\n",
       "      <td>0</td>\n",
       "      <td>2</td>\n",
       "      <td>1</td>\n",
       "    </tr>\n",
       "  </tbody>\n",
       "</table>\n",
       "</div>"
      ],
      "text/plain": [
       "   age  sex  cp  trestbps  chol  fbs  restecg  thalach  exang  oldpeak  slope  \\\n",
       "0   63    1   3       145   233    1        0      150      0      2.3      0   \n",
       "1   37    1   2       130   250    0        1      187      0      3.5      0   \n",
       "2   41    0   1       130   204    0        0      172      0      1.4      2   \n",
       "3   56    1   1       120   236    0        1      178      0      0.8      2   \n",
       "4   57    0   0       120   354    0        1      163      1      0.6      2   \n",
       "\n",
       "   ca  thal  target  \n",
       "0   0     1       1  \n",
       "1   0     2       1  \n",
       "2   0     2       1  \n",
       "3   0     2       1  \n",
       "4   0     2       1  "
      ]
     },
     "execution_count": 71,
     "metadata": {},
     "output_type": "execute_result"
    }
   ],
   "source": [
    "df.head()"
   ]
  },
  {
   "cell_type": "code",
   "execution_count": 70,
   "metadata": {},
   "outputs": [
    {
     "data": {
      "text/plain": [
       "array([[ 0.00316728, -0.86044651,  0.66067041, -0.01156993, -0.00166374,\n",
       "         0.04386107,  0.31275847,  0.02459361, -0.6041308 , -0.56862804,\n",
       "         0.45051628, -0.63609897, -0.67663373]])"
      ]
     },
     "execution_count": 70,
     "metadata": {},
     "output_type": "execute_result"
    }
   ],
   "source": [
    "# Check coef_\n",
    "clf.coef_"
   ]
  },
  {
   "cell_type": "code",
   "execution_count": 72,
   "metadata": {},
   "outputs": [
    {
     "data": {
      "text/plain": [
       "{'age': 0.0031672801993431563,\n",
       " 'sex': -0.8604465072345515,\n",
       " 'cp': 0.6606704082033799,\n",
       " 'trestbps': -0.01156993168080875,\n",
       " 'chol': -0.001663744504776871,\n",
       " 'fbs': 0.043861071652469864,\n",
       " 'restecg': 0.31275846822418324,\n",
       " 'thalach': 0.024593613737779126,\n",
       " 'exang': -0.6041308000615746,\n",
       " 'oldpeak': -0.5686280368396555,\n",
       " 'slope': 0.4505162797258308,\n",
       " 'ca': -0.6360989676086223,\n",
       " 'thal': -0.6766337263029825}"
      ]
     },
     "execution_count": 72,
     "metadata": {},
     "output_type": "execute_result"
    }
   ],
   "source": [
    "# Match coef's of features to columns\n",
    "feature_dict = dict(zip(df.columns, list(clf.coef_[0])))\n",
    "feature_dict"
   ]
  },
  {
   "cell_type": "code",
   "execution_count": 75,
   "metadata": {},
   "outputs": [
    {
     "data": {
      "text/plain": [
       "array([ 0.00316728, -0.86044651,  0.66067041, -0.01156993, -0.00166374,\n",
       "        0.04386107,  0.31275847,  0.02459361, -0.6041308 , -0.56862804,\n",
       "        0.45051628, -0.63609897, -0.67663373])"
      ]
     },
     "execution_count": 75,
     "metadata": {},
     "output_type": "execute_result"
    }
   ],
   "source": [
    "clf.coef_[0] # minus one set of brackets"
   ]
  },
  {
   "cell_type": "code",
   "execution_count": 76,
   "metadata": {},
   "outputs": [
    {
     "data": {
      "image/png": "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\n",
      "text/plain": [
       "<Figure size 432x288 with 1 Axes>"
      ]
     },
     "metadata": {},
     "output_type": "display_data"
    }
   ],
   "source": [
    "# Visualize feature importance\n",
    "feature_df = pd.DataFrame(feature_dict, index=[0])\n",
    "feature_df.T.plot.bar(title=\"Feature Importance\", legend=False);"
   ]
  },
  {
   "cell_type": "code",
   "execution_count": 77,
   "metadata": {},
   "outputs": [
    {
     "data": {
      "text/html": [
       "<div>\n",
       "<style scoped>\n",
       "    .dataframe tbody tr th:only-of-type {\n",
       "        vertical-align: middle;\n",
       "    }\n",
       "\n",
       "    .dataframe tbody tr th {\n",
       "        vertical-align: top;\n",
       "    }\n",
       "\n",
       "    .dataframe thead th {\n",
       "        text-align: right;\n",
       "    }\n",
       "</style>\n",
       "<table border=\"1\" class=\"dataframe\">\n",
       "  <thead>\n",
       "    <tr style=\"text-align: right;\">\n",
       "      <th>target</th>\n",
       "      <th>0</th>\n",
       "      <th>1</th>\n",
       "    </tr>\n",
       "    <tr>\n",
       "      <th>sex</th>\n",
       "      <th></th>\n",
       "      <th></th>\n",
       "    </tr>\n",
       "  </thead>\n",
       "  <tbody>\n",
       "    <tr>\n",
       "      <th>0</th>\n",
       "      <td>24</td>\n",
       "      <td>72</td>\n",
       "    </tr>\n",
       "    <tr>\n",
       "      <th>1</th>\n",
       "      <td>114</td>\n",
       "      <td>93</td>\n",
       "    </tr>\n",
       "  </tbody>\n",
       "</table>\n",
       "</div>"
      ],
      "text/plain": [
       "target    0   1\n",
       "sex            \n",
       "0        24  72\n",
       "1       114  93"
      ]
     },
     "execution_count": 77,
     "metadata": {},
     "output_type": "execute_result"
    }
   ],
   "source": [
    "pd.crosstab(df['sex'], df['target'])"
   ]
  },
  {
   "cell_type": "code",
   "execution_count": 79,
   "metadata": {},
   "outputs": [
    {
     "data": {
      "text/html": [
       "<div>\n",
       "<style scoped>\n",
       "    .dataframe tbody tr th:only-of-type {\n",
       "        vertical-align: middle;\n",
       "    }\n",
       "\n",
       "    .dataframe tbody tr th {\n",
       "        vertical-align: top;\n",
       "    }\n",
       "\n",
       "    .dataframe thead th {\n",
       "        text-align: right;\n",
       "    }\n",
       "</style>\n",
       "<table border=\"1\" class=\"dataframe\">\n",
       "  <thead>\n",
       "    <tr style=\"text-align: right;\">\n",
       "      <th>target</th>\n",
       "      <th>0</th>\n",
       "      <th>1</th>\n",
       "    </tr>\n",
       "    <tr>\n",
       "      <th>slope</th>\n",
       "      <th></th>\n",
       "      <th></th>\n",
       "    </tr>\n",
       "  </thead>\n",
       "  <tbody>\n",
       "    <tr>\n",
       "      <th>0</th>\n",
       "      <td>12</td>\n",
       "      <td>9</td>\n",
       "    </tr>\n",
       "    <tr>\n",
       "      <th>1</th>\n",
       "      <td>91</td>\n",
       "      <td>49</td>\n",
       "    </tr>\n",
       "    <tr>\n",
       "      <th>2</th>\n",
       "      <td>35</td>\n",
       "      <td>107</td>\n",
       "    </tr>\n",
       "  </tbody>\n",
       "</table>\n",
       "</div>"
      ],
      "text/plain": [
       "target   0    1\n",
       "slope          \n",
       "0       12    9\n",
       "1       91   49\n",
       "2       35  107"
      ]
     },
     "execution_count": 79,
     "metadata": {},
     "output_type": "execute_result"
    }
   ],
   "source": [
    "pd.crosstab(df['slope'], df['target'])"
   ]
  },
  {
   "cell_type": "markdown",
   "metadata": {},
   "source": [
    "slope - the slope of the peak exercise ST segment\n",
    "\n",
    "* 0: Upsloping: better heart rate with exercise (uncommon)\n",
    "* 1: Flatsloping: minimal change (typical healthy heart)\n",
    "* 2: Downsloping: signs of unhealthy heart"
   ]
  },
  {
   "cell_type": "markdown",
   "metadata": {},
   "source": [
    "### 6. Experimentation \n",
    "\n",
    "If we haven't hit the evaluation metric we wanted yet...\n",
    "\n",
    "* Could we collect more data?\n",
    "* Could we try a better model? Like CatBoost or XGBoost?\n",
    "* Could we improve the current models? (beyond what we've done so far)\n",
   ]
  },
  {
   "cell_type": "code",
   "execution_count": null,
   "metadata": {},
   "outputs": [],
   "source": []
  }
 ],
 "metadata": {
  "kernelspec": {
   "display_name": "Python 3",
   "language": "python",
   "name": "python3"
  },
  "language_info": {
   "codemirror_mode": {
    "name": "ipython",
    "version": 3
   },
   "file_extension": ".py",
   "mimetype": "text/x-python",
   "name": "python",
   "nbconvert_exporter": "python",
   "pygments_lexer": "ipython3",
   "version": "3.7.7"
  }
 },
 "nbformat": 4,
 "nbformat_minor": 4
}
